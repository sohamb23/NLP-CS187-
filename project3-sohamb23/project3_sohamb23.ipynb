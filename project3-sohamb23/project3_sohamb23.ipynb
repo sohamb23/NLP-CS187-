{
 "cells": [
  {
   "cell_type": "code",
   "execution_count": 1,
   "id": "843ea47b",
   "metadata": {
    "deletable": false,
    "editable": false,
    "jupyter": {
     "outputs_hidden": true,
     "source_hidden": true
    }
   },
   "outputs": [
    {
     "name": "stdout",
     "output_type": "stream",
     "text": [
      "\n"
     ]
    }
   ],
   "source": [
    "# Please do not change this cell because some hidden tests might depend on it.\n",
    "import os\n",
    "\n",
    "# Otter grader does not handle ! commands well, so we define and use our\n",
    "# own function to execute shell commands.\n",
    "def shell(commands, warn=True):\n",
    "    \"\"\"Executes the string `commands` as a sequence of shell commands.\n",
    "     \n",
    "       Prints the result to stdout and returns the exit status. \n",
    "       Provides a printed warning on non-zero exit status unless `warn` \n",
    "       flag is unset.\n",
    "    \"\"\"\n",
    "    file = os.popen(commands)\n",
    "    print (file.read().rstrip('\\n'))\n",
    "    exit_status = file.close()\n",
    "    if warn and exit_status != None:\n",
    "        print(f\"Completed with errors. Exit status: {exit_status}\\n\")\n",
    "    return exit_status\n",
    "\n",
    "shell(\"\"\"\n",
    "ls requirements.txt >/dev/null 2>&1\n",
    "if [ ! $? = 0 ]; then\n",
    " rm -rf .tmp\n",
    " git clone https://github.com/cs187-2021/project3.git .tmp\n",
    " mv .tmp/requirements.txt ./\n",
    " rm -rf .tmp\n",
    "fi\n",
    "pip install -q -r requirements.txt\n",
    "\"\"\")"
   ]
  },
  {
   "cell_type": "code",
   "execution_count": 2,
   "id": "7b9e8b5d",
   "metadata": {
    "deletable": false,
    "editable": false
   },
   "outputs": [],
   "source": [
    "# Initialize Otter\n",
    "import otter\n",
    "grader = otter.Notebook()"
   ]
  },
  {
   "cell_type": "raw",
   "id": "51c982c1",
   "metadata": {
    "id": "dLz7tmLAsIYn",
    "jupyter": {
     "source_hidden": true
    }
   },
   "source": [
    "%%latex\n",
    "\\newcommand{\\vect}[1]{\\mathbf{#1}}\n",
    "\\newcommand{\\cnt}[1]{\\sharp(#1)}\n",
    "\\newcommand{\\argmax}[1]{\\underset{#1}{\\operatorname{argmax}}}\n",
    "\\newcommand{\\softmax}{\\operatorname{softmax}}\n",
    "\\newcommand{\\Prob}{\\Pr}\n",
    "\\newcommand{\\given}{\\,|\\,}"
   ]
  },
  {
   "cell_type": "markdown",
   "id": "b5ecb37d",
   "metadata": {
    "id": "xQVfC9hHsC5j",
    "jupyter": {
     "source_hidden": true
    }
   },
   "source": [
    "$$\n",
    "\\renewcommand{\\vect}[1]{\\mathbf{#1}}\n",
    "\\renewcommand{\\cnt}[1]{\\sharp(#1)}\n",
    "\\renewcommand{\\argmax}[1]{\\underset{#1}{\\operatorname{argmax}}}\n",
    "\\renewcommand{\\softmax}{\\operatorname{softmax}}\n",
    "\\renewcommand{\\Prob}{\\Pr}\n",
    "\\renewcommand{\\given}{\\,|\\,}\n",
    "$$"
   ]
  },
  {
   "cell_type": "markdown",
   "id": "a7e77db8",
   "metadata": {
    "colab_type": "text",
    "id": "_6w_YiZWHiVi",
    "tags": [
     "remove_for_latex"
    ]
   },
   "source": [
    "# CS187\n",
    "## Project 3: Parsing – The CKY Algorithm"
   ]
  },
  {
   "cell_type": "markdown",
   "id": "abe8b58f",
   "metadata": {
    "colab_type": "text",
    "id": "_6w_YiZWHiVi"
   },
   "source": [
    "Constituency parsing is the recovery of a labeled hierarchical structure, a _parse tree_ for a sentence of a natural language. It is a core intermediary task in natural-language processing, as the meanings of sentences are related to their structure.\n",
    "\n",
    "In this project, you will implement the CKY algorithm for parsing strings relative to context-free grammars (CFG). You will implement versions for both non-probabilistic context-free grammars (CFG) and probabilistic grammars (PCFG) and apply them to the parsing of ATIS queries.\n",
    "\n",
    "The project is structured into five parts:\n",
    "\n",
    "1. Finish a CFG for the ATIS dataset. \n",
    "2. Implement the CKY algorithm for _recognizing_ grammatical sentences, that is, determining whether a parse exists for a given sentence.\n",
    "3. Extend the CKY algorithm for _parsing_ sentences, that is, constructing the parse trees for a given sentence.\n",
    "4. Construct a probabilistic context-free grammar (PCFG) based on a CFG.\n",
    "5. Extend the CKY algorithm to PCFGs, allowing the construction of the most probable parse tree for a sentence according to a PCFG.\n",
    "\n",
    "# Setup"
   ]
  },
  {
   "cell_type": "code",
   "execution_count": 3,
   "id": "0cb39078",
   "metadata": {},
   "outputs": [
    {
     "name": "stdout",
     "output_type": "stream",
     "text": [
      "100% [................................................................................] 7773 / 7773"
     ]
    },
    {
     "data": {
      "text/plain": [
       "'scripts//tree (1).py'"
      ]
     },
     "execution_count": 3,
     "metadata": {},
     "output_type": "execute_result"
    }
   ],
   "source": [
    "# Download needed files and scripts\n",
    "import wget\n",
    "os.makedirs('data', exist_ok=True)\n",
    "os.makedirs('scripts', exist_ok=True)\n",
    "# ATIS queries\n",
    "wget.download(\"https://raw.githubusercontent.com/nlp-course/data/master/ATIS/train.nl\", out=\"data/\")\n",
    "# Corresponding parse trees\n",
    "wget.download(\"https://raw.githubusercontent.com/nlp-course/data/master/ATIS/train.trees\", out=\"data/\")\n",
    "wget.download(\"https://raw.githubusercontent.com/nlp-course/data/master/ATIS/test.trees\", out=\"data/\")\n",
    "\n",
    "# Code for comparing and evaluating parse trees\n",
    "wget.download(\"https://raw.githubusercontent.com/nlp-course/data/master/scripts/trees/evalb.py\", out=\"scripts/\")\n",
    "wget.download(\"https://raw.githubusercontent.com/nlp-course/data/master/scripts/trees/transform.py\", out=\"scripts/\")\n",
    "wget.download(\"https://raw.githubusercontent.com/nlp-course/data/master/scripts/trees/tree.py\", out=\"scripts/\")"
   ]
  },
  {
   "cell_type": "code",
   "execution_count": 4,
   "id": "9ca739b5",
   "metadata": {},
   "outputs": [],
   "source": [
    "import shutil\n",
    "\n",
    "import nltk\n",
    "\n",
    "import sys\n",
    "\n",
    "from collections import defaultdict, Counter\n",
    "\n",
    "from nltk import treetransforms\n",
    "from nltk.grammar import ProbabilisticProduction, PCFG, Nonterminal\n",
    "from nltk.tree import Tree\n",
    "\n",
    "from tqdm import tqdm\n",
    "\n",
    "# Import functions for transforming augmented grammars\n",
    "sys.path.insert(1, './scripts')\n",
    "import transform as xform"
   ]
  },
  {
   "cell_type": "code",
   "execution_count": 5,
   "id": "572342c3",
   "metadata": {},
   "outputs": [],
   "source": [
    "## Debug flag used below for turning on and off some useful tracing\n",
    "DEBUG = False"
   ]
  },
  {
   "cell_type": "markdown",
   "id": "5b3b6586",
   "metadata": {
    "colab_type": "text",
    "id": "NwhiYW0SFDDp"
   },
   "source": [
    "# A custom ATIS grammar"
   ]
  },
  {
   "cell_type": "markdown",
   "id": "64b0b9db",
   "metadata": {
    "colab_type": "text",
    "id": "DP-62dlTFDDp"
   },
   "source": [
    "To parse, we need a grammar. In this project, you will use a hand-crafted grammar for a fragment of the ATIS dataset. The grammar is written in a \"semantic grammar\" style, in which the nonterminals tend to correspond to semantic classes of phrases, rather than syntactic classes. By using this style, we can more closely tune the grammar to the application, though we lose generality and transferability to other applications. The grammar will be used again in the next project segment for a question-answering application.\n",
    "\n",
    "We download the grammar to make it available."
   ]
  },
  {
   "cell_type": "code",
   "execution_count": 6,
   "id": "5b44a017",
   "metadata": {},
   "outputs": [],
   "source": [
    "if not os.path.exists('./data/grammar_distrib3'):\n",
    "  wget.download(\"https://raw.githubusercontent.com/nlp-course/data/master/ATIS/grammar_distrib3\", out=\"data/\")\n",
    "if os.path.exists('./data/grammar_distrib3') and (not os.path.exists('./data/grammar')):\n",
    "  shutil.copy('./data/grammar_distrib3', './data/grammar')"
   ]
  },
  {
   "cell_type": "markdown",
   "id": "74ea0627",
   "metadata": {},
   "source": [
    "Take a look at the file `data/grammar_distrib3` that you've just downloaded. The grammar is written in a format that extends the NLTK format expected by `CFG.fromstring`. We've provided functions to make use of this format in the file `scripts/transform.py`. You should familiarize yourself with this format by checking out the documentation in that file.\n",
    "\n",
    "> We made a copy of this grammar for you as `data/grammar`. This is the file you'll be modifying in the next section. You can leave it alone for now.\n",
    "\n",
    "As described there, we can read the grammar in and convert it into NLTK's grammar format using the provided `xform.read_augmented_grammar` function."
   ]
  },
  {
   "cell_type": "code",
   "execution_count": 7,
   "id": "a997d8b7",
   "metadata": {
    "colab": {},
    "colab_type": "code",
    "id": "37s5jbAu2kk7"
   },
   "outputs": [],
   "source": [
    "atis_grammar_distrib, _ = xform.read_augmented_grammar(\"grammar_distrib3\", path=\"data\")"
   ]
  },
  {
   "cell_type": "markdown",
   "id": "f9f46763",
   "metadata": {},
   "source": [
    "To verify that the ATIS grammar that we distributed is working, we can parse a sentence using a built-in NLTK parser. We'll use a tokenizer built with NLTK's tokenizing apparatus."
   ]
  },
  {
   "cell_type": "code",
   "execution_count": 8,
   "id": "fc940d81",
   "metadata": {},
   "outputs": [
    {
     "name": "stdout",
     "output_type": "stream",
     "text": [
      "['are', 'there', 'any', 'first-class', 'flights', 'at', '11', 'pm', 'for', 'less', 'than', '$3.50', '?']\n"
     ]
    }
   ],
   "source": [
    "## Tokenizer\n",
    "tokenizer = nltk.tokenize.RegexpTokenizer('\\d+|[\\w-]+|\\$[\\d\\.]+|\\S+')\n",
    "def tokenize(string):\n",
    "  return tokenizer.tokenize(string.lower())\n",
    "\n",
    "## Demonstrating the tokenizer\n",
    "## Note especially the handling of `\"11pm\"` and hyphenated words.\n",
    "print(tokenize(\"Are there any first-class flights at 11pm for less than $3.50?\"))"
   ]
  },
  {
   "cell_type": "code",
   "execution_count": 9,
   "id": "1962fb84",
   "metadata": {},
   "outputs": [
    {
     "name": "stdout",
     "output_type": "stream",
     "text": [
      "                                                 S                                                \n",
      "                        _________________________|________________________                         \n",
      "                       |                                              NP_FLIGHT                   \n",
      "                       |                                                  |                        \n",
      "                       |                                              NOM_FLIGHT                  \n",
      "                       |                                                  |                        \n",
      "                       |                                               N_FLIGHT                   \n",
      "                       |                                        __________|_________               \n",
      "                   PREIGNORE                                   |                    PP            \n",
      "        _______________|____________                           |                    |              \n",
      "       |                        PREIGNORE                      |                 PP_TIME          \n",
      "       |                ____________|____________              |           _________|________      \n",
      "       |               |                     PREIGNORE      N_FLIGHT      |               NP_TIME \n",
      "       |               |                         |             |          |                  |     \n",
      "PREIGNORESYMBOL PREIGNORESYMBOL           PREIGNORESYMBOL TERM_FLIGHT   P_TIME           TERM_TIME\n",
      "       |               |                         |             |          |                  |     \n",
      "      show             me                       the         flights     before              noon  \n",
      "\n",
      "                                           S                                                    \n",
      "                     ______________________|__________________                                   \n",
      "                    |                                     NP_FLIGHT                             \n",
      "                    |                       __________________|_________                         \n",
      "                    |                      |                        NOM_FLIGHT                  \n",
      "                    |                      |                            |                        \n",
      "                    |                      |                         N_FLIGHT                   \n",
      "                    |                      |        ____________________|_________               \n",
      "                    |                      |       |                              PP            \n",
      "                    |                      |       |                              |              \n",
      "                PREIGNORE                  |       |                           PP_TIME          \n",
      "        ____________|____________          |       |                     _________|________      \n",
      "       |                     PREIGNORE     |    N_FLIGHT                |               NP_TIME \n",
      "       |                         |         |       |                    |                  |     \n",
      "PREIGNORESYMBOL           PREIGNORESYMBOL DET TERM_FLIGHT             P_TIME           TERM_TIME\n",
      "       |                         |         |       |                    |                  |     \n",
      "      show                       me       the   flights               before              noon  \n",
      "\n"
     ]
    }
   ],
   "source": [
    "## Test sentence\n",
    "test_sentence_1 = tokenize(\"show me the flights before noon\")\n",
    "\n",
    "## Construct parser from distribution grammar\n",
    "atis_parser_distrib = nltk.parse.BottomUpChartParser(atis_grammar_distrib)\n",
    "\n",
    "## Parse and print the parses\n",
    "parses = atis_parser_distrib.parse(test_sentence_1)\n",
    "for parse in parses:\n",
    "  parse.pretty_print()"
   ]
  },
  {
   "cell_type": "markdown",
   "id": "a3d1d3ce",
   "metadata": {
    "colab_type": "text",
    "id": "oob8FgHQNXtx"
   },
   "source": [
    "## Testing the coverage of the grammar\n",
    "\n",
    "We can get a sense of how well the grammar covers the ATIS query language by measuring the proportion of queries in the training set that are parsable by the grammar. We define a `coverage` function to carry out this evaluation.\n",
    "\n",
    "> Warning: It may take a long time to parse all of the sentence in the training corpus, on the order of 30 minutes. You may want to start with just the first few sentences in the corpus. The `coverage` function below makes it easy to do so, and in the code below we just test coverage on the first 50 sentences."
   ]
  },
  {
   "cell_type": "code",
   "execution_count": 10,
   "id": "a0150722",
   "metadata": {},
   "outputs": [],
   "source": [
    "## Read in the training corpus\n",
    "with open('data/train.nl') as file:\n",
    "  training_corpus = [tokenize(line) for line in file]"
   ]
  },
  {
   "cell_type": "code",
   "execution_count": 11,
   "id": "d916d5fc",
   "metadata": {},
   "outputs": [],
   "source": [
    "def coverage(recognizer, corpus, n=0):\n",
    "  \"\"\"Returns the proportion of the first `n` sentences in the `corpus` \n",
    "  that are recognized by the `recognizer`, which should return a boolean.\n",
    "  `n` is taken to be the whole corpus if n is not provided or is\n",
    "  non-positive.\n",
    "  \"\"\"\n",
    "  n = len(corpus) if n <= 0 else n\n",
    "  parsed = 0\n",
    "  total = 0\n",
    "  for sent in tqdm(corpus[:n]):\n",
    "    total += 1\n",
    "    try:\n",
    "      parses = recognizer(sent)\n",
    "    except:\n",
    "      parses = None\n",
    "    if parses:\n",
    "      parsed += 1\n",
    "    elif DEBUG:\n",
    "      print(f\"failed: {sent}\")\n",
    "  if DEBUG: print(f\"{parsed} of {total}\")\n",
    "  return parsed/total"
   ]
  },
  {
   "cell_type": "code",
   "execution_count": 12,
   "id": "0ac48f37",
   "metadata": {},
   "outputs": [
    {
     "name": "stderr",
     "output_type": "stream",
     "text": [
      "100%|████████████████████████████████████████████████████████████████████████████████████████████████████████████████████████████████████████████████████████████████| 50/50 [00:00<00:00, 402.32it/s]\n"
     ]
    },
    {
     "data": {
      "text/plain": [
       "0.0"
      ]
     },
     "execution_count": 12,
     "metadata": {},
     "output_type": "execute_result"
    }
   ],
   "source": [
    "coverage(lambda sent: 0 < len(list(atis_parser_distrib.parse(sent))),  # trick for turning parser into recognizer\n",
    "         training_corpus, n=50)"
   ]
  },
  {
   "cell_type": "markdown",
   "id": "7cfbcd7a",
   "metadata": {},
   "source": [
    "Sadly, you'll find that the coverage of the grammar is extraordinarily poor. That's because it is missing crucial parts of the grammar, especially phrases about _places_, which play a role in essentially every ATIS query. You'll need to complete the grammar before it can be useful."
   ]
  },
  {
   "cell_type": "markdown",
   "id": "05b8513d",
   "metadata": {
    "colab_type": "text",
    "id": "D_JNkHfm2qjl"
   },
   "source": [
    "## Part 1: Finish the CFG for the ATIS dataset\n",
    "\n",
    "Consider the following query:"
   ]
  },
  {
   "cell_type": "code",
   "execution_count": 13,
   "id": "4e296c3b",
   "metadata": {},
   "outputs": [],
   "source": [
    "test_sentence_2 = tokenize(\"show me the united flights from boston\")"
   ]
  },
  {
   "cell_type": "markdown",
   "id": "25d46078",
   "metadata": {},
   "source": [
    "You'll notice that the grammar we distributed doesn't handle this query because it doesn't have a subgrammar for airline information (`\"united\"`) or for places (`\"from boston\"`)."
   ]
  },
  {
   "cell_type": "code",
   "execution_count": 14,
   "id": "721ea4c2",
   "metadata": {},
   "outputs": [
    {
     "data": {
      "text/plain": [
       "0"
      ]
     },
     "execution_count": 14,
     "metadata": {},
     "output_type": "execute_result"
    }
   ],
   "source": [
    "len(list(atis_parser_distrib.parse(test_sentence_2)))"
   ]
  },
  {
   "cell_type": "markdown",
   "id": "0124a1d1",
   "metadata": {
    "colab_type": "text",
    "id": "D_JNkHfm2qjl"
   },
   "source": [
    "Follow the instructions in the grammar file `data/grammar` to add further coverage to the grammar. (You can and should leave the `data/grammar_distrib3` copy alone and use it for reference.) \n",
    "\n",
    "We'll define a parser based on your modified grammar, so we can compare it against the distributed grammar. Once you've modified the grammar, this test sentence should have at least one parse.\n",
    "\n",
    "> You can search for \"TODO\" in `data/grammar` to find the two places to add grammar rules."
   ]
  },
  {
   "cell_type": "code",
   "execution_count": 15,
   "id": "133f0595",
   "metadata": {
    "colab": {},
    "colab_type": "code",
    "id": "37s5jbAu2kk7"
   },
   "outputs": [
    {
     "name": "stdout",
     "output_type": "stream",
     "text": [
      "                                                                S                                                            \n",
      "                        ________________________________________|_______________________                                      \n",
      "                       |                                                            NP_FLIGHT                                \n",
      "                       |                                                                |                                     \n",
      "                       |                                                            NOM_FLIGHT                               \n",
      "                       |                                         _______________________|__________                           \n",
      "                       |                                        |                              NOM_FLIGHT                    \n",
      "                       |                                        |                                  |                          \n",
      "                       |                                        |                               N_FLIGHT                     \n",
      "                       |                                        |             _____________________|_________                 \n",
      "                   PREIGNORE                                    |            |                               PP              \n",
      "        _______________|____________                            |            |                               |                \n",
      "       |                        PREIGNORE                      ADJ           |                            PP_PLACE           \n",
      "       |                ____________|____________               |            |                      _________|_________       \n",
      "       |               |                     PREIGNORE     ADJ_AIRLINE    N_FLIGHT                 |               ADJ_PLACE \n",
      "       |               |                         |              |            |                     |                   |      \n",
      "PREIGNORESYMBOL PREIGNORESYMBOL           PREIGNORESYMBOL TERM_AIRBRAND TERM_FLIGHT             P_PLACE            TERM_PLACE\n",
      "       |               |                         |              |            |                     |                   |      \n",
      "      show             me                       the           united      flights                 from               boston  \n",
      "\n",
      "                                                    S                                                            \n",
      "                     _______________________________|____________                                                 \n",
      "                    |                                        NP_FLIGHT                                           \n",
      "                    |                       _____________________|__________                                      \n",
      "                    |                      |                            NOM_FLIGHT                               \n",
      "                    |                      |         _______________________|__________                           \n",
      "                    |                      |        |                              NOM_FLIGHT                    \n",
      "                    |                      |        |                                  |                          \n",
      "                    |                      |        |                               N_FLIGHT                     \n",
      "                    |                      |        |             _____________________|_________                 \n",
      "                    |                      |        |            |                               PP              \n",
      "                    |                      |        |            |                               |                \n",
      "                PREIGNORE                  |       ADJ           |                            PP_PLACE           \n",
      "        ____________|____________          |        |            |                      _________|_________       \n",
      "       |                     PREIGNORE     |   ADJ_AIRLINE    N_FLIGHT                 |               ADJ_PLACE \n",
      "       |                         |         |        |            |                     |                   |      \n",
      "PREIGNORESYMBOL           PREIGNORESYMBOL DET TERM_AIRBRAND TERM_FLIGHT             P_PLACE            TERM_PLACE\n",
      "       |                         |         |        |            |                     |                   |      \n",
      "      show                       me       the     united      flights                 from               boston  \n",
      "\n"
     ]
    }
   ],
   "source": [
    "atis_grammar_expanded, _ = xform.read_augmented_grammar(\"grammar\", path=\"data\")\n",
    "atis_parser_expanded = nltk.parse.BottomUpChartParser(atis_grammar_expanded)\n",
    "\n",
    "parses = [p for p in atis_parser_expanded.parse(test_sentence_2)]\n",
    "for parse in parses:\n",
    "  parse.pretty_print()"
   ]
  },
  {
   "cell_type": "code",
   "execution_count": 16,
   "id": "7cf413d8",
   "metadata": {},
   "outputs": [
    {
     "name": "stdout",
     "output_type": "stream",
     "text": [
      "                                                                                                                 S                                                                                                                  \n",
      "                        _________________________________________________________________________________________|__________                                                                                                         \n",
      "                       |                                                                                                NP_FLIGHT                                                                                                   \n",
      "                       |                                                                                                    |                                                                                                        \n",
      "                       |                                                                                                NOM_FLIGHT                                                                                                  \n",
      "                       |                                            ________________________________________________________|___________________                                                                                     \n",
      "                       |                                           |                                                                        NOM_FLIGHT                                                                              \n",
      "                       |                                           |                           _________________________________________________|__________                                                                          \n",
      "                       |                                           |                          |                                                        NOM_FLIGHT                                                                   \n",
      "                       |                                           |                          |                                                            |                                                                         \n",
      "                       |                                           |                          |                                                         N_FLIGHT                                                                    \n",
      "                       |                                           |                          |                                                  __________|____________________________________                                     \n",
      "                       |                                           |                          |                                              N_FLIGHT                                           |                                   \n",
      "                       |                                           |                          |                              ___________________|____________________                           |                                    \n",
      "                       |                                           |                          |                          N_FLIGHT                                    |                          |                                   \n",
      "                       |                                           |                          |                   __________|_________                               |                          |                                    \n",
      "                   PREIGNORE                                       |                          |                  |                    PP                             PP                         PP                                  \n",
      "        _______________|____________                               |                          |                  |                    |                              |                          |                                    \n",
      "       |                        PREIGNORE                          |                         ADJ                 |                 PP_PLACE                       PP_PLACE                  PP_AIRLINE                              \n",
      "       |                ____________|____________                  |                          |                  |           _________|_________            _________|_________         ________|____________                        \n",
      "       |               |                     PREIGNORE            ADJ                   ADJ_FLIGHTTYPE        N_FLIGHT      |               ADJ_PLACE      |               ADJ_PLACE   |                ADJ_AIRLINE                 \n",
      "       |               |                         |                 |                          |                  |          |                   |          |                   |       |         ____________|_____________          \n",
      "PREIGNORESYMBOL PREIGNORESYMBOL           PREIGNORESYMBOL      ADJ_PRICE               ADJ_FLIGHTTYPESI     TERM_FLIGHT  P_PLACE            TERM_PLACE  P_PLACE            TERM_PLACE  |  TERM_AIRBRAND             TERM_AIRBRANDTYP\n",
      "       |               |                         |                 |                         MPLE                |          |                   |          |                   |       |        |                          E        \n",
      "       |               |                         |          _______|_________        _________|__________        |          |                   |          |                   |       |        |                          |         \n",
      "      what             is                       the       most           expensive one                  way    flight      from               boston       to               atlanta    on    american                   airlines    \n",
      "\n",
      "                                           S                                                                                                                                                                                  \n",
      "                     ______________________|_______________________________                                                                                                                                                    \n",
      "                    |                                                  NP_FLIGHT                                                                                                                                              \n",
      "                    |                       _______________________________|__________________________________________                                                                                                         \n",
      "                    |                      |                                                                      NOM_FLIGHT                                                                                                  \n",
      "                    |                      |            ______________________________________________________________|___________________                                                                                     \n",
      "                    |                      |           |                                                                              NOM_FLIGHT                                                                              \n",
      "                    |                      |           |                                 _________________________________________________|__________                                                                          \n",
      "                    |                      |           |                                |                                                        NOM_FLIGHT                                                                   \n",
      "                    |                      |           |                                |                                                            |                                                                         \n",
      "                    |                      |           |                                |                                                         N_FLIGHT                                                                    \n",
      "                    |                      |           |                                |                                                  __________|____________________________________                                     \n",
      "                    |                      |           |                                |                                              N_FLIGHT                                           |                                   \n",
      "                    |                      |           |                                |                              ___________________|____________________                           |                                    \n",
      "                    |                      |           |                                |                          N_FLIGHT                                    |                          |                                   \n",
      "                    |                      |           |                                |                   __________|_________                               |                          |                                    \n",
      "                    |                      |           |                                |                  |                    PP                             PP                         PP                                  \n",
      "                    |                      |           |                                |                  |                    |                              |                          |                                    \n",
      "                PREIGNORE                  |           |                               ADJ                 |                 PP_PLACE                       PP_PLACE                  PP_AIRLINE                              \n",
      "        ____________|____________          |           |                                |                  |           _________|_________            _________|_________         ________|____________                        \n",
      "       |                     PREIGNORE     |          ADJ                         ADJ_FLIGHTTYPE        N_FLIGHT      |               ADJ_PLACE      |               ADJ_PLACE   |                ADJ_AIRLINE                 \n",
      "       |                         |         |           |                                |                  |          |                   |          |                   |       |         ____________|_____________          \n",
      "PREIGNORESYMBOL           PREIGNORESYMBOL DET      ADJ_PRICE                     ADJ_FLIGHTTYPESI     TERM_FLIGHT  P_PLACE            TERM_PLACE  P_PLACE            TERM_PLACE  |  TERM_AIRBRAND             TERM_AIRBRANDTYP\n",
      "       |                         |         |           |                               MPLE                |          |                   |          |                   |       |        |                          E        \n",
      "       |                         |         |    _______|_________           ____________|__________        |          |                   |          |                   |       |        |                          |         \n",
      "      what                       is       the most           expensive    one                     way    flight      from               boston       to               atlanta    on    american                   airlines    \n",
      "\n"
     ]
    }
   ],
   "source": [
    "test_sentence_3 = tokenize(\"what is the most expensive one way flight from boston to atlanta on american airlines\")\n",
    "parses = [p for p in atis_parser_expanded.parse(test_sentence_3)]\n",
    "for parse in parses:\n",
    "  parse.pretty_print()\n"
   ]
  },
  {
   "cell_type": "markdown",
   "id": "1815cdbf",
   "metadata": {},
   "source": [
    "Once you're done adding to the grammar, to check your grammar, we'll compute the grammar's coverage of the ATIS training corpus as before.\n",
    "**This grammar should be expected to cover about half of the sentences in the first 50 sentences, and a third of the entire training corpus.**"
   ]
  },
  {
   "cell_type": "code",
   "execution_count": 17,
   "id": "ac7cfc5d",
   "metadata": {},
   "outputs": [
    {
     "name": "stderr",
     "output_type": "stream",
     "text": [
      "100%|████████████████████████████████████████████████████████████████████████████████████████████████████████████████████████████████████████████████████████████████| 50/50 [00:00<00:00, 258.49it/s]\n"
     ]
    },
    {
     "data": {
      "text/plain": [
       "0.48"
      ]
     },
     "execution_count": 17,
     "metadata": {},
     "output_type": "execute_result"
    }
   ],
   "source": [
    "coverage(lambda sent: 0 < len(list(atis_parser_expanded.parse(sent))),  # trick for turning parser into recognizer\n",
    "         training_corpus, n=50)"
   ]
  },
  {
   "cell_type": "markdown",
   "id": "1189ebca",
   "metadata": {
    "colab_type": "text",
    "id": "jAwisi1cehil"
   },
   "source": [
    "# CFG recognition via the CKY algorithm\n",
    "\n",
    "Now we turn to implementing recognizers and parsers using the CKY algorithm. We start with a recognizer, which should return `True` or `False` if a grammar does or does not admit a sentence as grammatical.\n",
    "\n",
    "## Converting the grammar to CNF for use by the CKY algorithm\n",
    "\n",
    "The CKY algorithm requires the grammar to be in Chomsky normal form (CNF). That is, only rules of the forms\n",
    "\\begin{align*}\n",
    "A &\\rightarrow B\\, C\\\\\n",
    "A &\\rightarrow a\n",
    "\\end{align*}\n",
    "are allowed, where $A$, $B$, $C$ are nonterminals and $a$ is a terminal symbol. \n",
    "\n",
    "However, in some downstream applications (such as the next project segment) we want to use grammar rules of more general forms, such as $A \\rightarrow B\\, C\\, D$. Indeed, the ATIS grammar you've been working on makes use of the additional expressivity beyond CNF.\n",
    "\n",
    "To satisfy both of these constraints, we will convert the grammar to CNF, parse using CKY, and then convert the returned parse trees back to the form of the original grammar. We provide some useful functions for performing these transformations in the file `scripts/transform.py`, already loaded above and imported as `xform`.\n",
    "\n",
    "To convert a grammar to CNF:\n",
    "\n",
    "`cnf_grammar, cnf_grammar_wunaries = xform.get_cnf_grammar(grammar)`\n",
    "\n",
    "To convert a tree output from CKY back to the original form of the grammar:\n",
    "\n",
    "`xform.un_cnf(tree, cnf_grammar_wunaries)`\n",
    "\n",
    "> We pass into `un_cnf` a version of the grammar before removing unary nonterminal productions, `cnf_grammar_wunaries`. The `cnf_grammar_wunaries` is returened as the second part of the returned value of `get_cnf_grammar` for just this purpose."
   ]
  },
  {
   "cell_type": "code",
   "execution_count": 18,
   "id": "8ed9b429",
   "metadata": {
    "colab": {},
    "colab_type": "code",
    "id": "37s5jbAu2kk7"
   },
   "outputs": [],
   "source": [
    "atis_grammar_cnf, atis_grammar_wunaries = xform.get_cnf_grammar(atis_grammar_expanded)\n",
    "assert(atis_grammar_cnf.is_chomsky_normal_form())"
   ]
  },
  {
   "cell_type": "markdown",
   "id": "ff66118b",
   "metadata": {},
   "source": [
    "In the next sections, you'll write your own recognizers and parsers based on the CKY algorithm that can operate on this grammar."
   ]
  },
  {
   "cell_type": "markdown",
   "id": "7b7cd6b7",
   "metadata": {
    "colab_type": "text",
    "id": "zdrkkiSAFDDt"
   },
   "source": [
    "## Part 2: Implement a CKY recognizer\n",
    "\n",
    "Implement a _recognizer_ using the CKY algorithm to determine if a sentence `tokens` is parsable. The labs and J&M Chapter 13, both of which provide appropriaste pseudo-code for CKY, should be useful references here.\n",
    "\n",
    "> **Hint:** Recall that you can get the production rules of a grammar using `grammar.productions()`.\n",
    "\n",
    "> Throughtout this project segment, you should use `grammar.start()` to get the special start symbol from the grammar instead of using `S`, since some grammar uses a different start symbol, such as `TOP`."
   ]
  },
  {
   "cell_type": "code",
   "execution_count": 19,
   "id": "f67d490f",
   "metadata": {
    "colab": {},
    "colab_type": "code",
    "id": "sHkvnLV7FDDu"
   },
   "outputs": [],
   "source": [
    "## TODO – Implement a CKY recognizer\n",
    "def cky_recognize(grammar, tokens):\n",
    "    \"\"\"Returns True if and only if the list of tokens `tokens` is admitted\n",
    "    by the `grammar`.\n",
    "\n",
    "    Implements the CKY algorithm, and therefore assumes `grammar` is in \n",
    "    Chomsky normal form.\n",
    "    \"\"\"\n",
    "\n",
    "    \n",
    "    assert(grammar.is_chomsky_normal_form())\n",
    "    N = len(tokens)\n",
    "    tokens = [\"\"] + tokens #adding padding\n",
    "    cky = [[set() for i in range(N+1)] for j in range(N+1)] \n",
    "    #following cky pseudocode\n",
    "    for j in range(1, N+1):    \n",
    "        for rule in grammar.productions():\n",
    "            if rule.rhs()[0] == tokens[j]:\n",
    "                cky[j-1][j].add(rule.lhs())       \n",
    "        for length in range(2, j+1):\n",
    "            i = j-length\n",
    "            for split in range(i+1, j):\n",
    "                for rule in grammar.productions(): \n",
    "                    if len(rule.rhs()) == 2:\n",
    "                        A = rule.lhs()\n",
    "                        B = rule.rhs()[0]\n",
    "                        C = rule.rhs()[1]\n",
    "                        if B in cky[i][split] and C in cky[split][j]:\n",
    "                            cky[i][j].add(A)                     \n",
    "    if grammar.start() in cky[0][N]:\n",
    "        return True\n",
    "    return False"
   ]
  },
  {
   "cell_type": "markdown",
   "id": "3a408697",
   "metadata": {
    "colab_type": "text",
    "id": "cxJo57LyHJXy"
   },
   "source": [
    "You can test your recognizer on a few examples, both grammatical and ungrammatical, as below."
   ]
  },
  {
   "cell_type": "code",
   "execution_count": 20,
   "id": "f1bdd3c5",
   "metadata": {
    "colab": {
     "base_uri": "https://localhost:8080/",
     "height": 52
    },
    "colab_type": "code",
    "id": "8fLuSWDUFotR",
    "outputId": "57f23bc7-0c44-41de-a9db-55944d60c535"
   },
   "outputs": [
    {
     "name": "stdout",
     "output_type": "stream",
     "text": [
      "+    show me flights from boston\n",
      "+    show me united flights before noon\n",
      "+    are there any twa flights available tomorrow\n",
      "-    show me flights united are there any\n"
     ]
    }
   ],
   "source": [
    "test_sentences = [\"show me flights from boston\",\n",
    "                  \"show me united flights before noon\",\n",
    "                  \"are there any twa flights available tomorrow\",\n",
    "                  \"show me flights united are there any\"]\n",
    "\n",
    "for sentence in test_sentences:\n",
    "  recognized = \"+\" if cky_recognize(atis_grammar_cnf, tokenize(sentence)) else \"-\"\n",
    "  print(f\"{recognized:5}{sentence}\")"
   ]
  },
  {
   "cell_type": "markdown",
   "id": "8223ade8",
   "metadata": {},
   "source": [
    "You can also verify that the CKY recognizer verifies the same coverage as the NLTK parser."
   ]
  },
  {
   "cell_type": "code",
   "execution_count": 21,
   "id": "a51f18dc",
   "metadata": {},
   "outputs": [
    {
     "name": "stderr",
     "output_type": "stream",
     "text": [
      "100%|█████████████████████████████████████████████████████████████████████████████████████████████████████████████████████████████████████████████████████████████████| 50/50 [00:12<00:00,  4.08it/s]\n"
     ]
    },
    {
     "data": {
      "text/plain": [
       "0.48"
      ]
     },
     "execution_count": 21,
     "metadata": {},
     "output_type": "execute_result"
    }
   ],
   "source": [
    "coverage(lambda sent: cky_recognize(atis_grammar_cnf, sent),\n",
    "         training_corpus, n=50)"
   ]
  },
  {
   "cell_type": "markdown",
   "id": "ce8c7e94",
   "metadata": {
    "colab_type": "text",
    "id": "G8ggOqqbFDDw"
   },
   "source": [
    "## Part 3: Implement a CKY parser\n",
    "\n",
    "In part 2, you implemented a context-free grammar recognizer. Next, you'll implement a _parser_.\n",
    "\n",
    "Implement the CKY algorithm for parsing with CFGs as a function `cky_parse`, which takes a grammar and a list of tokens and returns a single parse of the tokens as specified by the grammar, or `None` if there are no parses. You should only need to add a few lines of code to your CKY recognizer to achieve this, to implement the necessary back-pointers. The function should return an NLTK tree, which can be constructed using `Tree.fromstring`.\n",
    "\n",
    "A tree string will be like this example:\n",
    "\n",
    "```\n",
    "\"(S (A B) (C (D E) (F G)))\"\n",
    "```\n",
    "\n",
    "which corresponds to the following tree (drawn using tree.pretty_print()):\n",
    "```\n",
    "     S         \n",
    "  ___|___       \n",
    " |       C     \n",
    " |    ___|___   \n",
    " A   D       F \n",
    " |   |       |  \n",
    " B   E       G \n",
    "```\n",
    "\n",
    "> **Hint:** You may want to extract from a `Nonterminal` its corresponding string. The `Nonterminal.__str__` method or f-string `f'{Nonterminal}'` accomplishes this."
   ]
  },
  {
   "cell_type": "code",
   "execution_count": 22,
   "id": "23ba2dde",
   "metadata": {
    "colab": {},
    "colab_type": "code",
    "id": "sqLD6i1CFDDy"
   },
   "outputs": [],
   "source": [
    "## TODO -- Implement a CKY parser\n",
    "def cky_parse(grammar, tokens):\n",
    "    \"\"\"Returns an NLTK parse tree of the list of tokens `tokens` as \n",
    "    specified by the `grammar`. If there are multiple valid parses,\n",
    "    return any one of them.\n",
    "\n",
    "    Returns None if `tokens` is not parsable.\n",
    "    Implements the CKY algorithm, and therefore assumes `grammar` is in \n",
    "    Chomsky normal form.\n",
    "    \"\"\"\n",
    "    assert(grammar.is_chomsky_normal_form())\n",
    "    N = len(tokens)\n",
    "    tokens = [\"\"] + tokens\n",
    "    cky = [[set() for i in range(N+1)] for j in range(N+1)]\n",
    "    backpointers = [[{} for i in range(N+1)] for j in range(N+1)]\n",
    "    \n",
    "    for j in range(1, N+1):\n",
    "        for rule in grammar.productions():\n",
    "            if rule.rhs()[0] == tokens[j]:\n",
    "                cky[j-1][j].add(rule.lhs())      \n",
    "        for length in range(2, j+1):\n",
    "            i = j - length\n",
    "            for split in range(i+1, j):\n",
    "                for rule in grammar.productions(): \n",
    "                    if len(rule.rhs()) == 2:\n",
    "                        A = rule.lhs()\n",
    "                        B = rule.rhs()[0]\n",
    "                        C = rule.rhs()[1]\n",
    "                        if B in cky[i][split] and C in cky[split][j]:\n",
    "                            cky[i][j].add(A)\n",
    "                            if A in backpointers[i][j]:\n",
    "                                backpointers[i][j][A].add((split, B, C))\n",
    "                            else:\n",
    "                                backpointers[i][j][A] = {(split, B, C)}\n",
    "    if grammar.start() in cky[0][N]:\n",
    "        def recursiveFunc(row, col, index):\n",
    "            if len(backpointers[row][col]) != 0: # not empty\n",
    "                split, b, c = list(backpointers[row][col][index])[0]\n",
    "                f = recursiveFunc(row, split, b)\n",
    "                s = recursiveFunc(split, col, c)\n",
    "                return \"(\" + str(index) + \" \" + f + \" \" + s + \")\"\n",
    "            else:\n",
    "                return \"(\" + str(index) + \" \" + tokens[col] + \")\"\n",
    "        \n",
    "        tree = recursiveFunc(0, N, grammar.start())\n",
    "        return nltk.Tree.fromstring(tree)\n",
    "    \n",
    "    else: return None"
   ]
  },
  {
   "cell_type": "markdown",
   "id": "c84a55db",
   "metadata": {
    "colab_type": "text",
    "id": "JT_CRbISLPsJ"
   },
   "source": [
    "You can test your code on the test sentences provided above:"
   ]
  },
  {
   "cell_type": "code",
   "execution_count": 23,
   "id": "5e90d792",
   "metadata": {
    "colab": {},
    "colab_type": "code",
    "id": "n7lbJQVGLThU"
   },
   "outputs": [
    {
     "name": "stdout",
     "output_type": "stream",
     "text": [
      "                                               S                                    \n",
      "                     __________________________|__________                           \n",
      "                    |                                 NP_FLIGHT                     \n",
      "                    |                                     |                          \n",
      "                    |                                 NOM_FLIGHT                    \n",
      "                    |                                     |                          \n",
      "                    |                                  N_FLIGHT                     \n",
      "                    |                           __________|_________                 \n",
      "                    |                          |                    PP              \n",
      "                    |                          |                    |                \n",
      "                PREIGNORE                      |                 PP_PLACE           \n",
      "        ____________|____________              |           _________|_________       \n",
      "       |                     PREIGNORE      N_FLIGHT      |               ADJ_PLACE \n",
      "       |                         |             |          |                   |      \n",
      "PREIGNORESYMBOL           PREIGNORESYMBOL TERM_FLIGHT  P_PLACE            TERM_PLACE\n",
      "       |                         |             |          |                   |      \n",
      "      show                       me         flights      from               boston  \n",
      "\n",
      "                                                S                                                          \n",
      "                     ___________________________|_______________________                                    \n",
      "                    |                                               NP_FLIGHT                              \n",
      "                    |                                                   |                                   \n",
      "                    |                                               NOM_FLIGHT                             \n",
      "                    |                            _______________________|__________                         \n",
      "                    |                           |                              NOM_FLIGHT                  \n",
      "                    |                           |                                  |                        \n",
      "                    |                           |                               N_FLIGHT                   \n",
      "                    |                           |             _____________________|_________               \n",
      "                    |                           |            |                               PP            \n",
      "                    |                           |            |                               |              \n",
      "                PREIGNORE                      ADJ           |                            PP_TIME          \n",
      "        ____________|____________               |            |                      _________|________      \n",
      "       |                     PREIGNORE     ADJ_AIRLINE    N_FLIGHT                 |               NP_TIME \n",
      "       |                         |              |            |                     |                  |     \n",
      "PREIGNORESYMBOL           PREIGNORESYMBOL TERM_AIRBRAND TERM_FLIGHT              P_TIME           TERM_TIME\n",
      "       |                         |              |            |                     |                  |     \n",
      "      show                       me           united      flights                before              noon  \n",
      "\n",
      "                                                    S                                                 \n",
      "                     _______________________________|____________                                      \n",
      "                    |                                        NP_FLIGHT                                \n",
      "                    |                       _____________________|__________                           \n",
      "                    |                      |                            NOM_FLIGHT                    \n",
      "                    |                      |         _______________________|__________                \n",
      "                    |                      |        |                              NOM_FLIGHT         \n",
      "                    |                      |        |                                  |               \n",
      "                    |                      |        |                               N_FLIGHT          \n",
      "                    |                      |        |                        __________|_________      \n",
      "                    |                      |        |                    N_FLIGHT                |    \n",
      "                    |                      |        |             __________|__________          |     \n",
      "                PREIGNORE                  |       ADJ           |                     PP        PP   \n",
      "        ____________|____________          |        |            |                     |         |     \n",
      "       |                     PREIGNORE     |   ADJ_AIRLINE    N_FLIGHT              PP_CLASS  PP_DATE \n",
      "       |                         |         |        |            |                     |         |     \n",
      "PREIGNORESYMBOL           PREIGNORESYMBOL DET TERM_AIRBRAND TERM_FLIGHT            ADJ_CLASS  NP_DATE \n",
      "       |                         |         |        |            |                     |         |     \n",
      "      are                      there      any      twa        flights              available  tomorrow\n",
      "\n",
      "failed to parse: show me flights united are there any\n"
     ]
    }
   ],
   "source": [
    "for sentence in test_sentences:\n",
    "    tree = cky_parse(atis_grammar_cnf, tokenize(sentence))\n",
    "    if not tree:\n",
    "        print(f\"failed to parse: {sentence}\")\n",
    "    else:\n",
    "        xform.un_cnf(tree, atis_grammar_wunaries)\n",
    "        tree.pretty_print()"
   ]
  },
  {
   "cell_type": "markdown",
   "id": "b430364f",
   "metadata": {
    "colab_type": "text",
    "id": "7VQVVkBoMITY"
   },
   "source": [
    "You can also compare against the built-in NLTK parser that we constructed above:"
   ]
  },
  {
   "cell_type": "code",
   "execution_count": 24,
   "id": "70825c46",
   "metadata": {
    "colab": {},
    "colab_type": "code",
    "id": "BvSxIFBKMPMa"
   },
   "outputs": [
    {
     "name": "stdout",
     "output_type": "stream",
     "text": [
      "Reference parses:\n",
      "(S\n",
      "  (PREIGNORE (PREIGNORESYMBOL show) (PREIGNORE (PREIGNORESYMBOL me)))\n",
      "  (NP_FLIGHT\n",
      "    (NOM_FLIGHT\n",
      "      (N_FLIGHT\n",
      "        (N_FLIGHT (TERM_FLIGHT flights))\n",
      "        (PP\n",
      "          (PP_PLACE (P_PLACE from) (ADJ_PLACE (TERM_PLACE boston))))))))\n",
      "\n",
      "Predicted parse:\n",
      "(S\n",
      "  (PREIGNORE (PREIGNORESYMBOL show) (PREIGNORE (PREIGNORESYMBOL me)))\n",
      "  (NP_FLIGHT\n",
      "    (NOM_FLIGHT\n",
      "      (N_FLIGHT\n",
      "        (N_FLIGHT (TERM_FLIGHT flights))\n",
      "        (PP\n",
      "          (PP_PLACE (P_PLACE from) (ADJ_PLACE (TERM_PLACE boston))))))))\n",
      "\n",
      "SUCCESS!\n",
      "Reference parses:\n",
      "(S\n",
      "  (PREIGNORE (PREIGNORESYMBOL show) (PREIGNORE (PREIGNORESYMBOL me)))\n",
      "  (NP_FLIGHT\n",
      "    (NOM_FLIGHT\n",
      "      (ADJ (ADJ_AIRLINE (TERM_AIRBRAND united)))\n",
      "      (NOM_FLIGHT\n",
      "        (N_FLIGHT\n",
      "          (N_FLIGHT (TERM_FLIGHT flights))\n",
      "          (PP (PP_TIME (P_TIME before) (NP_TIME (TERM_TIME noon)))))))))\n",
      "\n",
      "Predicted parse:\n",
      "(S\n",
      "  (PREIGNORE (PREIGNORESYMBOL show) (PREIGNORE (PREIGNORESYMBOL me)))\n",
      "  (NP_FLIGHT\n",
      "    (NOM_FLIGHT\n",
      "      (ADJ (ADJ_AIRLINE (TERM_AIRBRAND united)))\n",
      "      (NOM_FLIGHT\n",
      "        (N_FLIGHT\n",
      "          (N_FLIGHT (TERM_FLIGHT flights))\n",
      "          (PP (PP_TIME (P_TIME before) (NP_TIME (TERM_TIME noon)))))))))\n",
      "\n",
      "SUCCESS!\n",
      "Reference parses:\n",
      "(S\n",
      "  (PREIGNORE\n",
      "    (PREIGNORESYMBOL are)\n",
      "    (PREIGNORE (PREIGNORESYMBOL there)))\n",
      "  (NP_FLIGHT\n",
      "    (DET any)\n",
      "    (NOM_FLIGHT\n",
      "      (ADJ (ADJ_AIRLINE (TERM_AIRBRAND twa)))\n",
      "      (NOM_FLIGHT\n",
      "        (N_FLIGHT\n",
      "          (N_FLIGHT\n",
      "            (N_FLIGHT (TERM_FLIGHT flights))\n",
      "            (PP (PP_CLASS (ADJ_CLASS available))))\n",
      "          (PP (PP_DATE (NP_DATE tomorrow))))))))\n",
      "\n",
      "Predicted parse:\n",
      "(S\n",
      "  (PREIGNORE\n",
      "    (PREIGNORESYMBOL are)\n",
      "    (PREIGNORE (PREIGNORESYMBOL there)))\n",
      "  (NP_FLIGHT\n",
      "    (DET any)\n",
      "    (NOM_FLIGHT\n",
      "      (ADJ (ADJ_AIRLINE (TERM_AIRBRAND twa)))\n",
      "      (NOM_FLIGHT\n",
      "        (N_FLIGHT\n",
      "          (N_FLIGHT\n",
      "            (N_FLIGHT (TERM_FLIGHT flights))\n",
      "            (PP (PP_CLASS (ADJ_CLASS available))))\n",
      "          (PP (PP_DATE (NP_DATE tomorrow))))))))\n",
      "\n",
      "SUCCESS!\n",
      "Reference parses:\n",
      "\n",
      "Predicted parse:\n",
      "None\n",
      "\n",
      "SUCCESS!\n"
     ]
    }
   ],
   "source": [
    "for sentence in test_sentences:\n",
    "  refparses = [p for p in atis_parser_expanded.parse(tokenize(sentence))]\n",
    "  predparse = cky_parse(atis_grammar_cnf, tokenize(sentence))\n",
    "  if predparse:\n",
    "    xform.un_cnf(predparse, atis_grammar_wunaries)\n",
    "\n",
    "  print('Reference parses:')\n",
    "  for reftree in refparses:\n",
    "    print(reftree)\n",
    "\n",
    "  print('\\nPredicted parse:')\n",
    "  print(predparse)\n",
    "\n",
    "  if (not predparse and len(refparses) == 0) or predparse in refparses:\n",
    "    print(\"\\nSUCCESS!\")\n",
    "  else:\n",
    "    print(\"\\nOops. No match.\")"
   ]
  },
  {
   "cell_type": "markdown",
   "id": "f0360387",
   "metadata": {},
   "source": [
    "Again, we test the coverage as a way of verifying that your parser works consistently with the recognizer and the NLTK parser."
   ]
  },
  {
   "cell_type": "code",
   "execution_count": 25,
   "id": "c054a43b",
   "metadata": {
    "colab": {},
    "colab_type": "code",
    "id": "kd_BRwjJOFTz"
   },
   "outputs": [
    {
     "name": "stderr",
     "output_type": "stream",
     "text": [
      "100%|█████████████████████████████████████████████████████████████████████████████████████████████████████████████████████████████████████████████████████████████████| 50/50 [00:11<00:00,  4.19it/s]\n"
     ]
    },
    {
     "data": {
      "text/plain": [
       "0.48"
      ]
     },
     "execution_count": 25,
     "metadata": {},
     "output_type": "execute_result"
    }
   ],
   "source": [
    "coverage(lambda sent: cky_parse(atis_grammar_cnf, sent),\n",
    "         training_corpus, n=50)"
   ]
  },
  {
   "cell_type": "markdown",
   "id": "60e90962",
   "metadata": {
    "colab_type": "text",
    "id": "2fzMMPiUFDD7"
   },
   "source": [
    "# Probabilistic CFG parsing via the CKY algorithm\n",
    "\n",
    "In practice, we want to work with grammars that cover nearly all the language we expect to come across for a given application. This leads to an explosion of rules and a large number of possible parses for any one sentence. To remove ambiguity between the different parses, it's desirable to move to probabilistic context-free grammars (PCFG). In this part of the assignment, you will construct a PCFG from training data, parse using a probabilistic version of CKY, and evaluate the quality of the resulting parses against gold trees.\n",
    "\n",
    "## Part 4: PCFG construction\n",
    "\n",
    "Compared to CFGs, PCFGs need to assign probabilities to grammar rules. For this goal, you'll write a function `pcfg_from_trees` that takes a list of strings describing a corpus of trees and returns an NLTK PCFG trained on that set of trees.\n",
    "\n",
    "> We expect you to implement `pcfg_from_trees` directly. You should **not** use the [`induce_pcfg`](https://www.nltk.org/api/nltk.grammar.html#nltk.grammar.induce_pcfg) function in implementing your solution.\n",
    "\n",
    "We want the PCFG to be in CNF format because the probabilistic version of CKY that you'll implement next also requires the grammar to be in CNF. However, the gold trees are not in CNF form, so in this case you will need to convert the gold *trees* to CNF before building the PCFG from them. To accomplish this, you should use the `treetransforms` package from `nltk`, which includes functions for converting to and from CNF. In particular, you'll want to make use of `treetransforms.collapse_unary` followed by `treetransforms.chomsky_normal_form` to convert a tree to its binarized version. You can then get the counts for all of the productions used in the trees, and then normalize them to probabilities so that the probabilities of all rules with the same left-hand side sum to 1.\n",
    "\n",
    "We'll use the `pcfg_from_trees` function that you define later for parsing.\n",
    "\n",
    "> To convert an `nltk.Tree` object `t` to CNF, you can use the below code. Note that it's different from the `xform` functions we used before as we are converting _trees_, not _grammars_.\n",
    ">\n",
    ">    ```\n",
    ">    treetransforms.collapse_unary(t, collapsePOS=True)\n",
    ">    treetransforms.chomsky_normal_form(t) # After this the tree will be in CNF\n",
    ">    ```\n",
    "\n",
    "> To construct a PCFG with a given start state and set of productions, see [`nltk.grammar.PCFG`](https://www.nltk.org/api/nltk.grammar.html#nltk.grammar.PCFG)."
   ]
  },
  {
   "cell_type": "code",
   "execution_count": 26,
   "id": "8eb6b400",
   "metadata": {
    "colab": {
     "base_uri": "https://localhost:8080/",
     "height": 34
    },
    "colab_type": "code",
    "id": "1LjD1QElFDD7",
    "outputId": "00cc39c4-e825-4529-e3e4-fca03ae8c610"
   },
   "outputs": [],
   "source": [
    "#TODO - Define a function to convert a set of trees to a PCFG in Chomsky normal form.\n",
    "def pcfg_from_trees(trees, start=Nonterminal('TOP')):\n",
    "    \"\"\"Returns an NLTK PCFG in CNF with rules and counts extracted from a set of trees.\n",
    "\n",
    "    The `trees` argument is a list of strings in the form interpretable by \n",
    "    `Tree.fromstring`. The trees are converted to CNF using NLTK's \n",
    "    `treetransforms.collapse_unary` and `treetransforms.chomsky_normal_form`.\n",
    "\n",
    "    The `start` argument is the start nonterminal symbol of the returned\n",
    "    grammar.\"\"\"\n",
    "    productionCount = {}\n",
    "    lhsCount = {}\n",
    "    for s in trees:\n",
    "        t = Tree.fromstring(s)\n",
    "        nltk.treetransforms.collapse_unary(t,collapsePOS = True)\n",
    "        nltk.treetransforms.chomsky_normal_form(t)\n",
    "        for prod in t.productions():\n",
    "            lhsCount[prod.lhs()] = lhsCount.get(prod.lhs(), 0) + 1\n",
    "            productionCount[prod] = productionCount.get(prod, 0) + 1\n",
    "        #print(nltk.grammar.PCFG)\n",
    "        #print(t.productions()[0])\n",
    "#         nltk.treetransforms.collapse_unary(t,collapsePOS = True)\n",
    "#         nltk.treetransforms.chomsky_normal_form(t)\n",
    "#         print(t)\n",
    "    prods = [ProbabilisticProduction(p.lhs(), p.rhs(), prob = productionCount[p]/lhsCount[p.lhs()]) for p in productionCount]\n",
    "    x = nltk.grammar.PCFG(start, prods)\n",
    "#     for rule in x.productions():\n",
    "#         print(rule.rhs()[0])\n",
    "    #print(x)\n",
    "    #print(x[1])\n",
    "    #print(type(x))\n",
    "    #print(productionCount)\n",
    "    #print(lhsCount)\n",
    "    return x"
   ]
  },
  {
   "cell_type": "markdown",
   "id": "c72c73a8",
   "metadata": {},
   "source": [
    "We can now train a PCFG on the *train* split `train.trees` that we downloaded in the setup at the start of the notebook."
   ]
  },
  {
   "cell_type": "code",
   "execution_count": 27,
   "id": "a31d2c85",
   "metadata": {
    "colab": {
     "base_uri": "https://localhost:8080/",
     "height": 34
    },
    "colab_type": "code",
    "id": "1LjD1QElFDD7",
    "outputId": "00cc39c4-e825-4529-e3e4-fca03ae8c610"
   },
   "outputs": [],
   "source": [
    "with open('data/train.trees') as file:\n",
    "  ## Convert the probabilistic productions to an NLTK probabilistic CFG.\n",
    "  pgrammar = pcfg_from_trees(file.readlines())\n",
    "    \n",
    "## Verify that the grammar is in CNF\n",
    "assert(pgrammar.is_chomsky_normal_form())"
   ]
  },
  {
   "cell_type": "markdown",
   "id": "671fd6f4",
   "metadata": {
    "colab_type": "text",
    "id": "ErGCrNo2FDD9"
   },
   "source": [
    "## Part 5: Probabilistic CKY parsing\n",
    "\n",
    "Finally, we are ready to implement probabilistic CKY parsing under PCFGs. Adapt the CKY parser from Part 3 to return the most likely parse and its **log probability** (base 2) given a PCFG. Note that to avoid underflows we want to work in the log space.\n",
    "> **Hint:** `production.logprob()` will return the log probability of a production rule `production`."
   ]
  },
  {
   "cell_type": "code",
   "execution_count": 28,
   "id": "76c29ebf",
   "metadata": {
    "colab": {},
    "colab_type": "code",
    "id": "1lGbGYxeVg43"
   },
   "outputs": [],
   "source": [
    "## TODO – Implement a CKY parser under PCFGs\n",
    "def cky_parse_probabilistic(grammar, tokens):\n",
    "    \"\"\"Returns the NLTK parse tree of `tokens` with the highest probability \n",
    "    as specified by the PCFG `grammar` and its log probability as a tuple.\n",
    "\n",
    "    Returns (None, -float('inf')) if `tokens` is not parsable.\n",
    "    Implements the CKY algorithm, and therefore assumes `grammar` is in \n",
    "    Chomsky normal form.\n",
    "    \"\"\"\n",
    "    assert(grammar.is_chomsky_normal_form())\n",
    "    N = len(tokens)\n",
    "    tokens = [\"\"] + tokens\n",
    "    cky = [[{} for i in range(N+1)] for j in range(N+1)] \n",
    "    backpointers = [[{} for i in range(N+1)] for j in range(N+1)]\n",
    "\n",
    "    for j in range(1, N+1):\n",
    "\n",
    "        for rule in grammar.productions():\n",
    "            if rule.rhs()[0] == tokens[j]:\n",
    "                cky[j-1][j][rule.lhs()] = rule.logprob()\n",
    "                #print(rule.lhs())\n",
    "                #print(T[j-1][j][rule.lhs()])\n",
    "\n",
    "        for length in range(2, j+1):\n",
    "            i = j - length\n",
    "            for split in range(i+1, j):\n",
    "                for rule in grammar.productions(): \n",
    "                    if len(rule.rhs()) == 2:\n",
    "                        A = rule.lhs()\n",
    "                        B = rule.rhs()[0]\n",
    "                        C = rule.rhs()[1]\n",
    "                        if B in cky[i][split] and C in cky[split][j]:\n",
    "                            \n",
    "                            newProb = rule.logprob() + cky[i][split][B] + cky[split][j][C]\n",
    "                            if A not in cky[i][j]:\n",
    "                                cky[i][j][A] = newProb\n",
    "                                backpointers[i][j][A] = (split,B,C) \n",
    "                            elif cky[i][j][A] < newProb:\n",
    "                                cky[i][j][A] = newProb\n",
    "                                backpointers[i][j][A] = (split,B,C)        \n",
    "                                    \n",
    "    if grammar.start() in cky[0][N]:\n",
    "        retProb = 0\n",
    "        # start at T[0][N]\n",
    "        def recursiveFunc(row, col, index):\n",
    "            nonlocal retProb\n",
    "            if len(backpointers[row][col]) != 0:\n",
    "                split, b, c = backpointers[row][col][index]\n",
    "                retProb += cky[row][col][index]\n",
    "                first = recursiveFunc(row, split, b)\n",
    "                second = recursiveFunc(split, col, c)\n",
    "                return \"(\" + str(index) + \" \" + first + \" \" + second + \")\"\n",
    "            else:\n",
    "                return \"(\" + str(index) + \" \" + tokens[col] + \")\"\n",
    "\n",
    "        tree = recursiveFunc(0, N, grammar.start())\n",
    "        return nltk.Tree.fromstring(tree), retProb\n",
    "\n",
    "    else: return None, None"
   ]
  },
  {
   "cell_type": "markdown",
   "id": "f3b2d3f0",
   "metadata": {},
   "source": [
    "As an aid in debugging, you may want to start by testing your implementation of probabilistic CKY on a much smaller grammar than the one you trained from the ATIS corpus. Here's a little grammar that you can play with.\n",
    "\n",
    "> **Hint:** By \"play with\", we mean that you can change the gramamr to try out the behavior of your parser on different test grammars, including ambiguous cases."
   ]
  },
  {
   "cell_type": "code",
   "execution_count": 29,
   "id": "f5d93530",
   "metadata": {},
   "outputs": [],
   "source": [
    "grammar = PCFG.fromstring(\"\"\"\n",
    "  S -> NP VP [1.0]\n",
    "  VP -> V NP [1.0]\n",
    "  PP -> P NP [1.0]\n",
    "  NP -> 'sam' [.3]\n",
    "  NP -> 'ham' [.7]\n",
    "  V -> 'likes' [1.0]\n",
    "  \"\"\")"
   ]
  },
  {
   "cell_type": "code",
   "execution_count": 30,
   "id": "9aaa0ca7",
   "metadata": {},
   "outputs": [
    {
     "name": "stdout",
     "output_type": "stream",
     "text": [
      "      S          \n",
      "  ____|____       \n",
      " |         VP    \n",
      " |     ____|___   \n",
      " NP   V        NP\n",
      " |    |        |  \n",
      "sam likes     ham\n",
      "\n",
      "logprob: -2.77 | probability: 0.147\n"
     ]
    }
   ],
   "source": [
    "tree, logprob = cky_parse_probabilistic(grammar, tokenize('sam likes ham'))\n",
    "tree.pretty_print()\n",
    "print(f\"logprob: {logprob:4.3g} | probability: {2**logprob:4.3g}\")"
   ]
  },
  {
   "cell_type": "code",
   "execution_count": 31,
   "id": "af51076d",
   "metadata": {},
   "outputs": [
    {
     "name": "stdout",
     "output_type": "stream",
     "text": [
      "                           TOP                     \n",
      "                      ______|___________________    \n",
      "                    FRAG                        |  \n",
      "                     |                          |   \n",
      "                     NP                         |  \n",
      "    _________________|___________               |   \n",
      "   |          PP                 PP             |  \n",
      "   |      ____|______        ____|_____         |   \n",
      "   NP    |           NP     |          NP       |  \n",
      "   |     |           |      |     _____|___     |   \n",
      "  NNS    IN         NNP     TO  NNP       NNP  PUNC\n",
      "   |     |           |      |    |         |    |   \n",
      "Flights from     Cleveland  to Kansas     City  .  \n",
      "\n",
      "logprob: -105 | probability: 2.24e-32\n"
     ]
    }
   ],
   "source": [
    "# We don't use our tokenizer because the gold trees do not lowercase tokens\n",
    "sent = \"Flights from Cleveland to Kansas City .\".split()\n",
    "tree, logprob = cky_parse_probabilistic(pgrammar, sent)\n",
    "tree.un_chomsky_normal_form()\n",
    "tree.pretty_print()\n",
    "print(f\"logprob: {logprob:4.3g} | probability: {2**logprob:4.3g}\")"
   ]
  },
  {
   "cell_type": "markdown",
   "id": "52e1c683",
   "metadata": {
    "colab_type": "text",
    "id": "57Hn9aPNFDD_"
   },
   "source": [
    "## Evaluation of the grammar\n",
    "\n",
    "There are a number of ways to evaluate parsing algorithms. In this project segment, you will use the [\"industry-standard\" `evalb` implementation](https://nlp.cs.nyu.edu/evalb/) for computing constituent precision, recall, and F1 scores. We downloaded `evalb` during setup.\n",
    "\n",
    "We read in the test data..."
   ]
  },
  {
   "cell_type": "code",
   "execution_count": 32,
   "id": "55b085df",
   "metadata": {
    "colab": {},
    "colab_type": "code",
    "id": "mkyYdRYtFDED"
   },
   "outputs": [],
   "source": [
    "with open('data/test.trees') as file:\n",
    "  test_trees = [Tree.fromstring(line.strip()) for line in file.readlines()]\n",
    "\n",
    "test_sents = [tree.leaves() for tree in test_trees]"
   ]
  },
  {
   "cell_type": "markdown",
   "id": "6e6bf124",
   "metadata": {
    "colab_type": "text",
    "id": "AQAi73xLEiPA"
   },
   "source": [
    "...and parse the test sentences using your probabilistic CKY implementation, writing the output trees to a file."
   ]
  },
  {
   "cell_type": "code",
   "execution_count": 33,
   "id": "54b40bef",
   "metadata": {
    "colab": {},
    "colab_type": "code",
    "id": "zseXjAuLXc36"
   },
   "outputs": [
    {
     "name": "stderr",
     "output_type": "stream",
     "text": [
      "100%|█████████████████████████████████████████████████████████████████████████████████████████████████████████████████████████████████████████████████████████████████| 58/58 [00:03<00:00, 16.21it/s]\n"
     ]
    }
   ],
   "source": [
    "trees_out = []\n",
    "for sent in tqdm(test_sents):\n",
    "  tree, prob = cky_parse_probabilistic(pgrammar, sent)\n",
    "  if tree is not None:\n",
    "    tree.un_chomsky_normal_form()\n",
    "    trees_out.append(tree.pformat(margin=9999999999))\n",
    "  else:\n",
    "    trees_out.append('()')\n",
    "  \n",
    "with open('data/outp.trees', 'w') as file:\n",
    "  for line in trees_out:\n",
    "    file.write(line + '\\n')"
   ]
  },
  {
   "cell_type": "markdown",
   "id": "039bcfd8",
   "metadata": {
    "colab_type": "text",
    "id": "uizwMEW-zzTW"
   },
   "source": [
    "Now we can compare the predicted trees to the ground truth trees, using `evalb`. You should expect to achieve F1 of about 0.83."
   ]
  },
  {
   "cell_type": "code",
   "execution_count": 34,
   "id": "adab603f",
   "metadata": {
    "colab": {
     "base_uri": "https://localhost:8080/",
     "height": 121
    },
    "colab_type": "code",
    "id": "9hTRGwpiXe62",
    "outputId": "bcf2842f-9791-4887-f34a-99d6448fba3e"
   },
   "outputs": [
    {
     "name": "stdout",
     "output_type": "stream",
     "text": [
      "data/outp.trees\t345 brackets\n",
      "data/test.trees\t471 brackets\n",
      "matching\t339 brackets\n",
      "precision\t0.9826086956521739\n",
      "recall\t0.7197452229299363\n",
      "F1\t0.8308823529411764\n"
     ]
    }
   ],
   "source": [
    "shell(\"python scripts/evalb.py data/outp.trees data/test.trees\")"
   ]
  },
  {
   "cell_type": "markdown",
   "id": "9c62a490",
   "metadata": {},
   "source": [
    "## Debrief\n",
    "\n",
    "**Question:** We're interested in any thoughts you have about this project segment so that we can improve it for later years, and to inform later segments for this year. Please list any issues that arose or comments you have to improve the project segment. Useful things to comment on might include the following: \n",
    "\n",
    "* Was the project segment clear or unclear? Which portions?\n",
    "* Were the readings appropriate background for the project segment? \n",
    "* Are there additions or changes you think would make the project segment better?\n",
    "    ```\n",
    "    BEGIN QUESTION\n",
    "    name: open_response_debrief\n",
    "    manual: true\n",
    "    ```\n",
    "    \n",
    "but you should comment on whatever aspects you found especially positive or negative."
   ]
  },
  {
   "cell_type": "markdown",
   "id": "e1436d63",
   "metadata": {},
   "source": [
    "I think all of the project segments were clear. I wasn't too confused on what was necessary for each of the project segments as I feel like there was clarity for each segement. There was similarity between the project segments and the labs as well, which made it easier to understand what was going on and later implement it. I think the provided pseudocode was also very helpful in terms of making implementation easier and creating a basis upon which we can understand whether our code is correct or on the right track. The readings were appropriate background for the project segment. I think the project segments were created well and I would not add or change anything about them.  "
   ]
  },
  {
   "cell_type": "markdown",
   "id": "8f345365",
   "metadata": {},
   "source": [
    "# Instructions for submission of the project segment\n",
    "\n",
    "This project segment should be submitted to Gradescope at <http://go.cs187.info/project3-submit-code> and <http://go.cs187.info/project3-submit-pdf>, which will be made available some time before the due date.\n",
    "\n",
    "Project segment notebooks are manually graded, not autograded using otter as labs are. (Otter is used within project segment notebooks to synchronize distribution and solution code however.) **We will not run your notebook before grading it.** Instead, we ask that you submit the already freshly run notebook. The best method is to \"restart kernel and run all cells\", allowing time for all cells to be run to completion. You should submit your code to Gradescope at the code submission assignment at <http://go.cs187.info/project3-submit-code>. Make sure that you are also submitting your `data/grammar` file as part of your solution code as well.\n",
    "\n",
    "We also request that you **submit a PDF of the freshly run notebook**. The simplest method is to use \"Export notebook to PDF\", which will render the notebook to PDF via LaTeX. If that doesn't work, the method that seems to be most reliable is to export the notebook as HTML (if you are using Jupyter Notebook, you can do so using `File -> Print Preview`), open the HTML in a browser, and print it to a file. Then make sure to add the file to your git commit. Please name the file the same name as this notebook, but with a `.pdf` extension. (Conveniently, the methods just described will use that name by default.) You can then perform a git commit and push and submit the commit to Gradescope at <http://go.cs187.info/project3-submit-pdf>."
   ]
  },
  {
   "cell_type": "markdown",
   "id": "fc312da4",
   "metadata": {},
   "source": [
    "# End of project segment 3 {-}"
   ]
  }
 ],
 "metadata": {
  "colab": {
   "collapsed_sections": [],
   "include_colab_link": true,
   "name": "project3_tree.ipynb",
   "provenance": [],
   "toc_visible": true
  },
  "kernelspec": {
   "display_name": "Python 3 (ipykernel)",
   "language": "python",
   "name": "python3"
  },
  "language_info": {
   "codemirror_mode": {
    "name": "ipython",
    "version": 3
   },
   "file_extension": ".py",
   "mimetype": "text/x-python",
   "name": "python",
   "nbconvert_exporter": "python",
   "pygments_lexer": "ipython3",
   "version": "3.9.5"
  },
  "title": "CS187 Project Segment 3: Parsing – The CKY Algorithm"
 },
 "nbformat": 4,
 "nbformat_minor": 5
}
