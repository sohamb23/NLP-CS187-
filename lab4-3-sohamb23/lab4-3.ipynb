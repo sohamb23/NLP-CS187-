{
 "cells": [
  {
   "cell_type": "code",
   "execution_count": 1,
   "id": "87e2d8b1",
   "metadata": {
    "deletable": false,
    "editable": false,
    "jupyter": {
     "outputs_hidden": true,
     "source_hidden": true
    }
   },
   "outputs": [
    {
     "name": "stdout",
     "output_type": "stream",
     "text": [
      "\n"
     ]
    }
   ],
   "source": [
    "# Please do not change this cell because some hidden tests might depend on it.\n",
    "import os\n",
    "\n",
    "# Otter grader does not handle ! commands well, so we define and use our\n",
    "# own function to execute shell commands.\n",
    "def shell(commands, warn=True):\n",
    "    \"\"\"Executes the string `commands` as a sequence of shell commands.\n",
    "     \n",
    "       Prints the result to stdout and returns the exit status. \n",
    "       Provides a printed warning on non-zero exit status unless `warn` \n",
    "       flag is unset.\n",
    "    \"\"\"\n",
    "    file = os.popen(commands)\n",
    "    print (file.read().rstrip('\\n'))\n",
    "    exit_status = file.close()\n",
    "    if warn and exit_status != None:\n",
    "        print(f\"Completed with errors. Exit status: {exit_status}\\n\")\n",
    "    return exit_status\n",
    "\n",
    "shell(\"\"\"\n",
    "ls requirements.txt >/dev/null 2>&1\n",
    "if [ ! $? = 0 ]; then\n",
    " rm -rf .tmp\n",
    " git clone https://github.com/cs187-2021/lab4-3.git .tmp\n",
    " mv .tmp/tests ./\n",
    " mv .tmp/requirements.txt ./\n",
    " rm -rf .tmp\n",
    "fi\n",
    "pip install -q -r requirements.txt\n",
    "\"\"\")"
   ]
  },
  {
   "cell_type": "code",
   "execution_count": 2,
   "id": "6b5a9ae5",
   "metadata": {
    "deletable": false,
    "editable": false
   },
   "outputs": [],
   "source": [
    "# Initialize Otter\n",
    "import otter\n",
    "grader = otter.Notebook()"
   ]
  },
  {
   "cell_type": "markdown",
   "id": "882a56b1",
   "metadata": {
    "id": "HIUs28Vq-KDU",
    "tags": [
     "remove_for_latex"
    ]
   },
   "source": [
    "# CS187\n",
    "## Lab 4-3 – Semantic ambiguity and quantifier scope"
   ]
  },
  {
   "cell_type": "markdown",
   "id": "a1b8ed90",
   "metadata": {},
   "source": [
    "When discussing syntactic representations, we encountered a central issue in natural language — ambiguity. In lab 3-3, we introduced PP attachment ambiguity to show how a single sentence (\"Twain bought a book for Howells\") can have multiple distinct syntactic structures, each bearing a different meaning. \n",
    "\n",
    "Semantic ambiguity can arise even for a *single* parse of a sentence giving rise to different meanings. In this lab, we'll introduce one example of this phenomenon, quantifier scope ambiguity. We'll take a look at a sentence that elicits this type of ambiguity and propose two possible FOL representations of the sentence, confirming that they produce different truth values in a model. Then, we will use a syntactic-semantic grammar similar to those of lab 4-1 to parse and interpret the sentence, pointing out a weakness of this method."
   ]
  },
  {
   "cell_type": "markdown",
   "id": "f4df5ee0",
   "metadata": {},
   "source": [
    "# Preparation {-}"
   ]
  },
  {
   "cell_type": "code",
   "execution_count": 3,
   "id": "f3209fa1",
   "metadata": {
    "deletable": false,
    "editable": false
   },
   "outputs": [],
   "source": [
    "import os\n",
    "import sys\n",
    "import wget\n",
    "\n",
    "import nltk"
   ]
  },
  {
   "cell_type": "code",
   "execution_count": 4,
   "id": "da965483",
   "metadata": {},
   "outputs": [
    {
     "name": "stdout",
     "output_type": "stream",
     "text": [
      "\r",
      "  0% [                                                                                ]    0 / 8506\r",
      " 96% [.............................................................................   ] 8192 / 8506\r",
      "100% [................................................................................] 8506 / 8506"
     ]
    }
   ],
   "source": [
    "# Download code for augmented grammars\n",
    "remote_script_dir = \"https://raw.githubusercontent.com/nlp-course/data/master/scripts/\"\n",
    "local_script_dir = \"./scripts/\"\n",
    "\n",
    "# Create and search the local script directory\n",
    "os.makedirs(local_script_dir, exist_ok=True)\n",
    "sys.path.insert(1, local_script_dir)\n",
    "\n",
    "# Download files to script directory\n",
    "wget.download(remote_script_dir + \"trees/transform.py\", out=local_script_dir)\n",
    "\n",
    "# Import functions for transforming augmented grammars\n",
    "import transform as xform"
   ]
  },
  {
   "cell_type": "markdown",
   "id": "4f8cf046",
   "metadata": {
    "id": "BOrUNzos-OqG"
   },
   "source": [
    "# The flight world model\n",
    "\n",
    "We'll be using the flight world as the domain for the lab as we did for lab 4-1, so we provide a simple model for it here."
   ]
  },
  {
   "cell_type": "code",
   "execution_count": 5,
   "id": "938349c4",
   "metadata": {
    "id": "zzNJGn2NeaEF"
   },
   "outputs": [],
   "source": [
    "# Constants\n",
    "\n",
    "London = \"London\"\n",
    "NewYork = \"New York\"\n",
    "Paris = \"Paris\"\n",
    "Boston = \"Boston\"\n",
    "TelAviv = \"Tel Aviv\"\n",
    "\n",
    "DL10 = \"DL10\"\n",
    "DL11 = \"DL11\"\n",
    "DL13 = \"DL13\"\n",
    "LY01 = \"LY01\"\n",
    "LY12 = \"LY12\"\n",
    "\n",
    "# Properties\n",
    "\n",
    "Object = {London, NewYork, Paris, Boston, TelAviv, DL10, DL11, DL13, LY01, LY12}\n",
    "Flight = {DL10, DL11, DL13, LY01, LY12}\n",
    "City = {London, Paris, NewYork, Boston, TelAviv}\n",
    "Capital = {London, Paris}\n",
    "\n",
    "# Relations\n",
    "\n",
    "Origin = {\n",
    "    (DL10, London), \n",
    "    (DL11, London), \n",
    "    (DL13, Paris), \n",
    "    (LY01, Paris), \n",
    "    (LY12, London)\n",
    "}\n",
    "Destination = {\n",
    "    (DL10, NewYork),\n",
    "    (DL11, TelAviv),\n",
    "    (DL13, Boston),\n",
    "    (LY01, NewYork),\n",
    "    (LY12, TelAviv),\n",
    "}"
   ]
  },
  {
   "cell_type": "markdown",
   "id": "44da65ea",
   "metadata": {},
   "source": [
    "# Quantifier meanings\n",
    "\n",
    "Before discussing quantifier scope ambiguity, we need to establish an appropriate notion of quantifier meanings in natural language. In FOL, there are only two quantifiers, the universal quantifier $\\forall$ (\"for all\") and the existential quantifier $\\exists$ (\"there exists\"). In natural language, we find many more quantifiers. A few examples:\n",
    "\n",
    "* Universal: \"every\", \"each\"\n",
    "* Existential: \"some\", \"a(n)\"\n",
    "* Exact counts: \"one\", \"two\", \"three\", \"infinitely many\"\n",
    "* Approximate counts: \"few\", \"many\", \"most\", \"several\"\n",
    "* Count bounds: \"more than three\", \"fewer than 100\""
   ]
  },
  {
   "cell_type": "markdown",
   "id": "55b8e874",
   "metadata": {},
   "source": [
    "Natural language quantifiers can be thought of as expressing a _relationship between two properties_. \n",
    "\n",
    "> Recall that a _property_ can be thought of as a set of objects (those bearing the property) or a function from objects to truth values (which takes those objects that bear the property to _true_ and objects not bearing the property to _false_). In our flight world, $Flight$ is a property, as is $\\lambda x. Origin(x, Boston)$ (\"objects originating in Boston\").\n",
    "\n",
    "Natural language quantifiers like \"every\" express a relationship between two properties, the _restriction_ of the quantifier and the _scope_ of the quantifier. For instance, in the sentence \"every flight leaves from Boston\", the restriction property is expressed by  \"flight\" and the scope property is expressed by \"leaves from Boston\". The relationship that \"every\" expresses is simply that _everything bearing the first property also bears the second property_. Similarly, \"some\" expresses the relationship that _there is something bearing the first property that also bears the second property_. And \"most\" expresses that _most (at least half, say) of the objects bearing the first property bear the second property_.\n",
    "\n",
    "This way of thinking about quantifiers as expressing relationships between two properties is referred to as [_generalized quantifiers_](https://en.wikipedia.org/wiki/Generalized_quantifier), because it generalizes the FOL notion of quantifier by adding an explicit and separate restriction.\n",
    "\n",
    "> In FOL, quantifiers $\\forall$ and $\\exists$ have only a scope and not a restriction. When we write $\\forall x. \\ldots$, the $\\ldots$ is the scope of the quantifier; we can think of this as expressing that $\\forall$ holds of the single property $\\lambda x. \\ldots$. How then can restriction properties be expressed in FOL? By folding them into the scope.\n",
    ">    * \"every flight leaves from Boston\": $\\forall x. Flight(x) \\Longrightarrow Origin(x, Boston)$\n",
    ">    * \"some flight leaves from Boston\": $\\exists x. Flight(x) \\land Origin(x, Boston)$\n",
    ">\n",
    "> Notice though that in incorporating the restriction ($Flight(x)$) into the scope of the FOL quantifier, we use different ways of combining them depending on the quantifier. That's somewhat inelegant. More importantly, for most NL quantifiers, _there is no way of encoding the relationship between restriction and scope with just a single property_, as we happen to be able to for the universal and existential quantifiers. Hence, semanticists have moved to the generalized quantifier approach to quantifier meanings, as we do here.\n",
    "\n",
    "To allow for meanings for the first order quantifiers, we'll define some Python functions that capture this generalized quantifier approach. Each quantifier function takes the two properties, restriction and scope, and returns a truth value."
   ]
  },
  {
   "cell_type": "code",
   "execution_count": 6,
   "id": "2761b67e",
   "metadata": {},
   "outputs": [],
   "source": [
    "def for_all(R_property, S_property):\n",
    "    \"\"\"Returns `true` just in case all objects bearing `R_property`\n",
    "    also have `S_property`.\"\"\"\n",
    "    restriction_objects = [x for x in Object if R_property(x)]\n",
    "    scope_objects = [x for x in Object if S_property(x)]\n",
    "    return all([x in scope_objects for x in restriction_objects])\n",
    "\n",
    "def there_exists(R_property, S_property):\n",
    "    \"\"\"Returns `true` just in case at least one object bearing `R_property`\n",
    "    also has `S_property`.\"\"\"\n",
    "    restriction_objects = [x for x in Object if R_property(x)]\n",
    "    scope_objects = [x for x in Object if S_property(x)]\n",
    "    return any([x in scope_objects for x in restriction_objects])"
   ]
  },
  {
   "cell_type": "markdown",
   "id": "09a020fc",
   "metadata": {},
   "source": [
    "We can see how these work by verifying that it's not the case that all flights originate in London, but some flight does."
   ]
  },
  {
   "cell_type": "code",
   "execution_count": 7,
   "id": "82812365",
   "metadata": {},
   "outputs": [
    {
     "data": {
      "text/plain": [
       "False"
      ]
     },
     "execution_count": 7,
     "metadata": {},
     "output_type": "execute_result"
    }
   ],
   "source": [
    "## expressing \"every flight leaves from London\" -- should be false\n",
    "for_all(lambda x: x in Flight, lambda y: (y, London) in Origin)"
   ]
  },
  {
   "cell_type": "code",
   "execution_count": 8,
   "id": "a421b06e",
   "metadata": {},
   "outputs": [
    {
     "data": {
      "text/plain": [
       "True"
      ]
     },
     "execution_count": 8,
     "metadata": {},
     "output_type": "execute_result"
    }
   ],
   "source": [
    "## expressing \"some flight leaves from London\" -- should be true\n",
    "there_exists(lambda x: x in Flight, lambda y: (y, London) in Origin)"
   ]
  },
  {
   "cell_type": "markdown",
   "id": "e9a35d8e",
   "metadata": {
    "deletable": false,
    "editable": false
   },
   "source": [
    "Now it's your turn. Implement a generalized quantifier for the English determiner \"two\", which holds if exactly two of the objects in the restriction are in the scope as well.\n",
    "\n",
    "> **Hint:** we used `Object` to store all objects.\n",
    "\n",
    "<!--\n",
    "BEGIN QUESTION\n",
    "name: two_quantifier\n",
    "-->"
   ]
  },
  {
   "cell_type": "code",
   "execution_count": 10,
   "id": "588978df",
   "metadata": {},
   "outputs": [],
   "source": [
    "#TODO - Implement the `two` function\n",
    "def two(R_property, S_property):\n",
    "    \"\"\"Returns `true` just in case exactly two objects bearing `R_property`\n",
    "    also have `S_property`.\"\"\"\n",
    "    restriction_objects = [x for x in Object if R_property(x)]\n",
    "    scope_objects = [x for x in Object if S_property(x)]\n",
    "    return sum([x in scope_objects for x in restriction_objects]) == 2"
   ]
  },
  {
   "cell_type": "code",
   "execution_count": 11,
   "id": "16c76201",
   "metadata": {
    "deletable": false,
    "editable": false
   },
   "outputs": [
    {
     "data": {
      "text/html": [
       "\n",
       "    \n",
       "    \n",
       "        <p>All tests passed!</p>\n",
       "    \n",
       "    "
      ],
      "text/plain": [
       "\n",
       "    All tests passed!\n",
       "    "
      ]
     },
     "execution_count": 11,
     "metadata": {},
     "output_type": "execute_result"
    }
   ],
   "source": [
    "grader.check(\"two_quantifier\")"
   ]
  },
  {
   "cell_type": "markdown",
   "id": "09cfafe1",
   "metadata": {},
   "source": [
    "We can use this implementation of the quantifier to demonstrate that two flights have New York as destination:"
   ]
  },
  {
   "cell_type": "code",
   "execution_count": 12,
   "id": "ecde0b2f",
   "metadata": {},
   "outputs": [
    {
     "data": {
      "text/plain": [
       "True"
      ]
     },
     "execution_count": 12,
     "metadata": {},
     "output_type": "execute_result"
    }
   ],
   "source": [
    "## expressing \"two flights go to New York\" -- should be true\n",
    "two(lambda x: x in Flight, lambda y: (y, NewYork) in Destination)"
   ]
  },
  {
   "cell_type": "markdown",
   "id": "747a0dc6",
   "metadata": {
    "deletable": false,
    "editable": false
   },
   "source": [
    "Express and test the proposition that two flights originating in London have a capital as destination. You'll end up using two quantifiers.\n",
    "<!--\n",
    "BEGIN QUESTION\n",
    "name: two_london_capital\n",
    "-->"
   ]
  },
  {
   "cell_type": "code",
   "execution_count": 22,
   "id": "097e0d88",
   "metadata": {},
   "outputs": [
    {
     "data": {
      "text/plain": [
       "False"
      ]
     },
     "execution_count": 22,
     "metadata": {},
     "output_type": "execute_result"
    }
   ],
   "source": [
    "#TODO - express \"there are two flights that leave from London and go to a capital\" -- should be false\n",
    "two_london_capital = two(lambda x: x in Flight and (x,London) in Origin, lambda y: there_exists(lambda c: c in Capital, lambda z:(y,z) in Destination))\n",
    "two_london_capital"
   ]
  },
  {
   "cell_type": "code",
   "execution_count": 16,
   "id": "e5d4518f",
   "metadata": {
    "deletable": false,
    "editable": false
   },
   "outputs": [
    {
     "data": {
      "text/html": [
       "\n",
       "    \n",
       "    \n",
       "        <p>All tests passed!</p>\n",
       "    \n",
       "    "
      ],
      "text/plain": [
       "\n",
       "    All tests passed!\n",
       "    "
      ]
     },
     "execution_count": 16,
     "metadata": {},
     "output_type": "execute_result"
    }
   ],
   "source": [
    "grader.check(\"two_london_capital\")"
   ]
  },
  {
   "cell_type": "markdown",
   "id": "af342cd3",
   "metadata": {
    "deletable": false,
    "editable": false
   },
   "source": [
    "Express and test the proposition that two flights originating in a capital have New York as a destination.\n",
    "<!--\n",
    "BEGIN QUESTION\n",
    "name: two_capital_newyork\n",
    "-->"
   ]
  },
  {
   "cell_type": "code",
   "execution_count": 23,
   "id": "a7a8e1cf",
   "metadata": {},
   "outputs": [
    {
     "data": {
      "text/plain": [
       "True"
      ]
     },
     "execution_count": 23,
     "metadata": {},
     "output_type": "execute_result"
    }
   ],
   "source": [
    "#TODO - express \"there are two flights that leave from a capital and go to New York\"\n",
    "two_capital_newyork = two(lambda x: x in Flight and there_exists(lambda c: c in Capital, lambda z: (x,z) in Origin), lambda y: (y,NewYork) in Destination)\n",
    "two_capital_newyork"
   ]
  },
  {
   "cell_type": "code",
   "execution_count": 18,
   "id": "8c1a959b",
   "metadata": {
    "deletable": false,
    "editable": false
   },
   "outputs": [
    {
     "data": {
      "text/html": [
       "\n",
       "    \n",
       "    \n",
       "        <p>All tests passed!</p>\n",
       "    \n",
       "    "
      ],
      "text/plain": [
       "\n",
       "    All tests passed!\n",
       "    "
      ]
     },
     "execution_count": 18,
     "metadata": {},
     "output_type": "execute_result"
    }
   ],
   "source": [
    "grader.check(\"two_capital_newyork\")"
   ]
  },
  {
   "cell_type": "markdown",
   "id": "a5a4f595",
   "metadata": {
    "id": "uOn2dddRH-1w"
   },
   "source": [
    "# Quantifier scope ambiguity\n",
    "\n",
    "Consider the sentence\n",
    "\n",
    "* every flight leaves from a capital\n",
    "\n",
    "Under one reading of this sentence, it is true just in case each flight leaves from a (possibly different) city that is a capital. This interpretation can be represented with the following FOL formula:\n",
    "\n",
    "$$ \\forall x. (Flight(x) \\implies \\exists y. (Capital(y) \\land Origin(x, y))) \\tag{1}$$\n",
    "\n",
    "However, there is another possible reading of this sentence. A less intuitive yet possible interpretation could be that we are asking if there is a single capital from which all flights leave. This interpretation gives rise to a different FOL representation: \n",
    "\n",
    "$$ \\exists y. (Capital(y) \\land \\forall x. (Flight(x) \\implies Origin(x, y))) \\tag{2} $$"
   ]
  },
  {
   "cell_type": "markdown",
   "id": "d4ef68b3",
   "metadata": {
    "id": "uOn2dddRH-1w"
   },
   "source": [
    "This type of ambiguity is referred to as _quantifier scope ambiguity_, and appears almost inevitably when a sentence has multiple quantified noun phrases. \n",
    "\n",
    "> Other scope-taking elements can also give rise to scope ambiguities. For instance, modals (like \"may\", \"must\", \"can\"), and negation (\"not\") also have scope and can engender ambiguities. For instance, the sentence \"you may not go\" arguably has two readings, paraphrasable as \"you have permission to not go\" (that is, you may stay) and \"you do not have permission to go\" (that is, you must stay). Examining these further kinds of ambiguity is beyond the scope (so to speak) of this lab.\n",
    "\n",
    "It is easy to see that both representations have the same components, just structured differently. The different ordering possibilities of the quantifiers is what generates the ambiguity. In representation (1), $\\forall x$ has the outer scope, while in representation (2), $\\exists y$ has the outer scope. Reflecting this ordering, the two readings are sometimes referred to as the *AE reading* and the *EA reading*, respectively.\n",
    "\n",
    "> As another example of the phenomenon, consider the old joke: In my town, a person is mugged every 15 minutes...and boy is he getting tired of it."
   ]
  },
  {
   "cell_type": "markdown",
   "id": "8c3f98d9",
   "metadata": {
    "deletable": false,
    "editable": false
   },
   "source": [
    "Express the two readings of the sentence \n",
    "\n",
    "* every flight leaves from a capital\n",
    "\n",
    "using the Python implementation of generalized quantifiers. Start with the AE reading.\n",
    "<!--\n",
    "BEGIN QUESTION\n",
    "name: ambiguity_AE\n",
    "-->"
   ]
  },
  {
   "cell_type": "code",
   "execution_count": 26,
   "id": "7f4858e1",
   "metadata": {},
   "outputs": [
    {
     "data": {
      "text/plain": [
       "True"
      ]
     },
     "execution_count": 26,
     "metadata": {},
     "output_type": "execute_result"
    }
   ],
   "source": [
    "AE_reading = for_all(lambda x: x in Flight, lambda y: there_exists(lambda c: c in Capital, lambda z:(y,z) in Origin))\n",
    "AE_reading"
   ]
  },
  {
   "cell_type": "code",
   "execution_count": null,
   "id": "86aad3b1",
   "metadata": {
    "deletable": false,
    "editable": false
   },
   "outputs": [],
   "source": [
    "grader.check(\"ambiguity_AE\")"
   ]
  },
  {
   "cell_type": "markdown",
   "id": "cf52df80",
   "metadata": {
    "deletable": false,
    "editable": false
   },
   "source": [
    "Now do the same for the EA reading.\n",
    "<!--\n",
    "BEGIN QUESTION\n",
    "name: ambiguity_EA\n",
    "-->"
   ]
  },
  {
   "cell_type": "code",
   "execution_count": 29,
   "id": "5a9b24b2",
   "metadata": {},
   "outputs": [
    {
     "data": {
      "text/plain": [
       "False"
      ]
     },
     "execution_count": 29,
     "metadata": {},
     "output_type": "execute_result"
    }
   ],
   "source": [
    "EA_reading = there_exists(lambda c: c in Capital, lambda y:for_all(lambda x: x in Flight, lambda z:(z,y) in Origin))\n",
    "EA_reading"
   ]
  },
  {
   "cell_type": "code",
   "execution_count": 30,
   "id": "7ec8d7d0",
   "metadata": {
    "deletable": false,
    "editable": false
   },
   "outputs": [
    {
     "data": {
      "text/html": [
       "\n",
       "    \n",
       "    \n",
       "        <p>All tests passed!</p>\n",
       "    \n",
       "    "
      ],
      "text/plain": [
       "\n",
       "    All tests passed!\n",
       "    "
      ]
     },
     "execution_count": 30,
     "metadata": {},
     "output_type": "execute_result"
    }
   ],
   "source": [
    "grader.check(\"ambiguity_EA\")"
   ]
  },
  {
   "cell_type": "markdown",
   "id": "602c7d6d",
   "metadata": {
    "id": "dTNqFRpXW0dg"
   },
   "source": [
    "If you've implemented the two readings correctly, you have confirmed that the two readings of the ambiguous sentence are indeed different; they generate different answers."
   ]
  },
  {
   "cell_type": "markdown",
   "id": "db34ceb4",
   "metadata": {
    "deletable": false,
    "editable": false,
    "id": "dTNqFRpXW0dg"
   },
   "source": [
    "# A compositional semantics for quantifiers\n",
    "\n",
    "Instead of manually constructing a meaning representation as we did, let's use a syntactic-semantic grammar to perform this interpretation process. We will use the following augmented grammar: \n",
    "<!--\n",
    "BEGIN QUESTION\n",
    "name: complete_grammar\n",
    "-->"
   ]
  },
  {
   "cell_type": "code",
   "execution_count": 58,
   "id": "3d4eca06",
   "metadata": {},
   "outputs": [],
   "source": [
    "grammar_spec = \"\"\" \n",
    "  S -> NP VP                  :  lambda NP, VP: NP(VP)\n",
    "  \n",
    "  VP -> V NP                  :  (lambda V, NP: lambda x: NP(V(x)))\n",
    "\n",
    "  V -> 'leaves' 'from'        :  lambda: lambda Subj: lambda Obj: (Subj, Obj) in Origin\n",
    "     | 'leave' 'from'\n",
    "     | 'goes' 'to'            :  lambda: lambda Subj: lambda Obj: (Subj, Obj) in Destination\n",
    "     | 'go' 'to'\n",
    "\n",
    "  S_COMP -> 'that' VP         :  lambda X: X\n",
    "\n",
    "  NP -> DET NOM               :  lambda DET, NOM: DET(NOM)\n",
    "  NOM -> NOM S_COMP           :  lambda N, S: N and S\n",
    "  NOM -> N                    :  lambda X: X\n",
    "  \n",
    "  NP -> 'New' 'York'          :  lambda: lambda P: P(NewYork)\n",
    "      | 'Paris'               :  lambda: lambda P: P(Paris)\n",
    "      | 'Tel' 'Aviv'          :  lambda: lambda P: P(TelAviv)\n",
    "      | 'London'              :  lambda: lambda P: P(London)\n",
    "      | 'Boston'              :  lambda: lambda P: P(Boston)\n",
    "\n",
    "  N -> 'flight' | 'flights'   :  lambda: lambda x: x in Flight\n",
    "     | 'capital' | 'capitals' :  lambda: lambda x: x in Capital\n",
    "     | 'city' | 'cities'      :  lambda: lambda x: x in City\n",
    "\n",
    "  DET -> 'every'              :  lambda: lambda R: lambda S: for_all(R, S)\n",
    "       | 'a'                  :  lambda: lambda R: lambda S: there_exists(R, S)\n",
    "       | 'two'                :  lambda: lambda R: lambda S: two(R,S)\n",
    "\"\"\""
   ]
  },
  {
   "cell_type": "markdown",
   "id": "96496617",
   "metadata": {},
   "source": [
    "Some things to note about the grammar:\n",
    "\n",
    "* Some of the nonterminals may be unfamiliar. In particular, the nonterminal `S_COMP` is for complementized relative clauses, phrases like \"that leaves from Boston\" in the sentence \"every flight _that leaves from Boston_ goes to New York\".\n",
    "\n",
    "* Some of the productions have no augmentation. You may recall that in this format, productions with no explicit augmentation just use the one for the preceding production. Thus the \"goes to\" and \"go to\" rules have the same augmentation.\n",
    "\n",
    "* Some of the augmentations (those involving `S_COMP` and the determiner `two`) raise `NotImplementedError`. We'll have you fill those in in a bit. Hold off for now.\n",
    "\n",
    "* As described in the introductory lecture, this grammar makes use of Richard Montague's idea that noun phrase meanings should apply to verb phrase meanings, rather than the other way around. By so doing, we allow for quantifiers within noun phrases to scope over their verb phrases. But this approach necessitates changing the types of even simple noun phrases like \"Boston\". Instead of denoting an object, it too must denote a function from properties to truth values, for example, $\\lambda P. P(Boston)$. \n",
    "\n",
    "We parse the grammar specification to extract an NLTK grammar and the augmentation dictionary, and construct a parser for the grammar."
   ]
  },
  {
   "cell_type": "code",
   "execution_count": 59,
   "id": "ec8f0d6e",
   "metadata": {},
   "outputs": [],
   "source": [
    "grammar, augmentations = xform.parse_augmented_grammar(grammar_spec, globals=globals())\n",
    "parser = nltk.parse.BottomUpChartParser(grammar)"
   ]
  },
  {
   "cell_type": "markdown",
   "id": "7a62f231",
   "metadata": {
    "id": "R9arBrRXYDZ2"
   },
   "source": [
    "Let's create a syntactic parse tree of the sentence we've been working with: "
   ]
  },
  {
   "cell_type": "code",
   "execution_count": 60,
   "id": "bb0d61b8",
   "metadata": {
    "colab": {
     "base_uri": "https://localhost:8080/",
     "height": 225
    },
    "id": "J9C5ANDCecN4",
    "outputId": "6e9e7513-58f8-47ec-f714-de07fb62a84b"
   },
   "outputs": [
    {
     "name": "stdout",
     "output_type": "stream",
     "text": [
      "                   S                                \n",
      "        ___________|______________                   \n",
      "       |                          VP                \n",
      "       |                  ________|_______           \n",
      "       NP                |                NP        \n",
      "   ____|____             |             ___|_____     \n",
      "  |        NOM           |            |        NOM  \n",
      "  |         |            |            |         |    \n",
      " DET        N            V           DET        N   \n",
      "  |         |       _____|___         |         |    \n",
      "every     flight leaves     from      a      capital\n",
      "\n"
     ]
    }
   ],
   "source": [
    "sentence = \"every flight leaves from a capital\".split()\n",
    "parses = [p for p in parser.parse(sentence)]\n",
    "for tree in parses:\n",
    "    tree.pretty_print()"
   ]
  },
  {
   "cell_type": "markdown",
   "id": "2e70fe25",
   "metadata": {
    "id": "4OrZpUzeYUbD"
   },
   "source": [
    "To carry out the semantic interpretation process, we will use the same notation as in lab 4-1, where the variable `A__some_words` will be given the meaning for the constituent with nonterminal `A` with the span \"some words\". We start building the semantic representation by applying the semantic composition rules from the syntactic-semantic grammar to the meanings of the subconstituents bottom up. Here are the first few steps:"
   ]
  },
  {
   "cell_type": "code",
   "execution_count": 61,
   "id": "fb42bb27",
   "metadata": {},
   "outputs": [],
   "source": [
    "DET__every = (lambda: lambda R: lambda S: for_all(R, S)) () # lambda R: lambda S: for_all(R, S)\n",
    "N__flight = (lambda: lambda x: x in Flight) () # lambda x: x in Flight\n",
    "NOM__flight = (lambda X: X) (N__flight) # lambda x: x in Flight\n",
    "NP__every_flight = (lambda DET, NN: DET(NN)) (DET__every, NOM__flight) # lambda S: for_all(lambda x: x in Flight, S)"
   ]
  },
  {
   "cell_type": "markdown",
   "id": "92a96db5",
   "metadata": {
    "deletable": false,
    "editable": false
   },
   "source": [
    "Now you complete the derivation, computing the meanings for each of the remaining constituents.\n",
    "<!--\n",
    "BEGIN QUESTION\n",
    "name: complete_derivation\n",
    "-->"
   ]
  },
  {
   "cell_type": "code",
   "execution_count": 62,
   "id": "3abdc8d7",
   "metadata": {},
   "outputs": [],
   "source": [
    "DET__a = (lambda: lambda R: lambda S: there_exists(R, S)) ()\n",
    "N__capital = (lambda: lambda x: x in Capital) ()\n",
    "NOM__capital = (lambda X: X) (N__capital)\n",
    "NP__a_capital = (lambda DET, NOM: DET(NOM)) (DET__a, NOM__capital)\n",
    "V__leaves_from = (lambda: lambda Subj: lambda Obj: (Subj, Obj) in Origin) ()\n",
    "VP__leaves_from_a_capital = (lambda V, NP: lambda x: NP(V(x))) (V__leaves_from,NP__a_capital)\n",
    "S__every_flight_leaves_from_a_capital = (lambda NP, VP: NP(VP)) (NP__every_flight, VP__leaves_from_a_capital)"
   ]
  },
  {
   "cell_type": "code",
   "execution_count": 63,
   "id": "4281f6f5",
   "metadata": {
    "deletable": false,
    "editable": false
   },
   "outputs": [
    {
     "data": {
      "text/html": [
       "\n",
       "    \n",
       "    \n",
       "        <p>All tests passed!</p>\n",
       "    \n",
       "    "
      ],
      "text/plain": [
       "\n",
       "    All tests passed!\n",
       "    "
      ]
     },
     "execution_count": 63,
     "metadata": {},
     "output_type": "execute_result"
    }
   ],
   "source": [
    "grader.check(\"complete_derivation\")"
   ]
  },
  {
   "cell_type": "markdown",
   "id": "81e91112",
   "metadata": {},
   "source": [
    "Now that you've completed the semantic derivation, let's see what truth value the model provides for this sentence."
   ]
  },
  {
   "cell_type": "code",
   "execution_count": 64,
   "id": "5a037a6e",
   "metadata": {},
   "outputs": [
    {
     "data": {
      "text/plain": [
       "True"
      ]
     },
     "execution_count": 64,
     "metadata": {},
     "output_type": "execute_result"
    }
   ],
   "source": [
    "S__every_flight_leaves_from_a_capital"
   ]
  },
  {
   "cell_type": "markdown",
   "id": "fc6f8033",
   "metadata": {
    "deletable": false,
    "editable": false,
    "id": "nM2LcVbEKzlP"
   },
   "source": [
    "<!-- BEGIN QUESTION -->\n",
    "\n",
    "According to the result, which of the two readings for the sentence (AE or EA) did the augmented grammar produce? Can we get the other reading with the same augmented grammar? What problems do you see resulting from this behavior?\n",
    "\n",
    "<!--\n",
    "BEGIN QUESTION\n",
    "name: ambiguity_open_question\n",
    "manual: true\n",
    "-->"
   ]
  },
  {
   "cell_type": "markdown",
   "id": "789027de",
   "metadata": {},
   "source": [
    "The augmented grammar produced the AE reading. "
   ]
  },
  {
   "cell_type": "markdown",
   "id": "70f288d3",
   "metadata": {},
   "source": [
    "<!-- END QUESTION -->\n",
    "\n",
    "\n",
    "\n",
    "# Extending the grammar\n",
    "\n",
    "To make the language more interesting, we'll extend the grammar to allow for relative clauses like \"that leaves from Boston\" or \"that goes to a capital\", as well as allowing for the determiner \"two\". Fill in the augmentations that raise `NotImplementedError` in the grammar above to allow for these. "
   ]
  },
  {
   "cell_type": "code",
   "execution_count": 65,
   "id": "2dcf3706",
   "metadata": {},
   "outputs": [
    {
     "name": "stdout",
     "output_type": "stream",
     "text": [
      "                                       S                                           \n",
      "         ______________________________|_________________________                   \n",
      "        NP                                                       |                 \n",
      "   _____|__________                                              |                  \n",
      "  |               NOM                                            VP                \n",
      "  |      __________|_________                             _______|_______           \n",
      "  |     |                  S_COMP                        |               NP        \n",
      "  |     |      ______________|_____                      |            ___|_____     \n",
      "  |    NOM    |                    VP                    |           |        NOM  \n",
      "  |     |     |          __________|_______              |           |         |    \n",
      " DET    N     |         V                  NP            V          DET        N   \n",
      "  |     |     |     ____|____           ___|___      ____|___        |         |    \n",
      "every flight that goes       to       Tel     Aviv goes      to      a      capital\n",
      "\n"
     ]
    }
   ],
   "source": [
    "sentence = \"every flight that goes to Tel Aviv goes to a capital\"\n",
    "parse = list(parser.parse(sentence.split()))[0]\n",
    "parse.pretty_print()"
   ]
  },
  {
   "cell_type": "markdown",
   "id": "22711971",
   "metadata": {
    "deletable": false,
    "editable": false
   },
   "source": [
    "To test the extended grammar, we'll make use of the `interpret` function you implemented in lab 4-2. Copy in your solution from that lab.\n",
    "\n",
    "<!--\n",
    "BEGIN QUESTION\n",
    "name: grammar_extension\n",
    "-->"
   ]
  },
  {
   "cell_type": "code",
   "execution_count": 66,
   "id": "47fd1824",
   "metadata": {},
   "outputs": [],
   "source": [
    "def interpret(tree, augmentations):\n",
    "    return augmentations[tree.productions()[0]](*[interpret(child, augmentations) for child in tree if isinstance(child, nltk.Tree)])"
   ]
  },
  {
   "cell_type": "code",
   "execution_count": 67,
   "id": "585e11af",
   "metadata": {
    "deletable": false,
    "editable": false
   },
   "outputs": [
    {
     "data": {
      "text/html": [
       "\n",
       "    \n",
       "    \n",
       "        <p>All tests passed!</p>\n",
       "    \n",
       "    "
      ],
      "text/plain": [
       "\n",
       "    All tests passed!\n",
       "    "
      ]
     },
     "execution_count": 67,
     "metadata": {},
     "output_type": "execute_result"
    }
   ],
   "source": [
    "grader.check(\"grammar_extension\")"
   ]
  },
  {
   "cell_type": "markdown",
   "id": "8b9c4df8",
   "metadata": {},
   "source": [
    "Now we can demonstrate the full range of this grammar fragment by testing out a bunch of different sentences to determine which are true and which are false."
   ]
  },
  {
   "cell_type": "code",
   "execution_count": 68,
   "id": "c41dffc9",
   "metadata": {},
   "outputs": [],
   "source": [
    "def test(sentence):\n",
    "  print(sentence)\n",
    "  parses = parser.parse(sentence.split())\n",
    "  for parse in parses:\n",
    "    print(parse, \"\\n==>\", interpret(parse, augmentations))"
   ]
  },
  {
   "cell_type": "code",
   "execution_count": 69,
   "id": "dfba1dfe",
   "metadata": {},
   "outputs": [
    {
     "name": "stdout",
     "output_type": "stream",
     "text": [
      "every flight goes to a capital\n",
      "(S\n",
      "  (NP (DET every) (NOM (N flight)))\n",
      "  (VP (V goes to) (NP (DET a) (NOM (N capital))))) \n",
      "==> False\n"
     ]
    }
   ],
   "source": [
    "test(\"every flight goes to a capital\")"
   ]
  },
  {
   "cell_type": "code",
   "execution_count": 70,
   "id": "7884657b",
   "metadata": {},
   "outputs": [
    {
     "name": "stdout",
     "output_type": "stream",
     "text": [
      "two flights leave from Paris\n",
      "(S (NP (DET two) (NOM (N flights))) (VP (V leave from) (NP Paris))) \n",
      "==> True\n"
     ]
    }
   ],
   "source": [
    "test(\"two flights leave from Paris\")"
   ]
  },
  {
   "cell_type": "code",
   "execution_count": 71,
   "id": "7fec3cf6",
   "metadata": {},
   "outputs": [
    {
     "name": "stdout",
     "output_type": "stream",
     "text": [
      "two flights leave from London\n",
      "(S (NP (DET two) (NOM (N flights))) (VP (V leave from) (NP London))) \n",
      "==> False\n"
     ]
    }
   ],
   "source": [
    "test(\"two flights leave from London\")"
   ]
  },
  {
   "cell_type": "code",
   "execution_count": 72,
   "id": "5a78af96",
   "metadata": {},
   "outputs": [
    {
     "name": "stdout",
     "output_type": "stream",
     "text": [
      "every flight that goes to Tel Aviv goes to a capital\n",
      "(S\n",
      "  (NP\n",
      "    (DET every)\n",
      "    (NOM\n",
      "      (NOM (N flight))\n",
      "      (S_COMP that (VP (V goes to) (NP Tel Aviv)))))\n",
      "  (VP (V goes to) (NP (DET a) (NOM (N capital))))) \n",
      "==> False\n"
     ]
    }
   ],
   "source": [
    "test(\"every flight that goes to Tel Aviv goes to a capital\")"
   ]
  },
  {
   "cell_type": "code",
   "execution_count": 73,
   "id": "05bc437d",
   "metadata": {},
   "outputs": [
    {
     "name": "stdout",
     "output_type": "stream",
     "text": [
      "every flight that leaves from a capital goes to a capital\n",
      "(S\n",
      "  (NP\n",
      "    (DET every)\n",
      "    (NOM\n",
      "      (NOM (N flight))\n",
      "      (S_COMP\n",
      "        that\n",
      "        (VP (V leaves from) (NP (DET a) (NOM (N capital)))))))\n",
      "  (VP (V goes to) (NP (DET a) (NOM (N capital))))) \n",
      "==> False\n"
     ]
    }
   ],
   "source": [
    "test(\"every flight that leaves from a capital goes to a capital\")"
   ]
  },
  {
   "cell_type": "code",
   "execution_count": 74,
   "id": "212220db",
   "metadata": {},
   "outputs": [
    {
     "name": "stdout",
     "output_type": "stream",
     "text": [
      "every flight that goes to a capital leaves from a capital\n",
      "(S\n",
      "  (NP\n",
      "    (DET every)\n",
      "    (NOM\n",
      "      (NOM (N flight))\n",
      "      (S_COMP that (VP (V goes to) (NP (DET a) (NOM (N capital)))))))\n",
      "  (VP (V leaves from) (NP (DET a) (NOM (N capital))))) \n",
      "==> True\n"
     ]
    }
   ],
   "source": [
    "test(\"every flight that goes to a capital leaves from a capital\")"
   ]
  },
  {
   "cell_type": "code",
   "execution_count": 75,
   "id": "b5500f28",
   "metadata": {},
   "outputs": [
    {
     "name": "stdout",
     "output_type": "stream",
     "text": [
      "every flight that goes to a city leaves from a capital\n",
      "(S\n",
      "  (NP\n",
      "    (DET every)\n",
      "    (NOM\n",
      "      (NOM (N flight))\n",
      "      (S_COMP that (VP (V goes to) (NP (DET a) (NOM (N city)))))))\n",
      "  (VP (V leaves from) (NP (DET a) (NOM (N capital))))) \n",
      "==> True\n"
     ]
    }
   ],
   "source": [
    "test(\"every flight that goes to a city leaves from a capital\")"
   ]
  },
  {
   "cell_type": "markdown",
   "id": "cb11cc58",
   "metadata": {
    "deletable": false,
    "editable": false
   },
   "source": [
    "<!-- BEGIN QUESTION -->\n",
    "\n",
    "# Lab debrief – for consensus submission only\n",
    "\n",
    "**Question:** We're interested in any thoughts your group has about this lab so that we can improve this lab for later years, and to inform later labs for this year. Please list any issues that arose or comments you have to improve the lab. Useful things to comment on might include the following: \n",
    "\n",
    "* Was the lab too long or too short?\n",
    "* Were the readings appropriate for the lab? \n",
    "* Was it clear (at least after you completed the lab) what the points of the exercises were? \n",
    "* Are there additions or changes you think would make the lab better?\n",
    "\n",
    "but you should comment on whatever aspects you found especially positive or negative.\n",
    "\n",
    "<!--\n",
    "BEGIN QUESTION\n",
    "name: open_response_debrief\n",
    "manual: true\n",
    "-->"
   ]
  },
  {
   "cell_type": "markdown",
   "id": "d004d366",
   "metadata": {},
   "source": [
    "_Type your answer here, replacing this text._"
   ]
  },
  {
   "cell_type": "markdown",
   "id": "8324496b",
   "metadata": {},
   "source": [
    "<!-- END QUESTION -->\n",
    "\n",
    "\n",
    "\n",
    "# End of Lab 4-3 {-}"
   ]
  },
  {
   "cell_type": "markdown",
   "id": "a4e986fc",
   "metadata": {
    "deletable": false,
    "editable": false
   },
   "source": [
    "---\n",
    "\n",
    "To double-check your work, the cell below will rerun all of the autograder tests."
   ]
  },
  {
   "cell_type": "code",
   "execution_count": 76,
   "id": "1abd068d",
   "metadata": {
    "deletable": false,
    "editable": false
   },
   "outputs": [
    {
     "data": {
      "text/html": [
       "<p><strong>ambiguity_AE:</strong></p>\n",
       "\n",
       "    \n",
       "    \n",
       "        <p>All tests passed!</p>\n",
       "    \n",
       "    \n",
       "\n",
       "<p><strong>ambiguity_EA:</strong></p>\n",
       "\n",
       "    \n",
       "    \n",
       "        <p>All tests passed!</p>\n",
       "    \n",
       "    \n",
       "\n",
       "<p><strong>complete_derivation:</strong></p>\n",
       "\n",
       "    \n",
       "    \n",
       "        <p>All tests passed!</p>\n",
       "    \n",
       "    \n",
       "\n",
       "<p><strong>grammar_extension:</strong></p>\n",
       "\n",
       "    \n",
       "    \n",
       "        <p>All tests passed!</p>\n",
       "    \n",
       "    \n",
       "\n",
       "<p><strong>two_capital_newyork:</strong></p>\n",
       "\n",
       "    \n",
       "    \n",
       "        <p>All tests passed!</p>\n",
       "    \n",
       "    \n",
       "\n",
       "<p><strong>two_london_capital:</strong></p>\n",
       "\n",
       "    \n",
       "    \n",
       "        <p>All tests passed!</p>\n",
       "    \n",
       "    \n",
       "\n",
       "<p><strong>two_quantifier:</strong></p>\n",
       "\n",
       "    \n",
       "    \n",
       "        <p>All tests passed!</p>\n",
       "    \n",
       "    \n",
       "\n"
      ],
      "text/plain": [
       "ambiguity_AE:\n",
       "\n",
       "    All tests passed!\n",
       "    \n",
       "\n",
       "ambiguity_EA:\n",
       "\n",
       "    All tests passed!\n",
       "    \n",
       "\n",
       "complete_derivation:\n",
       "\n",
       "    All tests passed!\n",
       "    \n",
       "\n",
       "grammar_extension:\n",
       "\n",
       "    All tests passed!\n",
       "    \n",
       "\n",
       "two_capital_newyork:\n",
       "\n",
       "    All tests passed!\n",
       "    \n",
       "\n",
       "two_london_capital:\n",
       "\n",
       "    All tests passed!\n",
       "    \n",
       "\n",
       "two_quantifier:\n",
       "\n",
       "    All tests passed!\n",
       "    \n"
      ]
     },
     "execution_count": 76,
     "metadata": {},
     "output_type": "execute_result"
    }
   ],
   "source": [
    "grader.check_all()"
   ]
  },
  {
   "cell_type": "code",
   "execution_count": null,
   "id": "dd658677",
   "metadata": {},
   "outputs": [],
   "source": []
  }
 ],
 "metadata": {
  "colab": {
   "collapsed_sections": [],
   "name": "lab4-3.ipynb",
   "provenance": []
  },
  "kernelspec": {
   "display_name": "Python 3 (ipykernel)",
   "language": "python",
   "name": "python3"
  },
  "language_info": {
   "codemirror_mode": {
    "name": "ipython",
    "version": 3
   },
   "file_extension": ".py",
   "mimetype": "text/x-python",
   "name": "python",
   "nbconvert_exporter": "python",
   "pygments_lexer": "ipython3",
   "version": "3.8.3"
  },
  "title": "CS187 Lab 4-3: Semantic ambiguity and quantifier scope"
 },
 "nbformat": 4,
 "nbformat_minor": 5
}
