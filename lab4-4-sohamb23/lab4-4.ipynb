{
 "cells": [
  {
   "cell_type": "code",
   "execution_count": 1,
   "id": "ace36d2f",
   "metadata": {
    "deletable": false,
    "editable": false,
    "jupyter": {
     "outputs_hidden": true,
     "source_hidden": true
    }
   },
   "outputs": [
    {
     "name": "stdout",
     "output_type": "stream",
     "text": [
      "\n"
     ]
    }
   ],
   "source": [
    "# Please do not change this cell because some hidden tests might depend on it.\n",
    "import os\n",
    "\n",
    "# Otter grader does not handle ! commands well, so we define and use our\n",
    "# own function to execute shell commands.\n",
    "def shell(commands, warn=True):\n",
    "    \"\"\"Executes the string `commands` as a sequence of shell commands.\n",
    "     \n",
    "       Prints the result to stdout and returns the exit status. \n",
    "       Provides a printed warning on non-zero exit status unless `warn` \n",
    "       flag is unset.\n",
    "    \"\"\"\n",
    "    file = os.popen(commands)\n",
    "    print (file.read().rstrip('\\n'))\n",
    "    exit_status = file.close()\n",
    "    if warn and exit_status != None:\n",
    "        print(f\"Completed with errors. Exit status: {exit_status}\\n\")\n",
    "    return exit_status\n",
    "\n",
    "shell(\"\"\"\n",
    "ls requirements.txt >/dev/null 2>&1\n",
    "if [ ! $? = 0 ]; then\n",
    " rm -rf .tmp\n",
    " git clone https://github.com/cs187-2021/lab4-4.git .tmp\n",
    " mv .tmp/tests ./\n",
    " mv .tmp/requirements.txt ./\n",
    " rm -rf .tmp\n",
    "fi\n",
    "pip install -q -r requirements.txt\n",
    "\"\"\")"
   ]
  },
  {
   "cell_type": "code",
   "execution_count": 2,
   "id": "bb67e40b",
   "metadata": {
    "deletable": false,
    "editable": false
   },
   "outputs": [],
   "source": [
    "# Initialize Otter\n",
    "import otter\n",
    "grader = otter.Notebook()"
   ]
  },
  {
   "cell_type": "raw",
   "id": "39bbb02c",
   "metadata": {
    "jupyter": {
     "source_hidden": true
    }
   },
   "source": [
    "%%latex\n",
    "\\newcommand{\\vect}[1]{\\mathbf{#1}}\n",
    "\\newcommand{\\cnt}[1]{\\sharp(#1)}\n",
    "\\newcommand{\\argmax}[1]{\\underset{#1}{\\operatorname{argmax}}}\n",
    "\\newcommand{\\softmax}{\\operatorname{softmax}}\n",
    "\\newcommand{\\Prob}{\\Pr}\n",
    "\\newcommand{\\given}{\\,|\\,}"
   ]
  },
  {
   "cell_type": "markdown",
   "id": "c8dd3185",
   "metadata": {
    "jupyter": {
     "source_hidden": true
    }
   },
   "source": [
    "$$\n",
    "\\renewcommand{\\vect}[1]{\\mathbf{#1}}\n",
    "\\renewcommand{\\cnt}[1]{\\sharp(#1)}\n",
    "\\renewcommand{\\argmax}[1]{\\underset{#1}{\\operatorname{argmax}}}\n",
    "\\renewcommand{\\softmax}{\\operatorname{softmax}}\n",
    "\\renewcommand{\\Prob}{\\Pr}\n",
    "\\renewcommand{\\given}{\\,|\\,}\n",
    "$$"
   ]
  },
  {
   "cell_type": "markdown",
   "id": "2636e77e",
   "metadata": {
    "tags": [
     "remove_for_latex"
    ]
   },
   "source": [
    "# CS187\n",
    "## Lab 4-4 - Sequence-to-sequence models"
   ]
  },
  {
   "cell_type": "markdown",
   "id": "01b395a0",
   "metadata": {},
   "source": [
    "In lab 4-2, we used a syntactic-semantic grammar for semantic parsing to convert natural language to meaning representations in SQL. In this lab, we consider an alternative approach, sequence-to-sequence models, which can solve this task by directly learning the mapping from a sequence of inputs to a sequence of outputs. Since sequence-to-sequence models make few assumptions about the data, they can be applied to a variety of tasks, including machine translation, document summarization, and speech recognition. \n",
    "\n",
    "In this lab, we will implement a sequence-to-sequence model in its most basic form (as in [this seminal paper](https://arxiv.org/pdf/1409.3215.pdf)), and apply it to the task of converting English number phrases to numbers, as exemplified in the table below.\n",
    "\n",
    "|                 Input                                            |       Output         |\n",
    "|:-----------------------------------------------------------------|---------------------:|\n",
    "| seven thousand nine hundred and twenty nine                      |       7929           |\n",
    "| eight hundred and forty two thousand two hundred and fifty nine  |       842259         |\n",
    "| five hundred and eight thousand two hundred and seventeen        |       508217         |\n",
    "\n",
    "For this simple task, it is possible to write a rule-based program to do the conversion. However, here we take a learning-based approach and learn the mapping from demonstrations, with the benefit that the system we implement here can be applied to other sequence-to-sequence tasks as well (including the ATIS-to-SQL problem in project segment 4)."
   ]
  },
  {
   "cell_type": "markdown",
   "id": "baf76190",
   "metadata": {},
   "source": [
    "New bits of Pytorch used in this lab, and which you may find useful include:\n",
    "\n",
    "* [torch.transpose](https://pytorch.org/docs/stable/generated/torch.transpose.html): Swaps two dimensions of a tensor.\n",
    "* [torch.reshape](https://pytorch.org/docs/stable/generated/torch.reshape.html): Redistributes the elements of a tensor to form a tensor of a different shape, e.g., from 3 x 4 to 6 x 2.\n",
    "* [torch.nn.utils.rnn.pack_padded_sequence](https://pytorch.org/docs/stable/generated/torch.nn.utils.rnn.pack_padded_sequence.html) (imported as `pack`): Handles paddings. A more detailed explanation can be found [here](https://stackoverflow.com/a/56211056)."
   ]
  },
  {
   "cell_type": "markdown",
   "id": "0d898eb5",
   "metadata": {},
   "source": [
    "## Preparation - Loading data {-}"
   ]
  },
  {
   "cell_type": "code",
   "execution_count": 3,
   "id": "0f1dda1e",
   "metadata": {
    "colab": {
     "base_uri": "https://localhost:8080/"
    },
    "deletable": false,
    "id": "7sKtR56-HajG",
    "outputId": "8f115463-5cca-4be4-aa89-51426d497c7b"
   },
   "outputs": [],
   "source": [
    "import copy\n",
    "import math\n",
    "import os\n",
    "import wget\n",
    "\n",
    "import torch\n",
    "import torch.nn as nn\n",
    "import torchtext.legacy as tt\n",
    "\n",
    "from tqdm import tqdm\n",
    "\n",
    "from torch.nn.utils.rnn import pack_padded_sequence as pack"
   ]
  },
  {
   "cell_type": "code",
   "execution_count": 4,
   "id": "0b74c57a",
   "metadata": {
    "colab": {
     "base_uri": "https://localhost:8080/"
    },
    "id": "7sKtR56-HajG",
    "outputId": "8f115463-5cca-4be4-aa89-51426d497c7b"
   },
   "outputs": [
    {
     "name": "stdout",
     "output_type": "stream",
     "text": [
      "cpu\n"
     ]
    }
   ],
   "source": [
    "# GPU check, make sure to use GPU where available\n",
    "device = torch.device(\"cuda\" if torch.cuda.is_available() else \"cpu\")\n",
    "print (device)"
   ]
  },
  {
   "cell_type": "code",
   "execution_count": 5,
   "id": "1c103a14",
   "metadata": {},
   "outputs": [
    {
     "name": "stdout",
     "output_type": "stream",
     "text": [
      "100% [................................................................................] 9800 / 9800"
     ]
    }
   ],
   "source": [
    "# Download data\n",
    "local_dir = \"data/\"\n",
    "remote_dir = \"https://github.com/nlp-course/data/raw/master/Words2Num/\"\n",
    "os.makedirs(local_dir, exist_ok=True)\n",
    "\n",
    "for filename in [\n",
    "    \"train.src\",\n",
    "    \"train.tgt\",\n",
    "    \"dev.src\",\n",
    "    \"dev.tgt\",\n",
    "    \"test.src\",\n",
    "    \"test.tgt\",\n",
    "]:\n",
    "    wget.download(remote_dir + filename, out=local_dir)"
   ]
  },
  {
   "cell_type": "markdown",
   "id": "f8926fdd",
   "metadata": {},
   "source": [
    "# The dataset\n",
    "\n",
    "Let's take a first look at the dataset of English number phrases and their translations into digit-sequence form."
   ]
  },
  {
   "cell_type": "code",
   "execution_count": 6,
   "id": "c4c8d447",
   "metadata": {},
   "outputs": [
    {
     "name": "stdout",
     "output_type": "stream",
     "text": [
      "Source                                                                       Target\n",
      "seven thousand nine hundred and twenty nine                                 7 9 2 9\n",
      "eight hundred and forty two thousand two hundred and fifty nine         8 4 2 2 5 9\n",
      "five hundred and eight thousand two hundred and seventeen               5 0 8 2 1 7\n"
     ]
    }
   ],
   "source": [
    "with open(local_dir + \"dev.src\") as fsrc:\n",
    "    with open(local_dir + \"dev.tgt\") as ftgt:\n",
    "        print (f'{\"Source\":70s} {\"Target\":>12s}')\n",
    "        for src, tgt, _ in zip(fsrc, ftgt, range(3)):\n",
    "            print (f'{src.strip():70s} {tgt.strip():>12s}')"
   ]
  },
  {
   "cell_type": "markdown",
   "id": "7ed594bf",
   "metadata": {},
   "source": [
    "As before, we use `torchtext` to load data. We use two fields: `SRC` for processing the source side (the English number phrases) and `TGT` for processing the target side (the digit sequences)."
   ]
  },
  {
   "cell_type": "code",
   "execution_count": 7,
   "id": "a5aa0f2d",
   "metadata": {},
   "outputs": [],
   "source": [
    "SRC = tt.data.Field(include_lengths=True,         # include lengths\n",
    "                    batch_first=False,            # batches will be max_len x batch_size\n",
    "                    tokenize=lambda x: x.split(), # use split to tokenize\n",
    "                   ) \n",
    "TGT = tt.data.Field(include_lengths=False,\n",
    "                    batch_first=False,            # batches will be max_len x batch_size\n",
    "                    tokenize=lambda x: x.split(), # use split to tokenize\n",
    "                    init_token=\"<bos>\",           # prepend <bos>\n",
    "                    eos_token=\"<eos>\")            # append <eos>\n",
    "fields = [('src', SRC), ('tgt', TGT)]"
   ]
  },
  {
   "cell_type": "markdown",
   "id": "a5524b9a",
   "metadata": {},
   "source": [
    "Note that we prepended `<bos>` and appended `<eos>` to target sentences. The purpose for introducing them will become clear in later parts of this lab."
   ]
  },
  {
   "cell_type": "code",
   "execution_count": 8,
   "id": "b17b0bde",
   "metadata": {
    "colab": {
     "base_uri": "https://localhost:8080/"
    },
    "id": "xtn-qvjYrk_X",
    "outputId": "9251681e-6b82-4e7f-f115-b8777d1ea57b"
   },
   "outputs": [
    {
     "name": "stdout",
     "output_type": "stream",
     "text": [
      "Size of src vocab: 34\n",
      "Size of tgt vocab: 14\n",
      "Index for src padding: 1\n",
      "Index for tgt padding: 1\n",
      "Index for start of sequence token: 2\n",
      "Index for end of sequence token: 3\n"
     ]
    }
   ],
   "source": [
    "# Make splits for data\n",
    "train_data, val_data, test_data = tt.datasets.TranslationDataset.splits(\n",
    "    (\".src\", \".tgt\"),\n",
    "    fields,\n",
    "    path=local_dir,\n",
    "    train=\"train\",\n",
    "    validation=\"dev\",\n",
    "    test=\"test\",\n",
    ")\n",
    "\n",
    "# Build vocabulary\n",
    "SRC.build_vocab(train_data.src)\n",
    "TGT.build_vocab(train_data.tgt)\n",
    "\n",
    "print(f\"Size of src vocab: {len(SRC.vocab)}\")\n",
    "print(f\"Size of tgt vocab: {len(TGT.vocab)}\")\n",
    "print(f\"Index for src padding: {SRC.vocab.stoi[SRC.pad_token]}\")\n",
    "print(f\"Index for tgt padding: {TGT.vocab.stoi[TGT.pad_token]}\")\n",
    "print(f\"Index for start of sequence token: {TGT.vocab.stoi[TGT.init_token]}\")\n",
    "print(f\"Index for end of sequence token: {TGT.vocab.stoi[TGT.eos_token]}\")"
   ]
  },
  {
   "cell_type": "markdown",
   "id": "ec5223ba",
   "metadata": {},
   "source": [
    "We batch training and validation data into minibatches, but for the test set, we use a batch size of 1, to make the decoding implementation easier."
   ]
  },
  {
   "cell_type": "code",
   "execution_count": 9,
   "id": "96dbc80e",
   "metadata": {
    "id": "pLATojtUroS7"
   },
   "outputs": [],
   "source": [
    "BATCH_SIZE = 32     # batch size for training and validation\n",
    "TEST_BATCH_SIZE = 1 # batch size for test; we use 1 to make implementation easier\n",
    "\n",
    "train_iter, val_iter = tt.data.BucketIterator.splits((train_data, val_data),\n",
    "                                                     batch_size=BATCH_SIZE, \n",
    "                                                     device=device,\n",
    "                                                     repeat=False, \n",
    "                                                     sort_key=lambda x: len(x.src), # sort by length to minimize padding\n",
    "                                                     sort_within_batch=True)\n",
    "test_iter = tt.data.BucketIterator(test_data, \n",
    "                                   batch_size=TEST_BATCH_SIZE, \n",
    "                                   device=device,\n",
    "                                   repeat=False, \n",
    "                                   sort=False, \n",
    "                                   train=False)"
   ]
  },
  {
   "cell_type": "markdown",
   "id": "440caa3a",
   "metadata": {},
   "source": [
    "Let's take a look at a batch from these iterators."
   ]
  },
  {
   "cell_type": "code",
   "execution_count": 10,
   "id": "1426eccd",
   "metadata": {
    "colab": {
     "base_uri": "https://localhost:8080/"
    },
    "id": "ZHaSMyjyrpVO",
    "outputId": "17adfc50-c0de-43e1-bbe4-1cbae074da64"
   },
   "outputs": [
    {
     "name": "stdout",
     "output_type": "stream",
     "text": [
      "Size of src batch: torch.Size([6, 32])\n",
      "Third src sentence in batch: tensor([12,  4,  9,  3,  2, 15])\n",
      "Length of the third src sentence in batch: 6\n",
      "Converted back to string: one thousand three hundred and thirty\n",
      "Size of tgt batch: torch.Size([7, 32])\n",
      "Third tgt sentence in batch: tensor([ 2, 12,  4,  4, 13,  3,  1])\n",
      "Converted back to string: <bos> 1 3 3 0 <eos> <pad>\n"
     ]
    }
   ],
   "source": [
    "batch = next(iter(train_iter))\n",
    "src, src_lengths = batch.src\n",
    "print (f\"Size of src batch: {src.shape}\")\n",
    "print (f\"Third src sentence in batch: {src[:, 2]}\")\n",
    "print (f\"Length of the third src sentence in batch: {src_lengths[2]}\")\n",
    "print (f\"Converted back to string: {' '.join([SRC.vocab.itos[i] for i in src[:, 2]])}\")\n",
    "\n",
    "tgt = batch.tgt\n",
    "print (f\"Size of tgt batch: {tgt.shape}\")\n",
    "print (f\"Third tgt sentence in batch: {tgt[:, 2]}\")\n",
    "print (f\"Converted back to string: {' '.join([TGT.vocab.itos[i] for i in tgt[:, 2]])}\")"
   ]
  },
  {
   "cell_type": "markdown",
   "id": "5ac2618b",
   "metadata": {},
   "source": [
    "# Neural Encoder-Decoder Models"
   ]
  },
  {
   "cell_type": "markdown",
   "id": "d0cb74b0",
   "metadata": {},
   "source": [
    "Sequence-to-sequence models are sometimes called neural encoder-decoder models, as they consist of an encoder, which maps a sequence of source tokens into some vector representations, and a decoder, which generates a sequence of output words from those encoded vectors.\n",
    "\n",
    "Formally, given a sequence of source tokens $\\vect{x} = x_1, \\ldots, x_S$, the goal is to map it to a sequence of target tokens $\\vect{y} = y_1, \\ldots, y_T$. \n",
    "\n",
    "In practice, we prepend a special beginning-of-sequence symbol $y_0$=`<bos>` to the target sequence. Further, in order to provide a way of knowing when to stop generating $\\vect{y}$, we append a special end-of-sequence symbol $y_{T+1}$=`<eos>` to the target sequence, such that when it is produced by the model, the generation process stops.\n",
    "\n",
    "The generation process is structured as a generative model:\n",
    "\n",
    "$$\n",
    "\\Pr(y_0, \\ldots, y_{T+1} \\mid x_1, \\ldots, x_S) = \\prod_{t=1}^{T+1} \\Pr(y_t \\mid y_{<t}, x_1, \\ldots, x_S),\n",
    "$$\n",
    "\n",
    "where $y_{<t}$ denotes the tokens before $y_t$ (that is, $y_0, \\ldots, y_{t-1}$).\n",
    "\n",
    "We use a recurrent neural network with parameters $\\theta$ to parameterize $\\Pr(y_t \\mid y_{<t}, x_1, \\ldots, x_S)$:\n",
    "\n",
    "$$\n",
    "\\Pr(y_t \\mid y_{<t}, x_1, \\ldots, x_S) \\approx {\\Pr}_\\theta(y_t \\mid y_{<t}, x_1, \\ldots, x_S),\n",
    "$$\n",
    "\n",
    "or equivalently,\n",
    "\n",
    "$$\n",
    "{\\Pr}_\\theta(y_1, \\ldots, y_T \\mid x_1, \\ldots, x_S) = \\prod_{t=1}^{T+1} {\\Pr}_\\theta(y_t \\mid y_{<t}, x_1, \\ldots, x_S)\n",
    "$$\n",
    "\n",
    "In neural encoder-decoder models, we first use an encoder to encode $\\vect{x}$ into some vectors (either of fixed length as we'll see in this lab, or of varying length as we'll see in the next lab). Based on the encoded vectors, we use a decoder to generate $\\vect{y}$:\n",
    "\n",
    "$$\n",
    "{\\Pr}_\\theta(y_t \\mid y_{<t}, x_1, \\ldots, x_S) = \\text{decode}(\\text{encode}(x_1, \\ldots, x_S), y_{<t})\n",
    "$$"
   ]
  },
  {
   "cell_type": "markdown",
   "id": "2e0fce1e",
   "metadata": {},
   "source": [
    "### RNN Encoder-Decoders"
   ]
  },
  {
   "cell_type": "markdown",
   "id": "003b8045",
   "metadata": {
    "deletable": false,
    "editable": false
   },
   "source": [
    "We can use any recurrent neural networks such as LSTMs as encoders and decoders. In this lab, we will use a bidirectional LSTM as the encoder, and a unidirectional LSTM as the decoder, as shown in the illustration below.\n",
    "\n",
    "<img src=\"https://github.com/nlp-course/data/raw/master/img/encoder_decoder.png\" alt=\"encoder-decoder illustration\" />\n",
    "\n",
    "In the above illustration, $S=4$, $T=3$, and there are two encoder/decoder layers. Since we are using a bidirectional encoder, for each layer there are two final states, one for the cell running from left to right (such as $h_{0,4}$), and the other for the cell running from right to left (such as $h_{0,4}'$). We concatenate these two states and use the result to initialize the corresponding layer of the decoder. (In the example, we concatenate $h_{0,4}$ and $h_{0,4}'$ to initialize layer 0, and we concatenate $h_{1,4}$ and $h_{1,4}'$ to initialize layer 1.) Therefore, to make the sizes match, we set the hidden state size of the encoder to be half of that of the decoder.\n",
    "\n",
    "Note that in PyTorch's LSTM implementation, the final hidden state is represented as a tuple `(h, c)` ([documentation here](https://pytorch.org/docs/stable/generated/torch.nn.LSTM.html)), so we want to apply the same operations to `c` to initialize the decoder.\n",
    "\n",
    "You'll implement `forward_encoder` and `forward_decoder` in the code below. The `forward_encoder` function will be reminiscent of a sequence model from labs 2-* and project segment 2. It operates on a batch of source examples and proceeds as follows:\n",
    "\n",
    "1. Map the input words to some word embeddings. You'll notice that the embedding size is an argument to the model.\n",
    "\n",
    "2. Optionally \"pack\" the sequences to save some computation using `torch.nn.utils.rnn.pack_padded_sequence`, imported above as `pack`.\n",
    "\n",
    "3. Run the encoder RNN (a bidirectional LSTM) over the batch, generating a batch of output states.\n",
    "\n",
    "4. Reshape the final state information (which will have `h` and `c` components each of half the size needed to initialize the decoder) so that it is appropriate to initialize the decoder with.\n",
    "\n",
    "The `forward_decoder` function takes the reshaped encoder final state information and the ground truth target sequences and returns logits (unnormalized log probs) for each target word. (These are ready to be converted to probability distributions via a softmax.)\n",
    "\n",
    "The steps in decoding are:\n",
    "\n",
    "1. Map the target words to word embeddings.\n",
    "\n",
    "2. Run the decoder RNN (a unidirectional LSTM) over the batch, initializing the hidden units from the encoder final states, generating a batch of output states.\n",
    "\n",
    "3. Map the RNN outputs to vectors of vocabulary size (so that they could be softmaxed into a distribution over the vocabulary).\n",
    "\n",
    "The components that you'll be plugging together to do all this are already established in the `__init__` method. \n",
    "\n",
    "> The major exception is the reshaping of the encoder output `h` and `c` to form the decoder input `h` and `c`. **This is the trickiest part.** As usual, your best strategy is to keep careful track of the shapes of each input and output of a layer or operation. We recommend that you try out just the reshaping code on small sample data to test it out before running any encodings or decodings.\n",
    "\n",
    "**Hint:** The total number of `for` loops in our solution code for the parts you are to write is...zero.\n",
    "\n",
    "<!--\n",
    "BEGIN QUESTION\n",
    "name: encoder_decoder\n",
    "-->"
   ]
  },
  {
   "cell_type": "code",
   "execution_count": null,
   "id": "abeb1a6e",
   "metadata": {},
   "outputs": [],
   "source": [
    "# TODO - finish implementing the `forward_encoder` and `forward_decoder` methods\n",
    "class EncoderDecoder(nn.Module):\n",
    "    def __init__(self, src_field, tgt_field, embedding_size=64, hidden_size=64, layers=3):\n",
    "        \"\"\"\n",
    "        Initializer. Creates network modules and loss function.\n",
    "        Arguments:\n",
    "            src_field: src field\n",
    "            tgt_field: tgt field\n",
    "            embedding_size: word embedding size\n",
    "            hidden_size: hidden layer size of both encoder and decoder\n",
    "            layers: number of layers of both encoder and decoder\n",
    "        \"\"\"\n",
    "        super(EncoderDecoder, self).__init__()\n",
    "        self.src_field = src_field\n",
    "        self.tgt_field = tgt_field\n",
    "\n",
    "        # Keep the vocabulary sizes available\n",
    "        self.V_src = len(src_field.vocab.itos)\n",
    "        self.V_tgt = len(tgt_field.vocab.itos)\n",
    "\n",
    "        # Get special word ids or tokens\n",
    "        self.padding_id_src = src_field.vocab.stoi[src_field.pad_token]\n",
    "        self.padding_id_tgt = tgt_field.vocab.stoi[tgt_field.pad_token]\n",
    "        self.bos_id = tgt_field.vocab.stoi[tgt_field.init_token]\n",
    "        self.eos_id = tgt_field.vocab.stoi[tgt_field.eos_token]\n",
    "\n",
    "        # Keep hyper-parameters available\n",
    "        self.embedding_size = embedding_size\n",
    "        self.hidden_size = hidden_size\n",
    "        self.layers = layers\n",
    "\n",
    "        # Create essential modules\n",
    "        self.word_embeddings_src = nn.Embedding(self.V_src, embedding_size)\n",
    "        self.word_embeddings_tgt = nn.Embedding(self.V_tgt, embedding_size)\n",
    "\n",
    "        # RNN cells\n",
    "        self.encoder_rnn = nn.LSTM(\n",
    "            input_size=embedding_size,\n",
    "            hidden_size=hidden_size // 2,  # to match decoder hidden size\n",
    "            num_layers=layers,\n",
    "            bidirectional=True,  # bidirectional encoder\n",
    "        )\n",
    "        self.decoder_rnn = nn.LSTM(\n",
    "            input_size=embedding_size,\n",
    "            hidden_size=hidden_size,\n",
    "            num_layers=layers,\n",
    "            bidirectional=False,  # unidirectional decoder\n",
    "        )\n",
    "\n",
    "        # Final projection layer\n",
    "        self.hidden2output = nn.Linear(hidden_size, self.V_tgt)\n",
    "\n",
    "        # Create loss function\n",
    "        self.loss_function = nn.CrossEntropyLoss(\n",
    "            reduction=\"sum\", ignore_index=self.padding_id_tgt\n",
    "        )\n",
    "\n",
    "    def forward_encoder(self, src, src_lengths):\n",
    "        \"\"\"\n",
    "        Encodes source words `src`.\n",
    "        Arguments:\n",
    "            src: src batch of size (max_src_len, batch_size)\n",
    "            src_lengths: src lengths of size (batch_size)\n",
    "        Returns:\n",
    "            a tuple (h, c) where h/c is of size (layers, bsz, hidden_size)\n",
    "        \"\"\"\n",
    "        # TODO - implement this function\n",
    "        # Optional: use `pack` to deal with paddings (https://discuss.pytorch.org/t/simple-working-example-how-to-use-packing-for-variable-length-sequence-inputs-for-rnn/2120)\n",
    "        embeddings = self.word_embeddings_src(src)\n",
    "        packed = pack(src, src_lengths)\n",
    "        output = self.encoder_rnn(embeddings, None)[0]\n",
    "        return self.hidden2output(output)\n",
    "        ...\n",
    "\n",
    "    def forward_decoder(self, encoder_final_state, tgt_in):\n",
    "        \"\"\"\n",
    "        Decodes based on encoder final state and ground truth target words.\n",
    "        Arguments:\n",
    "            encoder_final_state: a tuple (h, c) where h/c is of size (layers, bsz, hidden_size)\n",
    "            tgt_in: a tensor of size (tgt_len, bsz)\n",
    "        Returns:\n",
    "            Logits of size (tgt_len, bsz, V_tgt) (before the softmax operation)\n",
    "        \"\"\"\n",
    "        # TODO - implement this function\n",
    "        ...\n",
    "        ...\n",
    "\n",
    "    def forward(self, src, src_lengths, tgt_in):\n",
    "        \"\"\"\n",
    "        Performs forward computation, returns logits.\n",
    "        Arguments:\n",
    "            src: src batch of size (max_src_len, batch_size)\n",
    "            src_lengths: src lengths of size (batch_size)\n",
    "            tgt_in:  a tensor of size (tgt_len, bsz)\n",
    "        \"\"\"\n",
    "        # Forward encoder\n",
    "        encoder_final_state = self.forward_encoder(src, src_lengths)  # tuple (h, c)\n",
    "        # Forward decoder\n",
    "        logits = self.forward_decoder(encoder_final_state, tgt_in)\n",
    "        return logits\n",
    "\n",
    "    def forward_decoder_incrementally(self, decoder_state, tgt_in_token):\n",
    "        \"\"\"\n",
    "        Forward the decoder at `decoder_state` for a single step with token `tgt_in_token`.\n",
    "        This function will only be used in the beam search section.\n",
    "        Arguments:\n",
    "            encoder_final_state: a tuple (h, c) where h/c is of size (layers, 1, hidden_size)\n",
    "            tgt_in_token: a tensor of size (1), a single token\n",
    "        Returns:\n",
    "            `logits`: Log probabilities for `tgt_in_token` of size (V_tgt)\n",
    "            `decoder_state`: updated decoder state, ready for next incremental update\n",
    "        \"\"\"\n",
    "        bsz = decoder_state[0].size(1)\n",
    "        assert bsz == 1, \"forward_decoder_incrementally only supports batch size 1!\"\n",
    "        # Compute word embeddings\n",
    "        tgt_embeddings = self.word_embeddings_tgt(\n",
    "            tgt_in_token.view(1, 1)\n",
    "        )  # tgt_len, bsz, hidden\n",
    "        # Forward decoder RNN and return all hidden states\n",
    "        decoder_outs, decoder_state = self.decoder_rnn(tgt_embeddings, decoder_state)\n",
    "        # Project to get logits\n",
    "        logits = self.hidden2output(decoder_outs)  # tgt_len, bsz, V_tgt\n",
    "        # Get log probabilities\n",
    "        logits = torch.log_softmax(logits, -1)\n",
    "        return logits.view(-1), decoder_state\n",
    "\n",
    "    def evaluate_ppl(self, iterator):\n",
    "        \"\"\"Returns the model's perplexity on a given dataset `iterator`.\"\"\"\n",
    "        # Switch to eval mode\n",
    "        self.eval()\n",
    "        total_loss = 0\n",
    "        total_words = 0\n",
    "        for batch in iterator:\n",
    "            # Input and target\n",
    "            src, src_lengths = batch.src\n",
    "            tgt = batch.tgt  # max_length_sql, bsz\n",
    "            tgt_in = tgt[:-1]  # remove <eos> for decode input (y_0=<bos>, y_1, y_2)\n",
    "            tgt_out = tgt[1:]  # remove <bos> as target        (y_1, y_2, y_3=<eos>)\n",
    "            # Forward to get logits\n",
    "            logits = self.forward(src, src_lengths, tgt_in)\n",
    "            # Compute cross entropy loss\n",
    "            loss = self.loss_function(logits.view(-1, self.V_tgt), tgt_out.view(-1))\n",
    "            total_loss += loss.item()\n",
    "            total_words += tgt_out.ne(self.padding_id_tgt).float().sum().item()\n",
    "        return math.exp(total_loss / total_words)\n",
    "\n",
    "    def train_all(self, train_iter, val_iter, epochs=10, learning_rate=0.001):\n",
    "        \"\"\"Train the model.\"\"\"\n",
    "        # Switch the module to training mode\n",
    "        self.train()\n",
    "        # Use Adam to optimize the parameters\n",
    "        optim = torch.optim.Adam(self.parameters(), lr=learning_rate)\n",
    "        best_validation_ppl = float(\"inf\")\n",
    "        best_model = None\n",
    "        # Run the optimization for multiple epochs\n",
    "        for epoch in range(epochs):\n",
    "            total_words = 0\n",
    "            total_loss = 0.0\n",
    "            for batch in tqdm(train_iter):\n",
    "                # Zero the parameter gradients\n",
    "                self.zero_grad()\n",
    "                # Input and target\n",
    "                src, src_lengths = batch.src  # text: max_src_length, bsz\n",
    "                tgt = batch.tgt  # max_tgt_length, bsz\n",
    "                tgt_in = tgt[:-1]  # Remove <eos> for decode input (y_0=<bos>, y_1, y_2)\n",
    "                tgt_out = tgt[1:]  # Remove <bos> as target        (y_1, y_2, y_3=<eos>)\n",
    "                batch_size = tgt.size(1)\n",
    "                # Run forward pass and compute loss along the way.\n",
    "                logits = self.forward(src, src_lengths, tgt_in)\n",
    "                loss = self.loss_function(logits.view(-1, self.V_tgt), tgt_out.view(-1))\n",
    "                # Training stats\n",
    "                num_tgt_words = tgt_out.ne(self.padding_id_tgt).float().sum().item()\n",
    "                total_words += num_tgt_words\n",
    "                total_loss += loss.item()\n",
    "                # Perform backpropagation\n",
    "                loss.div(batch_size).backward()\n",
    "                optim.step()\n",
    "\n",
    "            # Evaluate and track improvements on the validation dataset\n",
    "            validation_ppl = self.evaluate_ppl(val_iter)\n",
    "            self.train()\n",
    "            if validation_ppl < best_validation_ppl:\n",
    "                best_validation_ppl = validation_ppl\n",
    "                self.best_model = copy.deepcopy(self.state_dict())\n",
    "            epoch_loss = total_loss / total_words\n",
    "            print(f\"Epoch: {epoch} Training Perplexity: {math.exp(epoch_loss):.4f} \"\n",
    "                  f\"Validation Perplexity: {validation_ppl:.4f}\")"
   ]
  },
  {
   "cell_type": "code",
   "execution_count": null,
   "id": "34556a5f",
   "metadata": {},
   "outputs": [],
   "source": [
    "EPOCHS = 2  # epochs, we highly recommend starting with a smaller number like 1\n",
    "LEARNING_RATE = 2e-3  # learning rate\n",
    "\n",
    "# Instantiate and train classifier\n",
    "model = EncoderDecoder(\n",
    "    SRC,\n",
    "    TGT,\n",
    "    embedding_size=64,\n",
    "    hidden_size=64,\n",
    "    layers=3,\n",
    ").to(device)\n",
    "\n",
    "model.train_all(train_iter, val_iter, epochs=EPOCHS, learning_rate=LEARNING_RATE)\n",
    "model.load_state_dict(model.best_model)"
   ]
  },
  {
   "cell_type": "markdown",
   "id": "e119d5f9",
   "metadata": {},
   "source": [
    "Since the task we consider here is very simple, we should expect a perplexity very close to 1."
   ]
  },
  {
   "cell_type": "code",
   "execution_count": null,
   "id": "69bde15f",
   "metadata": {},
   "outputs": [],
   "source": [
    "# Evaluate model performance\n",
    "print (f'Test perplexity: {model.evaluate_ppl(test_iter):.3f}')"
   ]
  },
  {
   "cell_type": "code",
   "execution_count": null,
   "id": "7eb85bba",
   "metadata": {
    "deletable": false,
    "editable": false
   },
   "outputs": [],
   "source": [
    "grader.check(\"encoder_decoder_ppl\")"
   ]
  },
  {
   "cell_type": "markdown",
   "id": "85138f2c",
   "metadata": {
    "deletable": false,
    "editable": false
   },
   "source": [
    "<!-- BEGIN QUESTION -->\n",
    "\n",
    "# Consensus section – Decoding\n",
    "\n",
    "> This section is a bit more complex, and needs only to be submitted for the consensus submission.\n",
    "\n",
    "Now that we have a well-trained model, we need to consider how to use it to do the actual conversion. At decoding time, given a source sequence $x_1, \\ldots, x_S$, we want to find the target sequence $y_1^*, \\ldots, y_T^*, y_{T+1}^*$ (recall that $y _{T+1} = \\langle\\text{eos}\\rangle$) such that the conditional likelihood is maximized:\n",
    "\n",
    "\\begin{align*}\n",
    "y_1^*, \\ldots, y_T^*, y_{T+1}^* &= \\argmax{y_1, \\ldots, y_T, y_{T+1}} {\\Pr}_\\theta(y_1, \\ldots, y_T \\mid x_1, \\ldots, x_S)\\\\\n",
    "&= \\argmax{y_1, \\ldots, y_T, y_{T+1}} \\prod_{t=1}^{T+1} {\\Pr}_\\theta(y_t \\mid y_{<t}, x_1, \\ldots, x_S)\\\\\n",
    "\\end{align*}\n",
    "\n",
    "In previous labs and project segments, we used _greedy decoding_, i.e., taking $\\hat{y}_1= \\argmax{y_1} {\\Pr}_\\theta(y_1 \\mid y_{0}, x_1, \\ldots, x_S)$, $\\hat{y}_2= \\argmax{y_2} {\\Pr}_\\theta(y_2 \\mid y_{0}, \\hat{y}_1, x_1, \\ldots, x_S)$, ..., $\\hat{y}_{T+1}= \\argmax{y_{T+1}} {\\Pr}_\\theta(y_{T+1} \\mid y_{0}, \\hat{y}_1, \\ldots, \\hat{y}_{T}, x_1, \\ldots, x_S)$, until $\\hat{y}_{T+1}=\\langle\\text{eos}\\rangle$. \n",
    "\n",
    "**Question:**  Does greedy decoding guarantee finding the optimal sequence (the sequence with the highest conditional likelihood)? Why or why not?\n",
    "\n",
    "<!--\n",
    "BEGIN QUESTION\n",
    "name: open_response_decoding\n",
    "manual: true\n",
    "-->"
   ]
  },
  {
   "cell_type": "markdown",
   "id": "61481519",
   "metadata": {},
   "source": [
    "_Type your answer here, replacing this text._"
   ]
  },
  {
   "cell_type": "markdown",
   "id": "640977c7",
   "metadata": {
    "deletable": false,
    "editable": false
   },
   "source": [
    "<!-- END QUESTION -->\n",
    "\n",
    "<!-- BEGIN QUESTION -->\n",
    "\n",
    "## Beam search decoding\n",
    "\n",
    "Beam search decoding is the most commonly used decoding method in sequence-to-sequence approaches. Like greedy decoding, it uses a left-to-right search process. But instead of only keeping the single argmax at each position, beam search maintains the $K$ best partial hypotheses $H_t = \\{(y_1^{(k)}, \\ldots, y_t^{(k)}): k\\in\\{1, \\ldots, K\\}\\}$ at every step $t$. To proceed to $t+1$, we compute the scores of sequences  $y_1^{(k)}, \\ldots, y_t^{(k)}, y_{t+1}$ for every possible extension $y_{t+1}\\in \\mathcal{V}$ and every possible prefix $(y_1^{(k)}, \\ldots, y_t^{(k)}) \\in H_t$, where $\\mathcal{V}$ is the vocabulary. Among these $K\\times |\\mathcal{V}|$ sequences, we only keep the top $K$ sequences with the best partial scores, and that becomes $H_{t+1} = \\{(y_1^{(k)}, \\ldots, y_{t+1}^{(k)}): k\\in\\{1, \\ldots, K\\}\\}$. To start at $t=1$, $H_1 = \\{(y): y \\in \\text{K-argmax}_{y_1\\in\\mathcal{V}} \\log P(y_1|y_0=bos) \\}$. Here $K$ is called the beam size.\n",
    "\n",
    "To summarize,\n",
    "\n",
    "\\begin{align*}\n",
    "H_1 &= \\{(y): y \\in \\operatorname*{K-argmax}_{y_1\\in\\mathcal{V}} \\log P(y_1|y_0=bos) \\}\\\\\n",
    "H_{t+1} &= \\operatorname*{K-argmax}\\limits_{\\{(y_1, y_2, \\ldots, y_{t+1})\\in \\mathcal{V}^{t+1}: (y_1, \\ldots, y_t) \\in H_t \\}} \\log P(y_1, \\ldots, y_{t+1} | x)\n",
    "\\end{align*}\n",
    "\n",
    "until we reach a pre-specified maximum search length, and we collect the completed hypotheses along the way. (By completed we mean ending with `<eos>`.) The finished hypothesis with the best score will then be returned.\n",
    "\n",
    "**Question:** Is beam search better than greedy search when $K=1$? Is it better when $K>1$? Why? How big a $K$ value do we need to get a guarantee that we can find the globally best sequence (assuming a maximum sequence length $T$ and vocabulary size $|\\mathcal{V}|$).\n",
    "\n",
    "<!--\n",
    "BEGIN QUESTION\n",
    "name: open_response_beam_search_greedy\n",
    "manual: true\n",
    "-->"
   ]
  },
  {
   "cell_type": "markdown",
   "id": "98fe40e4",
   "metadata": {},
   "source": [
    "_Type your answer here, replacing this text._"
   ]
  },
  {
   "cell_type": "markdown",
   "id": "95c1b35d",
   "metadata": {},
   "source": [
    "<!-- END QUESTION -->\n",
    "\n",
    "\n",
    "\n",
    "Under the probabilistic formulation of sequence-to-sequence models, the partial scores are decomposable over time steps: $\\log {\\Pr}_\\theta(y_1, \\ldots, y_T \\mid x) = \\sum_{t=1}^T \\log {\\Pr}_\\theta(y_t \\mid y_{<t}, x)$. Therefore, we can save computation in the above process by maintaining the partial sums $\\sum_{t'=1}^t \\log {\\Pr}_\\theta(y_{t'}^{(k)} \\mid y_{<t'}^{(k)}, x)$, such that we only need to compute $\\log {\\Pr}_\\theta(y_{t+1} \\mid y_{<t+1}^{(k)})$ when we want to go from $t$ to $t+1$. \n",
    "\n",
    "Here is pseudo-code for the beam search algorithm to decode a single example `x` of maximum length `max_T` using a beam size of `K`.\n",
    "\n",
    "```\n",
    " 1.  def beam_search(x, K, max_T):\n",
    " 2.      finished = []        # for storing completed hypotheses\n",
    "         # Initialize the beam\n",
    " 3.      beams = [Beam(hyp=(bos), score=0)] # initial hypothesis: bos, initial score: 0\n",
    " \n",
    " 4.      for t in [1..max_T]  # main body of search over time steps           \n",
    " 5.          hypotheses = []\n",
    " \n",
    "             # Expand each beam by all possible tokens y_{t+1}\n",
    " 6.          for beam in beams:\n",
    " 7.              y_{1:t}, score = beam.hyp, beam.score\n",
    " 8.              for y_{t+1} in V:\n",
    " 9.                  y_{1:t+1} = y_{1:t} + [y_{t+1}]\n",
    " 10.                 new_score = score + log P(y_{t+1} | y_{1:t}, x)\n",
    " 11.                 hypotheses.append(Beam(hyp=y_{1:t+1}, score=new_score))\n",
    " \n",
    "             # Find K best next beams\n",
    " 12.         beams = sorted(hypotheses, key=lambda beam: -beam.score)[:K]\n",
    " \n",
    "             # Set aside finished beams (those that end in <eos>)\n",
    " 13.         for beam in beams:\n",
    " 14.             y_{t+1} = beam.hyp[-1]\n",
    " 15.             if y_{t+1} == eos:\n",
    " 16.                 finished.append(beam)\n",
    " 17.                 beams.remove(beam)\n",
    "\n",
    "             # Break the loop if everything is finished\n",
    " 18.         if len(beams) == 0:\n",
    " 19.             break              \n",
    " 20.     return sorted(finished, key=lambda beam: -beam.score)[0] # return the best finished hypothesis\n",
    "```\n"
   ]
  },
  {
   "cell_type": "markdown",
   "id": "7603cb01",
   "metadata": {
    "deletable": false,
    "editable": false
   },
   "source": [
    "Implement function `beam_search` in the below code. Note that there are some differences from the pseudo-code: first, we maintained a `decoder_state` in addition to $y_{1:t}$ and score such that we can compute $P(y_{t+1} \\mid y_{<t+1},x)$ efficiently; second, instead of creating a list of actual hypotheses as in lines 8-11, we use tensors to get pointers to the beam id and $y_{t+1}$ that are among the best K next beams.\n",
    "\n",
    "<!--\n",
    "BEGIN QUESTION\n",
    "name: beam_search\n",
    "-->"
   ]
  },
  {
   "cell_type": "code",
   "execution_count": null,
   "id": "ce5d7aeb",
   "metadata": {},
   "outputs": [],
   "source": [
    "MAX_T = 15     # max target length\n",
    "\n",
    "class Beam():\n",
    "  \"\"\"Helper class for storing a hypothesis, its score and its decoder hidden state.\"\"\"\n",
    "  def __init__(self, decoder_state, tokens, score):\n",
    "    self.decoder_state = decoder_state\n",
    "    self.tokens = tokens\n",
    "    self.score = score\n",
    "        \n",
    "class BeamSearcher():\n",
    "  \"\"\"Main class for beam search.\"\"\"\n",
    "  def __init__(self, model):\n",
    "    self.model = model\n",
    "    self.bos_id = model.bos_id\n",
    "    self.eos_id = model.eos_id\n",
    "    self.V = model.V_tgt\n",
    "\n",
    "\n",
    "  def beam_search(self, src, src_lengths, K, max_T=MAX_T):\n",
    "    \"\"\"Performs beam search decoding.\n",
    "    \n",
    "    Arguments:\n",
    "        src: src batch of size (max_src_len, 1)\n",
    "        src_lengths: src lengths of size (1)\n",
    "        K: beam size\n",
    "        max_T: max possible target length considered\n",
    "    Returns:\n",
    "        a list of token ids\n",
    "    \"\"\"\n",
    "    finished = []\n",
    "    # Initialize the beam\n",
    "    self.model.eval()\n",
    "    #TODO - fill in encoder_final_state and init_beam below\n",
    "    encoder_final_state = ...\n",
    "    init_beam = ...\n",
    "    beams = [init_beam]\n",
    "    \n",
    "    for t in range(max_T): # main body of search over time steps\n",
    "        \n",
    "        # Expand each beam by all possible tokens y_{t+1}\n",
    "        all_total_scores = []\n",
    "        for beam in beams:\n",
    "            y_1_to_t, score, decoder_state = beam.tokens, beam.score, beam.decoder_state\n",
    "            y_t = y_1_to_t[-1]\n",
    "            #TODO - finish the code below\n",
    "            # Hint: you might want to use `model.forward_decoder_incrementally`\n",
    "            ...\n",
    "            decoder_state = ...\n",
    "            total_scores = ...\n",
    "            all_total_scores.append(total_scores)\n",
    "            beam.decoder_state = decoder_state # update decoder state in the beam\n",
    "        all_total_scores = torch.stack(all_total_scores) # (K, V) when t>0, (1, V) when t=0\n",
    "\n",
    "        # Find K best next beams\n",
    "        # The below code has the same functionality as line 6-12, but is more efficient\n",
    "        all_scores_flattened = all_total_scores.view(-1) # K*V when t>0, 1*V when t=0\n",
    "        topk_scores, topk_ids = all_scores_flattened.topk(K, 0)\n",
    "        beam_ids = topk_ids.div(self.V, rounding_mode='floor')\n",
    "        next_tokens = topk_ids - beam_ids * self.V\n",
    "        new_beams = []\n",
    "        for k in range(K):\n",
    "            beam_id = beam_ids[k]       # which beam it comes from\n",
    "            y_t_plus_1 = next_tokens[k] # which y_{t+1}\n",
    "            score = topk_scores[k]\n",
    "            beam = beams[beam_id]\n",
    "            decoder_state = beam.decoder_state\n",
    "            y_1_to_t = beam.tokens\n",
    "            #TODO\n",
    "            new_beam = ...\n",
    "            new_beams.append(new_beam)\n",
    "        beams = new_beams\n",
    "\n",
    "        # Set aside completed beams\n",
    "        # TODO - move completed beams to `finished` (and remove them from `beams`)\n",
    "        ...\n",
    "        \n",
    "        # Break the loop if everything is completed\n",
    "        if len(beams) == 0:\n",
    "            break\n",
    "            \n",
    "    # Return the best hypothesis\n",
    "    if len(finished) > 0:\n",
    "        finished = sorted(finished, key=lambda beam: -beam.score)\n",
    "        return finished[0].tokens\n",
    "    else: # when nothing is finished, return an unfinished hypothesis\n",
    "        return beams[0].tokens"
   ]
  },
  {
   "cell_type": "code",
   "execution_count": null,
   "id": "9858a0aa",
   "metadata": {
    "deletable": false,
    "editable": false
   },
   "outputs": [],
   "source": [
    "grader.check(\"beam_search\")"
   ]
  },
  {
   "cell_type": "markdown",
   "id": "6b2bf4e0",
   "metadata": {},
   "source": [
    "Now we can use beam search decoding to predict the outputs for the test set inputs using the trained model."
   ]
  },
  {
   "cell_type": "code",
   "execution_count": null,
   "id": "b221d614",
   "metadata": {},
   "outputs": [],
   "source": [
    "DEBUG_FIRST = 10  # set to 0 to disable printing predictions\n",
    "K = 5             # beam size 5\n",
    "\n",
    "correct = 0\n",
    "total = 0\n",
    "\n",
    "# create beam searcher\n",
    "beam_searcher = BeamSearcher(model)\n",
    "\n",
    "for index, batch in enumerate(test_iter, start=1):\n",
    "  # Input and output\n",
    "  src, src_lengths = batch.src\n",
    "  # Predict\n",
    "  prediction = beam_searcher.beam_search(src, src_lengths, K)\n",
    "  # Convert to string\n",
    "  prediction = ' '.join([TGT.vocab.itos[token] for token in prediction])\n",
    "  prediction = prediction.lstrip('<bos>').rstrip('<eos>').strip()\n",
    "  ground_truth = ' '.join([TGT.vocab.itos[token] for token in batch.tgt.view(-1)])\n",
    "  ground_truth = ground_truth.lstrip('<bos>').rstrip('<eos>').strip()\n",
    "  # Print out the first few examples\n",
    "  if DEBUG_FIRST >= index :\n",
    "    src = ' '.join([SRC.vocab.itos[item] for item in src.view(-1)])\n",
    "    print (f'Source:       {index}. {src}\\n'\n",
    "           f'Prediction:   {prediction}\\n'\n",
    "           f'Ground truth: {ground_truth}\\n')\n",
    "  if ground_truth == prediction:\n",
    "    correct += 1\n",
    "  total += 1\n",
    "\n",
    "print (f'Accuracy: {correct/total:.2f}')"
   ]
  },
  {
   "cell_type": "markdown",
   "id": "293f8141",
   "metadata": {},
   "source": [
    "You might have noticed that using a larger $K$ might lead to very similar performance as using $K=1$ (greedy decoding). This is largely due to the fact that there are no dependencies among target tokens in our dataset (e.g., knowing that $y_1$ is 1 does not affect our prediction on $y_2$ conditioned on the source). In real world applications, people usually find using a fixed value of $K>1$ (such as $K=5$) performs better than greedy decoding."
   ]
  },
  {
   "cell_type": "markdown",
   "id": "f55044a8",
   "metadata": {
    "deletable": false,
    "editable": false
   },
   "source": [
    "<!-- BEGIN QUESTION -->\n",
    "\n",
    "**Question:** Can we use beam search decoding to decode an HMM? For state space $Q$, sequence length $T$, what is the complexity of beam search with beam size $K$? What is the complexity of Viterbi decoding? What are their pros and cons?\n",
    "\n",
    "<!--\n",
    "BEGIN QUESTION\n",
    "name: open_response_decoding_hmm\n",
    "manual: true\n",
    "-->"
   ]
  },
  {
   "cell_type": "markdown",
   "id": "7e2b866d",
   "metadata": {},
   "source": [
    "_Type your answer here, replacing this text._"
   ]
  },
  {
   "cell_type": "markdown",
   "id": "bf9c0d1b",
   "metadata": {
    "deletable": false,
    "editable": false
   },
   "source": [
    "<!-- END QUESTION -->\n",
    "\n",
    "<!-- BEGIN QUESTION -->\n",
    "\n",
    "# Lab debrief – for consensus submission only\n",
    "\n",
    "**Question:** We're interested in any thoughts your group has about this lab so that we can improve this lab for later years, and to inform later labs for this year. Please list any issues that arose or comments you have to improve the lab. Useful things to comment on might include the following: \n",
    "\n",
    "* Was the lab too long or too short?\n",
    "* Were the readings appropriate for the lab? \n",
    "* Was it clear (at least after you completed the lab) what the points of the exercises were? \n",
    "* Are there additions or changes you think would make the lab better?\n",
    "\n",
    "but you should comment on whatever aspects you found especially positive or negative.\n",
    "\n",
    "<!--\n",
    "BEGIN QUESTION\n",
    "name: open_response_debrief\n",
    "manual: true\n",
    "-->"
   ]
  },
  {
   "cell_type": "markdown",
   "id": "d018f2a5",
   "metadata": {},
   "source": [
    "_Type your answer here, replacing this text._"
   ]
  },
  {
   "cell_type": "markdown",
   "id": "5fb96e0c",
   "metadata": {
    "id": "61iAoHc-3C6O"
   },
   "source": [
    "<!-- END QUESTION -->\n",
    "\n",
    "\n",
    "\n",
    "# End of Lab 4-4 {-}"
   ]
  },
  {
   "cell_type": "markdown",
   "id": "3f95f5b9",
   "metadata": {
    "deletable": false,
    "editable": false
   },
   "source": [
    "---\n",
    "\n",
    "To double-check your work, the cell below will rerun all of the autograder tests."
   ]
  },
  {
   "cell_type": "code",
   "execution_count": null,
   "id": "797133a7",
   "metadata": {
    "deletable": false,
    "editable": false
   },
   "outputs": [],
   "source": [
    "grader.check_all()"
   ]
  }
 ],
 "metadata": {
  "accelerator": "GPU",
  "colab": {
   "name": "lab4-4.ipynb",
   "provenance": []
  },
  "kernelspec": {
   "display_name": "Python 3 (ipykernel)",
   "language": "python",
   "name": "python3"
  },
  "language_info": {
   "codemirror_mode": {
    "name": "ipython",
    "version": 3
   },
   "file_extension": ".py",
   "mimetype": "text/x-python",
   "name": "python",
   "nbconvert_exporter": "python",
   "pygments_lexer": "ipython3",
   "version": "3.8.3"
  },
  "title": "CS187 Lab 4-4: Sequence-to-sequence models"
 },
 "nbformat": 4,
 "nbformat_minor": 5
}
