{
 "cells": [
  {
   "cell_type": "code",
   "execution_count": 67,
   "metadata": {
    "deletable": false,
    "editable": false,
    "jupyter": {
     "outputs_hidden": true,
     "source_hidden": true
    }
   },
   "outputs": [
    {
     "name": "stdout",
     "output_type": "stream",
     "text": [
      "\n"
     ]
    }
   ],
   "source": [
    "# Please do not change this cell because some hidden tests might depend on it.\n",
    "import os\n",
    "\n",
    "# Otter grader does not handle ! commands well, so we define and use our\n",
    "# own function to execute shell commands.\n",
    "def shell(commands, warn=True):\n",
    "    \"\"\"Executes the string `commands` as a sequence of shell commands.\n",
    "     \n",
    "       Prints the result to stdout and returns the exit status. \n",
    "       Provides a printed warning on non-zero exit status unless `warn` \n",
    "       flag is unset.\n",
    "    \"\"\"\n",
    "    file = os.popen(commands)\n",
    "    print (file.read().rstrip('\\n'))\n",
    "    exit_status = file.close()\n",
    "    if warn and exit_status != None:\n",
    "        print(f\"Completed with errors. Exit status: {exit_status}\\n\")\n",
    "    return exit_status\n",
    "\n",
    "shell(\"\"\"\n",
    "ls requirements.txt >/dev/null 2>&1\n",
    "if [ ! $? = 0 ]; then\n",
    " rm -rf .tmp\n",
    " git clone https://github.com/cs187-2021/project2.git .tmp\n",
    " mv .tmp/requirements.txt ./\n",
    " rm -rf .tmp\n",
    "fi\n",
    "pip install -q -r requirements.txt\n",
    "\"\"\")"
   ]
  },
  {
   "cell_type": "code",
   "execution_count": 68,
   "id": "56665f9d",
   "metadata": {
    "deletable": false,
    "editable": false
   },
   "outputs": [],
   "source": [
    "# Initialize Otter\n",
    "import otter\n",
    "grader = otter.Notebook()"
   ]
  },
  {
   "cell_type": "raw",
   "metadata": {
    "jupyter": {
     "source_hidden": true
    }
   },
   "source": [
    "%%latex\n",
    "\\newcommand{\\vect}[1]{\\mathbf{#1}}\n",
    "\\newcommand{\\cnt}[1]{\\sharp(#1)}\n",
    "\\newcommand{\\argmax}[1]{\\underset{#1}{\\operatorname{argmax}}}\n",
    "\\newcommand{\\softmax}{\\operatorname{softmax}}\n",
    "\\newcommand{\\Prob}{\\Pr}\n",
    "\\newcommand{\\given}{\\,|\\,}"
   ]
  },
  {
   "cell_type": "markdown",
   "metadata": {
    "jupyter": {
     "source_hidden": true
    }
   },
   "source": [
    "$$\n",
    "\\renewcommand{\\vect}[1]{\\mathbf{#1}}\n",
    "\\renewcommand{\\cnt}[1]{\\sharp(#1)}\n",
    "\\renewcommand{\\argmax}[1]{\\underset{#1}{\\operatorname{argmax}}}\n",
    "\\renewcommand{\\softmax}{\\operatorname{softmax}}\n",
    "\\renewcommand{\\Prob}{\\Pr}\n",
    "\\renewcommand{\\given}{\\,|\\,}\n",
    "$$"
   ]
  },
  {
   "cell_type": "markdown",
   "metadata": {
    "colab_type": "text",
    "tags": [
     "remove_for_latex"
    ]
   },
   "source": [
    "# CS187\n",
    "## Project 2: Sequence labeling – The slot filling task"
   ]
  },
  {
   "cell_type": "markdown",
   "metadata": {
    "colab_type": "text"
   },
   "source": [
    "# Introduction\n",
    "\n",
    "The second segment of the project involves a sequence labeling task, in which the goal is to label the tokens in a text. Many NLP tasks have this general form. Most famously is the task of _part-of-speech labeling_ as you explored in lab 2-4, where the tokens in a text are to be labeled with their part of speech (noun, verb, preposition, etc.). In this project segment, however, you'll use sequence labeling to implement a system for filling the slots in a template that is intended to describe the meaning of an ATIS query. For instance, the sentence \n",
    "\n",
    "    What's the earliest arriving flight between Boston and Washington DC?\n",
    "    \n",
    "might be associated with the following slot-filled template: \n",
    "\n",
    "    flight_id\n",
    "        fromloc.cityname: boston\n",
    "        toloc.cityname: washington\n",
    "        toloc.state: dc\n",
    "        flight_mod: earliest arriving\n",
    "    \n",
    "You may wonder how this task is a sequence labeling task. We label each word in the source sentence with a tag taken from a set of tags that correspond to the slot-labels. For each slot-label, say `flight_mod`, there are two tags: `B-flight_mod` and `I-flight_mod`. These are used to mark the beginning (B) or interior (I) of a phrase that fills the given slot. In addition, there is a tag for other (O) words that are not used to fill any slot. (This technique is thus known as IOB encoding.) Thus the sample sentence would be labeled as follows:\n",
    "\n",
    "| Token   | Label    |\n",
    "| :------ | :----- | \n",
    "| `BOS` | `O` |\n",
    "| `what's` | `O` |\n",
    "| `the` | `O` |\n",
    "| `earliest` | `B-flight_mod` |\n",
    "| `arriving` | `I-flight_mod` |\n",
    "| `flight` | `O` |\n",
    "| `between` | `O` |\n",
    "| `boston` | `B-fromloc.city_name` |\n",
    "| `and` | `O` |\n",
    "| `washington` | `B-toloc.city_name` |\n",
    "| `dc` | `B-toloc.state_code` |\n",
    "| `EOS` | `O` |\n",
    "\n",
    "> See below for information about the `BOS` and `EOS` tokens. \n",
    "\n",
    "The template itself is associated with the question type for the sentence, perhaps as recovered from the sentence in the last project segment.\n",
    "\n",
    "In this segment, you'll implement three methods for sequence labeling: a hidden Markov model (HMM) and two recurrent neural networks, a simple RNN and a long short-term memory network (LSTM). By the end of this homework, you should have grasped the pros and cons of the statistical and neural approaches.\n",
    "\n",
    "## Goals\n",
    "\n",
    "1. Implement an HMM-based approach to sequence labeling.\n",
    "2. Implement an RNN-based approach to sequence labeling.\n",
    "3. Implement an LSTM-based approach to sequence labeling.\n",
    "4. (Optional) Compare the performances of HMM and RNN/LSTM with different amounts of training data. Discuss the pros and cons of the HMM approach and the neural approach."
   ]
  },
  {
   "cell_type": "markdown",
   "metadata": {
    "colab_type": "text"
   },
   "source": [
    "## Setup"
   ]
  },
  {
   "cell_type": "code",
   "execution_count": 69,
   "metadata": {
    "colab": {},
    "colab_type": "code",
    "deletable": false,
    "editable": false
   },
   "outputs": [],
   "source": [
    "import copy\n",
    "import math\n",
    "import matplotlib.pyplot as plt\n",
    "import random\n",
    "\n",
    "import wget\n",
    "import torch\n",
    "import torch.nn as nn\n",
    "import torchtext.legacy as tt\n",
    "\n",
    "from tqdm.auto import tqdm"
   ]
  },
  {
   "cell_type": "code",
   "execution_count": 70,
   "metadata": {
    "colab": {},
    "colab_type": "code"
   },
   "outputs": [
    {
     "name": "stdout",
     "output_type": "stream",
     "text": [
      "cpu\n"
     ]
    }
   ],
   "source": [
    "# Set random seeds\n",
    "seed = 1234\n",
    "random.seed(seed)\n",
    "torch.manual_seed(seed)\n",
    "\n",
    "# GPU check, sets runtime type to \"GPU\" where available\n",
    "device = torch.device(\"cuda\" if torch.cuda.is_available() else \"cpu\")\n",
    "print(device)"
   ]
  },
  {
   "cell_type": "markdown",
   "metadata": {
    "colab_type": "text"
   },
   "source": [
    "## Loading data\n",
    "\n",
    "We download the ATIS dataset, already presplit into training, validation (dev), and test sets."
   ]
  },
  {
   "cell_type": "code",
   "execution_count": 71,
   "metadata": {
    "colab": {},
    "colab_type": "code"
   },
   "outputs": [],
   "source": [
    "# Prepare to download needed data\n",
    "def download_if_needed(filename, source='./', dest='./'):\n",
    "    os.makedirs(data_path, exist_ok=True) # ensure destination\n",
    "    os.path.exists(f\"./{dest}{filename}\") or wget.download(source + filename, out=dest)\n",
    "\n",
    "source_path = \"https://raw.githubusercontent.com/nlp-course/data/master/ATIS/\"\n",
    "data_path = \"data/\"\n",
    "\n",
    "# Download files\n",
    "for filename in [\"atis.train.txt\",\n",
    "                 \"atis.dev.txt\",\n",
    "                 \"atis.test.txt\"\n",
    "                ]:\n",
    "    download_if_needed(filename, source_path, data_path)"
   ]
  },
  {
   "cell_type": "markdown",
   "metadata": {
    "colab_type": "text"
   },
   "source": [
    "## Data preprocessing\n",
    "\n",
    "We again use `torchtext` to load data and convert words to indices in the vocabulary. We use one field `TEXT` for processing the question, and another field `TAG` for processing the sequence labels.\n",
    "\n",
    "We treat words occurring fewer than three times in the training data as _unknown words_. They'll be replaced by the unknown word type `<unk>`."
   ]
  },
  {
   "cell_type": "code",
   "execution_count": 72,
   "metadata": {
    "colab": {},
    "colab_type": "code"
   },
   "outputs": [],
   "source": [
    "MIN_FREQ = 3\n",
    "\n",
    "TEXT = tt.data.Field(init_token=\"<bos>\", batch_first=False) # batches are of size max_len x bsz\n",
    "TAG = tt.data.Field(init_token=\"<bos>\", batch_first=False)  # ditto\n",
    "fields = (('text', TEXT), ('tag', TAG))\n",
    "\n",
    "train, val, test = tt.datasets.SequenceTaggingDataset.splits(\n",
    "  fields=fields, \n",
    "  path='./data/', \n",
    "  train='atis.train.txt',\n",
    "  validation='atis.dev.txt',\n",
    "  test='atis.test.txt'\n",
    ")\n",
    "\n",
    "TEXT.build_vocab(train.text, min_freq=MIN_FREQ)\n",
    "TAG.build_vocab(train.tag)"
   ]
  },
  {
   "cell_type": "markdown",
   "metadata": {},
   "source": [
    "We can get some sense of the datasets by looking at the size and some elements of the text and tag vocabularies."
   ]
  },
  {
   "cell_type": "code",
   "execution_count": 73,
   "metadata": {
    "colab": {},
    "colab_type": "code"
   },
   "outputs": [
    {
     "name": "stdout",
     "output_type": "stream",
     "text": [
      "Size of English vocabulary: 518\n",
      "Most common English words: [('BOS', 4274), ('EOS', 4274), ('to', 3682), ('from', 3203), ('flights', 2075), ('the', 1745), ('on', 1343), ('flight', 1035), ('me', 1005), ('what', 985)]\n",
      "\n",
      "Number of tags: 104\n",
      "Most common tags: [('O', 38967), ('B-toloc.city_name', 3751), ('B-fromloc.city_name', 3726), ('I-toloc.city_name', 1039), ('B-depart_date.day_name', 835), ('I-fromloc.city_name', 636), ('B-airline_name', 610), ('B-depart_time.period_of_day', 555), ('I-airline_name', 374), ('B-depart_date.day_number', 351)]\n"
     ]
    }
   ],
   "source": [
    "print(f\"Size of English vocabulary: {len(TEXT.vocab)}\")\n",
    "print(f\"Most common English words: {TEXT.vocab.freqs.most_common(10)}\\n\")\n",
    "\n",
    "print(f\"Number of tags: {len(TAG.vocab)}\")\n",
    "print(f\"Most common tags: {TAG.vocab.freqs.most_common(10)}\")"
   ]
  },
  {
   "cell_type": "markdown",
   "metadata": {
    "colab_type": "text"
   },
   "source": [
    "## Special tokens and tags\n",
    "\n",
    "You'll have already noticed the `BOS` and `EOS`, special tokens that the dataset developers used to indicate the beginning and end of the sentence; we'll leave them in the data.\n",
    "\n",
    "We've also passed in `init_token=\"<bos>\"` for both torchtext fields. Torchtext will prepend these to the sequence of words and tags. This relieves us from estimating the initial distribution of tags and tokens in HMMs, since we always start with a token `<bos>` whose tag is also `<bos>`. We'll be able to refer to these tags as exemplified here:"
   ]
  },
  {
   "cell_type": "code",
   "execution_count": 74,
   "metadata": {
    "colab": {},
    "colab_type": "code"
   },
   "outputs": [
    {
     "name": "stdout",
     "output_type": "stream",
     "text": [
      "\n",
      "Initial tag string: <bos>\n",
      "Initial tag id:     2\n",
      "\n"
     ]
    }
   ],
   "source": [
    "print(f\"\"\"\n",
    "Initial tag string: {TAG.init_token}\n",
    "Initial tag id:     {TAG.vocab.stoi[TAG.init_token]}\n",
    "\"\"\")"
   ]
  },
  {
   "cell_type": "markdown",
   "metadata": {
    "colab_type": "text"
   },
   "source": [
    "Finally, since `torchtext` will be providing the sentences in the training corpus in \"batches\", `torchtext` will force the sentences within a batch to be the same length by padding them with a special token. Again, we can access that token as shown here:"
   ]
  },
  {
   "cell_type": "code",
   "execution_count": 75,
   "metadata": {
    "colab": {},
    "colab_type": "code"
   },
   "outputs": [
    {
     "name": "stdout",
     "output_type": "stream",
     "text": [
      "\n",
      "Pad tag string: <pad>\n",
      "Pad tag id:     1\n",
      "\n"
     ]
    }
   ],
   "source": [
    "print(f\"\"\"\n",
    "Pad tag string: {TAG.pad_token}\n",
    "Pad tag id:     {TAG.vocab.stoi[TAG.pad_token]}\n",
    "\"\"\")"
   ]
  },
  {
   "cell_type": "markdown",
   "metadata": {
    "colab_type": "text"
   },
   "source": [
    "Now, we can iterate over the dataset using `torchtext`'s iterator. We'll use a non-trivial batch size to gain the benefit of training on multiple sentences at a shot. You'll need to be careful about the shapes of the various tensors that are being manipulated."
   ]
  },
  {
   "cell_type": "code",
   "execution_count": 76,
   "metadata": {
    "colab": {},
    "colab_type": "code"
   },
   "outputs": [],
   "source": [
    "BATCH_SIZE = 20\n",
    "\n",
    "train_iter, val_iter, test_iter = tt.data.BucketIterator.splits(\n",
    "    (train, val, test), \n",
    "    batch_size=BATCH_SIZE, \n",
    "    repeat=False, \n",
    "    device=device)"
   ]
  },
  {
   "cell_type": "markdown",
   "metadata": {},
   "source": [
    "Each batch will be a tensor of size `max_length x batch_size`. Let's examine a batch."
   ]
  },
  {
   "cell_type": "code",
   "execution_count": 77,
   "metadata": {
    "colab": {},
    "colab_type": "code"
   },
   "outputs": [
    {
     "name": "stdout",
     "output_type": "stream",
     "text": [
      "Shape of batch text tensor: torch.Size([22, 20])\n",
      "\n",
      "First sentence in batch\n",
      "tensor([ 2,  3, 21, 45, 88, 44,  7, 39, 28, 20, 54, 18, 22,  4,  1,  1,  1,  1,\n",
      "         1,  1,  1,  1])\n",
      "<bos> BOS i need information for flights leaving baltimore and arriving in atlanta EOS <pad> <pad> <pad> <pad> <pad> <pad> <pad> <pad>\n",
      "\n",
      "First tags in batch\n",
      "tensor([2, 3, 3, 3, 3, 3, 3, 3, 5, 3, 3, 3, 4, 3, 1, 1, 1, 1, 1, 1, 1, 1])\n",
      "['<bos>', 'O', 'O', 'O', 'O', 'O', 'O', 'O', 'B-fromloc.city_name', 'O', 'O', 'O', 'B-toloc.city_name', 'O', '<pad>', '<pad>', '<pad>', '<pad>', '<pad>', '<pad>', '<pad>', '<pad>']\n"
     ]
    }
   ],
   "source": [
    "# Get the first batch\n",
    "batch = next(iter(train_iter))\n",
    "\n",
    "# What's its shape? Should be max_length x batch_size.\n",
    "print(f'Shape of batch text tensor: {batch.text.shape}\\n')\n",
    "\n",
    "# Extract the first sentence in the batch, both text and tags\n",
    "first_sentence = batch.text[:, 0]\n",
    "first_tags = batch.tag[:, 0]\n",
    "\n",
    "# Print out the first sentence, as token ids and as text\n",
    "print(\"First sentence in batch\")\n",
    "print(f\"{first_sentence}\")\n",
    "print(f\"{' '.join([TEXT.vocab.itos[i] for i in first_sentence])}\\n\")\n",
    "\n",
    "print(\"First tags in batch\")\n",
    "print(f\"{first_tags}\")\n",
    "print(f\"{[TAG.vocab.itos[i] for i in first_tags]}\")"
   ]
  },
  {
   "cell_type": "markdown",
   "metadata": {
    "colab_type": "text"
   },
   "source": [
    "The goal of this project is to predict the sequence of tags `batch.tag` given a sequence of words `batch.text`."
   ]
  },
  {
   "cell_type": "markdown",
   "metadata": {},
   "source": [
    "# Majority class labeling\n",
    "\n",
    "As usual, we can get a sense of the difficulty of the task by looking at a simple baseline, tagging every token with the majority tag. Here's a table of tag frequencies for the most frequent tags:"
   ]
  },
  {
   "cell_type": "code",
   "execution_count": 78,
   "metadata": {},
   "outputs": [
    {
     "name": "stdout",
     "output_type": "stream",
     "text": [
      "  0  <unk>                           0\n",
      "  1  <pad>                           0\n",
      "  2  <bos>                         4274\n",
      "  3  O                             38967\n",
      "  4  B-toloc.city_name             3751\n",
      "  5  B-fromloc.city_name           3726\n",
      "  6  I-toloc.city_name             1039\n",
      "  7  B-depart_date.day_name        835\n",
      "  8  I-fromloc.city_name           636\n",
      "  9  B-airline_name                610\n",
      " 10  B-depart_time.period_of_day   555\n",
      " 11  I-airline_name                374\n",
      " 12  B-depart_date.day_number      351\n",
      " 13  B-depart_date.month_name      340\n",
      " 14  B-depart_time.time            321\n",
      " 15  B-round_trip                  311\n",
      " 16  I-round_trip                  303\n",
      " 17  B-depart_time.time_relative   290\n",
      " 18  B-cost_relative               281\n",
      " 19  B-flight_mod                  264\n",
      " 20  I-depart_time.time            258\n",
      " 21  B-stoploc.city_name           202\n",
      " 22  B-city_name                   191\n",
      " 23  B-arrive_time.time            182\n",
      " 24  B-class_type                  181\n",
      " 25  B-arrive_time.time_relative   162\n",
      " 26  I-class_type                  148\n",
      " 27  I-arrive_time.time            142\n",
      " 28  B-flight_stop                 141\n",
      " 29  B-airline_code                109\n",
      " 30  I-depart_date.day_number      105\n",
      " 31  I-fromloc.airport_name        103\n",
      " 32  B-toloc.state_name             84\n",
      " 33  B-toloc.state_code             81\n",
      " 34  B-arrive_date.day_name         78\n",
      " 35  B-fromloc.airport_name         75\n",
      " 36  B-depart_date.date_relative    72\n",
      " 37  B-flight_number                72\n",
      " 38  B-depart_date.today_relative   70\n",
      " 39  I-airport_name                 61\n",
      " 40  I-city_name                    53\n",
      " 41  B-arrive_time.period_of_day    51\n",
      " 42  B-fare_basis_code              51\n",
      " 43  B-flight_time                  51\n",
      " 44  B-fromloc.state_code           51\n",
      " 45  B-or                           49\n",
      " 46  B-aircraft_code                48\n",
      " 47  B-meal_description             48\n",
      " 48  B-meal                         47\n",
      " 49  I-cost_relative                45\n",
      " 50  I-stoploc.city_name            45\n",
      " 51  B-airport_name                 44\n",
      " 52  B-transport_type               43\n",
      " 53  B-fromloc.state_name           42\n",
      " 54  B-arrive_date.day_number       40\n",
      " 55  B-arrive_date.month_name       40\n",
      " 56  B-depart_time.period_mod       39\n",
      " 57  B-flight_days                  37\n",
      " 58  B-connect                      36\n",
      " 59  I-toloc.airport_name           35\n",
      " 60  B-fare_amount                  34\n",
      " 61  I-fare_amount                  33\n",
      " 62  B-economy                      32\n",
      " 63  B-toloc.airport_name           28\n",
      " 64  B-mod                          24\n",
      " 65  I-flight_time                  24\n",
      " 66  B-airport_code                 22\n",
      " 67  B-depart_date.year             20\n",
      " 68  B-toloc.airport_code           19\n",
      " 69  B-arrive_time.start_time       18\n",
      " 70  B-depart_time.end_time         18\n",
      " 71  B-depart_time.start_time       18\n",
      " 72  I-transport_type               18\n",
      " 73  B-arrive_time.end_time         17\n",
      " 74  I-arrive_time.end_time         16\n",
      " 75  B-fromloc.airport_code         14\n",
      " 76  B-restriction_code             14\n",
      " 77  I-depart_time.end_time         13\n",
      " 78  I-flight_mod                   12\n",
      " 79  I-flight_stop                  12\n",
      " 80  B-arrive_date.date_relative    10\n",
      " 81  I-toloc.state_name             10\n",
      " 82  I-restriction_code              9\n",
      " 83  B-return_date.date_relative     8\n",
      " 84  I-depart_time.start_time        8\n",
      " 85  I-economy                       8\n",
      " 86  B-state_code                    7\n",
      " 87  I-arrive_time.start_time        7\n",
      " 88  I-fromloc.state_name            7\n",
      " 89  B-state_name                    6\n",
      " 90  I-depart_date.today_relative    6\n",
      " 91  I-depart_time.period_of_day     5\n",
      " 92  B-period_of_day                 4\n",
      " 93  I-arrive_date.day_number        4\n",
      " 94  B-day_name                      3\n",
      " 95  B-meal_code                     3\n",
      " 96  B-stoploc.state_code            3\n",
      " 97  B-arrive_time.period_mod        2\n",
      " 98  B-toloc.country_name            2\n",
      " 99  I-arrive_time.time_relative     2\n",
      "100  I-meal_code                     2\n",
      "101  I-return_date.date_relative     2\n",
      "102  B-return_date.day_number        1\n",
      "103  B-return_date.month_name        1\n"
     ]
    }
   ],
   "source": [
    "def count_tags(iterator):\n",
    "  tag_counts = torch.zeros(len(TAG.vocab.itos), device=device)\n",
    "\n",
    "  for batch in iterator:\n",
    "    tags = batch.tag.view(-1)\n",
    "    tag_counts.scatter_add_(0, tags, torch.ones(tags.shape).to(device))\n",
    "\n",
    "  ## Alternative untensorized implementation for reference\n",
    "  # for batch in iterator:                # for each batch\n",
    "  #   for sent_id in range(len(batch)):   # ... each sentence in the batch\n",
    "  #     for tag in batch.tag[:, sent_id]: # ... each tag in the sentence\n",
    "  #       tag_counts[tag] += 1            # bump the tag count\n",
    "\n",
    "  # Ignore paddings\n",
    "  tag_counts[TAG.vocab.stoi[TAG.pad_token]] = 0\n",
    "  return tag_counts\n",
    "\n",
    "tag_counts = count_tags(train_iter)\n",
    "\n",
    "for tag_id in range(len(TAG.vocab.itos)):\n",
    "  print(f'{tag_id:3}  {TAG.vocab.itos[tag_id]:30}{tag_counts[tag_id].item():3.0f}')"
   ]
  },
  {
   "cell_type": "markdown",
   "metadata": {},
   "source": [
    "It looks like the `'O'` (other) tag is, unsurprisingly, the most frequent tag (except for the padding tag). The proportion of tokens labeled with that tag (ignoring the padding tag) gives us a good baseline accuracy for this sequence labeling task. To verify that intuition, we can calculate the accuracy of the majority tag on the test set:"
   ]
  },
  {
   "cell_type": "code",
   "execution_count": 79,
   "metadata": {},
   "outputs": [
    {
     "name": "stdout",
     "output_type": "stream",
     "text": [
      "Baseline accuracy: 0.634\n"
     ]
    }
   ],
   "source": [
    "tag_counts_test = count_tags(test_iter)\n",
    "majority_baseline_accuracy = (\n",
    "  tag_counts_test[TAG.vocab.stoi['O']] \n",
    "  / tag_counts_test.sum()\n",
    ")\n",
    "print(f'Baseline accuracy: {majority_baseline_accuracy:.3f}')"
   ]
  },
  {
   "cell_type": "markdown",
   "metadata": {
    "colab_type": "text"
   },
   "source": [
    "# HMM for sequence labeling\n",
    "\n",
    "Having established the baseline to beat, we turn to implementing an HMM model.\n",
    "\n",
    "## Notation\n",
    "\n",
    "First, let's start with some notation. We use $\\mathcal{V} = \\langle \\mathcal{V}_1, \\mathcal{V}_2, \\ldots \\mathcal{V}_V \\rangle$ to denote the vocabulary of word types and $Q = \\langle{Q_1, Q_2, \\ldots, Q_N} \\rangle$ to denote the possible tags, which is the state space of the HMM. Thus $V$ is the number of word types in the vocabulary and $N$ is the number of states (tags).\n",
    "\n",
    "We use $\\vect{w} = w_1 \\cdots w_T \\in \\mathcal{V}^T$ to denote the string of words at \"time steps\" $t$ (where $t$ varies from $1$ to $T$). Similarly, $\\vect{q} = q_1 \\cdots q_T \\in Q^T$ denotes the corresponding sequence of states (tags)."
   ]
  },
  {
   "cell_type": "markdown",
   "metadata": {
    "colab_type": "text"
   },
   "source": [
    "## Training an HMM by counting\n",
    "\n",
    "Recall that an HMM is defined via a transition matrix $A$, which stores the probability of moving from one state $Q_i$ to another $Q_j$, that is, \n",
    "\n",
    "$$A_{ij}=\\Prob(q_{t+1}=Q_j  \\given  q_t=Q_i)$$\n",
    "\n",
    "and an emission matrix $B$, which stores the probability of generating word $\\mathcal{V}_j$ given state $Q_i$, that is, \n",
    "\n",
    "$$B_{ij}= \\Prob(w_t=\\mathcal{V}_j  \\given q_t= Q_i)$$\n",
    "\n",
    "> As is typical in notating probabilities, we'll use abbreviations\n",
    ">\n",
    "\\begin{align}\n",
    "\\Prob(q_{t+1} \\given  q_t) &\\equiv \\Prob(q_{t+1}=Q_j  \\given  q_t=Q_i) \\\\\n",
    "\\Prob(w_t  \\given q_t) &\\equiv \\Prob(w_t=\\mathcal{V}_j  \\given q_t= Q_i)\n",
    "\\end{align}\n",
    ">\n",
    "> where the $i$ and $j$ are clear from context.\n",
    "\n",
    "In our case, since the labels are observed in the training data, we can directly use counting to determine (maximum likelihood) estimates of $A$ and $B$."
   ]
  },
  {
   "cell_type": "markdown",
   "metadata": {
    "colab_type": "text"
   },
   "source": [
    "### Goal 1(a): Find the transition matrix\n",
    "\n",
    "The matrix $A$ contains the transition probabilities: $A_{ij}$ is the probability of moving from state $Q_i$ to state $Q_j$ in the training data, so that $\\sum^{N}_{j = 1 } A_{ij} = 1$ for all $i$. \n",
    "\n",
    "We find these probabilities by counting the number of times state $Q_j$ appears right after state $Q_i$, as a proportion of all of the transitions from $Q_i$.\n",
    "\n",
    "$$\n",
    "A_{ij} = \\frac{\\cnt{Q_i, Q_j} + \\delta}{\\sum_k \\left (\\cnt{Q_i, Q_k}+\\delta \\right)}\n",
    "$$\n",
    "\n",
    "(In the above formula, we also used add-$\\delta$ smoothing.)\n",
    "\n",
    "Using the above definition, implement the method `train_A` in the `HMM` class below, which calculates and returns the $A$ matrix as a tensor of size $N \\times N$.\n",
    "\n",
    "> You'll want to go ahead and implement this part now, and test it below, before moving on to the next goal.\n",
    "\n",
    "> Remember that the training data is being delivered to you batched."
   ]
  },
  {
   "cell_type": "markdown",
   "metadata": {
    "colab_type": "text"
   },
   "source": [
    "### Goal 1(b): Find the emission matrix $B$\n",
    "\n",
    "Similar to the transition matrix, the emission matrix contains the emission probabilities such that $B_{ij}$ is probability of word $w_t=\\mathcal{V}_j$ conditioned on state $q_t=Q_i$.\n",
    "\n",
    "We can find this by counting as well.\n",
    "$$\n",
    "B_{ij} = \\frac{\\cnt{Q_i, \\mathcal{V}_j} + \\delta}{\\sum_k \\left (\\cnt{Q_i, \\mathcal{V}_k} + \\delta \\right)}\n",
    "       = \\frac{\\cnt{Q_i, \\mathcal{V}_j} + \\delta}{\\cnt{Q_i} + \\delta V}\n",
    "$$\n",
    "\n",
    "Using the above definitions, implement the `train_B` method in the `HMM` class below, which calculates and returns the $B$ matrix as a tensor of size $N \\times V$.\n",
    "\n",
    "> You'll want to go ahead and implement this part now, and test it below, before moving on to the next goal."
   ]
  },
  {
   "cell_type": "markdown",
   "metadata": {
    "colab_type": "text"
   },
   "source": [
    "## Sequence labeling with a trained HMM\n",
    "\n",
    "Now that you're able to train an HMM by estimating the transition matrix $A$ and the emission matrix $B$, you can apply it to the task of labeling a sequence of words $\\vect{w} = w_1 \\cdots w_T$. Our goal is to find the most probable sequence of tags $\\vect{\\hat q} \\in Q^T$ given a sequence of words $\\vect{w} \\in \\mathcal{V}^T$.\n",
    "\n",
    "\\begin{align*}\n",
    "\\vect{\\hat q} &= \\operatorname*{argmax}\\limits_{\\vect{q} \\in Q^T}(\\Prob(\\vect{q} \\given \\vect{w})) \\\\\n",
    "& = \\operatorname*{argmax}_{\\vect{q} \\in Q^T}(\\Prob(\\vect{q},\\vect{w})) \\\\\n",
    "& = \\operatorname*{argmax}_{\\vect{q} \\in Q^T}\\left(\\Pi^{T}_{t = 1} \\Prob(w_{t} \\given q_{t})\\Prob(q_{t} \\given q_{t-1})\\right)\n",
    "\\end{align*}\n",
    "\n",
    "where $\\Prob(w_{t}=\\mathcal{V}_j \\given q_{t}=Q_i) = B_{ij}$, $\\Prob(q_{t}=Q_j \\given q_{t-1}=Q_{i})=A_{ij}$, and $q_0$ is the predefined initial tag `TAG.vocab.stoi[TAG.init_token]`."
   ]
  },
  {
   "cell_type": "markdown",
   "metadata": {
    "colab_type": "text"
   },
   "source": [
    "### Goal 1(c): Viterbi algorithm\n",
    "\n",
    "Implement the `predict` method, which should use the Viterbi algorithm to find the most likely sequence of tags for a sequence of `words`.\n",
    "\n",
    "> Warning: It may take up to 30 minutes to tag the entire test set depending on your implementation. (A fully tensorized implementation can be much faster though.) We highly recommend that you begin by experimenting with your code using a _very small subset_ of the dataset, say two or three sentences, ramping up from there.\n",
    "\n",
    "> Hint: Consider how to use vectorized computations where possible for speed."
   ]
  },
  {
   "cell_type": "markdown",
   "metadata": {},
   "source": [
    "## Evaluation\n",
    "\n",
    "We've provided you with the `evaluate` function, which takes a dataset iterator and uses `predict` on each sentence in each batch, comparing against the gold tags, to determine the accuracy of the model on the test set."
   ]
  },
  {
   "cell_type": "code",
   "execution_count": 84,
   "metadata": {
    "colab": {},
    "colab_type": "code"
   },
   "outputs": [],
   "source": [
    "import numpy as np\n",
    "class HMMTagger():\n",
    "  def __init__ (self, text, tag):\n",
    "    self.text = text\n",
    "    self.tag = tag\n",
    "    self.V = len(text.vocab.itos)    # vocabulary size\n",
    "    self.N = len(tag.vocab.itos)     # state space size\n",
    "    self.initial_state_id = tag.vocab.stoi[tag.init_token]\n",
    "    self.pad_state_id = tag.vocab.stoi[tag.pad_token]\n",
    "    self.pad_word_id = text.vocab.stoi[text.pad_token]\n",
    "  \n",
    "  def train_A(self, iterator, delta):\n",
    "    \"\"\"Returns A for training dataset `iterator` using add-`delta` smoothing.\"\"\"\n",
    "    # Create A table\n",
    "    A = torch.zeros(self.N, self.N, device=device)\n",
    "    #TODO: Add your solution from Goal 1(a) here.\n",
    "    #      The returned value should be a tensor for the A matrix\n",
    "    #      of size N x N.\n",
    "    for batch in iterator:\n",
    "        #print(batch.batch_size)\n",
    "        #print(len(batch.tag))\n",
    "        #print(batch.tag)\n",
    "        for i in range(batch.batch_size):\n",
    "            tags = batch.tag[:,i]\n",
    "            #print(tags)\n",
    "            indices = zip(tags[:-1], tags[1:])\n",
    "            for first, second in indices:\n",
    "                if first != self.pad_state_id:\n",
    "                    A[first][second] += 1\n",
    "    for row in A:\n",
    "        denominator = torch.sum(row) + (delta * self.N)\n",
    "        if denominator != 0:\n",
    "            for i in range(self.N):\n",
    "                row[i] = (row[i] + delta) / (denominator)\n",
    "    #print(A)\n",
    "    return A\n",
    "\n",
    "  def train_B(self, iterator, delta):\n",
    "    \"\"\"Returns B for training dataset `iterator` using add-`delta` smoothing.\"\"\"\n",
    "    # Create B\n",
    "    B = torch.zeros(self.N, self.V, device=device)\n",
    "    \n",
    "    #TODO: Add your solution from Goal 1 (b) here.\n",
    "    #      The returned value should be a tensor for the $B$ matrix\n",
    "    #      of size N x V.\n",
    "    for batch in iterator:\n",
    "        #print(len(batch.tag))\n",
    "        #print(len(batch.text))\n",
    "        tags = batch.tag.T\n",
    "        texts = batch.text.T\n",
    "        for i in range(len(tags)):\n",
    "            indices = zip(tags[i], texts[i])\n",
    "            for first, second in indices:\n",
    "                B[first][second] += 1\n",
    "    for row in B:\n",
    "        denominator = torch.sum(row) + (delta * self.V)\n",
    "        if denominator != 0:\n",
    "            for i in range(self.V):\n",
    "                row[i] = (row[i] + delta) / (denominator)\n",
    "    #print(B)\n",
    "    return B\n",
    "\n",
    "  def train_all(self, iterator, delta=0.01):\n",
    "    \"\"\"Stores A and B (actually, their logs) for training dataset `iterator`.\"\"\"\n",
    "    self.log_A = self.train_A(iterator, delta).log()\n",
    "    self.log_B = self.train_B(iterator, delta).log()\n",
    "    \n",
    "  def predict(self, words):\n",
    "        \"\"\"Returns the most likely sequence of tags for a sequence of `words`.\n",
    "        Arguments:\n",
    "          words: a tensor of size (seq_len,)\n",
    "        Returns:\n",
    "          a list of tag ids\n",
    "        \"\"\"\n",
    "        #TODO: Add your solution from Goal 1 (c) here.\n",
    "        #      The returned value should be a list of tag ids.\n",
    "        seq_len = len(words)\n",
    "        backpointerArr = torch.zeros(self.N, seq_len, device=device)\n",
    "        \n",
    "        tagSequence = torch.zeros(self.N, seq_len, device=device)\n",
    "\n",
    "        for row in range(self.N):\n",
    "            tagSequence[row][0] = -math.inf\n",
    "        tagSequence[self.initial_state_id][0] = 1\n",
    "\n",
    "        for col in range(1, seq_len):\n",
    "            for row in range(self.N):\n",
    "                prev = self.log_A[: , row] + tagSequence[: , col-1]\n",
    "                tagSequence[row][col] = self.log_B[row][words[col]] + torch.max(prev) \n",
    "                backpointerArr[row][col] = torch.argmax(prev)\n",
    "\n",
    "        bestpath = torch.zeros(len(words), device=device)\n",
    "        \n",
    "        lastCol = tagSequence[: , seq_len-1]\n",
    "        \n",
    "        maxTag = torch.argmax(lastCol)\n",
    "\n",
    "        columnCount = seq_len - 1\n",
    "\n",
    "        while columnCount >= 0:\n",
    "            bestpath[columnCount] = maxTag\n",
    "            maxTag = int(backpointerArr[maxTag][columnCount])\n",
    "            columnCount -= 1\n",
    "        \n",
    "        return bestpath\n",
    "    \n",
    "  def evaluate(self, iterator):\n",
    "    \"\"\"Returns the model's token accuracy on a given dataset `iterator`.\"\"\"\n",
    "    correct = 0\n",
    "    total = 0\n",
    "    for batch in tqdm(iterator, leave=False):\n",
    "      for sent_id in range(len(batch)):\n",
    "        words = batch.text[:, sent_id]\n",
    "        words = words[words.ne(self.pad_word_id)] # remove paddings\n",
    "        tags_gold = batch.tag[:, sent_id]\n",
    "        tags_pred = self.predict(words)\n",
    "        for tag_gold, tag_pred in zip(tags_gold, tags_pred):\n",
    "          if tag_gold == self.pad_state_id:  # stop once we hit padding\n",
    "            break\n",
    "          else:\n",
    "            total += 1\n",
    "            if tag_pred == tag_gold:\n",
    "              correct += 1\n",
    "    return correct/total"
   ]
  },
  {
   "cell_type": "markdown",
   "metadata": {
    "colab_type": "text"
   },
   "source": [
    "Putting everything together, you should now be able to train and evaluate the HMM. A correct implementation can be expected to reach above **90% test set accuracy** after running the following cell."
   ]
  },
  {
   "cell_type": "code",
   "execution_count": 85,
   "metadata": {
    "colab": {},
    "colab_type": "code"
   },
   "outputs": [
    {
     "data": {
      "application/vnd.jupyter.widget-view+json": {
       "model_id": "",
       "version_major": 2,
       "version_minor": 0
      },
      "text/plain": [
       "  0%|          | 0/214 [00:00<?, ?it/s]"
      ]
     },
     "metadata": {},
     "output_type": "display_data"
    },
    {
     "data": {
      "application/vnd.jupyter.widget-view+json": {
       "model_id": "",
       "version_major": 2,
       "version_minor": 0
      },
      "text/plain": [
       "  0%|          | 0/30 [00:00<?, ?it/s]"
      ]
     },
     "metadata": {},
     "output_type": "display_data"
    },
    {
     "name": "stdout",
     "output_type": "stream",
     "text": [
      "Training accuracy: 0.915\n",
      "Test accuracy:     0.906\n"
     ]
    }
   ],
   "source": [
    "# Instantiate and train classifier\n",
    "hmm_tagger = HMMTagger(TEXT, TAG)\n",
    "hmm_tagger.train_all(train_iter)\n",
    "\n",
    "# Evaluate model performance\n",
    "print(f'Training accuracy: {hmm_tagger.evaluate(train_iter):.3f}\\n'\n",
    "      f'Test accuracy:     {hmm_tagger.evaluate(test_iter):.3f}')"
   ]
  },
  {
   "cell_type": "markdown",
   "metadata": {
    "colab_type": "text"
   },
   "source": [
    "# RNN for Sequence Labeling\n",
    "\n",
    "HMMs work quite well for this sequence labeling task. Now let's take an alternative (and more trendy) approach: RNN/LSTM-based sequence labeling. Similar to the HMM part of this project, you will also need to train a model on the training data, and then use the trained model to decode and evaluate some testing data.\n",
    "\n",
    "<img src=\"https://github.com/nlp-course/data/raw/master/Resources/rnn-unfolded-figure.png\" width=600 align=right />\n",
    "\n",
    "After unfolding an RNN, the cell at time $t$ generates the observed output $\\vect{y}_t$ based on the input $\\vect{x}_t$ and the hidden state of the previous cell $\\vect{h}_{t-1}$, according to the following equations.\n",
    "\n",
    "\\begin{align*}\n",
    "\\vect{h}_t &=  \\sigma(\\vect{U} \\vect{x}_t + \\vect{V} \\vect{h}_{t-1}) \\\\\n",
    "\\vect{\\hat y}_t &= \\softmax(\\vect{W} \\vect{h}_t)\n",
    "\\end{align*}\n",
    "\n",
    "The parameters here are the elements of the matrices $\\vect{U}$, $\\vect{V}$, and $\\vect{W}$. Similar to the last project segment, we will perform the forward computation, calculate the loss, and then perform the backward computation to compute the gradients with respect to these model parameters. Finally, we will adjust the parameters opposite the direction of the gradients to minimize the loss, repeating until convergence.\n",
    "\n",
    "You've seen these kinds of neural network models before, for language modeling in lab 2-3 and sequence labeling in lab 2-5. The code there should be very helpful in implementing an `RNNTagger` class below. Consequently, we've provided very little guidance on the implementation. We do recommend you follow the steps below however."
   ]
  },
  {
   "cell_type": "markdown",
   "metadata": {
    "colab_type": "text"
   },
   "source": [
    "## Goal 2(a): RNN training\n",
    "\n",
    "Implement the forward pass of the RNN tagger and the loss function. A reasonable way to proceed is to implement the following methods:\n",
    "\n",
    "1. `forward(self, text_batch)`: Performs the RNN forward computation over a whole `text_batch` (`batch.text` in the above data loading example). The `text_batch` will be of shape `max_length x batch_size`. You might run it through the following layers: an embedding layer, which maps each token index to an embedding of size `embedding_size` (so that the size of the mapped batch becomes `max_length x batch_size x embedding_size`); then an RNN, which maps each token embedding to a vector of `hidden_size` (the size of all outputs is `max_length x batch_size x hidden_size`); then a linear layer, which maps each RNN output element to a vector of size $N$ (which is commonly referred to as \"logits\", recall that $N=|Q|$, the size of the tag set).\n",
    "\n",
    "This function is expected to return `logits`, which provides a logit for each tag of each word of each sentence in the batch (structured as a tensor of size `max_length x batch_size x N`). \n",
    "\n",
    "> You might find the following functions useful: \n",
    ">\n",
    "> * [`nn.Embedding`](https://pytorch.org/docs/stable/generated/torch.nn.Embedding.html)\n",
    "> * [`nn.Linear`](https://pytorch.org/docs/stable/generated/torch.nn.Linear.html)\n",
    "> * [`nn.RNN`](https://pytorch.org/docs/stable/generated/torch.nn.RNN.html)\n",
    "\n",
    "2. `compute_loss(self, logits, tags)`: Computes the loss for a batch by comparing `logits` of a batch returned by `forward` to `tags`, which stores the true tag ids for the batch. Thus `logits` is a tensor of size `max_length x batch_size x N`, and `tags` is a tensor of size `max_length x batch_size`. Note that the criterion functions in `torch` expect outputs of a certain shape, so you might need to perform some shape conversions.\n",
    "\n",
    "> You might find [`nn.CrossEntropyLoss`](https://pytorch.org/docs/master/generated/torch.nn.CrossEntropyLoss.html) from the last project segment useful. Note that if you use `nn.CrossEntropyLoss` then you should not use a softmax layer at the end since that's already absorbed into the loss function. Alternatively, you can use [`nn.LogSoftmax`](https://pytorch.org/docs/stable/generated/torch.nn.LogSoftmax.html) as the final sublayer in the forward pass, but then you need to use [`nn.NLLLoss`](https://pytorch.org/docs/stable/generated/torch.nn.NLLLoss.html), which does not contain its own softmax. We recommend the former, since working in log space is usually more numerically stable.\n",
    "\n",
    "> Be careful about the shapes/dimensions of tensors. You might find [`torch.Tensor.view`](https://pytorch.org/docs/stable/tensors.html#torch.Tensor.view) useful for reshaping tensors.\n",
    "\n",
    "3. `train_all(self, train_iter, val_iter, epochs=10, learning_rate=0.001)`: Trains the model on training data generated by the iterator `train_iter` and validation data `val_iter`.The `epochs` and `learning_rate` variables are the number of epochs (number of times to run through the training data) to run for and the learning rate for the optimizer, respectively. You can use the validation data to determine which model was the best one as the epocks go by. Notice that our code below assumes that during training the best model is stored so that `rnn_tagger.load_state_dict(rnn_tagger.best_model)` restores the parameters of the best model."
   ]
  },
  {
   "cell_type": "markdown",
   "metadata": {
    "colab_type": "text"
   },
   "source": [
    "## Goal 2(b) RNN decoding\n",
    "\n",
    "Implement a method to predict the tag sequence associated with a sequence of words:\n",
    "\n",
    "1. `predict(self, text_batch)`: Returns the batched predicted tag sequences associated with a batch of sentences.\n",
    "2. `def evaluate(self, iterator)`: Returns the accuracy of the trained tagger on a dataset provided by `iterator`."
   ]
  },
  {
   "cell_type": "code",
   "execution_count": 86,
   "metadata": {
    "colab": {},
    "colab_type": "code"
   },
   "outputs": [],
   "source": [
    "class RNNTagger(nn.Module): \n",
    "    def __init__(self, text, tag, embedding_size, hidden_size):\n",
    "        super().__init__()\n",
    "        self.text = text\n",
    "        self.tag = tag\n",
    "        self.N = len(tag.vocab.itos)   \n",
    "        self.V = len(text.vocab.itos) \n",
    "        self.embedding_size = embedding_size\n",
    "        self.hidden_size = hidden_size\n",
    "\n",
    "        self.word_embeddings = nn.Embedding(self.V, embedding_size)\n",
    "        self.rnn = nn.RNN(input_size=embedding_size, \n",
    "                          hidden_size=hidden_size,\n",
    "                          bidirectional=True)\n",
    "        self.hidden2output = nn.Linear(hidden_size*2, self.N)\n",
    "\n",
    "        pad_id = self.tag.vocab.stoi[self.tag.pad_token]\n",
    "        self.loss_function = nn.CrossEntropyLoss(reduction='sum', ignore_index=pad_id)\n",
    "\n",
    "        self.init_parameters()\n",
    "        \n",
    "    def init_parameters(self, init_low=-0.15, init_high=0.15):\n",
    "        \"\"\"Initialize parameters. We usually use larger initial values for smaller models.\n",
    "        See http://proceedings.mlr.press/v9/glorot10a/glorot10a.pdf for a more\n",
    "        in-depth discussion.\n",
    "        \"\"\"\n",
    "        for p in self.parameters():\n",
    "            p.data.uniform_(init_low, init_high)\n",
    "\n",
    "    def forward(self, text_batch):\n",
    "        hidden = None\n",
    "        logits = self.hidden2output(self.rnn(self.word_embeddings(text_batch),hidden)[0])\n",
    "        return logits\n",
    "\n",
    "    def compute_loss(self, logits, tags):\n",
    "        return self.loss_function(logits.view(-1, self.N), tags.view(-1))\n",
    "\n",
    "    def train_all(self, train_iter, val_iter, epochs = 10, learning_rate = 0.001):\n",
    "        self.train()\n",
    "        optim = torch.optim.Adam(self.parameters(), lr=learning_rate)\n",
    "        best_validation_accuracy = -float('inf')\n",
    "        best_model = None\n",
    "        for epoch in range(epochs): \n",
    "          total = 0\n",
    "          running_loss = 0.0\n",
    "          for batch in tqdm(train_iter):\n",
    "            self.zero_grad()\n",
    "            words = batch.text \n",
    "            tags = batch.tag  \n",
    "            logits = self.forward(words)\n",
    "            loss = self.compute_loss(logits, tags)\n",
    "            (loss/words.size(1)).backward()\n",
    "            optim.step()\n",
    "            total += 1\n",
    "            running_loss += loss.item()\n",
    "\n",
    "          \n",
    "          validation_accuracy = self.evaluate(val_iter)\n",
    "          if validation_accuracy > best_validation_accuracy:\n",
    "            best_validation_accuracy = validation_accuracy\n",
    "            self.best_model = copy.deepcopy(self.state_dict())\n",
    "          epoch_loss = running_loss / total\n",
    "          print (f'Epoch: {epoch} Loss: {epoch_loss:.4f} '\n",
    "                 f'Validation accuracy: {validation_accuracy:.4f}')\n",
    "    def predict(self, text_batch):\n",
    "        \"\"\"Returns the most likely sequence of tags for a sequence of words in `text_batch`.\n",
    "\n",
    "        Arguments: \n",
    "          text_batch: a tensor containing word ids of size (seq_len, 1) \n",
    "        Returns:\n",
    "          tag_batch: a tensor containing tag ids of size (seq_len, 1)\n",
    "        \"\"\"\n",
    "        #TODO: your code below\n",
    "        logits = self.forward(text_batch)\n",
    "        tag_batch = torch.argmax(logits, dim = 2)\n",
    "        return tag_batch\n",
    "\n",
    "    def evaluate(self, iterator):\n",
    "        \"\"\"Returns the model's performance on a given dataset `iterator`.\n",
    "\n",
    "        Arguments: \n",
    "          iterator\n",
    "        Returns:\n",
    "          overall accuracy, and precision, recall, and F1 for comma\n",
    "        \"\"\"\n",
    "        correct = 0\n",
    "        total = 0\n",
    "        pad_id = TAG.vocab.stoi[TAG.pad_token]\n",
    "        for batch in tqdm(iterator):\n",
    "          words = batch.text\n",
    "          tags = batch.tag\n",
    "          tags_pred = self.predict(words)\n",
    "          mask = tags.ne(pad_id)\n",
    "          cor = (tags == tags_pred)[mask]\n",
    "          correct += cor.float().sum().item()\n",
    "          total += mask.float().sum().item()\n",
    "\n",
    "        return correct/total"
   ]
  },
  {
   "cell_type": "markdown",
   "metadata": {
    "colab_type": "text"
   },
   "source": [
    "Now train your tagger on the training and validation set.\n",
    "Run the cell below to train an RNN, and evaluate it. A proper implementation should reach about **95%+ accuracy**."
   ]
  },
  {
   "cell_type": "code",
   "execution_count": 87,
   "metadata": {
    "colab": {},
    "colab_type": "code"
   },
   "outputs": [
    {
     "data": {
      "application/vnd.jupyter.widget-view+json": {
       "model_id": "f51e55ab0a4c49cabf68973aac4b74a5",
       "version_major": 2,
       "version_minor": 0
      },
      "text/plain": [
       "  0%|          | 0/214 [00:00<?, ?it/s]"
      ]
     },
     "metadata": {},
     "output_type": "display_data"
    },
    {
     "data": {
      "application/vnd.jupyter.widget-view+json": {
       "model_id": "5aa812acba004fa1bc2cbcf8e188ae74",
       "version_major": 2,
       "version_minor": 0
      },
      "text/plain": [
       "  0%|          | 0/29 [00:00<?, ?it/s]"
      ]
     },
     "metadata": {},
     "output_type": "display_data"
    },
    {
     "name": "stdout",
     "output_type": "stream",
     "text": [
      "Epoch: 0 Loss: 447.2533 Validation accuracy: 0.8167\n"
     ]
    },
    {
     "data": {
      "application/vnd.jupyter.widget-view+json": {
       "model_id": "524100062f6043c1b5144c25ac88fc17",
       "version_major": 2,
       "version_minor": 0
      },
      "text/plain": [
       "  0%|          | 0/214 [00:00<?, ?it/s]"
      ]
     },
     "metadata": {},
     "output_type": "display_data"
    },
    {
     "data": {
      "application/vnd.jupyter.widget-view+json": {
       "model_id": "748c784dba144b968de1a0660fed0146",
       "version_major": 2,
       "version_minor": 0
      },
      "text/plain": [
       "  0%|          | 0/29 [00:00<?, ?it/s]"
      ]
     },
     "metadata": {},
     "output_type": "display_data"
    },
    {
     "name": "stdout",
     "output_type": "stream",
     "text": [
      "Epoch: 1 Loss: 163.7799 Validation accuracy: 0.9200\n"
     ]
    },
    {
     "data": {
      "application/vnd.jupyter.widget-view+json": {
       "model_id": "007017cb52524d97b24cbb1427815e61",
       "version_major": 2,
       "version_minor": 0
      },
      "text/plain": [
       "  0%|          | 0/214 [00:00<?, ?it/s]"
      ]
     },
     "metadata": {},
     "output_type": "display_data"
    },
    {
     "data": {
      "application/vnd.jupyter.widget-view+json": {
       "model_id": "69212544d9dd4c399ea76c5339deefb3",
       "version_major": 2,
       "version_minor": 0
      },
      "text/plain": [
       "  0%|          | 0/29 [00:00<?, ?it/s]"
      ]
     },
     "metadata": {},
     "output_type": "display_data"
    },
    {
     "name": "stdout",
     "output_type": "stream",
     "text": [
      "Epoch: 2 Loss: 85.5635 Validation accuracy: 0.9441\n"
     ]
    },
    {
     "data": {
      "application/vnd.jupyter.widget-view+json": {
       "model_id": "af9619f640cb41c0b00360b73b055594",
       "version_major": 2,
       "version_minor": 0
      },
      "text/plain": [
       "  0%|          | 0/214 [00:00<?, ?it/s]"
      ]
     },
     "metadata": {},
     "output_type": "display_data"
    },
    {
     "data": {
      "application/vnd.jupyter.widget-view+json": {
       "model_id": "e245cd78e6f54d0ebff2b2e5aae55eb4",
       "version_major": 2,
       "version_minor": 0
      },
      "text/plain": [
       "  0%|          | 0/29 [00:00<?, ?it/s]"
      ]
     },
     "metadata": {},
     "output_type": "display_data"
    },
    {
     "name": "stdout",
     "output_type": "stream",
     "text": [
      "Epoch: 3 Loss: 57.4101 Validation accuracy: 0.9543\n"
     ]
    },
    {
     "data": {
      "application/vnd.jupyter.widget-view+json": {
       "model_id": "58ea3a43851545e58938452ee0f0b278",
       "version_major": 2,
       "version_minor": 0
      },
      "text/plain": [
       "  0%|          | 0/214 [00:00<?, ?it/s]"
      ]
     },
     "metadata": {},
     "output_type": "display_data"
    },
    {
     "data": {
      "application/vnd.jupyter.widget-view+json": {
       "model_id": "59bbf885291e49acb8a0e05a07281ad7",
       "version_major": 2,
       "version_minor": 0
      },
      "text/plain": [
       "  0%|          | 0/29 [00:00<?, ?it/s]"
      ]
     },
     "metadata": {},
     "output_type": "display_data"
    },
    {
     "name": "stdout",
     "output_type": "stream",
     "text": [
      "Epoch: 4 Loss: 42.9645 Validation accuracy: 0.9621\n"
     ]
    },
    {
     "data": {
      "application/vnd.jupyter.widget-view+json": {
       "model_id": "78fef3ea7ebd47e2ba3a8b7d0f590c8a",
       "version_major": 2,
       "version_minor": 0
      },
      "text/plain": [
       "  0%|          | 0/214 [00:00<?, ?it/s]"
      ]
     },
     "metadata": {},
     "output_type": "display_data"
    },
    {
     "data": {
      "application/vnd.jupyter.widget-view+json": {
       "model_id": "f782788ade2649019aedb4bcab166a18",
       "version_major": 2,
       "version_minor": 0
      },
      "text/plain": [
       "  0%|          | 0/29 [00:00<?, ?it/s]"
      ]
     },
     "metadata": {},
     "output_type": "display_data"
    },
    {
     "name": "stdout",
     "output_type": "stream",
     "text": [
      "Epoch: 5 Loss: 33.8012 Validation accuracy: 0.9685\n"
     ]
    },
    {
     "data": {
      "application/vnd.jupyter.widget-view+json": {
       "model_id": "1cc1c13e399c426c9cfae68eac5a7d6e",
       "version_major": 2,
       "version_minor": 0
      },
      "text/plain": [
       "  0%|          | 0/214 [00:00<?, ?it/s]"
      ]
     },
     "metadata": {},
     "output_type": "display_data"
    },
    {
     "data": {
      "application/vnd.jupyter.widget-view+json": {
       "model_id": "2595a23c7fed490eb1b26c5b0267ec26",
       "version_major": 2,
       "version_minor": 0
      },
      "text/plain": [
       "  0%|          | 0/29 [00:00<?, ?it/s]"
      ]
     },
     "metadata": {},
     "output_type": "display_data"
    },
    {
     "name": "stdout",
     "output_type": "stream",
     "text": [
      "Epoch: 6 Loss: 27.4417 Validation accuracy: 0.9733\n"
     ]
    },
    {
     "data": {
      "application/vnd.jupyter.widget-view+json": {
       "model_id": "75c363410dc443e98fd147fb344afa01",
       "version_major": 2,
       "version_minor": 0
      },
      "text/plain": [
       "  0%|          | 0/214 [00:00<?, ?it/s]"
      ]
     },
     "metadata": {},
     "output_type": "display_data"
    },
    {
     "data": {
      "application/vnd.jupyter.widget-view+json": {
       "model_id": "eb188275e4864babaeb1517cb2135e3e",
       "version_major": 2,
       "version_minor": 0
      },
      "text/plain": [
       "  0%|          | 0/29 [00:00<?, ?it/s]"
      ]
     },
     "metadata": {},
     "output_type": "display_data"
    },
    {
     "name": "stdout",
     "output_type": "stream",
     "text": [
      "Epoch: 7 Loss: 22.5431 Validation accuracy: 0.9779\n"
     ]
    },
    {
     "data": {
      "application/vnd.jupyter.widget-view+json": {
       "model_id": "5da999d5e9184426a855649541086701",
       "version_major": 2,
       "version_minor": 0
      },
      "text/plain": [
       "  0%|          | 0/214 [00:00<?, ?it/s]"
      ]
     },
     "metadata": {},
     "output_type": "display_data"
    },
    {
     "data": {
      "application/vnd.jupyter.widget-view+json": {
       "model_id": "ee5b2101886e4f6fa51d93455a2ceeca",
       "version_major": 2,
       "version_minor": 0
      },
      "text/plain": [
       "  0%|          | 0/29 [00:00<?, ?it/s]"
      ]
     },
     "metadata": {},
     "output_type": "display_data"
    },
    {
     "name": "stdout",
     "output_type": "stream",
     "text": [
      "Epoch: 8 Loss: 18.9634 Validation accuracy: 0.9794\n"
     ]
    },
    {
     "data": {
      "application/vnd.jupyter.widget-view+json": {
       "model_id": "72240a511548493aa6f4a206fd882b1f",
       "version_major": 2,
       "version_minor": 0
      },
      "text/plain": [
       "  0%|          | 0/214 [00:00<?, ?it/s]"
      ]
     },
     "metadata": {},
     "output_type": "display_data"
    },
    {
     "data": {
      "application/vnd.jupyter.widget-view+json": {
       "model_id": "82f0c01f9b7d401c84f30ea13e7f0982",
       "version_major": 2,
       "version_minor": 0
      },
      "text/plain": [
       "  0%|          | 0/29 [00:00<?, ?it/s]"
      ]
     },
     "metadata": {},
     "output_type": "display_data"
    },
    {
     "name": "stdout",
     "output_type": "stream",
     "text": [
      "Epoch: 9 Loss: 16.1390 Validation accuracy: 0.9806\n"
     ]
    },
    {
     "data": {
      "application/vnd.jupyter.widget-view+json": {
       "model_id": "ca6ace9cfa114e0f8c1d2b20a55d7cc7",
       "version_major": 2,
       "version_minor": 0
      },
      "text/plain": [
       "  0%|          | 0/214 [00:00<?, ?it/s]"
      ]
     },
     "metadata": {},
     "output_type": "display_data"
    },
    {
     "data": {
      "application/vnd.jupyter.widget-view+json": {
       "model_id": "9e30d0d05f314639a3fc79fad87e9a05",
       "version_major": 2,
       "version_minor": 0
      },
      "text/plain": [
       "  0%|          | 0/30 [00:00<?, ?it/s]"
      ]
     },
     "metadata": {},
     "output_type": "display_data"
    },
    {
     "name": "stdout",
     "output_type": "stream",
     "text": [
      "Training accuracy: 0.990\n",
      "Test accuracy:     0.979\n"
     ]
    }
   ],
   "source": [
    "# Instantiate and train classifier\n",
    "rnn_tagger = RNNTagger(TEXT, TAG, embedding_size=36, hidden_size=36).to(device)\n",
    "rnn_tagger.train_all(train_iter, val_iter, epochs=10, learning_rate=0.001)\n",
    "rnn_tagger.load_state_dict(rnn_tagger.best_model)\n",
    "\n",
    "# Evaluate model performance\n",
    "print(f'Training accuracy: {rnn_tagger.evaluate(train_iter):.3f}\\n'\n",
    "      f'Test accuracy:     {rnn_tagger.evaluate(test_iter):.3f}')"
   ]
  },
  {
   "cell_type": "markdown",
   "metadata": {
    "colab_type": "text"
   },
   "source": [
    "# LSTM for slot filling\n",
    "\n",
    "Did your RNN perform better than HMM? How much better was it? Was that expected? \n",
    "\n",
    "RNNs tend to exhibit the [vanishing gradient problem](https://en.wikipedia.org/wiki/Vanishing_gradient_problem). To remedy this, the Long-Short Term Memory (LSTM) model was introduced. In PyTorch, we can simply use [`nn.LSTM`](https://pytorch.org/docs/stable/generated/torch.nn.LSTM.html). \n",
    "\n",
    "In this section, you'll implement an LSTM model for slot filling. If you've got the RNN model well implemented, this should be extremely straightforward. Just copy and paste your solution, change the call to `nn.RNN` to a call to `nn.LSTM`, and make any other minor adjustments that are necessary. In particular, LSTMs have _two_ recurrent parts, `h` and `c`. You'll thus need to initialize both of these when performing forward computations."
   ]
  },
  {
   "cell_type": "code",
   "execution_count": 88,
   "metadata": {
    "colab": {},
    "colab_type": "code"
   },
   "outputs": [],
   "source": [
    "class LSTMTagger(nn.Module):\n",
    "    def __init__(self, text, tag, embedding_size, hidden_size):\n",
    "        super().__init__()\n",
    "        self.text = text\n",
    "        self.tag = tag\n",
    "        self.N = len(tag.vocab.itos)   \n",
    "        self.V = len(text.vocab.itos)  \n",
    "        self.embedding_size = embedding_size\n",
    "        self.hidden_size = hidden_size\n",
    "\n",
    "        self.word_embeddings = nn.Embedding(self.V, embedding_size)\n",
    "        self.lstm = nn.LSTM(input_size=embedding_size, \n",
    "                          hidden_size=hidden_size,\n",
    "                          bidirectional=True)\n",
    "        self.hidden2output = nn.Linear(hidden_size*2, self.N)\n",
    "\n",
    "        pad_id = self.tag.vocab.stoi[self.tag.pad_token]\n",
    "        self.loss_function = nn.CrossEntropyLoss(reduction='sum', ignore_index=pad_id)\n",
    "\n",
    "        self.init_parameters()\n",
    "    def init_parameters(self, init_low=-0.15, init_high=0.15):\n",
    "        \"\"\"Initialize parameters. We usually use larger initial values for smaller models.\n",
    "        See http://proceedings.mlr.press/v9/glorot10a/glorot10a.pdf for a more\n",
    "        in-depth discussion.\n",
    "        \"\"\"\n",
    "        for p in self.parameters():\n",
    "            p.data.uniform_(init_low, init_high)\n",
    "\n",
    "    def forward(self, text_batch):\n",
    "        hidden = None\n",
    "        logits = self.hidden2output(self.lstm(self.word_embeddings(text_batch),hidden)[0])\n",
    "        return logits\n",
    "\n",
    "    def compute_loss(self, logits, tags):\n",
    "        return self.loss_function(logits.view(-1, self.N), tags.view(-1))\n",
    "\n",
    "    def train_all(self, train_iter, val_iter, epochs = 10, learning_rate = 0.001):\n",
    "        self.train()\n",
    "        optim = torch.optim.Adam(self.parameters(), lr=learning_rate)\n",
    "        best_validation_accuracy = -float('inf')\n",
    "        best_model = None\n",
    "        for epoch in range(epochs): \n",
    "          total = 0\n",
    "          running_loss = 0.0\n",
    "          for batch in tqdm(train_iter):\n",
    "            self.zero_grad()\n",
    "            words = batch.text \n",
    "            tags = batch.tag   \n",
    "            logits = self.forward(words)\n",
    "            loss = self.compute_loss(logits, tags)\n",
    "            (loss/words.size(1)).backward()\n",
    "            optim.step()\n",
    "            total += 1\n",
    "            running_loss += loss.item()\n",
    "\n",
    "          validation_accuracy = self.evaluate(val_iter)\n",
    "          if validation_accuracy > best_validation_accuracy:\n",
    "            best_validation_accuracy = validation_accuracy\n",
    "            self.best_model = copy.deepcopy(self.state_dict())\n",
    "          epoch_loss = running_loss / total\n",
    "          print (f'Epoch: {epoch} Loss: {epoch_loss:.4f} '\n",
    "                 f'Validation accuracy: {validation_accuracy:.4f}')\n",
    "    def predict(self, text_batch):\n",
    "        \"\"\"Returns the most likely sequence of tags for a sequence of words in `text_batch`.\n",
    "\n",
    "        Arguments: \n",
    "          text_batch: a tensor containing word ids of size (seq_len, 1) \n",
    "        Returns:\n",
    "          tag_batch: a tensor containing tag ids of size (seq_len, 1)\n",
    "        \"\"\"\n",
    "        #TODO: your code below\n",
    "        logits = self.forward(text_batch)\n",
    "        tag_batch = torch.argmax(logits, dim = 2)\n",
    "        return tag_batch\n",
    "\n",
    "    def evaluate(self, iterator):\n",
    "        \"\"\"Returns the model's performance on a given dataset `iterator`.\n",
    "\n",
    "        Arguments: \n",
    "          iterator\n",
    "        Returns:\n",
    "          overall accuracy, and precision, recall, and F1 for comma\n",
    "        \"\"\"\n",
    "        correct = 0\n",
    "        total = 0\n",
    "        pad_id = TAG.vocab.stoi[TAG.pad_token]\n",
    "        for batch in tqdm(iterator):\n",
    "          words = batch.text\n",
    "          tags = batch.tag\n",
    "          tags_pred = self.predict(words)\n",
    "          mask = tags.ne(pad_id)\n",
    "          cor = (tags == tags_pred)[mask]\n",
    "          correct += cor.float().sum().item()\n",
    "          total += mask.float().sum().item()\n",
    "\n",
    "        return correct/total"
   ]
  },
  {
   "cell_type": "markdown",
   "metadata": {
    "colab_type": "text"
   },
   "source": [
    "Run the cell below to train an LSTM, and evaluate it. A proper implementation should reach about **95%+ accuracy**."
   ]
  },
  {
   "cell_type": "code",
   "execution_count": 89,
   "metadata": {
    "colab": {},
    "colab_type": "code"
   },
   "outputs": [
    {
     "data": {
      "application/vnd.jupyter.widget-view+json": {
       "model_id": "cb4e99a048574eecb0fff3da60bab88e",
       "version_major": 2,
       "version_minor": 0
      },
      "text/plain": [
       "  0%|          | 0/214 [00:00<?, ?it/s]"
      ]
     },
     "metadata": {},
     "output_type": "display_data"
    },
    {
     "data": {
      "application/vnd.jupyter.widget-view+json": {
       "model_id": "97c6b12dd29e4589a1acb6765bdbc521",
       "version_major": 2,
       "version_minor": 0
      },
      "text/plain": [
       "  0%|          | 0/29 [00:00<?, ?it/s]"
      ]
     },
     "metadata": {},
     "output_type": "display_data"
    },
    {
     "name": "stdout",
     "output_type": "stream",
     "text": [
      "Epoch: 0 Loss: 563.2500 Validation accuracy: 0.7927\n"
     ]
    },
    {
     "data": {
      "application/vnd.jupyter.widget-view+json": {
       "model_id": "2fe883f8045243659c53e1c83ecc249b",
       "version_major": 2,
       "version_minor": 0
      },
      "text/plain": [
       "  0%|          | 0/214 [00:00<?, ?it/s]"
      ]
     },
     "metadata": {},
     "output_type": "display_data"
    },
    {
     "data": {
      "application/vnd.jupyter.widget-view+json": {
       "model_id": "a9a3f0ce8e0349bcbad1a216662f6d1b",
       "version_major": 2,
       "version_minor": 0
      },
      "text/plain": [
       "  0%|          | 0/29 [00:00<?, ?it/s]"
      ]
     },
     "metadata": {},
     "output_type": "display_data"
    },
    {
     "name": "stdout",
     "output_type": "stream",
     "text": [
      "Epoch: 1 Loss: 225.6449 Validation accuracy: 0.8561\n"
     ]
    },
    {
     "data": {
      "application/vnd.jupyter.widget-view+json": {
       "model_id": "551b4fe58d3c4787a992a69f490b9efa",
       "version_major": 2,
       "version_minor": 0
      },
      "text/plain": [
       "  0%|          | 0/214 [00:00<?, ?it/s]"
      ]
     },
     "metadata": {},
     "output_type": "display_data"
    },
    {
     "data": {
      "application/vnd.jupyter.widget-view+json": {
       "model_id": "9e63552588de422c8cfa3126698ccdec",
       "version_major": 2,
       "version_minor": 0
      },
      "text/plain": [
       "  0%|          | 0/29 [00:00<?, ?it/s]"
      ]
     },
     "metadata": {},
     "output_type": "display_data"
    },
    {
     "name": "stdout",
     "output_type": "stream",
     "text": [
      "Epoch: 2 Loss: 149.2456 Validation accuracy: 0.9159\n"
     ]
    },
    {
     "data": {
      "application/vnd.jupyter.widget-view+json": {
       "model_id": "8972b6fd2aaa4021a2ee68bceac085b4",
       "version_major": 2,
       "version_minor": 0
      },
      "text/plain": [
       "  0%|          | 0/214 [00:00<?, ?it/s]"
      ]
     },
     "metadata": {},
     "output_type": "display_data"
    },
    {
     "data": {
      "application/vnd.jupyter.widget-view+json": {
       "model_id": "353f7282b4544f88ad5a35acc8089dd2",
       "version_major": 2,
       "version_minor": 0
      },
      "text/plain": [
       "  0%|          | 0/29 [00:00<?, ?it/s]"
      ]
     },
     "metadata": {},
     "output_type": "display_data"
    },
    {
     "name": "stdout",
     "output_type": "stream",
     "text": [
      "Epoch: 3 Loss: 100.6718 Validation accuracy: 0.9368\n"
     ]
    },
    {
     "data": {
      "application/vnd.jupyter.widget-view+json": {
       "model_id": "81081688d4744e868193517e31b8a5ed",
       "version_major": 2,
       "version_minor": 0
      },
      "text/plain": [
       "  0%|          | 0/214 [00:00<?, ?it/s]"
      ]
     },
     "metadata": {},
     "output_type": "display_data"
    },
    {
     "data": {
      "application/vnd.jupyter.widget-view+json": {
       "model_id": "4dd37540ceee4e9ab457411e1521796f",
       "version_major": 2,
       "version_minor": 0
      },
      "text/plain": [
       "  0%|          | 0/29 [00:00<?, ?it/s]"
      ]
     },
     "metadata": {},
     "output_type": "display_data"
    },
    {
     "name": "stdout",
     "output_type": "stream",
     "text": [
      "Epoch: 4 Loss: 71.5212 Validation accuracy: 0.9462\n"
     ]
    },
    {
     "data": {
      "application/vnd.jupyter.widget-view+json": {
       "model_id": "cad0a441c00e407ebe98e74211a0a61e",
       "version_major": 2,
       "version_minor": 0
      },
      "text/plain": [
       "  0%|          | 0/214 [00:00<?, ?it/s]"
      ]
     },
     "metadata": {},
     "output_type": "display_data"
    },
    {
     "data": {
      "application/vnd.jupyter.widget-view+json": {
       "model_id": "09f15b329e0a4eb1929ae2557228632d",
       "version_major": 2,
       "version_minor": 0
      },
      "text/plain": [
       "  0%|          | 0/29 [00:00<?, ?it/s]"
      ]
     },
     "metadata": {},
     "output_type": "display_data"
    },
    {
     "name": "stdout",
     "output_type": "stream",
     "text": [
      "Epoch: 5 Loss: 55.5904 Validation accuracy: 0.9549\n"
     ]
    },
    {
     "data": {
      "application/vnd.jupyter.widget-view+json": {
       "model_id": "bb43a08f85bd462f8282c5cdab9cb659",
       "version_major": 2,
       "version_minor": 0
      },
      "text/plain": [
       "  0%|          | 0/214 [00:00<?, ?it/s]"
      ]
     },
     "metadata": {},
     "output_type": "display_data"
    },
    {
     "data": {
      "application/vnd.jupyter.widget-view+json": {
       "model_id": "774d8928ba6f4b2bbdacf84b8cf628c5",
       "version_major": 2,
       "version_minor": 0
      },
      "text/plain": [
       "  0%|          | 0/29 [00:00<?, ?it/s]"
      ]
     },
     "metadata": {},
     "output_type": "display_data"
    },
    {
     "name": "stdout",
     "output_type": "stream",
     "text": [
      "Epoch: 6 Loss: 45.3408 Validation accuracy: 0.9605\n"
     ]
    },
    {
     "data": {
      "application/vnd.jupyter.widget-view+json": {
       "model_id": "b6589455a81648b89e4190605d59c857",
       "version_major": 2,
       "version_minor": 0
      },
      "text/plain": [
       "  0%|          | 0/214 [00:00<?, ?it/s]"
      ]
     },
     "metadata": {},
     "output_type": "display_data"
    },
    {
     "data": {
      "application/vnd.jupyter.widget-view+json": {
       "model_id": "c12601760b99445ea9a1c13ba0631709",
       "version_major": 2,
       "version_minor": 0
      },
      "text/plain": [
       "  0%|          | 0/29 [00:00<?, ?it/s]"
      ]
     },
     "metadata": {},
     "output_type": "display_data"
    },
    {
     "name": "stdout",
     "output_type": "stream",
     "text": [
      "Epoch: 7 Loss: 38.0416 Validation accuracy: 0.9658\n"
     ]
    },
    {
     "data": {
      "application/vnd.jupyter.widget-view+json": {
       "model_id": "0d8b97f6e84e479cb3380f80f2e48ef9",
       "version_major": 2,
       "version_minor": 0
      },
      "text/plain": [
       "  0%|          | 0/214 [00:00<?, ?it/s]"
      ]
     },
     "metadata": {},
     "output_type": "display_data"
    },
    {
     "data": {
      "application/vnd.jupyter.widget-view+json": {
       "model_id": "67a4eb0431ac4028bc48b61d54ac5bae",
       "version_major": 2,
       "version_minor": 0
      },
      "text/plain": [
       "  0%|          | 0/29 [00:00<?, ?it/s]"
      ]
     },
     "metadata": {},
     "output_type": "display_data"
    },
    {
     "name": "stdout",
     "output_type": "stream",
     "text": [
      "Epoch: 8 Loss: 32.2131 Validation accuracy: 0.9692\n"
     ]
    },
    {
     "data": {
      "application/vnd.jupyter.widget-view+json": {
       "model_id": "c68258719e344d999e28d3f6f3ef07b5",
       "version_major": 2,
       "version_minor": 0
      },
      "text/plain": [
       "  0%|          | 0/214 [00:00<?, ?it/s]"
      ]
     },
     "metadata": {},
     "output_type": "display_data"
    },
    {
     "data": {
      "application/vnd.jupyter.widget-view+json": {
       "model_id": "20f7fd62f5ba4092873f0395b4e8e42d",
       "version_major": 2,
       "version_minor": 0
      },
      "text/plain": [
       "  0%|          | 0/29 [00:00<?, ?it/s]"
      ]
     },
     "metadata": {},
     "output_type": "display_data"
    },
    {
     "name": "stdout",
     "output_type": "stream",
     "text": [
      "Epoch: 9 Loss: 27.5754 Validation accuracy: 0.9711\n"
     ]
    },
    {
     "data": {
      "application/vnd.jupyter.widget-view+json": {
       "model_id": "5641915dee6b479b84da516e0052ef4a",
       "version_major": 2,
       "version_minor": 0
      },
      "text/plain": [
       "  0%|          | 0/214 [00:00<?, ?it/s]"
      ]
     },
     "metadata": {},
     "output_type": "display_data"
    },
    {
     "data": {
      "application/vnd.jupyter.widget-view+json": {
       "model_id": "d7258dd623a147c78cde6cd4e90c7346",
       "version_major": 2,
       "version_minor": 0
      },
      "text/plain": [
       "  0%|          | 0/30 [00:00<?, ?it/s]"
      ]
     },
     "metadata": {},
     "output_type": "display_data"
    },
    {
     "name": "stdout",
     "output_type": "stream",
     "text": [
      "Training accuracy: 0.981\n",
      "Test accuracy:     0.973\n"
     ]
    }
   ],
   "source": [
    "# Instantiate and train classifier\n",
    "lstm_tagger = LSTMTagger(TEXT, TAG, embedding_size=36, hidden_size=36).to(device)\n",
    "lstm_tagger.train_all(train_iter, val_iter, epochs=10, learning_rate=0.001)\n",
    "lstm_tagger.load_state_dict(lstm_tagger.best_model)\n",
    "\n",
    "# Evaluate model performance\n",
    "print(f'Training accuracy: {lstm_tagger.evaluate(train_iter):.3f}\\n'\n",
    "      f'Test accuracy:     {lstm_tagger.evaluate(test_iter):.3f}')"
   ]
  },
  {
   "cell_type": "markdown",
   "metadata": {
    "colab_type": "text"
   },
   "source": [
    "# (Optional) Goal 4: Compare HMM to RNN/LSTM with different amounts of training data\n",
    "\n",
    "Vary the amount of training data and compare the performance of HMM to RNN or LSTM (Since RNN is similar to LSTM, picking one of them is enough.) Discuss the pros and cons of HMM and RNN/LSTM based on your experiments.\n",
    "\n",
    "> This part is more open-ended. We're looking for thoughtful experiments and analysis of the results, not any particular result or conclusion.\n",
    "\n",
    "The code below shows how to subsample the training set with downsample ratio `ratio`. To speedup evaluation we only use 50 test samples."
   ]
  },
  {
   "cell_type": "code",
   "execution_count": null,
   "metadata": {
    "colab": {},
    "colab_type": "code"
   },
   "outputs": [],
   "source": [
    "ratio = 0.1\n",
    "test_size = 50\n",
    "\n",
    "# Set random seeds to make sure subsampling is the same for HMM and RNN\n",
    "random.seed(seed)\n",
    "torch.manual_seed(seed)\n",
    "\n",
    "train, val, test = tt.datasets.SequenceTaggingDataset.splits(\n",
    "            fields=fields, \n",
    "            path='./data/', \n",
    "            train='atis.train.txt', \n",
    "            validation='atis.dev.txt',\n",
    "            test='atis.test.txt')\n",
    "\n",
    "# Subsample\n",
    "random.shuffle(train.examples)\n",
    "train.examples = train.examples[:int(math.floor(len(train.examples)*ratio))]\n",
    "random.shuffle(test.examples)\n",
    "test.examples = test.examples[:test_size]\n",
    "\n",
    "# Rebuild vocabulary\n",
    "TEXT.build_vocab(train.text, min_freq=MIN_FREQ)\n",
    "TAG.build_vocab(train.tag)"
   ]
  },
  {
   "cell_type": "code",
   "execution_count": null,
   "metadata": {
    "colab": {},
    "colab_type": "code"
   },
   "outputs": [],
   "source": [
    "..."
   ]
  },
  {
   "cell_type": "code",
   "execution_count": null,
   "metadata": {
    "colab": {},
    "colab_type": "code"
   },
   "outputs": [],
   "source": [
    "..."
   ]
  },
  {
   "cell_type": "code",
   "execution_count": null,
   "metadata": {
    "colab": {},
    "colab_type": "code"
   },
   "outputs": [],
   "source": [
    "..."
   ]
  },
  {
   "cell_type": "markdown",
   "id": "8aa45bd9",
   "metadata": {},
   "source": [
    "_Type your answer here, replacing this text._"
   ]
  },
  {
   "cell_type": "markdown",
   "metadata": {
    "deletable": false,
    "editable": false
   },
   "source": [
    "<!-- BEGIN QUESTION -->\n",
    "\n",
    "# Debrief\n",
    "\n",
    "**Question:** We're interested in any thoughts you have about this project segment so that we can improve it for later years, and to inform later segments for this year. Please list any issues that arose or comments you have to improve the project segment. Useful things to comment on include the following: \n",
    "\n",
    "* Was the project segment clear or unclear? Which portions?\n",
    "* Were the readings appropriate background for the project segment? \n",
    "* Are there additions or changes you think would make the project segment better?\n",
    "\n",
    "<!--\n",
    "BEGIN QUESTION\n",
    "name: open_response_debrief\n",
    "manual: true\n",
    "-->"
   ]
  },
  {
   "cell_type": "markdown",
   "id": "eb08522b",
   "metadata": {},
   "source": [
    "I think the project segments were very clear this time around. I didn't have too many questions on the implementations to use. The readings and lab segments were very helpful for this project segment. I was able to get a lot out of both parts and apply it to this project segment. I would say this project segment was overall well taught and accessible and wouldn't recommend any additions or changes to make the segment better. "
   ]
  },
  {
   "cell_type": "markdown",
   "metadata": {},
   "source": [
    "<!-- END QUESTION -->\n",
    "\n",
    "\n",
    "\n",
    "# Instructions for submission of the project segment\n",
    "\n",
    "This project segment should be submitted to Gradescope at <http://go.cs187.info/project2-submit-code> and <http://go.cs187.info/project2-submit-pdf>, which will be made available some time before the due date.\n",
    "\n",
    "Project segment notebooks are manually graded, not autograded using otter as labs are. (Otter is used within project segment notebooks to synchronize distribution and solution code however.) **We will not run your notebook before grading it.** Instead, we ask that you submit the already freshly run notebook. The best method is to \"restart kernel and run all cells\", allowing time for all cells to be run to completion. You should submit your code to Gradescope at the code submission assignment at <http://go.cs187.info/project2-submit-code>.\n",
    "\n",
    "We also request that you **submit a PDF of the freshly run notebook**. The simplest method is to use \"Export notebook to PDF\", which will render the notebook to PDF via LaTeX. If that doesn't work, the method that seems to be most reliable is to export the notebook as HTML (if you are using Jupyter Notebook, you can do so using `File -> Print Preview`), open the HTML in a browser, and print it to a file. Then make sure to add the file to your git commit. Please name the file the same name as this notebook, but with a `.pdf` extension. (Conveniently, the methods just described will use that name by default.) You can then perform a git commit and push and submit the commit to Gradescope at <http://go.cs187.info/project2-submit-pdf>."
   ]
  }
 ],
 "metadata": {
  "accelerator": "GPU",
  "colab": {
   "collapsed_sections": [],
   "include_colab_link": true,
   "name": "project2_sequence.ipynb",
   "provenance": []
  },
  "kernelspec": {
   "display_name": "Python 3 (ipykernel)",
   "language": "python",
   "name": "python3"
  },
  "language_info": {
   "codemirror_mode": {
    "name": "ipython",
    "version": 3
   },
   "file_extension": ".py",
   "mimetype": "text/x-python",
   "name": "python",
   "nbconvert_exporter": "python",
   "pygments_lexer": "ipython3",
   "version": "3.9.5"
  },
  "title": "CS187 Project Segment 2: Sequence labeling – The slot filling task"
 },
 "nbformat": 4,
 "nbformat_minor": 4
}
