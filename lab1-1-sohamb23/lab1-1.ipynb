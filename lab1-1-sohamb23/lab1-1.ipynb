{
 "cells": [
  {
   "cell_type": "code",
   "execution_count": 3,
   "id": "67956040",
   "metadata": {
    "deletable": false,
    "editable": false,
    "jupyter": {
     "outputs_hidden": true,
     "source_hidden": true
    }
   },
   "outputs": [
    {
     "name": "stdout",
     "output_type": "stream",
     "text": [
      "\n"
     ]
    }
   ],
   "source": [
    "# Please do not change this cell because some hidden tests might depend on it.\n",
    "import os\n",
    "\n",
    "# Otter grader does not handle ! commands well, so we define and use our\n",
    "# own function to execute shell commands.\n",
    "def shell(commands, warn=True):\n",
    "    \"\"\"Executes the string `commands` as a sequence of shell commands.\n",
    "     \n",
    "       Prints the result to stdout and returns the exit status. \n",
    "       Provides a printed warning on non-zero exit status unless `warn` \n",
    "       flag is unset.\n",
    "    \"\"\"\n",
    "    file = os.popen(commands)\n",
    "    print (file.read().rstrip('\\n'))\n",
    "    exit_status = file.close()\n",
    "    if warn and exit_status != None:\n",
    "        print(f\"Completed with errors. Exit status: {exit_status}\\n\")\n",
    "    return exit_status\n",
    "\n",
    "shell(\"\"\"\n",
    "ls requirements.txt >/dev/null 2>&1\n",
    "if [ ! $? = 0 ]; then\n",
    " rm -rf .tmp\n",
    " git clone https://github.com/cs187-2021/lab1-1.git .tmp\n",
    " mv .tmp/tests ./\n",
    " mv .tmp/requirements.txt ./\n",
    " rm -rf .tmp\n",
    "fi\n",
    "pip install -q -r requirements.txt\n",
    "\"\"\")"
   ]
  },
  {
   "cell_type": "code",
   "execution_count": null,
   "id": "60d11075",
   "metadata": {},
   "outputs": [],
   "source": []
  },
  {
   "cell_type": "code",
   "execution_count": null,
   "id": "67c95f1c",
   "metadata": {},
   "outputs": [],
   "source": []
  },
  {
   "cell_type": "code",
   "execution_count": 4,
   "id": "9d15c942",
   "metadata": {
    "deletable": false,
    "editable": false
   },
   "outputs": [],
   "source": [
    "# Initialize Otter\n",
    "import otter\n",
    "grader = otter.Notebook()"
   ]
  },
  {
   "cell_type": "markdown",
   "id": "9759fb2c",
   "metadata": {
    "tags": [
     "remove_for_latex"
    ]
   },
   "source": [
    "# CS187\n",
    "## Lab 1-1 – Types, tokens, and representing text"
   ]
  },
  {
   "cell_type": "code",
   "execution_count": 5,
   "id": "94864079",
   "metadata": {},
   "outputs": [],
   "source": [
    "import math\n",
    "import re\n",
    "import sys\n",
    "\n",
    "import torch\n",
    "import torchtext.legacy as tt"
   ]
  },
  {
   "cell_type": "markdown",
   "id": "70e0a4bc",
   "metadata": {},
   "source": [
    "Where we're headed: Nearest neighbor text classification works by classifying a novel text with the same class as that of the training text that is closest according to some distance metric. These metrics are calculated based on representations of the texts. In this lab, we'll introduce some different representations and you'll use nearest neighbor classification to predict the speaker of sentences selected from a children's book.\n",
    "    \n",
    "The objectives of this lab are to:\n",
    "\n",
    "* Clarify terminology around words and texts,\n",
    "* Manipulate different representations of words and texts,\n",
    "* Apply these representations to calculate text similarity, and\n",
    "* Classify documents by a simple nearest neighbor model.\n",
    "   \n",
    "In this and later labs, we will have you carry out several exercises in notebook cells. The cells you are to do are marked '`#TODO`'. They will typically have a `...` where your code or answer should go. Where specified, you needn't write code to calculate the answer, but instead, simply work out the answer yourself and enter it."
   ]
  },
  {
   "cell_type": "markdown",
   "id": "e3dd1207",
   "metadata": {},
   "source": [
    "New bits of Python used for the first time in the _solution set_ for this lab, and which you may therefore find useful:\n",
    "\n",
    "* `math.acos`\n",
    "* `math.pi`\n",
    "* `re.match`\n",
    "* `set`\n",
    "* `sorted`\n",
    "* `str.join`\n",
    "* `str.lower`\n",
    "* `torch.dot`\n",
    "* `torch.linalg.norm`\n",
    "* `torch.maximum`\n",
    "* `torch.minimum`\n",
    "* `torch.stack`\n",
    "* `torch.sum`\n",
    "* `torch.Tensor.type`\n",
    "* `torch.where`\n",
    "* `torch.zeros`\n",
    "* `torch.zeros_like`\n",
    "* `torchtext.data.get_tokenizer`"
   ]
  },
  {
   "cell_type": "markdown",
   "id": "5b158ada",
   "metadata": {},
   "source": [
    "# Counting words\n",
    "\n",
    "<img src=\"https://github.com/nlp-course/data/blob/master/Seuss/seuss%20-%201966%20-%20green%20eggs%20and%20ham.gif?raw=true\" width=150 align=right />\n",
    "\n",
    "Here are five sentences from Dr. Seuss's [_Green Eggs and Ham_](https://en.wikipedia.org/wiki/Green_Eggs_and_Ham):\n",
    "\n",
    "    Would you like them here or there?\n",
    "    I would not like them here or there.\n",
    "    I would not like them anywhere.\n",
    "    I do not like green eggs and ham.\n",
    "    I do not like them, Sam-I-am.\n",
    "\n",
    "We'll make this text available in the variable `text`."
   ]
  },
  {
   "cell_type": "code",
   "execution_count": 6,
   "id": "16ea9273",
   "metadata": {},
   "outputs": [],
   "source": [
    "text = \"\"\"\n",
    "    Would you like them here or there?\n",
    "    I would not like them here or there.\n",
    "    I would not like them anywhere.\n",
    "    I do not like green eggs and ham.\n",
    "    I do not like them, Sam-I-am.\n",
    "    \"\"\""
   ]
  },
  {
   "cell_type": "markdown",
   "id": "4473753f",
   "metadata": {
    "deletable": false,
    "editable": false
   },
   "source": [
    "A Python string like this is, of course, a sequence of characters. But we think of this text as a sequence of sentences each composed of a sequence of words. How many words are there in this text? That is a fraught question, for several reasons, including\n",
    "\n",
    "* The type-token distinction\n",
    "* Tokenization issues\n",
    "* Normalization\n",
    "\n",
    "## Types versus tokens\n",
    "\n",
    "In determining the number of words in `text`, are we talking about word _types_ or word _tokens_. (For instance, there are five _tokens_ of the word _type_ 'like'.)\n",
    "\n",
    "How many word tokens are there in total in this text? (Just count them manually.) Assign the number to the variable `token_count` in the next cell.\n",
    "<!--\n",
    "BEGIN QUESTION\n",
    "name: token_count\n",
    "-->"
   ]
  },
  {
   "cell_type": "code",
   "execution_count": 7,
   "id": "3bce29fd",
   "metadata": {},
   "outputs": [],
   "source": [
    "#TODO - define `token_count` to be the number of tokens in `text`\n",
    "token_count = 35"
   ]
  },
  {
   "cell_type": "code",
   "execution_count": 8,
   "id": "22f59c91",
   "metadata": {
    "deletable": false,
    "editable": false
   },
   "outputs": [
    {
     "data": {
      "text/html": [
       "\n",
       "    \n",
       "    \n",
       "        <p>All tests passed!</p>\n",
       "    \n",
       "    "
      ],
      "text/plain": [
       "\n",
       "    All tests passed!\n",
       "    "
      ]
     },
     "execution_count": 8,
     "metadata": {},
     "output_type": "execute_result"
    }
   ],
   "source": [
    "grader.check(\"token_count\")"
   ]
  },
  {
   "cell_type": "markdown",
   "id": "1f85fbae",
   "metadata": {
    "deletable": false,
    "editable": false
   },
   "source": [
    "How many word types are there? (Again, you can just count manually.)\n",
    "<!--\n",
    "BEGIN QUESTION\n",
    "name: type_count\n",
    "-->"
   ]
  },
  {
   "cell_type": "code",
   "execution_count": 9,
   "id": "eb8ff2c8",
   "metadata": {},
   "outputs": [],
   "source": [
    "#TODO - define `type_count` to be the number of types in `text`\n",
    "type_count = 16"
   ]
  },
  {
   "cell_type": "code",
   "execution_count": 10,
   "id": "b4b7df10",
   "metadata": {
    "deletable": false,
    "editable": false
   },
   "outputs": [
    {
     "data": {
      "text/html": [
       "\n",
       "    \n",
       "    \n",
       "        <p>All tests passed!</p>\n",
       "    \n",
       "    "
      ],
      "text/plain": [
       "\n",
       "    All tests passed!\n",
       "    "
      ]
     },
     "execution_count": 10,
     "metadata": {},
     "output_type": "execute_result"
    }
   ],
   "source": [
    "grader.check(\"type_count\")"
   ]
  },
  {
   "cell_type": "markdown",
   "id": "50036506",
   "metadata": {
    "deletable": false,
    "editable": false
   },
   "source": [
    "<!-- BEGIN QUESTION -->\n",
    "\n",
    "The set of types of a language is referred to as its _vocabulary_. Are there more types or tokens as you calculated above? Could it be otherwise?\n",
    "<!--\n",
    "BEGIN QUESTION\n",
    "name: type_vs_token_count\n",
    "manual: true\n",
    "-->"
   ]
  },
  {
   "cell_type": "markdown",
   "id": "9f2e0936",
   "metadata": {},
   "source": [
    "There are more types than tokens. It couldn't be otherwise, the maximum number of types is the number of tokens if every word in the corpus was distinct. Otherwise, the number of types would always be less than the number of tokens. "
   ]
  },
  {
   "cell_type": "markdown",
   "id": "adf46876",
   "metadata": {},
   "source": [
    "<!-- END QUESTION -->\n",
    "\n",
    "\n",
    "\n",
    "## Tokenization "
   ]
  },
  {
   "cell_type": "markdown",
   "id": "6ce25e5f",
   "metadata": {},
   "source": [
    "Did you count 'there?' as one token or two? This raises the issue of _tokenization_ of text, how to decide where the token boundaries occur. For instance, here's a simple way to split a string – to _tokenize_ it – in Python by splitting at whitespace."
   ]
  },
  {
   "cell_type": "code",
   "execution_count": 11,
   "id": "b6424eec",
   "metadata": {},
   "outputs": [],
   "source": [
    "def whitespace_tokenize(str):\n",
    "    return str.split()"
   ]
  },
  {
   "cell_type": "markdown",
   "id": "37bcae2a",
   "metadata": {
    "deletable": false,
    "editable": false
   },
   "source": [
    "Try it out on the `text` defined above.\n",
    "<!--\n",
    "BEGIN QUESTION\n",
    "name: tokens_whitespace\n",
    "-->"
   ]
  },
  {
   "cell_type": "code",
   "execution_count": 12,
   "id": "e8df2a8e",
   "metadata": {},
   "outputs": [],
   "source": [
    "#TODO - define `tokens` to be the tokens as defined by the `whitespace_tokenize` function\n",
    "tokens = whitespace_tokenize(text)"
   ]
  },
  {
   "cell_type": "code",
   "execution_count": 13,
   "id": "18392b85",
   "metadata": {
    "deletable": false,
    "editable": false
   },
   "outputs": [
    {
     "data": {
      "text/html": [
       "\n",
       "    \n",
       "    \n",
       "        <p>All tests passed!</p>\n",
       "    \n",
       "    "
      ],
      "text/plain": [
       "\n",
       "    All tests passed!\n",
       "    "
      ]
     },
     "execution_count": 13,
     "metadata": {},
     "output_type": "execute_result"
    }
   ],
   "source": [
    "grader.check(\"tokens_whitespace\")"
   ]
  },
  {
   "cell_type": "markdown",
   "id": "9078c66b",
   "metadata": {
    "deletable": false,
    "editable": false
   },
   "source": [
    "Using this tokenization method, count the number of tokens in the text, this time using Python to do the work.\n",
    "<!--\n",
    "BEGIN QUESTION\n",
    "name: token_count_whitespace\n",
    "-->"
   ]
  },
  {
   "cell_type": "code",
   "execution_count": 14,
   "id": "7e7b1be2",
   "metadata": {},
   "outputs": [],
   "source": [
    "#TODO - place your token count here\n",
    "token_count_2 = len(tokens)"
   ]
  },
  {
   "cell_type": "code",
   "execution_count": 15,
   "id": "1901c348",
   "metadata": {
    "deletable": false,
    "editable": false
   },
   "outputs": [
    {
     "data": {
      "text/html": [
       "\n",
       "    \n",
       "    \n",
       "        <p>All tests passed!</p>\n",
       "    \n",
       "    "
      ],
      "text/plain": [
       "\n",
       "    All tests passed!\n",
       "    "
      ]
     },
     "execution_count": 15,
     "metadata": {},
     "output_type": "execute_result"
    }
   ],
   "source": [
    "grader.check(\"token_count_whitespace\")"
   ]
  },
  {
   "cell_type": "markdown",
   "id": "6a3cd098",
   "metadata": {},
   "source": [
    "Arguably, we _should_ split off punctuation as separate tokens, but even there, some care must be taken. We don't want to split 'don't' into three tokens or 'Sam-I-Am' into five. (There's a good argument to be made however that the string 'don't' should be construed as two tokens, namely, 'do' and 'n't', but that's beyond the scope of today's discussion.)\n",
    "\n",
    "Here, we provide an alternative tokenizer that splits tokens at whitespace and splits off punctuation at the beginning and end of non-whitespace regions as separate tokens as well. It makes use of [the Python `re` module](https://docs.python.org/3/library/re.html) for regular expressions to specify the splitting process. Look over the code and make sure you understand what's going on. You might find [this online tool](https://regexr.com/) useful."
   ]
  },
  {
   "cell_type": "code",
   "execution_count": 16,
   "id": "87f9301d",
   "metadata": {},
   "outputs": [],
   "source": [
    "def punc_tokenize(str):\n",
    "    return [tok for tok in re.split('(\\W*?)\\s+', str) if tok != '']"
   ]
  },
  {
   "cell_type": "markdown",
   "id": "3734b9db",
   "metadata": {
    "deletable": false,
    "editable": false
   },
   "source": [
    "Now how many tokens are there in the text if tokenized in this way?\n",
    "<!--\n",
    "BEGIN QUESTION\n",
    "name: token_count_punc\n",
    "-->"
   ]
  },
  {
   "cell_type": "code",
   "execution_count": 17,
   "id": "ebf3545a",
   "metadata": {},
   "outputs": [
    {
     "name": "stdout",
     "output_type": "stream",
     "text": [
      "['Would', 'you', 'like', 'them', 'here', 'or', 'there', '?', 'I', 'would', 'not', 'like', 'them', 'here', 'or', 'there', '.', 'I', 'would', 'not', 'like', 'them', 'anywhere', '.', 'I', 'do', 'not', 'like', 'green', 'eggs', 'and', 'ham', '.', 'I', 'do', 'not', 'like', 'them', ',', 'Sam-I-am', '.']\n"
     ]
    }
   ],
   "source": [
    "#TODO\n",
    "token_count_3 = len(punc_tokenize(text))\n",
    "print(punc_tokenize(text))"
   ]
  },
  {
   "cell_type": "code",
   "execution_count": 18,
   "id": "85f76089",
   "metadata": {
    "deletable": false,
    "editable": false
   },
   "outputs": [
    {
     "data": {
      "text/html": [
       "\n",
       "    \n",
       "    \n",
       "        <p>All tests passed!</p>\n",
       "    \n",
       "    "
      ],
      "text/plain": [
       "\n",
       "    All tests passed!\n",
       "    "
      ]
     },
     "execution_count": 18,
     "metadata": {},
     "output_type": "execute_result"
    }
   ],
   "source": [
    "grader.check(\"token_count_punc\")"
   ]
  },
  {
   "cell_type": "markdown",
   "id": "b7b07033",
   "metadata": {
    "deletable": false,
    "editable": false
   },
   "source": [
    "## Normalization\n",
    "\n",
    "This tokenization method counts 'Would' and 'would' (capitalized and uncapitalized) as separate types. Is that a good idea? This raises the issue of text _normalization_.\n",
    "\n",
    "Define a function `normalize_token` that normalizes tokens by making them lowercase if at most the first character is uppercase. (Hints [here](https://docs.python.org/3/library/stdtypes.html#str.lower) and [here](https://docs.python.org/3/library/re.html#re.match). These are also listed in the hint cell at the top of the lab, so we'll mostly stop providing these hints from here on.)\n",
    "<!--\n",
    "BEGIN QUESTION\n",
    "name: normalize_token\n",
    "-->"
   ]
  },
  {
   "cell_type": "code",
   "execution_count": 19,
   "id": "ddfc2121",
   "metadata": {},
   "outputs": [],
   "source": [
    "#TODO - implement normalize_token, which returns the normalized word for a single word `str`\n",
    "def normalize_token(str):\n",
    "    upperCount = 0\n",
    "    for char in str:\n",
    "        if(char.isupper()):\n",
    "            upperCount += 1\n",
    "    if(str[0].isupper() and upperCount <= 1):\n",
    "        return str.lower()\n",
    "    else:\n",
    "        return str"
   ]
  },
  {
   "cell_type": "code",
   "execution_count": 20,
   "id": "0571e942",
   "metadata": {
    "deletable": false,
    "editable": false
   },
   "outputs": [
    {
     "data": {
      "text/html": [
       "\n",
       "    \n",
       "    \n",
       "        <p>All tests passed!</p>\n",
       "    \n",
       "    "
      ],
      "text/plain": [
       "\n",
       "    All tests passed!\n",
       "    "
      ]
     },
     "execution_count": 20,
     "metadata": {},
     "output_type": "execute_result"
    }
   ],
   "source": [
    "grader.check(\"normalize_token\")"
   ]
  },
  {
   "cell_type": "markdown",
   "id": "317bdb58",
   "metadata": {
    "deletable": false,
    "editable": false
   },
   "source": [
    "Now define `norm_tokens_punc` to be the sequence of normalized tokens as tokenized by `punc_tokenize`\n",
    "<!--\n",
    "BEGIN QUESTION\n",
    "name: norm_tokens_punc\n",
    "-->"
   ]
  },
  {
   "cell_type": "code",
   "execution_count": 21,
   "id": "881d8155",
   "metadata": {},
   "outputs": [
    {
     "name": "stdout",
     "output_type": "stream",
     "text": [
      "['would', 'you', 'like', 'them', 'here', 'or', 'there', '?', 'i', 'would', 'not', 'like', 'them', 'here', 'or', 'there', '.', 'i', 'would', 'not', 'like', 'them', 'anywhere', '.', 'i', 'do', 'not', 'like', 'green', 'eggs', 'and', 'ham', '.', 'i', 'do', 'not', 'like', 'them', ',', 'Sam-I-am', '.']\n"
     ]
    }
   ],
   "source": [
    "#TODO\n",
    "norm_tokens_punc = [normalize_token(tok) for tok in punc_tokenize(text)]\n",
    "print(norm_tokens_punc)"
   ]
  },
  {
   "cell_type": "code",
   "execution_count": 22,
   "id": "c8166912",
   "metadata": {
    "deletable": false,
    "editable": false
   },
   "outputs": [
    {
     "data": {
      "text/html": [
       "\n",
       "    \n",
       "    \n",
       "        <p>All tests passed!</p>\n",
       "    \n",
       "    "
      ],
      "text/plain": [
       "\n",
       "    All tests passed!\n",
       "    "
      ]
     },
     "execution_count": 22,
     "metadata": {},
     "output_type": "execute_result"
    }
   ],
   "source": [
    "grader.check(\"norm_tokens_punc\")"
   ]
  },
  {
   "cell_type": "markdown",
   "id": "7606240d",
   "metadata": {
    "deletable": false,
    "editable": false
   },
   "source": [
    "How many types are there when tokenized and normalized in this way?\n",
    "<!--\n",
    "BEGIN QUESTION\n",
    "name: type_count_norm_punc\n",
    "-->"
   ]
  },
  {
   "cell_type": "code",
   "execution_count": 23,
   "id": "9661e58a",
   "metadata": {},
   "outputs": [
    {
     "name": "stdout",
     "output_type": "stream",
     "text": [
      "{'them', 'not', 'do', 'would', 'there', 'like', 'green', 'anywhere', 'here', 'i', ',', '?', 'you', '.', 'ham', 'and', 'Sam-I-am', 'or', 'eggs'}\n"
     ]
    }
   ],
   "source": [
    "#TODO\n",
    "type_count_norm_punc = len(set(norm_tokens_punc))\n",
    "print(set(norm_tokens_punc))"
   ]
  },
  {
   "cell_type": "code",
   "execution_count": 24,
   "id": "37cae631",
   "metadata": {
    "deletable": false,
    "editable": false
   },
   "outputs": [
    {
     "data": {
      "text/html": [
       "\n",
       "    \n",
       "    \n",
       "        <p>All tests passed!</p>\n",
       "    \n",
       "    "
      ],
      "text/plain": [
       "\n",
       "    All tests passed!\n",
       "    "
      ]
     },
     "execution_count": 24,
     "metadata": {},
     "output_type": "execute_result"
    }
   ],
   "source": [
    "grader.check(\"type_count_norm_punc\")"
   ]
  },
  {
   "cell_type": "markdown",
   "id": "1ccbf179",
   "metadata": {},
   "source": [
    "## Using prebuilt tokenizers\n",
    "\n",
    "Tokenization and normalization are so commonly needed that many packages provide pre-built tokenizers of various sorts. We'll use one from `torchtext`, a package that we'll make a fair amount of use of in the course. It's already been imported above under the name `tt`."
   ]
  },
  {
   "cell_type": "markdown",
   "id": "f57ca415",
   "metadata": {
    "deletable": false,
    "editable": false
   },
   "source": [
    "Define two tokenizers, versions of `whitespace_tokenize` and a normalized version of `punc_tokenize` above, using [the `tt.data.get_tokenizer` function](https://pytorch.org/text/stable/data_utils.html#get-tokenizer). (Use respectively the `None` and `\"basic_english\"` tokenizers that they provide.)\n",
    "<!--\n",
    "BEGIN QUESTION\n",
    "name: tt_whitespace_tokenize_and_tt_normpunc_tokenize\n",
    "-->"
   ]
  },
  {
   "cell_type": "code",
   "execution_count": 25,
   "id": "e211871e",
   "metadata": {},
   "outputs": [],
   "source": [
    "#TODO\n",
    "def tt_whitespace_tokenize(str):\n",
    "    tokenizer = tt.data.get_tokenizer(None)\n",
    "    tokens = tokenizer(str)\n",
    "    return tokens\n",
    "    \n",
    "def tt_normpunc_tokenize(str):\n",
    "    tokenizer = tt.data.get_tokenizer(\"basic_english\")\n",
    "    tokens = tokenizer(str)\n",
    "    return tokens"
   ]
  },
  {
   "cell_type": "code",
   "execution_count": 26,
   "id": "4f967d78",
   "metadata": {
    "deletable": false,
    "editable": false
   },
   "outputs": [
    {
     "data": {
      "text/html": [
       "\n",
       "    \n",
       "    \n",
       "        <p>All tests passed!</p>\n",
       "    \n",
       "    "
      ],
      "text/plain": [
       "\n",
       "    All tests passed!\n",
       "    "
      ]
     },
     "execution_count": 26,
     "metadata": {},
     "output_type": "execute_result"
    }
   ],
   "source": [
    "grader.check(\"tt_whitespace_tokenize_and_tt_normpunc_tokenize\")"
   ]
  },
  {
   "cell_type": "markdown",
   "id": "fe781ff6",
   "metadata": {},
   "source": [
    "Now we should be able to print out the last few tokens of the sample text, tokenized using these functions."
   ]
  },
  {
   "cell_type": "code",
   "execution_count": 27,
   "id": "b55e7880",
   "metadata": {},
   "outputs": [
    {
     "name": "stdout",
     "output_type": "stream",
     "text": [
      "['green', 'eggs', 'and', 'ham.', 'I', 'do', 'not', 'like', 'them,', 'Sam-I-am.']\n",
      "['ham', '.', 'i', 'do', 'not', 'like', 'them', ',', 'sam-i-am', '.']\n"
     ]
    }
   ],
   "source": [
    "print(tt_whitespace_tokenize(text)[-10:])\n",
    "print(tt_normpunc_tokenize(text)[-10:])"
   ]
  },
  {
   "cell_type": "markdown",
   "id": "bf4b4e8a",
   "metadata": {},
   "source": [
    "> _Meta-comment:_ Because it's important that you get practice both with implementing the ideas in the course from first principles and also with using prebuilt software that provides similar functionality, we'll often have you engage in this seemingly redundant process of first implementing a small example and then applying a prebuilt method to do much the same thing. The effort may be duplicative, but it is not wasted."
   ]
  },
  {
   "cell_type": "markdown",
   "id": "26fd6064",
   "metadata": {},
   "source": [
    "# Representing words\n",
    "\n",
    "In this section, we'll explore some simple representations for tokens, as a step on the way to representing texts – sentences or documents:\n",
    "\n",
    "## String encoding\n",
    "We've already seen string encoding above, representing a token of a word type by a string specific to that type: a token 'green' represented by an instance of the Python string `'green'`, for instance, or 'Sam-I-am' represented by `'Sam-I-am'`. So let's move on.\n",
    "\n",
    "## 1-hot encoding\n",
    "Given a vocabulary for a language, we can associate each type with an integer, say by its index in a vector. We've already imported the `torch` module; we'll use `torch` tensors for the index vector. For the Seuss text, we can use this list to represent the ordered vocabulary:"
   ]
  },
  {
   "cell_type": "code",
   "execution_count": 28,
   "id": "f0d8267f",
   "metadata": {},
   "outputs": [
    {
     "data": {
      "text/plain": [
       "[',',\n",
       " '.',\n",
       " '?',\n",
       " 'Sam-I-am',\n",
       " 'and',\n",
       " 'anywhere',\n",
       " 'do',\n",
       " 'eggs',\n",
       " 'green',\n",
       " 'ham',\n",
       " 'here',\n",
       " 'i',\n",
       " 'like',\n",
       " 'not',\n",
       " 'or',\n",
       " 'them',\n",
       " 'there',\n",
       " 'would',\n",
       " 'you']"
      ]
     },
     "execution_count": 28,
     "metadata": {},
     "output_type": "execute_result"
    }
   ],
   "source": [
    "vocabulary = sorted(set(norm_tokens_punc))\n",
    "vocabulary"
   ]
  },
  {
   "cell_type": "markdown",
   "id": "ec10d134",
   "metadata": {},
   "source": [
    "### A digression on `torch` tensors\n",
    "\n",
    "Recall that `torch` tensors allow for vectorized computations: many operations on them work [componentwise](https://en.wikipedia.org/wiki/Pointwise#Componentwise_operations), that is, separately for each component of the tensor, rather than on the tensor all at once. Compare the following two operations, first on lists, then on `torch` tensors."
   ]
  },
  {
   "cell_type": "code",
   "execution_count": 29,
   "id": "e1add8d7",
   "metadata": {},
   "outputs": [
    {
     "data": {
      "text/plain": [
       "False"
      ]
     },
     "execution_count": 29,
     "metadata": {},
     "output_type": "execute_result"
    }
   ],
   "source": [
    "[1, 2] == 1"
   ]
  },
  {
   "cell_type": "code",
   "execution_count": 30,
   "id": "128e24f9",
   "metadata": {},
   "outputs": [
    {
     "data": {
      "text/plain": [
       "tensor([ True, False])"
      ]
     },
     "execution_count": 30,
     "metadata": {},
     "output_type": "execute_result"
    }
   ],
   "source": [
    "torch.tensor([1, 2]) == 1"
   ]
  },
  {
   "cell_type": "markdown",
   "id": "d5bc300b",
   "metadata": {},
   "source": [
    "This behavior of tensors is quite powerful, allowing for simply specifying complex operations and for efficient, even parallelizable, computation of them. You'll want ot take advantage of these characteristics of tensors where possible, here and in future assignments.\n",
    "\n",
    "But back to the 1-hot representation."
   ]
  },
  {
   "cell_type": "markdown",
   "id": "5c164f97",
   "metadata": {},
   "source": [
    "In the _1-hot representation_ of words, a token is then represented by a bit vector (again given as a `torch` tensor), with a 1 at the index of the token's type. (For consistency with some later `torch` functions, we'll take the elements to be floats rather than ints. The `.type` method is useful for converting the type, and it even conveniently broadcasts over the tensors.) For instance, the 1-hot representation of the comma token ',' would be"
   ]
  },
  {
   "cell_type": "code",
   "execution_count": 31,
   "id": "7c56a92b",
   "metadata": {},
   "outputs": [
    {
     "data": {
      "text/plain": [
       "tensor([1., 0., 0., 0., 0., 0., 0., 0., 0., 0., 0., 0., 0., 0., 0., 0., 0., 0.,\n",
       "        0.])"
      ]
     },
     "execution_count": 31,
     "metadata": {},
     "output_type": "execute_result"
    }
   ],
   "source": [
    "torch.tensor([1,0,0,0,0,0,0,0,0,0,0,0,0,0,0,0,0,0,0]).type(torch.float32)"
   ]
  },
  {
   "cell_type": "markdown",
   "id": "a67bddbb",
   "metadata": {},
   "source": [
    "Conversion back and forth between these various representations is useful. Define functions `str_to_onehot` and `onehot_to_str` that convert between the string and one-hot representations using a vocabulary array to define the  conversion. \n",
    "\n",
    "Ideally, in your implementation, you'll want to take advantage of the componentwise nature of many tensor operations discussed above."
   ]
  },
  {
   "cell_type": "code",
   "execution_count": 32,
   "id": "f2c1db46",
   "metadata": {},
   "outputs": [],
   "source": [
    "#TODO\n",
    "def str_to_onehot(wordtype, vocab):\n",
    "    \"\"\"Returns the 1-hot representation of `wordtype` with vocabulary \n",
    "    `vocab`.\n",
    "    The returned value should be a torch.tensor with data type float.\n",
    "    \"\"\"\n",
    "    arr = [0 for word in vocab]\n",
    "    for i in range(len(vocab)):\n",
    "        if(vocab[i] == wordtype):\n",
    "            arr[i] = 1\n",
    "    return torch.tensor(arr).type(torch.float32)\n",
    "    \n",
    "\n",
    "def onehot_to_str(onehot, vocab):\n",
    "    \"\"\"Returns the string representation of `onehot`, a one-hot \n",
    "    representation of a word type, with vocabulary `vocab`.\n",
    "    \"\"\"\n",
    "    numMapping = onehot.tolist()\n",
    "    return vocab[numMapping.index(1.)]\n",
    "    "
   ]
  },
  {
   "cell_type": "markdown",
   "id": "3a99e8fa",
   "metadata": {
    "deletable": false,
    "editable": false
   },
   "source": [
    "Now use `str_to_onehot` to define the variable `anywhere_1hot` to be the 1-hot representation for a token of the type 'anywhere'. \n",
    "<!--\n",
    "BEGIN QUESTION\n",
    "name: anywhere_1hot\n",
    "-->"
   ]
  },
  {
   "cell_type": "code",
   "execution_count": 33,
   "id": "72138f2e",
   "metadata": {},
   "outputs": [],
   "source": [
    "#TODO\n",
    "anywhere_1hot = str_to_onehot('anywhere', vocabulary)"
   ]
  },
  {
   "cell_type": "code",
   "execution_count": 34,
   "id": "e1c0a09d",
   "metadata": {
    "deletable": false,
    "editable": false
   },
   "outputs": [
    {
     "data": {
      "text/html": [
       "\n",
       "    \n",
       "    \n",
       "        <p>All tests passed!</p>\n",
       "    \n",
       "    "
      ],
      "text/plain": [
       "\n",
       "    All tests passed!\n",
       "    "
      ]
     },
     "execution_count": 34,
     "metadata": {},
     "output_type": "execute_result"
    }
   ],
   "source": [
    "grader.check(\"anywhere_1hot\")"
   ]
  },
  {
   "cell_type": "markdown",
   "id": "a1440c9c",
   "metadata": {
    "deletable": false,
    "editable": false
   },
   "source": [
    "You can verify that the conversion worked correctly by inverting it using `onehot_to_str`, which we've done in the following unit test.\n",
    "<!--\n",
    "BEGIN QUESTION\n",
    "name: anywhere_1hot_reverse\n",
    "-->"
   ]
  },
  {
   "cell_type": "code",
   "execution_count": 35,
   "id": "a2d85c5c",
   "metadata": {
    "deletable": false,
    "editable": false
   },
   "outputs": [
    {
     "data": {
      "text/html": [
       "\n",
       "    \n",
       "    \n",
       "        <p>All tests passed!</p>\n",
       "    \n",
       "    "
      ],
      "text/plain": [
       "\n",
       "    All tests passed!\n",
       "    "
      ]
     },
     "execution_count": 35,
     "metadata": {},
     "output_type": "execute_result"
    }
   ],
   "source": [
    "grader.check(\"anywhere_1hot_reverse\")"
   ]
  },
  {
   "cell_type": "markdown",
   "id": "0d5eb1ca",
   "metadata": {},
   "source": [
    "# Representing texts\n",
    "\n",
    "## The set-of-words representation\n",
    "\n",
    "We can represent a whole text (a sequence of words) by manipulating the vector representations of the words within the text. For instance, we can take the componentwise maximum of the vectors. We refer to this as the _set-of-words_ representation.\n",
    "\n",
    "Here we've defined a function `set_of_words` that returns the set of words representation for a token sequence."
   ]
  },
  {
   "cell_type": "code",
   "execution_count": 36,
   "id": "7a962eae",
   "metadata": {},
   "outputs": [],
   "source": [
    "def set_of_words(tokens, vocabulary):\n",
    "    \"\"\"Returns the set-of-words representation as a tensor of floats for the \n",
    "    sequence of `tokens` using the `vocabulary` to specify the conversion.\n",
    "    \"\"\"\n",
    "    onehots = torch.stack([str_to_onehot(token, vocabulary) for token in tokens])\n",
    "    #print(onehots)\n",
    "    return torch.amax(onehots, 0).type(torch.float32)"
   ]
  },
  {
   "cell_type": "markdown",
   "id": "6e806e11",
   "metadata": {},
   "source": [
    "This representation for a text is a vector that has a `1` for each word type that occurs in the text. The vector represents the [characteristic function](https://en.wikipedia.org/wiki/Characteristic_function) for the subset of vocabulary words that appear in the text; hence the term 'set of words'.\n"
   ]
  },
  {
   "cell_type": "markdown",
   "id": "f97da71f",
   "metadata": {
    "deletable": false,
    "editable": false
   },
   "source": [
    "What is the set-of-words representation for the example text 'I would not, would not, here or there.'?\n",
    "<!--\n",
    "BEGIN QUESTION\n",
    "name: example_sow\n",
    "-->"
   ]
  },
  {
   "cell_type": "code",
   "execution_count": 37,
   "id": "7570ae12",
   "metadata": {},
   "outputs": [],
   "source": [
    "#TODO - define the variable to be the set of words representation for the example text\n",
    "# 'I would not, would not, here or there.'\n",
    "# Use `tt_normpunc_tokenize` tokenizer\n",
    "text = 'I would not, would not, here or there.'\n",
    "tokens = tt_normpunc_tokenize(text)\n",
    "#print(tokens)\n",
    "example_sow = set_of_words(tokens, vocabulary)\n",
    "#print(example_sow)"
   ]
  },
  {
   "cell_type": "code",
   "execution_count": 38,
   "id": "7b1a205d",
   "metadata": {
    "deletable": false,
    "editable": false
   },
   "outputs": [
    {
     "data": {
      "text/html": [
       "\n",
       "    \n",
       "    \n",
       "        <p>All tests passed!</p>\n",
       "    \n",
       "    "
      ],
      "text/plain": [
       "\n",
       "    All tests passed!\n",
       "    "
      ]
     },
     "execution_count": 38,
     "metadata": {},
     "output_type": "execute_result"
    }
   ],
   "source": [
    "grader.check(\"example_sow\")"
   ]
  },
  {
   "cell_type": "markdown",
   "id": "353a8d8f",
   "metadata": {},
   "source": [
    "## The bag of words representation\n",
    "\n",
    "If instead, we take the componentwise _addition_ of the vectors instead of the maximum, the text representation provides the _frequency_ of each word type in the text. We refer to this representation as the _[bag](https://en.wikipedia.org/wiki/Multiset) of words_ representation. \n",
    "\n",
    "Define a function `bag_of_words`, analogous to `set_of_words` above, that returns the bag-of-words representation for a token sequence."
   ]
  },
  {
   "cell_type": "code",
   "execution_count": 39,
   "id": "f72a382b",
   "metadata": {},
   "outputs": [],
   "source": [
    "#TODO\n",
    "def bag_of_words(tokens, vocabulary):\n",
    "    bag = 0\n",
    "    for token in tokens:\n",
    "        bag += str_to_onehot(token, vocabulary)\n",
    "    return bag\n",
    "    \n",
    "     "
   ]
  },
  {
   "cell_type": "markdown",
   "id": "904372f9",
   "metadata": {
    "deletable": false,
    "editable": false
   },
   "source": [
    "What is the bag of words representation for the example text 'I would not, would not, here or there.'?\n",
    "<!--\n",
    "BEGIN QUESTION\n",
    "name: example_bow\n",
    "-->"
   ]
  },
  {
   "cell_type": "code",
   "execution_count": 40,
   "id": "91fe424f",
   "metadata": {},
   "outputs": [
    {
     "name": "stdout",
     "output_type": "stream",
     "text": [
      "tensor([2., 1., 0., 0., 0., 0., 0., 0., 0., 0., 1., 1., 0., 2., 1., 0., 1., 2.,\n",
      "        0.])\n"
     ]
    }
   ],
   "source": [
    "#TODO - define the variable to be the bag of words representation for the example text\n",
    "# 'I would not, would not, here or there.'\n",
    "# Use the `tt_normpunc_tokenize` tokenizer\n",
    "text = 'I would not, would not, here or there.'\n",
    "tokens = tt_normpunc_tokenize(text)\n",
    "example_bow = bag_of_words(tokens, vocabulary)\n",
    "print(example_bow)"
   ]
  },
  {
   "cell_type": "code",
   "execution_count": 41,
   "id": "fe5c7648",
   "metadata": {
    "deletable": false,
    "editable": false
   },
   "outputs": [
    {
     "data": {
      "text/html": [
       "\n",
       "    \n",
       "    \n",
       "        <p>All tests passed!</p>\n",
       "    \n",
       "    "
      ],
      "text/plain": [
       "\n",
       "    All tests passed!\n",
       "    "
      ]
     },
     "execution_count": 41,
     "metadata": {},
     "output_type": "execute_result"
    }
   ],
   "source": [
    "grader.check(\"example_bow\")"
   ]
  },
  {
   "cell_type": "markdown",
   "id": "70de202b",
   "metadata": {},
   "source": [
    "# Document similarity metrics\n",
    "\n",
    "Consider the following text classification problem: Each sentence in _Green Eggs and Ham_ is spoken by one of two characters, Sam-I-Am and Guy-Am-I. We want to be able to classify new sentences as (most likely) being uttered by one of the two.\n",
    "\n",
    "A simple method for text classification is the _nearest neighbor_ method. We select the class for the new sentence that is the same as the class of the \"nearest\" (most similar) sentence for which we already know the class. (You'll experiment much more with this text classification method in the next lab.)\n",
    "\n",
    "To perform nearest neighbor classification, we need a method for measuring the (metaphorical) distance between two texts based on their representations. We'll explore a few methods here:\n",
    "\n",
    "* Hamming distance\n",
    "* Jaccard distance\n",
    "* Euclidean distance\n",
    "* cosine distance\n",
    "\n",
    "You'll implement code for all of these distance metrics. Try to implement the functions using `torch` tensor functions only, without explicit iteration over the elements in the vector.\n",
    "\n",
    "We'll take a look at the distances among the following sentences:\n",
    "\n",
    "1. Would you like them here or there?\n",
    "2. I would not like them here or there.\n",
    "3. Do you like green eggs and ham?\n",
    "4. I do not like them Sam-I-Am.\n",
    "\n",
    "We'll start with the set of words representations of these sentences:"
   ]
  },
  {
   "cell_type": "code",
   "execution_count": 42,
   "id": "6a083917",
   "metadata": {},
   "outputs": [],
   "source": [
    "examples = \"\"\"Would you like them here or there?\n",
    "              I would not like them here or there.\n",
    "              Do you like green eggs and ham?\n",
    "              I do not like them Sam-I-Am.\"\"\" \\\n",
    "           .split(\"\\n\")\n",
    "sows = [set_of_words(tt_normpunc_tokenize(sentence), vocabulary) \n",
    "            for sentence in examples]"
   ]
  },
  {
   "cell_type": "code",
   "execution_count": 43,
   "id": "d88eeeb0",
   "metadata": {},
   "outputs": [
    {
     "data": {
      "text/plain": [
       "[tensor([0., 0., 1., 0., 0., 0., 0., 0., 0., 0., 1., 0., 1., 0., 1., 1., 1., 1.,\n",
       "         1.]),\n",
       " tensor([0., 1., 0., 0., 0., 0., 0., 0., 0., 0., 1., 1., 1., 1., 1., 1., 1., 1.,\n",
       "         0.]),\n",
       " tensor([0., 0., 1., 0., 1., 0., 1., 1., 1., 1., 0., 0., 1., 0., 0., 0., 0., 0.,\n",
       "         1.]),\n",
       " tensor([0., 1., 0., 0., 0., 0., 1., 0., 0., 0., 0., 1., 1., 1., 0., 1., 0., 0.,\n",
       "         0.])]"
      ]
     },
     "execution_count": 43,
     "metadata": {},
     "output_type": "execute_result"
    }
   ],
   "source": [
    "sows"
   ]
  },
  {
   "cell_type": "markdown",
   "id": "d134f289",
   "metadata": {
    "deletable": false,
    "editable": false
   },
   "source": [
    "## Hamming distance\n",
    "\n",
    "The Hamming distance between two vectors is the number of positions at which they differ. Define a function `hamming_distance` that computes the Hamming distance between two vectors.\n",
    "<!--\n",
    "BEGIN QUESTION\n",
    "name: hamming_distance\n",
    "-->"
   ]
  },
  {
   "cell_type": "code",
   "execution_count": 44,
   "id": "d0b365aa",
   "metadata": {},
   "outputs": [],
   "source": [
    "#TODO - implement hamming_distance. The returned value should be an integer.\n",
    "def hamming_distance(v1, v2):\n",
    "    hd = sum(abs(v1-v2))\n",
    "    return hd"
   ]
  },
  {
   "cell_type": "code",
   "execution_count": 45,
   "id": "b85aa9c0",
   "metadata": {
    "deletable": false,
    "editable": false
   },
   "outputs": [
    {
     "data": {
      "text/html": [
       "\n",
       "    \n",
       "    \n",
       "        <p>All tests passed!</p>\n",
       "    \n",
       "    "
      ],
      "text/plain": [
       "\n",
       "    All tests passed!\n",
       "    "
      ]
     },
     "execution_count": 45,
     "metadata": {},
     "output_type": "execute_result"
    }
   ],
   "source": [
    "grader.check(\"hamming_distance\")"
   ]
  },
  {
   "cell_type": "markdown",
   "id": "08fabdd9",
   "metadata": {},
   "source": [
    "Now we can generate the Hamming distances among all of the sample sentences in a little table. Do the values make sense?"
   ]
  },
  {
   "cell_type": "code",
   "execution_count": 46,
   "id": "017935c8",
   "metadata": {},
   "outputs": [
    {
     "name": "stdout",
     "output_type": "stream",
     "text": [
      " 0.0  5.0 10.0 10.0 \n",
      " 5.0  0.0 15.0  5.0 \n",
      "10.0 15.0  0.0 10.0 \n",
      "10.0  5.0 10.0  0.0 \n"
     ]
    }
   ],
   "source": [
    "for i in range(4):\n",
    "    for j in range(4):\n",
    "        print(f\"{hamming_distance(sows[i], sows[j]):4} \", end='')\n",
    "    print()"
   ]
  },
  {
   "cell_type": "markdown",
   "id": "412d7a57",
   "metadata": {
    "deletable": false,
    "editable": false
   },
   "source": [
    "## Jaccard distance\n",
    "\n",
    "The Jaccard distance between two sets (and remember that these bit strings basically represent sets) is one minus the number of elements in their intersection divided by the number of elements in their union.\n",
    "\n",
    "$$ D_{jaccard}(v_1, v_2) = 1 - \\frac{| v_1 \\cap v_2 |}{| v_1 \\cup v_2 |} $$\n",
    "\n",
    "Define a function `jaccard_distance` to compute the Jaccard distance between two set-of-words representations.\n",
    "<!--\n",
    "BEGIN QUESTION\n",
    "name: jaccard_distance\n",
    "-->"
   ]
  },
  {
   "cell_type": "code",
   "execution_count": 71,
   "id": "95efcf7f",
   "metadata": {},
   "outputs": [],
   "source": [
    "#TODO\n",
    "def jaccard_distance(v1, v2):\n",
    "    union = sum(torch.logical_or(v1,v2))\n",
    "    intersection = sum(torch.logical_and(v1,v2))\n",
    "        \n",
    "        \n",
    "    return torch.tensor(1) - (intersection/union)"
   ]
  },
  {
   "cell_type": "code",
   "execution_count": 72,
   "id": "616dd464",
   "metadata": {
    "deletable": false,
    "editable": false
   },
   "outputs": [
    {
     "data": {
      "text/html": [
       "\n",
       "    \n",
       "    \n",
       "        <p>All tests passed!</p>\n",
       "    \n",
       "    "
      ],
      "text/plain": [
       "\n",
       "    All tests passed!\n",
       "    "
      ]
     },
     "execution_count": 72,
     "metadata": {},
     "output_type": "execute_result"
    }
   ],
   "source": [
    "grader.check(\"jaccard_distance\")"
   ]
  },
  {
   "cell_type": "markdown",
   "id": "802d9ff2",
   "metadata": {},
   "source": [
    "Again, here's a table of the Jaccard distances among the sample sentences."
   ]
  },
  {
   "cell_type": "code",
   "execution_count": 73,
   "id": "26e23118",
   "metadata": {},
   "outputs": [
    {
     "name": "stdout",
     "output_type": "stream",
     "text": [
      "0.000 0.455 0.769 0.833 \n",
      "0.455 0.000 0.938 0.500 \n",
      "0.769 0.938 0.000 0.833 \n",
      "0.833 0.500 0.833 0.000 \n"
     ]
    }
   ],
   "source": [
    "for i in range(4):\n",
    "    for j in range(4):\n",
    "        print(f\"{jaccard_distance(sows[i], sows[j]):5.3f} \", end='')\n",
    "    print()"
   ]
  },
  {
   "cell_type": "markdown",
   "id": "f5cb1f1e",
   "metadata": {
    "deletable": false,
    "editable": false
   },
   "source": [
    "## Euclidean distance\n",
    "\n",
    "The Euclidean distance between two vectors is the norm of the vector between them, that is,\n",
    "\n",
    "$$ D_{euclidean}(\\mathbf{x}, \\mathbf{y}) = |\\mathbf{x} - \\mathbf{y}| $$\n",
    "\n",
    "where $|\\mathbf{z}|$, the norm of a vector $\\mathbf{z}$, is calculated as\n",
    "\n",
    "$$ |\\mathbf{z}| = \\sqrt{\\sum_{i=1}^N \\mathbf{z}_i^2} $$\n",
    "\n",
    "Fortunately, `torch` provides the function [`torch.linalg.norm`](https://pytorch.org/docs/stable/generated/torch.linalg.norm.html#torch.linalg.norm) to compute the norm, and the vector between two vectors can be computed by componentwise subtraction.\n",
    "\n",
    "Define a function `euclidean_distance` to compute the Euclidean distance between two vectors.\n",
    "<!--\n",
    "BEGIN QUESTION\n",
    "name: euclidean_distance\n",
    "-->"
   ]
  },
  {
   "cell_type": "code",
   "execution_count": 74,
   "id": "e55addc9",
   "metadata": {},
   "outputs": [],
   "source": [
    "#TODO\n",
    "def euclidean_distance(v1, v2):\n",
    "    return (torch.linalg.norm(v1-v2))"
   ]
  },
  {
   "cell_type": "code",
   "execution_count": 75,
   "id": "205e83e4",
   "metadata": {
    "deletable": false,
    "editable": false
   },
   "outputs": [
    {
     "data": {
      "text/html": [
       "\n",
       "    \n",
       "    \n",
       "        <p>All tests passed!</p>\n",
       "    \n",
       "    "
      ],
      "text/plain": [
       "\n",
       "    All tests passed!\n",
       "    "
      ]
     },
     "execution_count": 75,
     "metadata": {},
     "output_type": "execute_result"
    }
   ],
   "source": [
    "grader.check(\"euclidean_distance\")"
   ]
  },
  {
   "cell_type": "markdown",
   "id": "b05b31c7",
   "metadata": {},
   "source": [
    "Again, here's a table of the Euclidean distances among the sample sentences."
   ]
  },
  {
   "cell_type": "code",
   "execution_count": 76,
   "id": "0c46204c",
   "metadata": {},
   "outputs": [
    {
     "name": "stdout",
     "output_type": "stream",
     "text": [
      "0.000 2.236 3.162 3.162 \n",
      "2.236 0.000 3.873 2.236 \n",
      "3.162 3.873 0.000 3.162 \n",
      "3.162 2.236 3.162 0.000 \n"
     ]
    }
   ],
   "source": [
    "for i in range(4):\n",
    "    for j in range(4):\n",
    "        print(f\"{euclidean_distance(sows[i], sows[j]):5.3f} \", end='')\n",
    "    print()"
   ]
  },
  {
   "cell_type": "code",
   "execution_count": 53,
   "id": "8069aef0",
   "metadata": {},
   "outputs": [],
   "source": [
    "def safe_acos(x):\n",
    "    \"\"\"Returns the arc cosine of `x`. Unlike `math.acos`, it \n",
    "       does not raise an exception for values of `x` out of range, \n",
    "       but rather clips `x` at -1..1, thereby avoiding math domain\n",
    "       errors in the case of numerical errors.\"\"\"\n",
    "    return math.acos(math.copysign(min(1.0, abs(x)), x))"
   ]
  },
  {
   "cell_type": "code",
   "execution_count": 54,
   "id": "e57d7f26",
   "metadata": {},
   "outputs": [],
   "source": [
    "#TODO\n",
    "def cosine_distance(v1, v2):\n",
    "    \"\"\"Returns the cosine distance between two vectors\"\"\"\n",
    "    cosNum = torch.dot(v1,v2)\n",
    "    cosDenom = torch.linalg.norm(v1) * torch.linalg.norm(v2)\n",
    "    num = safe_acos(cosNum/cosDenom)\n",
    "    \n",
    "    return num/math.pi"
   ]
  },
  {
   "cell_type": "code",
   "execution_count": 55,
   "id": "56fa0f6f",
   "metadata": {
    "deletable": false,
    "editable": false
   },
   "outputs": [
    {
     "data": {
      "text/html": [
       "\n",
       "    \n",
       "    \n",
       "        <p>All tests passed!</p>\n",
       "    \n",
       "    "
      ],
      "text/plain": [
       "\n",
       "    All tests passed!\n",
       "    "
      ]
     },
     "execution_count": 55,
     "metadata": {},
     "output_type": "execute_result"
    }
   ],
   "source": [
    "grader.check(\"cosine_distance\")"
   ]
  },
  {
   "cell_type": "code",
   "execution_count": 56,
   "id": "79a32f57",
   "metadata": {},
   "outputs": [
    {
     "name": "stdout",
     "output_type": "stream",
     "text": [
      "0.000 0.250 0.378 0.407 \n",
      "0.250 0.000 0.462 0.262 \n",
      "0.378 0.462 0.000 0.407 \n",
      "0.407 0.262 0.407 0.000 \n"
     ]
    }
   ],
   "source": [
    "for i in range(4):\n",
    "    for j in range(4):\n",
    "        print(f\"{cosine_distance(sows[i], sows[j]):5.3f} \", end='')\n",
    "    print()"
   ]
  },
  {
   "cell_type": "markdown",
   "id": "906bda32",
   "metadata": {},
   "source": [
    "In the next lab, you'll use some of these distance metrics to automatically classify text using nearest neighbor classification."
   ]
  },
  {
   "cell_type": "markdown",
   "id": "376aebe7",
   "metadata": {
    "deletable": false,
    "editable": false
   },
   "source": [
    "<!-- BEGIN QUESTION -->\n",
    "\n",
    "# Lab debrief – for consensus submission only\n",
    "\n",
    "**Question:** We're interested in any thoughts your group has about this lab so that we can improve this lab for later years, and to inform later labs for this year. Please list any issues that arose or comments you have to improve the lab. Useful things to comment on include the following: \n",
    "\n",
    "* Was the lab too long or too short?\n",
    "* Were the readings appropriate for the lab? \n",
    "* Was it clear (at least after you completed the lab) what the points of the exercises were? \n",
    "* Are there additions or changes you think would make the lab better?\n",
    "\n",
    "<!--\n",
    "BEGIN QUESTION\n",
    "name: open_response_debrief\n",
    "manual: true\n",
    "-->"
   ]
  },
  {
   "cell_type": "markdown",
   "id": "e4cbe8b0",
   "metadata": {},
   "source": [
    "I think the lab was pretty long. There were a lot of parts to it and a lot to understand. I don't think the tests were good because I wasn't really able to check anything by way of the tests. They were checking very general things and not specific answers, which made it very difficult to understand whether I was working on the project correctly"
   ]
  },
  {
   "cell_type": "markdown",
   "id": "8382eb88",
   "metadata": {},
   "source": [
    "<!-- END QUESTION -->\n",
    "\n",
    "\n",
    "\n",
    "# Submission Instructions\n",
    "\n",
    "This lab should be submitted to Gradescope at <http://go.cs187.info/lab1-1-submit>, which will be made available some time before the due date.\n",
    "\n",
    "Make sure that you have passed all public tests by running `grader.check_all()` below before submitting. Note that there are hidden tests on Gradescope, the results of which will be revealed after the submission deadline."
   ]
  },
  {
   "cell_type": "markdown",
   "id": "58b4f3d2",
   "metadata": {},
   "source": [
    "# End of lab 1-1"
   ]
  },
  {
   "cell_type": "markdown",
   "id": "23c2b4e9",
   "metadata": {
    "deletable": false,
    "editable": false
   },
   "source": [
    "---\n",
    "\n",
    "To double-check your work, the cell below will rerun all of the autograder tests."
   ]
  },
  {
   "cell_type": "code",
   "execution_count": 66,
   "id": "8572ccc4",
   "metadata": {
    "deletable": false,
    "scrolled": true
   },
   "outputs": [
    {
     "data": {
      "text/html": [
       "<p><strong>anywhere_1hot:</strong></p>\n",
       "\n",
       "    \n",
       "    \n",
       "        <p>All tests passed!</p>\n",
       "    \n",
       "    \n",
       "\n",
       "<p><strong>anywhere_1hot_reverse:</strong></p>\n",
       "\n",
       "    \n",
       "    \n",
       "        <p>All tests passed!</p>\n",
       "    \n",
       "    \n",
       "\n",
       "<p><strong>cosine_distance:</strong></p>\n",
       "\n",
       "    \n",
       "    \n",
       "        <p>All tests passed!</p>\n",
       "    \n",
       "    \n",
       "\n",
       "<p><strong>euclidean_distance:</strong></p>\n",
       "\n",
       "    \n",
       "    \n",
       "        <p>All tests passed!</p>\n",
       "    \n",
       "    \n",
       "\n",
       "<p><strong>example_bow:</strong></p>\n",
       "\n",
       "    \n",
       "    \n",
       "        <p>All tests passed!</p>\n",
       "    \n",
       "    \n",
       "\n",
       "<p><strong>example_sow:</strong></p>\n",
       "\n",
       "    \n",
       "    \n",
       "        <p>All tests passed!</p>\n",
       "    \n",
       "    \n",
       "\n",
       "<p><strong>hamming_distance:</strong></p>\n",
       "\n",
       "    \n",
       "    \n",
       "        <p>All tests passed!</p>\n",
       "    \n",
       "    \n",
       "\n",
       "<p><strong>jaccard_distance:</strong></p>\n",
       "\n",
       "    \n",
       "    \n",
       "        <p>All tests passed!</p>\n",
       "    \n",
       "    \n",
       "\n",
       "<p><strong>norm_tokens_punc:</strong></p>\n",
       "\n",
       "    \n",
       "    \n",
       "        <p>All tests passed!</p>\n",
       "    \n",
       "    \n",
       "\n",
       "<p><strong>normalize_token:</strong></p>\n",
       "\n",
       "    \n",
       "    \n",
       "        <p>All tests passed!</p>\n",
       "    \n",
       "    \n",
       "\n",
       "<p><strong>token_count:</strong></p>\n",
       "\n",
       "    \n",
       "    \n",
       "        <p>All tests passed!</p>\n",
       "    \n",
       "    \n",
       "\n",
       "<p><strong>token_count_punc:</strong></p>\n",
       "\n",
       "    \n",
       "    \n",
       "        <p>All tests passed!</p>\n",
       "    \n",
       "    \n",
       "\n",
       "<p><strong>token_count_whitespace:</strong></p>\n",
       "\n",
       "    \n",
       "    \n",
       "        <p>All tests passed!</p>\n",
       "    \n",
       "    \n",
       "\n",
       "<p><strong>tokens_whitespace:</strong></p>\n",
       "\n",
       "    \n",
       "    \n",
       "        <p>All tests passed!</p>\n",
       "    \n",
       "    \n",
       "\n",
       "<p><strong>tt_whitespace_tokenize_and_tt_normpunc_tokenize:</strong></p>\n",
       "\n",
       "    \n",
       "    \n",
       "        <p>All tests passed!</p>\n",
       "    \n",
       "    \n",
       "\n",
       "<p><strong>type_count:</strong></p>\n",
       "\n",
       "    \n",
       "    \n",
       "        <p>All tests passed!</p>\n",
       "    \n",
       "    \n",
       "\n",
       "<p><strong>type_count_norm_punc:</strong></p>\n",
       "\n",
       "    \n",
       "    \n",
       "        <p>All tests passed!</p>\n",
       "    \n",
       "    \n",
       "\n"
      ],
      "text/plain": [
       "anywhere_1hot:\n",
       "\n",
       "    All tests passed!\n",
       "    \n",
       "\n",
       "anywhere_1hot_reverse:\n",
       "\n",
       "    All tests passed!\n",
       "    \n",
       "\n",
       "cosine_distance:\n",
       "\n",
       "    All tests passed!\n",
       "    \n",
       "\n",
       "euclidean_distance:\n",
       "\n",
       "    All tests passed!\n",
       "    \n",
       "\n",
       "example_bow:\n",
       "\n",
       "    All tests passed!\n",
       "    \n",
       "\n",
       "example_sow:\n",
       "\n",
       "    All tests passed!\n",
       "    \n",
       "\n",
       "hamming_distance:\n",
       "\n",
       "    All tests passed!\n",
       "    \n",
       "\n",
       "jaccard_distance:\n",
       "\n",
       "    All tests passed!\n",
       "    \n",
       "\n",
       "norm_tokens_punc:\n",
       "\n",
       "    All tests passed!\n",
       "    \n",
       "\n",
       "normalize_token:\n",
       "\n",
       "    All tests passed!\n",
       "    \n",
       "\n",
       "token_count:\n",
       "\n",
       "    All tests passed!\n",
       "    \n",
       "\n",
       "token_count_punc:\n",
       "\n",
       "    All tests passed!\n",
       "    \n",
       "\n",
       "token_count_whitespace:\n",
       "\n",
       "    All tests passed!\n",
       "    \n",
       "\n",
       "tokens_whitespace:\n",
       "\n",
       "    All tests passed!\n",
       "    \n",
       "\n",
       "tt_whitespace_tokenize_and_tt_normpunc_tokenize:\n",
       "\n",
       "    All tests passed!\n",
       "    \n",
       "\n",
       "type_count:\n",
       "\n",
       "    All tests passed!\n",
       "    \n",
       "\n",
       "type_count_norm_punc:\n",
       "\n",
       "    All tests passed!\n",
       "    \n"
      ]
     },
     "execution_count": 66,
     "metadata": {},
     "output_type": "execute_result"
    }
   ],
   "source": [
    "grader.check_all()"
   ]
  }
 ],
 "metadata": {
  "celltoolbar": "Edit Metadata",
  "kernelspec": {
   "display_name": "Python 3 (ipykernel)",
   "language": "python",
   "name": "python3"
  },
  "language_info": {
   "codemirror_mode": {
    "name": "ipython",
    "version": 3
   },
   "file_extension": ".py",
   "mimetype": "text/x-python",
   "name": "python",
   "nbconvert_exporter": "python",
   "pygments_lexer": "ipython3",
   "version": "3.8.3"
  },
  "title": "CS187 Lab 1-1: Types, tokens, and representing text"
 },
 "nbformat": 4,
 "nbformat_minor": 5
}
