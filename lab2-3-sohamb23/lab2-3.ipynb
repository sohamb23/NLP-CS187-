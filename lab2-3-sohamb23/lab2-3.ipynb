{
 "cells": [
  {
   "cell_type": "code",
   "execution_count": 284,
   "metadata": {
    "deletable": false,
    "editable": false,
    "jupyter": {
     "outputs_hidden": true,
     "source_hidden": true
    }
   },
   "outputs": [
    {
     "name": "stdout",
     "output_type": "stream",
     "text": [
      "\n"
     ]
    }
   ],
   "source": [
    "# Please do not change this cell because some hidden tests might depend on it.\n",
    "import os\n",
    "\n",
    "# Otter grader does not handle ! commands well, so we define and use our\n",
    "# own function to execute shell commands.\n",
    "def shell(commands, warn=True):\n",
    "    \"\"\"Executes the string `commands` as a sequence of shell commands.\n",
    "     \n",
    "       Prints the result to stdout and returns the exit status. \n",
    "       Provides a printed warning on non-zero exit status unless `warn` \n",
    "       flag is unset.\n",
    "    \"\"\"\n",
    "    file = os.popen(commands)\n",
    "    print (file.read().rstrip('\\n'))\n",
    "    exit_status = file.close()\n",
    "    if warn and exit_status != None:\n",
    "        print(f\"Completed with errors. Exit status: {exit_status}\\n\")\n",
    "    return exit_status\n",
    "\n",
    "shell(\"\"\"\n",
    "ls requirements.txt >/dev/null 2>&1\n",
    "if [ ! $? = 0 ]; then\n",
    " rm -rf .tmp\n",
    " git clone https://github.com/cs187-2021/lab2-3.git .tmp\n",
    " mv .tmp/tests ./\n",
    " mv .tmp/requirements.txt ./\n",
    " rm -rf .tmp\n",
    "fi\n",
    "pip install -q -r requirements.txt\n",
    "\"\"\")"
   ]
  },
  {
   "cell_type": "code",
   "execution_count": 285,
   "id": "69cd8f99",
   "metadata": {
    "deletable": false,
    "editable": false
   },
   "outputs": [],
   "source": [
    "# Initialize Otter\n",
    "import otter\n",
    "grader = otter.Notebook()"
   ]
  },
  {
   "cell_type": "markdown",
   "metadata": {
    "colab_type": "text",
    "id": "-zGJsXLo2Loc",
    "tags": [
     "remove_for_latex"
    ]
   },
   "source": [
    "# CS187\n",
    "## Lab 2-3 – Language modeling with neural networks"
   ]
  },
  {
   "cell_type": "markdown",
   "metadata": {
    "colab_type": "text",
    "id": "-zGJsXLo2Loc"
   },
   "source": [
    "In lab 2-1, you built and tested $n$-gram language models. Recall that some problems with $n$-gram language models are:\n",
    "\n",
    "1. They are profligate with memory.\n",
    "2. They are sensitive to very limited context.\n",
    "3. They don't generalize well across similar words.\n",
    "\n",
    "As promised, in this lab, you'll explore neural models to address these failings. You will:\n",
    "\n",
    "1. Build and test a neural $n$-gram language model.\n",
    "2. Build and test a neural RNN language model.\n",
    "3. Use language models for classification (*Federalist* author identification)."
   ]
  },
  {
   "cell_type": "markdown",
   "metadata": {
    "colab_type": "text",
    "id": "M7rAIhx8FPqP"
   },
   "source": [
    "# Preparation – Loading packages and data {-}"
   ]
  },
  {
   "cell_type": "raw",
   "metadata": {
    "jupyter": {
     "source_hidden": true
    }
   },
   "source": [
    "%%latex\n",
    "\\newcommand{\\vect}[1]{\\mathbf{#1}}\n",
    "\\newcommand{\\cnt}[1]{\\sharp(#1)}\n",
    "\\newcommand{\\argmax}[1]{\\underset{#1}{\\operatorname{argmax}}}\n",
    "\\newcommand{\\softmax}{\\operatorname{softmax}}\n",
    "\\newcommand{\\Prob}{\\Pr}\n",
    "\\newcommand{\\given}{\\,|\\,}"
   ]
  },
  {
   "cell_type": "markdown",
   "metadata": {
    "jupyter": {
     "source_hidden": true
    },
    "tags": [
     "remove_for_latex"
    ]
   },
   "source": [
    "$$\n",
    "\\renewcommand{\\vect}[1]{\\mathbf{#1}}\n",
    "\\renewcommand{\\cnt}[1]{\\sharp(#1)}\n",
    "\\renewcommand{\\argmax}[1]{\\underset{#1}{\\operatorname{argmax}}}\n",
    "\\renewcommand{\\softmax}{\\operatorname{softmax}}\n",
    "\\renewcommand{\\Prob}{\\Pr}\n",
    "\\renewcommand{\\given}{\\,|\\,}\n",
    "$$"
   ]
  },
  {
   "cell_type": "code",
   "execution_count": 286,
   "metadata": {
    "colab": {
     "base_uri": "https://localhost:8080/",
     "height": 34
    },
    "colab_type": "code",
    "deletable": false,
    "id": "1fkMih2bVz1G",
    "outputId": "3c98002d-2388-4623-e114-1f16f1e00f33"
   },
   "outputs": [],
   "source": [
    "import json\n",
    "import math\n",
    "import random\n",
    "import wget\n",
    "\n",
    "import torch\n",
    "import torchtext.legacy as tt\n",
    "\n",
    "from tqdm.auto import tqdm"
   ]
  },
  {
   "cell_type": "code",
   "execution_count": 287,
   "metadata": {
    "colab": {
     "base_uri": "https://localhost:8080/",
     "height": 34
    },
    "colab_type": "code",
    "id": "1fkMih2bVz1G",
    "outputId": "3c98002d-2388-4623-e114-1f16f1e00f33"
   },
   "outputs": [
    {
     "name": "stdout",
     "output_type": "stream",
     "text": [
      "cpu\n"
     ]
    }
   ],
   "source": [
    "# Set random seeds\n",
    "SEED = 1234\n",
    "torch.manual_seed(SEED)\n",
    "random.seed(SEED)\n",
    "\n",
    "# GPU check, sets runtime type to \"GPU\" where available\n",
    "device = torch.device(\"cuda\" if torch.cuda.is_available() else \"cpu\")\n",
    "print (device)"
   ]
  },
  {
   "cell_type": "markdown",
   "metadata": {
    "colab_type": "text",
    "id": "Sv4t3pQEFU_A"
   },
   "source": [
    "The corpus used throughout this lab is the *Federalist* papers. We've trained and provided neural language models on papers authored by Hamilton and Madison, respectively, which we download here."
   ]
  },
  {
   "cell_type": "code",
   "execution_count": 288,
   "metadata": {
    "colab": {
     "base_uri": "https://localhost:8080/",
     "height": 121
    },
    "colab_type": "code",
    "id": "t7yYjgpAFZ6K",
    "outputId": "8adb7243-42db-4952-bc8f-fb3155f2b510"
   },
   "outputs": [],
   "source": [
    "# Prepare to download needed data\n",
    "def download_if_needed(source, dest, filename):\n",
    "    os.path.exists(f\"./{dest}{filename}\") or wget.download(source + filename, out=dest)\n",
    "\n",
    "source_path = \"https://raw.githubusercontent.com/nlp-course/data/master/Federalist/\"\n",
    "data_path = \"data/\"\n",
    "\n",
    "os.makedirs(data_path, exist_ok=True)\n",
    "# Download files, including pretrained language models\n",
    "for filename in [\"federalist_data_raw2.json\",\n",
    "                 \"text_field.pt\",\n",
    "                 # language models:\n",
    "                 # Hamilton        Madison\n",
    "                 \"ffnn_lm_h.pt\",   \"ffnn_lm_m.pt\", # feedforward NN\n",
    "                 \"rnn_lm_h.pt\",    \"rnn_lm_m.pt\"   # RNN\n",
    "                ]:\n",
    "    download_if_needed(source_path, data_path, filename)\n",
    "\n",
    "# Read in the raw data\n",
    "dataset = json.load(open(data_path + \"federalist_data_raw2.json\"))\n",
    "\n",
    "# Read in the pretrained TEXT field\n",
    "TEXT = torch.load(data_path + \"text_field.pt\")"
   ]
  },
  {
   "cell_type": "markdown",
   "metadata": {
    "colab_type": "text",
    "id": "42AYT1398aPD"
   },
   "source": [
    "First, let's split the dataset into training, validation, and test sets. Since we have provided pretrained models, you won't be using the training set in this lab. In the problem sets you will have opportunities to train models yourself.\n",
    "\n",
    "For this lab, we use a test set `testing`, which is the same as we used in lab 1-2. But for the validation set, we have separate ones for papers authored by Hamilton (`validation_hamilton`) and papers authored by Madison (`validation_madison`)."
   ]
  },
  {
   "cell_type": "code",
   "execution_count": 289,
   "metadata": {
    "colab": {
     "base_uri": "https://localhost:8080/",
     "height": 52
    },
    "colab_type": "code",
    "id": "xYFAZyKixwMX",
    "outputId": "cef967a4-d2b9-4c2c-8c98-82851c1f56b7"
   },
   "outputs": [
    {
     "name": "stdout",
     "output_type": "stream",
     "text": [
      "Madison validation size:  3 documents\n",
      "Hamilton validation size: 6 documents\n"
     ]
    }
   ],
   "source": [
    "# Split training, validation, and test sets\n",
    "TRAIN_RATIO = 0.9\n",
    "# Extract the papers of unknown authorship\n",
    "testing = list(filter(lambda ex: ex['authors'] == 'Hamilton or Madison',\n",
    "                      dataset))\n",
    "# Change gold labels in-place\n",
    "for ex in testing:\n",
    "  ex['authors'] = 'Madison'\n",
    "\n",
    "# Extract the papers by Madison\n",
    "dataset_madison = list(filter(lambda ex: ex['authors']=='Madison', dataset))\n",
    "random.seed(SEED)\n",
    "random.shuffle(dataset_madison)\n",
    "training_size_madison = int(math.floor(TRAIN_RATIO * len(dataset_madison)))\n",
    "validation_madison = dataset_madison[training_size_madison:]\n",
    "\n",
    "# Extract the papers by Hamilton\n",
    "dataset_hamilton = list(filter(lambda ex: ex['authors']=='Hamilton', dataset))\n",
    "random.seed(SEED)\n",
    "random.shuffle(dataset_hamilton)\n",
    "training_size_hamilton = int(math.floor(TRAIN_RATIO * len(dataset_hamilton)))\n",
    "validation_hamilton = dataset_hamilton[training_size_hamilton:]\n",
    "\n",
    "# We only consider the first 200 tokens of each document for speed\n",
    "def truncate(s, k=200):\n",
    "  for document in s:\n",
    "    document['tokens'] = document['tokens'][:k]\n",
    "truncate(validation_madison)\n",
    "truncate(validation_hamilton)\n",
    "truncate(testing)\n",
    "\n",
    "print (f\"Madison validation size:  {len(validation_madison)} documents\\n\"\n",
    "       f\"Hamilton validation size: {len(validation_hamilton)} documents\")"
   ]
  },
  {
   "cell_type": "markdown",
   "metadata": {
    "colab_type": "text",
    "id": "nqQkNyOl7BJa"
   },
   "source": [
    "Note that, unlike in labs 1-2 and 1-3, here we consider _all_ word types in the data. Let's look at an example:"
   ]
  },
  {
   "cell_type": "code",
   "execution_count": 290,
   "metadata": {
    "colab": {
     "base_uri": "https://localhost:8080/",
     "height": 72
    },
    "colab_type": "code",
    "id": "ZColoMI0UB1j",
    "outputId": "4ef819a6-5550-48d9-9504-197184d1df42"
   },
   "outputs": [
    {
     "name": "stdout",
     "output_type": "stream",
     "text": [
      "Example (Madison): ['it', 'is', 'not', 'a', 'little', 'remarkable', 'that', 'in', 'every', 'case', 'reported', 'by', 'ancient', 'history', ',', 'in', 'which', 'government', 'has', 'been', 'established', 'with', 'deliberation', 'and', 'consent', ',', 'the', 'task', 'of', 'framing', 'it', 'has', 'not', 'been', 'committed', 'to', 'an', 'assembly', 'of', 'men', ',', 'but', 'has', 'been', 'performed', 'by', 'some', 'individual', 'citizen', 'of', 'preeminent', 'wisdom', 'and', 'approved', 'integrity', '.', 'minos', ',', 'we', 'learn', ',', 'was', 'the', 'primitive', 'founder', 'of', 'the', 'government', 'of', 'crete', ',', 'as', 'zaleucus', 'was', 'of', 'that', 'of', 'the', 'locrians', '.', 'theseus', 'first', ',', 'and', 'after', 'him', 'draco', 'and', 'solon', ',', 'instituted', 'the', 'government', 'of', 'athens', '.', 'lycurgus', 'was', 'the', 'lawgiver', 'of', 'sparta', '.', 'the', 'foundation', 'of', 'the', 'original', 'government', 'of', 'rome', 'was', 'laid', 'by', 'romulus', ',', 'and', 'the', 'work', 'completed', 'by', 'two', 'of', 'his', 'elective', 'successors', ',', 'numa', 'and', 'tullius', 'hostilius', '.', 'on', 'the', 'abolition', 'of', 'royalty', 'the', 'consular', 'administration', 'was', 'substituted', 'by', 'brutus', ',', 'who', 'stepped', 'forward', 'with', 'a', 'project', 'for', 'such', 'a', 'reform', ',', 'which', ',', 'he', 'alleged', ',', 'had', 'been', 'prepared', 'by', 'tullius', 'hostilius', ',', 'and', 'to', 'which', 'his', 'address', 'obtained', 'the', 'assent', 'and', 'ratification', 'of', 'the', 'senate', 'and', 'people', '.', 'this', 'remark', 'is', 'applicable', 'to', 'confederate', 'governments', 'also', '.', 'amphictyon', ',', 'we', 'are', 'told', ',', 'was']\n",
      "\n",
      "Example (Hamilton): ['the', 'administration', 'of', 'government', ',', 'in', 'its', 'largest', 'sense', ',', 'comprehends', 'all', 'the', 'operations', 'of', 'the', 'body', 'politic', ',', 'whether', 'legislative', ',', 'executive', ',', 'or', 'judiciary', 'but', 'in', 'its', 'most', 'usual', ',', 'and', 'perhaps', 'its', 'most', 'precise', 'signification', '.', 'it', 'is', 'limited', 'to', 'executive', 'details', ',', 'and', 'falls', 'peculiarly', 'within', 'the', 'province', 'of', 'the', 'executive', 'department', '.', 'the', 'actual', 'conduct', 'of', 'foreign', 'negotiations', ',', 'the', 'preparatory', 'plans', 'of', 'finance', ',', 'the', 'application', 'and', 'disbursement', 'of', 'the', 'public', 'moneys', 'in', 'conformity', 'to', 'the', 'general', 'appropriations', 'of', 'the', 'legislature', ',', 'the', 'arrangement', 'of', 'the', 'army', 'and', 'navy', ',', 'the', 'directions', 'of', 'the', 'operations', 'of', 'war', ',', 'these', ',', 'and', 'other', 'matters', 'of', 'a', 'like', 'nature', ',', 'constitute', 'what', 'seems', 'to', 'be', 'most', 'properly', 'understood', 'by', 'the', 'administration', 'of', 'government', '.', 'the', 'persons', ',', 'therefore', ',', 'to', 'whose', 'immediate', 'management', 'these', 'different', 'matters', 'are', 'committed', ',', 'ought', 'to', 'be', 'considered', 'as', 'the', 'assistants', 'or', 'deputies', 'of', 'the', 'chief', 'magistrate', ',', 'and', 'on', 'this', 'account', ',', 'they', 'ought', 'to', 'derive', 'their', 'offices', 'from', 'his', 'appointment', ',', 'at', 'least', 'from', 'his', 'nomination', ',', 'and', 'ought', 'to', 'be', 'subject', 'to', 'his', 'superintendence', '.', 'this', 'view', 'of', 'the', 'subject', 'will', 'at', 'once', 'suggest', 'to', 'us', 'the', 'intimate']\n"
     ]
    }
   ],
   "source": [
    "print (f\"Example (Madison): {validation_madison[0]['tokens']}\\n\\n\"\n",
    "       f\"Example (Hamilton): {validation_hamilton[0]['tokens']}\")"
   ]
  },
  {
   "cell_type": "markdown",
   "metadata": {
    "colab_type": "text",
    "id": "5deKj8K4bla5"
   },
   "source": [
    "# The $n$-gram feedforward network\n",
    "\n",
    "In lab 2-1, you built an $n$-gram language model using a lookup table. However, that model assigns zero probability to any $n$-gram that doesn't appear in the training text (without smoothing). In this lab, we consider a neural-network-based approach, which can address this issue.\n",
    "\n",
    "Recall that in $n$-gram language modeling, we made the assumption that the probability of a word only depends on its previous $n-1$ words:\n",
    "\n",
    "\\begin{align*}\n",
    "\\Prob(w_1, w_2, \\ldots, w_M) & = \\Prob(w_1) \\cdot \\Prob(w_2, \\ldots, w_M\\given w_1) \\\\\n",
    "& = \\Prob(w_1) \\cdot \\Prob(w_2 \\given w_1) \\cdot \\Prob(w_3 \\ldots, w_M \\given w_1, w_2) \\\\\n",
    "& \\cdots \\\\\n",
    "& = \\prod_{i=1}^M \\Prob (w_i \\given w_1, \\cdots, w_{i-1}) \\\\\n",
    "& \\approx \\prod_{i=1}^M \\Prob (w_i \\given w_{i-n+1}, \\cdots, w_{i-1}),\n",
    "\\end{align*}\n",
    "\n",
    "and we used the empirical frequencies to estimate these conditional probabilities:\n",
    "\n",
    "$$\n",
    "\\Pr (w_i \\given w_{i-n+1}, \\cdots, w_{i-1})= \\frac{\\cnt{w_{i-n+1}, \\cdots, w_{i-1}, w_i}}{\\sum_{x'} \\cnt{w_{i-n+1}, \\cdots, w_{i-1}, x'}}\n",
    "$$\n",
    "\n",
    "We can immediately see the problem with using a large $n$: the numerator would be 0 for any $n$-grams unseen in the training data.\n",
    "\n",
    "One way of solving this issue is to use a \"smoother\" function. We parameterize the conditional probabilities using a neural network that computes a function $f$, which we use to estimate the probabilities\n",
    "\n",
    "$$\n",
    "\\Pr (w_i \\given w_{i-n+1}, \\cdots, w_{i-1}) \\approx f_i(w_{i-n+1}, \\cdots, w_{i-1}),\n",
    "$$\n",
    "\n",
    "where $f$ is a function returning a vector of size $V$ ($V$ being the vocabulary size). The $j$-th element of the returned vector $f_j$ stores the probability of generating the $j$-th word in the vocabulary. (We're being a little fast and loose with notation here. Strictly speaking, we should define these probability estiamets in terms of word ids, that is, indices into the vocabulary.)\n",
    "\n",
    "To specify $f$, we can use a feedforward neural network. We'll represent words not by their ids or a one-hot representation but isntead we map each word type in the vocabulary to a trainable vector called an _embedding_ of size `embedding_size`. \n",
    "\n",
    "Why do we represent words with such embeddings? To answer this question, let's consider two alternative representations: (1) word indices and (2) one-hot vectors (which we used in lab 1-1). (We cannot directly use the strings themselves because they are of varying lengths.) A desirable word representation system should be such that *the similarity of words can be reflected in the closeness of word representations*. Ideally, if two words have similar meaning and syntactic function, they should have similar representations, in order to alleviate the burden of learning such similarities by the rest of the model. For option (1), closeness in terms of word indices is meaningless: the 365-th word in the vocabulary is probably not more similar to the 366-th word than it is to other words, since the assignment of index in the vocabulary is arbitrary. For option (2), two different word types always have orthogonal vector representations, but we would hope that similar words can be placed near each other (at least we don't want to eliminate that possibility from the beginning).\n",
    "\n",
    "Therefore, we use an embedding, a vector representation for each word type in the vocabulary, which has been separately learned in a manner that has been shown to cluster similar words together. There are many such embeddings; the particular embedding we'll use is _word2vec_, a mapping from words to vectors of embedding size 128 trained under a task called \"masked language modeling\". If you are interested in more details, you should read the original [word2vec paper](https://papers.nips.cc/paper/5021-distributed-representations-of-words-and-phrases-and-their-compositionality.pdf). For our purposes, we can treat the embedding as just given to us.\n",
    "\n",
    "Now let's get back to the parameterization of $f(w_{i-n+1}, \\cdots, w_{i-1})$. We first map each word in $\\langle w_{i-n+1}, \\cdots, w_{i-1}\\rangle$ to its embedding $\\langle x_{i-n+1}, \\cdots, x_{i-1}\\rangle$ ($n-1$ vectors each of size `embedding_size`), and we concatenate these embeddings to a vector (of size `(n-1) * embedding_size`). Then, we apply a linear projection to project it down to size `hidden_size`, followed by a nonlinear function, and another linear projection to project to size $V$, followed by a softmax to normalize to probabilities. In this case, the nonlinear function we use is not a sigmoid. Instead, we use a Rectified Linear Unit (ReLU), which is simply a componentwise function that clips negative numbers at zero: \n",
    "\n",
    "$$ReLU(x) = \\max(0, x)$$\n",
    "\n",
    "We use $n=5$ in this lab."
   ]
  },
  {
   "cell_type": "code",
   "execution_count": 291,
   "metadata": {
    "colab": {},
    "colab_type": "code",
    "id": "UZ2EfkxNgXSI"
   },
   "outputs": [],
   "source": [
    "n = 5"
   ]
  },
  {
   "cell_type": "markdown",
   "metadata": {
    "colab_type": "text",
    "deletable": false,
    "editable": false,
    "id": "9EoO8kN2_few"
   },
   "source": [
    "<!--\n",
    "BEGIN QUESTION\n",
    "name: ffnn_forward_step\n",
    "-->\n",
    "\n",
    "Implement the missing part of the `forward_step` function below. This function takes the previous words (the entire previous history, not just the $n$-gram context) as input, and returns the probabilities of generating the next word (the target). (This design decision to take the entire history even though the $n-1$-gram context is all that is needed is for consistency with the RNN language model that will be introduced later, which does use the full context.)\n",
    "\n",
    "The returned value should be a dictionary, with word types as keys and their respective probabilities as values."
   ]
  },
  {
   "cell_type": "code",
   "execution_count": 292,
   "metadata": {
    "colab": {},
    "colab_type": "code",
    "id": "p9Mlt1hldIIH"
   },
   "outputs": [],
   "source": [
    "class FFNNLM(torch.nn.Module):\n",
    "  def __init__(self, n, text_field, embedding_size, hidden_size):\n",
    "    super().__init__()\n",
    "    self.n = n\n",
    "    self.text_field = text_field\n",
    "    self.pad_index = self.text_field.vocab.stoi[self.text_field.pad_token]\n",
    "    vocab_size = len(self.text_field.vocab)\n",
    "\n",
    "    # Create modules\n",
    "    self.embed = torch.nn.Embedding(vocab_size, embedding_size)           # Embedding\n",
    "    self.sublayer1 = torch.nn.Linear((n-1) * embedding_size, hidden_size) # First layer\n",
    "    self.sublayer2 = torch.nn.ReLU()                                      # Second layer\n",
    "    self.hidden2output = torch.nn.Linear(hidden_size, vocab_size)         # Last layer\n",
    "\n",
    "  def forward_step(self, history_words):\n",
    "    \"\"\"Computes the distribution over the next word given context `history_words`.\n",
    "    Arguments:\n",
    "      history_words: a list of word strings, could be an empty list when generating\n",
    "                     the first word.\n",
    "    Returns: \n",
    "      the distribution over the next word given the context, stored as a dictionary, \n",
    "      with word types as keys, and probability values as values. The probability of\n",
    "      generating an unknown word is stored in dictionary[\"<unk>\"]\".\"\"\"\n",
    "    # Switch to \"evaluation\" mode\n",
    "    self.eval()\n",
    "    # Convert strings to word ids\n",
    "    context = self.text_field.process([history_words]).to(device) # context_len, 1\n",
    "    context_len = context.size(0)\n",
    "    if context_len < self.n-1:\n",
    "      # Pad to the left if we don't have enough context words\n",
    "      padding = context.new(self.n-1-context_len, 1).fill_(self.pad_index)\n",
    "      context = torch.cat([padding, context], 0)\n",
    "    else:\n",
    "      # TODO: prepare proper context (the previous n-1 words) from the full history\n",
    "      context = context[context_len - (self.n-1):]\n",
    "    context = context.view(1, -1)              # first dim batch=1, second dim length=n-1\n",
    "    embeddings = self.embed(context)           # 1, n-1, embedding_size\n",
    "    embeddings = embeddings.view(1, -1)        # 1, (n-1)*embedding_size\n",
    "    # TODO: finish feedforward and set logits from output\n",
    "    # Logits should be a tensor of size (1, vocab_size)\n",
    "    # The structure of the network is\n",
    "    #   embeddings -> sublayer1 -> sublayer2 -> hidden2output -> softmax\n",
    "    logits = self.hidden2output(self.sublayer2(self.sublayer1(embeddings)))\n",
    "    \n",
    "    # Normalize to get probabilities\n",
    "    probs = torch.softmax(logits, -1).view(-1) # vocab_size\n",
    "\n",
    "    # Match probabilities with actual word types\n",
    "    distribution = {}\n",
    "    for i, prob in enumerate(probs):\n",
    "      word = self.text_field.vocab.itos[i]\n",
    "      distribution[word] = prob.item()\n",
    "    return distribution"
   ]
  },
  {
   "cell_type": "markdown",
   "metadata": {
    "colab_type": "text",
    "id": "Fhv7v-LiMaYU"
   },
   "source": [
    "Now, let's load the pretrained feedforward language models for Hamilton and Madison. The model `ffnn_lm_madison` was trained on documents authored by Madison, whereas `ffnn_lm_hamilton` was trained on documents authored by Hamilton."
   ]
  },
  {
   "cell_type": "code",
   "execution_count": 293,
   "metadata": {
    "colab": {
     "base_uri": "https://localhost:8080/",
     "height": 34
    },
    "colab_type": "code",
    "id": "KopoYVWVehTL",
    "outputId": "ec071380-550d-4b84-f44a-9fa1170630d6"
   },
   "outputs": [
    {
     "data": {
      "text/plain": [
       "<All keys matched successfully>"
      ]
     },
     "execution_count": 293,
     "metadata": {},
     "output_type": "execute_result"
    }
   ],
   "source": [
    "# Create and load feedforward LM for Madison\n",
    "ffnn_lm_madison = FFNNLM(n, TEXT,\n",
    "               embedding_size=128, \n",
    "               hidden_size=128, \n",
    "               ).to(device)\n",
    "ffnn_lm_madison.load_state_dict(torch.load(data_path + 'ffnn_lm_m.pt', map_location=device))\n",
    "\n",
    "# Create and load feedforward LM for Hamilton\n",
    "ffnn_lm_hamilton = FFNNLM(n, TEXT,\n",
    "               embedding_size=128, \n",
    "               hidden_size=128, \n",
    "               ).to(device)\n",
    "ffnn_lm_hamilton.load_state_dict(torch.load(data_path + 'ffnn_lm_h.pt', map_location=device))"
   ]
  },
  {
   "cell_type": "markdown",
   "metadata": {
    "colab_type": "text",
    "id": "-B_cLNfW2Lq9"
   },
   "source": [
    "## Sampling from an $n$-gram feedforward network\n",
    "\n",
    "Recall from lab 2-1 that we can sample a sequence of text from a model using the functions below. Again, the `sample` function here takes as an argument the full context instead of just the previous $n-1$ words, for consistency with the later RNN model."
   ]
  },
  {
   "cell_type": "code",
   "execution_count": 294,
   "metadata": {
    "colab": {},
    "colab_type": "code",
    "id": "-Ea3fhUV2Lq-"
   },
   "outputs": [],
   "source": [
    "def sample(model, context):\n",
    "    \"\"\"Returns a token sampled from the `model` assuming the `context`\"\"\"\n",
    "    distribution = model.forward_step(context)\n",
    "    prob_remaining = random.random()\n",
    "    for token, prob in sorted(distribution.items()):\n",
    "        if prob_remaining < prob:\n",
    "            return token\n",
    "        else:\n",
    "            prob_remaining -= prob\n",
    "    raise ValueError\n",
    "\n",
    "def sample_sequence(model, start_context, count=100):\n",
    "    \"\"\"Returns a sequence of tokens of length `count` sampled successively\n",
    "       from the `model` starting with the `start_context`\n",
    "    \"\"\"\n",
    "    random.seed(SEED) # for reproducibility\n",
    "    context = list(start_context)\n",
    "    result = list(start_context)\n",
    "    for i in range(0, count):\n",
    "        next = sample(model, tuple(context))\n",
    "        result.append(next)\n",
    "        context = context + [next]\n",
    "    return result"
   ]
  },
  {
   "cell_type": "markdown",
   "metadata": {
    "colab_type": "text",
    "id": "fALS_tEb2LrT"
   },
   "source": [
    "Let's try to sample from our models. (Don't expect much fluency in the samples, since the dataset it is trained on is small.)"
   ]
  },
  {
   "cell_type": "code",
   "execution_count": 295,
   "metadata": {
    "colab": {
     "base_uri": "https://localhost:8080/",
     "height": 52
    },
    "colab_type": "code",
    "id": "lDev0QyzSDLw",
    "outputId": "39323b7e-e685-411e-998c-e3bed7084d7f"
   },
   "outputs": [
    {
     "name": "stdout",
     "output_type": "stream",
     "text": [
      "constitution proposed by the united states , which will have laid against the elevation but the federal innovations is <unk> , and , is very <unk> invested in the authors of that reason . little far as we have have <unk> like , and in mankind , or as more and to the union , at a constitution passions , and very <unk> taxes , if gives give the legislative powers falling that they is the rights of any commission , and mean them in the people of its portion of civil suffrages , and the principles of powerful acts . a enjoyed and \n",
      "\n",
      "constitution proposed by the usual has , very time never it , the convention , the general models of course , and , in treat . the legislature may are merchants . the person of nations . we have far <unk> less , and instance , adopt properly be less <unk> to the union , has , except to be allowed to acquire the <unk> hands of one situation ? these is sometimes take it to serve by a <unk> in a measures than members of the political difference have prospect for this determinate augmented states should propriety either <unk> from a distribution but\n"
     ]
    }
   ],
   "source": [
    "print(' '.join(sample_sequence(ffnn_lm_madison, ('constitution', 'proposed', 'by', 'the'))), \"\\n\")\n",
    "print(' '.join(sample_sequence(ffnn_lm_hamilton, ('constitution', 'proposed', 'by', 'the'))))"
   ]
  },
  {
   "cell_type": "code",
   "execution_count": 296,
   "id": "135351af",
   "metadata": {
    "deletable": false,
    "editable": false
   },
   "outputs": [
    {
     "data": {
      "text/html": [
       "\n",
       "    \n",
       "    \n",
       "        <p>All tests passed!</p>\n",
       "    \n",
       "    "
      ],
      "text/plain": [
       "\n",
       "    All tests passed!\n",
       "    "
      ]
     },
     "execution_count": 296,
     "metadata": {},
     "output_type": "execute_result"
    }
   ],
   "source": [
    "grader.check(\"ffnn_sample\")"
   ]
  },
  {
   "cell_type": "markdown",
   "metadata": {
    "colab_type": "text",
    "id": "4r8yjfpY2UVA"
   },
   "source": [
    "## Evaluating text according to an $n$-gram feedforward network\n",
    "\n",
    "Now let's use our language model to score text. Since the $n$-gram feedforward network is able to score with zero context -- internally, it pads on the left with instances of the padding token that `torchtext` provided -- `ffnn_lm_hamilton.forward_step([])` will return the probability distribution $\\Pr(x_1)$ for the first word in a document."
   ]
  },
  {
   "cell_type": "code",
   "execution_count": 297,
   "metadata": {},
   "outputs": [
    {
     "name": "stdout",
     "output_type": "stream",
     "text": [
      "{'<unk>': 0.02715127542614937, '<pad>': 3.7218262605165364e-07, 'the': 0.045796774327754974, ',': 0.04835439473390579, 'of': 0.030973201617598534, 'to': 0.01811869814991951, '.': 0.015009426511824131, 'and': 0.016452522948384285, 'in': 0.02780929021537304, 'a': 0.012364438734948635, 'be': 0.004435582552105188, 'that': 0.020236073061823845, 'it': 0.012163500301539898, 'is': 0.0037637031637132168, 'which': 0.01854638196527958, 'by': 0.011737199500203133, 'as': 0.010662724263966084, 'will': 0.004447761923074722, 'this': 0.003288883250206709, 'for': 0.007247477304190397, 'have': 0.00585532933473587, 'not': 0.0019382559694349766, 'or': 0.006900131236761808, 'are': 0.0038621281273663044, 'their': 0.003925008699297905, 'on': 0.0050356131978333, 'with': 0.008466130122542381, 'would': 0.004033213946968317, 'from': 0.00812950823456049, 'government': 0.0004271192883607, 'an': 0.0069777281023561954, 'been': 0.00014599275891669095, 'states': 0.0002591567172203213, 'they': 0.0049381498247385025, 'may': 0.002351949457079172, 'all': 0.004436031449586153, 'state': 0.0005411459715105593, 'other': 0.0011026682332158089, 'but': 0.003505670465528965, 'its': 0.00545160286128521, 'has': 0.0031614385079592466, 'people': 3.815694071818143e-05, 'power': 0.0016517757903784513, 'if': 0.0035272857639938593, 'more': 0.0029347671661525965, 'at': 0.005578241776674986, 'one': 0.002178607741370797, 'can': 0.0030428599566221237, 'than': 0.0048857033252716064, 'no': 0.0016962167574092746, 'must': 0.0031777394469827414, 'any': 0.002629402792081237, 'them': 0.0020735340658575296, 'these': 0.0023660724982619286, 'we': 0.0036746165715157986, 'constitution': 0.00018256065959576517, 'those': 0.0031407198403030634, '?': 0.004271635320037603, 'there': 0.004598732106387615, 'every': 0.002382292179390788, 'federal': 9.525022323941812e-05, 'who': 0.001990248914808035, 'i': 0.002902295673266053, 'most': 0.0009193074656650424, 'so': 0.004658342804759741, 'such': 0.002081360900774598, 'should': 0.0015392141649499536, 'same': 8.141772923409007e-06, 'upon': 0.008849911391735077, \"'\": 0.002678907010704279, 'union': 8.107831672532484e-05, 'his': 0.004644641652703285, 'against': 0.0031664485577493906, 'national': 7.254760566866025e-05, 'only': 0.0010255498345941305, 'under': 0.003125815186649561, 'was': 0.0014482783153653145, 'powers': 0.0005348885897547007, 'were': 0.0018821051344275475, 'authority': 0.0006959766033105552, 'general': 0.0003307646547909826, 'great': 0.0006705545820295811, 'might': 0.0016099652275443077, 'public': 0.00020863115787506104, 'ought': 0.0017954017966985703, 'our': 0.0024647796526551247, 'some': 0.000983298639766872, 'into': 0.0027275891043245792, 'had': 0.001453254371881485, 'each': 0.0010891983984038234, 'representatives': 6.517380097648129e-05, 'number': 0.00022706363233737648, 'legislative': 0.0002241147740278393, 'time': 0.0008870380697771907, 'less': 0.0011378481285646558, 'members': 0.00011042573169106618, 'particular': 0.0005856984062120318, 'new': 0.0006617334438487887, 'part': 0.0007033926085568964, 'what': 0.0020451885648071766, 'very': 0.0004282344307284802, 'between': 0.003176167607307434, 'necessary': 0.0012296714121475816, 'executive': 0.0001325109915342182, 'could': 0.001646850723773241, 'different': 0.0005396624910645187, 'first': 0.00042901679989881814, 'united': 2.661214239196852e-05, 'governments': 0.0003657877095974982, 'without': 0.0024599414318799973, 'shall': 0.0016484035877510905, 'men': 0.0016814343398436904, 'two': 0.0013591423630714417, 'body': 0.000516120926477015, 'he': 0.0024952127132564783, 'legislature': 1.579780291649513e-05, 'subject': 0.00039939675480127335, 'convention': 3.7497688026633114e-05, 'own': 2.298518484167289e-05, 'us': 0.003147160168737173, 'laws': 0.0009063611505553126, 'either': 0.00319654680788517, 'several': 0.0004373807751107961, 'latter': 1.4879548871249426e-05, 'made': 0.0009238268248736858, 'case': 0.0005364147364161909, 'cases': 0.0005347289843484759, 'even': 0.0023049742449074984, 'well': 0.0004533870960585773, 'citizens': 0.0001739083818392828, 'proper': 0.0013296186225488782, 'objects': 0.0006324342102743685, 'cannot': 0.0011884650448337197, 'far': 0.0009937880095094442, 'itself': 0.003428315743803978, 'too': 0.001953437924385071, 'interests': 0.0003912595275323838, 'much': 0.0013237029779702425, 'plan': 0.0003315222857054323, 'where': 0.0014643353642895818, 'within': 0.0013319358695298433, 'form': 0.0008745584636926651, 'themselves': 0.0016254266956821084, 'therefore': 0.00040664305561222136, 'former': 1.9634955606306903e-05, 'over': 0.002145435893908143, 'common': 6.858372944407165e-05, 'senate': 2.093801049340982e-05, 'man': 0.000677938514854759, 'nature': 0.00020934976055286825, 'whole': 4.886459464614745e-06, 'place': 0.0015510452212765813, 'when': 0.001532475696876645, 'liberty': 0.00047337712021544576, 'means': 0.00038409867556765676, 'political': 0.00030086422339081764, 'proposed': 0.0005880739772692323, 'though': 0.001272450783289969, 'influence': 0.0008764562662690878, 'little': 0.0010139266960322857, 'greater': 0.0008921843837015331, 'many': 0.0006239568465389311, 'provision': 0.0006282940157689154, 'circumstances': 0.0004387267690617591, 'law': 0.0002513715298846364, 'among': 0.0013628158485516906, 'president': 0.00010492745059309527, 'both': 0.001522712060250342, 'rights': 2.2579206415684894e-05, 'system': 0.00043116998858749866, 'majority': 0.0001391340047121048, 'department': 6.212496373336762e-05, 'foreign': 0.0004443214857019484, 'another': 0.0005805266555398703, 'force': 0.0011469763703644276, 'found': 0.00018535841081757098, 'nor': 0.00174709502607584, 'proportion': 0.0003038183494936675, 'yet': 0.0012965447967872024, 'course': 0.0002856000210158527, 'degree': 0.00024364973069168627, 'principle': 0.00024320399097632617, 'being': 0.0010371360694989562, 'interest': 0.0003565595834515989, 'local': 0.0002741757489275187, 'respect': 0.00047134992200881243, 'extent': 0.0005183282191865146, 'however': 0.0004454840091057122, 'single': 6.757660594303161e-05, 'danger': 0.0004189431492704898, 'necessity': 0.0003698098298627883, 'principles': 0.00020619177666958421, 'still': 0.0007526984554715455, 'object': 0.0002998818235937506, 'society': 0.0001804434141376987, 'trial': 0.0003374148509465158, 'view': 0.000453826563898474, 'america': 0.00018218134937342256, 'congress': 0.00019226857693865895, 'good': 0.0003142743371427059, 'right': 0.0006668007699772716, 'security': 0.0005643375916406512, 'whether': 0.0012887761695310473, 'make': 0.0004891532589681447, 'situation': 0.0004893394652754068, 'confederation': 5.516236342373304e-05, 'important': 0.0004883997607976198, 'jury': 0.00020389795827213675, 'let': 0.0007415117579512298, 'republican': 0.00013152192695997655, 'side': 0.0005367816775105894, 'least': 0.00018358656961936504, 'years': 0.00017042217950802296, 'last': 0.00011837599595310166, 'reason': 0.0009433438535779715, 'appointment': 0.00014046656724531204, 'certain': 0.0010604747803881764, 'country': 0.00010647679300745949, 'few': 0.00016661809058859944, 'officers': 0.0004894103622063994, 'peace': 0.000272315286565572, 'also': 0.0003763535351026803, 'point': 0.0007613549241796136, 'true': 0.00021452721557579935, 'answer': 0.0007297327392734587, 'branch': 0.00021556339925155044, 'considered': 0.0005390547448769212, 'experience': 0.0008013067417778075, 'house': 0.00012194708688184619, 'how': 0.0008966014720499516, 'nations': 0.0012754884082823992, 'never': 0.0002798257046379149, 'articles': 0.00018799729878082871, 'constitutional': 0.00012757301738020033, 'do': 0.0009934966219589114, 'equal': 0.0009805903537198901, 'established': 0.0006588902906514704, 'measures': 0.0002514604711905122, 'militia': 6.359062535921112e-05, 'others': 0.0006181949283927679, 'persons': 0.00027363307890482247, 'civil': 0.00031419823062606156, 'essential': 0.0009615022572688758, 'exercise': 0.00019888595852535218, 'objection': 0.00025113107403740287, 'taxation': 7.600016397191212e-05, 'judiciary': 6.73171307425946e-05, 'present': 0.0002097906544804573, 'require': 0.00046904105693101883, 'here': 0.0008306003292091191, 'kind': 0.00011943802383029833, 'large': 0.0001912600127980113, 'parties': 0.00014063417620491236, 'property': 0.00045076405513100326, 'question': 0.00027582774055190384, 'sense': 0.0001937318593263626, 'act': 0.0003830615896731615, 'advantage': 0.0005066088051535189, 'departments': 0.0002535195089876652, 'elected': 0.0003695976047310978, 'nation': 8.734327275305986e-05, 'out': 0.001966023351997137, 'spirit': 0.00018988312513101846, 'sufficient': 0.00036777768400497735, 'whose': 0.0015844766749069095, 'administration': 0.00018061170703731477, 'mode': 0.0005029123276472092, 'possess': 0.00022780837025493383, 'regard': 0.0006760087562724948, 'because': 0.0006428026827052236, 'character': 0.0001236709504155442, 'human': 0.0002461085969116539, 'jurisdiction': 0.0003306560101918876, 'knowledge': 0.00021907333575654775, 'now': 0.0006103250780142844, 'small': 0.00013904657680541277, 'able': 0.0003509556408971548, 'article': 0.00014404166722670197, 'causes': 0.0007148101576603949, 'just': 0.0005698452587239444, 'legislatures': 0.00014357261534314603, 'often': 0.0006021630251780152, 'then': 0.00038931178278289735, 'war': 0.0008662447798997164, 'alone': 0.0011665783822536469, 'always': 0.0002564615570008755, 'appear': 9.044509351952001e-05, 'does': 0.0006323880515992641, 'effect': 0.00044943427201360464, 'give': 0.0004990821471437812, 'period': 0.00036450690822675824, 'representative': 0.00012066333874827251, 'taken': 0.0006098238518461585, 'york': 2.0402290829224512e-05, 'attention': 0.00022247899323701859, 'community': 7.2261009336216375e-06, 'constitutions': 0.00018710424774326384, 'hands': 0.00015075756527949125, 'like': 0.0004724719328805804, 'perhaps': 0.0004930170252919197, 'republic': 0.0001708619820419699, 'considerations': 0.0004266783653292805, 'head': 9.904806211125106e-05, 'her': 0.00038964496343396604, 'likely': 0.00034452517866156995, 'render': 0.0004097225610166788, 'revenue': 0.00023010923177935183, 'supreme': 0.0001610931649338454, 'consideration': 0.000492619932629168, 'free': 0.0004268591001164168, 'happen': 0.0003948697412852198, 'instances': 0.000559179054107517, 'long': 0.0004985346458852291, 'manner': 0.0001256956602446735, 'nothing': 0.0009994342690333724, 'order': 2.976325777126476e-05, 'possible': 0.0005775543977506459, 'practice': 0.00012282327224966139, 'provided': 0.0006086379871703684, 'rule': 0.00023191110813058913, 'seems': 0.0005508795147761703, 'take': 0.00024375919019803405, 'affairs': 3.477776044746861e-05, 'become': 0.0006215805769897997, 'defense': 4.466170503292233e-05, 'forms': 0.0003637332411017269, 'given': 0.0005831034504808486, 'him': 0.0012400413397699594, 'independent': 0.0007967802812345326, 'magistrate': 0.00021059367281850427, 'natural': 0.00028875708812847733, 'numerous': 0.00035267518251203, 'assembly': 0.0001068839555955492, 'best': 0.0003618353803176433, 'britain': 0.000165358986123465, 'commerce': 0.00044254661770537496, 'confederacy': 8.359922503586859e-05, 'courts': 0.0006236004992388189, 'end': 0.0001471899449825287, 'favor': 0.00015910869115032256, 'purpose': 0.000280452222796157, 'support': 0.0003267450083512813, 'thing': 0.00042154622497037053, 'three': 0.00029627690673805773, 'appears': 0.0005004176055081189, 'contrary': 0.0001661511923884973, 'neither': 0.000546117837075144, 'popular': 5.1594837714219466e-05, 'representation': 9.924823825713247e-05, 'taxes': 0.0005853022448718548, 'truth': 0.0002597603597678244, 'use': 0.0005912856431677938, 'equally': 0.0008752555586397648, 'internal': 0.00023824335949029773, 'party': 0.00018919767171610147, 'requisite': 0.0008737598545849323, 'second': 3.072166509809904e-05, 'seen': 0.00011582066508708522, 'views': 0.0002041944972006604, 'according': 0.0006406386382877827, 'branches': 0.00016307549958582968, 'choice': 8.239486487582326e-05, 'confidence': 0.00027957631391473114, 'council': 6.65741172269918e-05, 'due': 0.0002954260853584856, 'find': 0.00026768824318423867, 'individual': 1.0327365089324303e-05, 'ordinary': 4.905357491225004e-05, 'parts': 0.00017608341295272112, 'weight': 0.00041778970626182854, 'appointed': 0.00014244270278140903, 'councils': 3.303934136056341e-05, 'distinct': 0.00014326850941870362, 'elections': 3.25720918681327e-07, 'ever': 0.0006422823644243181, 'office': 0.000392501795431599, 'relation': 0.00023313940619118512, 'resources': 0.0001852456625783816, 'admit': 0.0008949727634899318, 'almost': 0.001020017545670271, 'better': 0.000297489546937868, 'founded': 0.0006778609822504222, 'hundred': 4.137025462114252e-05, 'immediate': 0.00011079798423452303, 'justice': 0.00024319563817698509, 'military': 0.00016048991528805345, 'operation': 0.00019101373618468642, 'propriety': 0.0003235628828406334, 'before': 0.0009340667747892439, 'difference': 0.0003116230946034193, 'election': 7.179812382673845e-05, 'establishment': 0.00025468680541962385, 'evident': 0.00042334827594459057, 'existing': 1.1780125532823149e-05, 'further': 0.00044449270353652537, 'himself': 0.0011529134353622794, 'inhabitants': 1.5832006283744704e-07, 'judges': 0.0001833316491683945, 'purposes': 0.00010420923354104161, 'thus': 0.0005834500188939273, 'whatever': 0.0009000934660434723, 'conduct': 8.938156679505482e-05, 'control': 0.00030978108406998217, 'depend': 0.0006405867170542479, 'example': 0.00015441968571394682, 'execution': 0.00012685473484452814, 'hand': 9.561873594066128e-05, 'immediately': 0.0004040334024466574, 'importance': 0.0003201684448868036, 'individuals': 0.0004832150007132441, 'information': 0.00014645460760220885, 'limits': 0.00011672845721477643, 'next': 0.00021178307360969484, 'opposition': 0.0003980881883762777, 'result': 0.0002558055566623807, 'term': 5.748589728682418e-07, 'court': 0.00017352518625557423, 'discretion': 0.00016202995902858675, 'duty': 0.00013306540495250374, 'existence': 7.217880920507014e-05, 'faction': 0.0003340435796417296, 'happiness': 0.00012046253687003627, 'making': 0.00010401273902971298, 'particularly': 0.00045296657481230795, 'person': 7.262243161676452e-05, 'policy': 0.00021568142983596772, 'principal': 3.9161397580755875e-05, 'regulation': 0.00014328141696751118, 'supposition': 0.000302944885334, 'trust': 0.0003648425335995853, 'admitted': 0.00016239596880041063, 'army': 0.00013711632345803082, 'constituents': 7.185007689258782e-06, 'duties': 0.0009357974049635231, 'instance': 0.000309889845084399, 'meaning': 0.00018414409714750946, 'provisions': 0.00017422328528482467, 'real': 0.00013462622882798314, 'want': 8.709116809768602e-05, 'whom': 0.0005506693851202726, 'you': 0.0009206763934344053, 'authorities': 0.00021657184697687626, 'class': 0.00012019096902804449, 'complete': 0.0004346013884060085, 'considerable': 0.00026621215511113405, 'difficulty': 0.0004577257204800844, 'duration': 0.00029461353551596403, 'entire': 5.458957821247168e-05, 'extensive': 0.0004347172798588872, 'fact': 0.000367326894775033, 'judgment': 0.0005279442993924022, 'mankind': 0.00017763496725820005, 'matter': 0.0002688962849788368, 'my': 0.0005465854774229228, 'observations': 0.0003008454223163426, 'offices': 0.0002167600905522704, 'rules': 0.00017680090968497097, 'said': 0.00016555158072151244, 'seem': 0.0006757135852240026, 'suppose': 0.0004008215037174523, 'acts': 0.00026527498266659677, 'already': 0.0006534837884828448, 'appointments': 0.00022338979761116207, 'cause': 0.00021715321054216474, 'difficult': 0.00032879557693377137, 'feel': 0.00037450678064487875, 'governor': 2.7678559490595944e-05, 'having': 0.0005970389465801418, 'indeed': 0.0005029382882639766, 'left': 0.00035332489642314613, 'limited': 0.00022636559151578695, 'rendered': 0.0005249259993433952, 'separate': 0.00027585867792367935, 'short': 0.0007725502946414053, 'through': 0.0008255662978626788, 'times': 0.00037681538378819823, 'treaties': 0.0001856664166552946, 'value': 3.2119663956109434e-05, 'ambition': 0.0003312669286970049, 'change': 6.312567711574957e-05, 'establishments': 0.0002360323996981606, 'four': 0.0004907309194095433, 'hence': 0.00017061609833035618, 'light': 0.00029583857394754887, 'money': 0.0002888388989958912, 'once': 0.0005855531780980527, 'personal': 0.00023882366076577455, 'shown': 0.00014622685557696968, 'source': 0.00010301412112312391, 'supposed': 0.00020936602959409356, 'year': 9.352870051770878e-07, 'absolute': 0.00029921907116658986, 'bodies': 0.0003595271846279502, 'british': 6.18082322034752e-06, 'during': 0.0005143936723470688, 'frequent': 0.00021734548499807715, 'full': 5.069263352197595e-05, 'improper': 0.00020511621551122516, 'land': 0.0002850037708412856, 'liberties': 5.594510184891988e-06, 'powerful': 0.0005353586166165769, 'remain': 0.0002511461789254099, 'safety': 8.419112418778241e-05, 'votes': 4.667771281674504e-05, 'advantages': 0.00016801628225948662, 'beyond': 0.0008029556483961642, 'disposition': 5.584864629781805e-05, 'doubt': 0.00017266061331611127, 'extend': 8.84290857356973e-05, 'foundation': 0.0004514890315476805, 'frequently': 0.000521465262863785, 'fully': 0.00021445797756314278, 'interested': 0.0004176718066446483, 'legislation': 0.00015752436593174934, 'measure': 3.275376002420671e-05, 'mere': 0.00010244559234706685, 'moment': 0.00016439268074464053, 'paper': 0.00022223766427487135, 'probable': 0.00013940873031970114, 'probably': 0.00028286754968576133, 'provide': 6.632127769989893e-05, 'ready': 0.0007011763518676162, 'smaller': 9.81349076027982e-05, 'wholly': 0.0004644394794013351, 'classes': 0.00020623365708161145, 'drawn': 0.00015117118891794235, 'examples': 0.00033753877505660057, 'future': 0.0003935662971343845, 'generally': 0.00026103269192390144, 'judicial': 8.6897453002166e-05, 'known': 0.00022303355217445642, 'properly': 0.0003299238160252571, 'rather': 0.0004639985563699156, 'reasoning': 0.00017319782637059689, 'reasons': 0.0005045875441282988, 'required': 0.00041093959589488804, 'requires': 0.00032230003853328526, 'see': 0.0002873535850085318, 'species': 0.0004517289053183049, 'towards': 0.0010864814976230264, 'amount': 0.00029772837297059596, 'bear': 0.0001149142553913407, 'care': 0.0003207546251360327, 'chief': 3.2883552194107324e-05, 'consequence': 0.000266646413365379, 'exercised': 0.0004246896132826805, 'external': 0.00020724599016830325, 'formed': 0.00014328442921396345, 'judge': 0.0004751551023218781, 'king': 3.619965718826279e-05, 'member': 3.609558189054951e-05, 'merit': 0.00013245060108602047, 'mutual': 0.0003577343304641545, 'observed': 0.00023798651818651706, 'opinions': 0.00020361444330774248, 'passions': 0.00015297210484277457, 'safely': 0.0001887658581836149, 'service': 0.00010507144179427996, 'simple': 0.00027466294704936445, 'strong': 0.0004924371605738997, 'understood': 0.0001969603035831824, 'vote': 0.0001876694877864793, 'additional': 0.0002218286826973781, 'adequate': 0.00010594643390504643, 'altogether': 0.0007482770597562194, 'american': 1.2683411114267074e-05, 'argument': 0.0004244203446432948, 'armies': 0.00034707304439507425, 'attempt': 8.23932932689786e-05, 'clause': 0.00032298636506311595, 'composed': 0.0005615057307295501, 'connected': 0.0003905567864421755, 'derived': 0.0002972543006762862, 'done': 0.00023501344549003989, 'easy': 0.00034433777909725904, 'employed': 0.00021062792802695185, 'europe': 3.810381531366147e-05, 'except': 0.0003464421024546027, 'exist': 0.0001984185801120475, 'fundamental': 9.546138608129695e-05, 'idea': 4.243593866704032e-05, 'intended': 0.0005337329348549247, 'merely': 0.00048089821939356625, 'necessarily': 0.00020523979037534446, 'need': 0.00032566694426350296, 'occasion': 0.0003991301928181201, 'opinion': 0.0002912117342930287, 'ourselves': 0.0011291777482256293, 'papers': 0.00011753260332625359, 'pennsylvania': 0.0003316133515909314, 'portion': 7.240867125801742e-05, 'private': 0.00015082399477250874, 'remark': 0.00018343982810620219, 'satisfactory': 0.00032785715302452445, 'share': 5.803608291898854e-05, 'superior': 0.000382908881874755, 'task': 8.791161963017657e-05, 'things': 0.0006307184812612832, 'thousand': 4.992918547941372e-05, 'throughout': 0.0003113183192908764, 'universal': 0.00052798812976107, 'unless': 0.0006534523563459516, 'variety': 0.00010536333866184577, 'various': 0.00014214986003935337, 'while': 0.0010645842412486672, 'adversaries': 0.00025935808662325144, 'clearly': 0.0001690741046331823, 'consequently': 7.037484465399757e-05, 'dangerous': 0.00022911834821570665, 'description': 0.00026908665313385427, 'encroachments': 0.00022848612570669502, 'expedient': 0.0002580987347755581, 'friends': 0.000171948442584835, 'impossible': 0.00016830928507260978, 'increase': 0.0005045473808422685, 'institution': 0.0001345768105238676, 'longer': 0.00011060532415285707, 'me': 0.00033968393108807504, 'obvious': 0.00047084791003726423, 'passion': 0.000359096797183156, 'placed': 9.605735976947471e-05, 'precautions': 0.00012500588491093367, 'precise': 0.00014584239397663623, 'regular': 3.85885032301303e-05, 'say': 0.0003590947308111936, 'similar': 0.00032962978002615273, 'sole': 5.589169813902117e-05, 'sometimes': 0.0005018554511480033, 'standard': 6.267912249313667e-05, 'standing': 0.00029040814843028784, 'success': 0.000527336960658431, 'wealth': 0.00011625734623521566, 'am': 0.00012424570741131902, 'apt': 0.00020189362112432718, 'characters': 0.00030212043202482164, 'circumstance': 0.00030167156364768744, 'collective': 0.00010759781434899196, 'comparison': 4.075645483681001e-05, 'consist': 0.0003259433142375201, 'dependence': 0.00020677356224041432, 'difficulties': 0.00013768112694378942, 'efficacy': 0.00021950225345790386, 'entirely': 0.0003555100702214986, 'expressly': 0.00024098054564092308, 'fall': 6.99386146152392e-05, 'guard': 0.00025662314146757126, 'instead': 0.0005316244787536561, 'maintain': 0.0001929281570482999, 'massachusetts': 0.0002720230259001255, 'minority': 0.00010742976155597717, 'observation': 0.00013051179121248424, 'occasions': 0.00060088379541412, 'otherwise': 0.0004927655681967735, 'permanent': 0.00021981395548209548, 'remedy': 0.00020128583128098398, 'respective': 5.950766535534058e-06, 'scale': 0.0001267805346287787, 'seven': 0.0001324526238022372, 'show': 3.711582758114673e-05, 'sufficiently': 0.00013749435311183333, 'temporary': 0.0001422110799467191, 'terms': 0.00013666371523868293, 'up': 0.0006093953852541745, 'whilst': 3.2259339377560536e-07, 'world': 2.6621584765962325e-05, 'add': 0.00019859794701915234, 'after': 0.0004821583570446819, 'again': 0.0002051767660304904, 'annual': 8.17784257378662e-06, 'brought': 0.00018914266547653824, 'calculated': 0.000637605378869921, 'chosen': 0.0003562169731594622, 'command': 0.00025464853388257325, 'continue': 0.00024951432715170085, 'defects': 0.0001425023510819301, 'distance': 5.946497549302876e-05, 'evidently': 0.0006579477339982986, 'exigencies': 9.174436127068475e-05, 'expected': 0.00019448211241979152, 'experiment': 9.579909237800166e-05, 'laid': 0.0003610496351029724, 'lay': 7.417267624987289e-05, 'mean': 0.00017742351337801665, 'mind': 9.885224426398054e-05, 'numbers': 0.00037468396476469934, 'objections': 0.00013726879842579365, 'peculiar': 0.00029119549435563385, 'points': 0.00016101468645501882, 'probability': 0.00023356848396360874, 'produced': 0.00031765567837283015, 'questions': 0.00024617009330540895, 'regarded': 5.028278974350542e-05, 'republics': 0.00027077371487393975, 'resort': 0.0002565017784945667, 'rulers': 5.246239743428305e-05, 'six': 4.701021680375561e-05, 'sovereign': 0.0001070735088433139, 'stated': 0.00022860053286422044, 'tendency': 0.00024390718317590654, 'third': 0.0002123183658113703, 'thirteen': 0.0004539785149972886, 'tyranny': 9.935529305948876e-06, 'actual': 6.223905074875802e-05, 'afford': 0.00037033535772934556, 'agency': 0.00016073009464889765, 'coin': 3.9967351767700166e-05, 'compact': 0.0003434658865444362, 'concurrence': 4.174459718342405e-06, 'confederate': 0.00016745082393754274, 'confined': 0.00031728463363833725, 'consent': 0.0004900603089481592, 'consequences': 0.00014033159823156893, 'consists': 0.00031706562731415033, 'construction': 0.0002782098890747875, 'dependent': 0.0004522513481788337, 'doctrine': 0.00011748257384169847, 'domestic': 0.0005243651103228331, 'jealousy': 0.00018050124344881624, 'justify': 0.00044705579057335854, 'larger': 6.229855353012681e-05, 'life': 5.744885129388422e-05, 'partial': 0.00012487683852668852, 'possessed': 0.00021678571647498757, 'preservation': 2.5620740871090675e-06, 'prevail': 0.00029952384647913277, 'proceedings': 5.383270399761386e-05, 'remarked': 6.830897473264486e-05, 'requisitions': 0.00025980357895605266, 'revolution': 7.219591225293698e-06, 'sacrifice': 0.0001718841667752713, 'sentiments': 0.0001935771870194003, 'vacancies': 0.00038011177093721926, 'vested': 0.00036587982322089374, 'violence': 0.00024553199182264507, 'virginia': 0.0002887196314986795, 'words': 0.00037749644252471626, 'addition': 2.3814805899746716e-05, 'adoption': 6.600854976568371e-05, 'ancient': 4.559009539661929e-06, 'applied': 0.00015889055794104934, 'attended': 0.00017142049910034984, 'authorized': 0.00042062520515173674, 'besides': 0.00010081308573717251, 'connection': 0.00016150820010807365, 'contend': 0.00047443833318538964, 'corrupt': 0.00047904939856380224, 'declared': 0.00042569925426505506, 'defect': 0.00019811670063063502, 'direct': 0.00023703202896285802, 'distinction': 5.56768209207803e-05, 'effects': 6.084334017941728e-05, 'entitled': 0.0004626500012818724, 'establish': 7.866381201893091e-05, 'examination': 0.00013157706416677684, 'extended': 0.00026960039394907653, 'fixed': 0.00016032905841711909, 'greatest': 1.7574468529346632e-06, 'island': 8.234192500822246e-05, 'leave': 0.000126739134429954, 'material': 0.00030121937743388116, 'mentioned': 0.0002582747838459909, 'monarch': 2.2817275748820975e-05, 'motives': 0.00011559220001799986, 'myself': 0.0005541765131056309, 'population': 4.7844740038271993e-05, 'position': 8.79351791809313e-05, 'prejudices': 0.00025744811864569783, 'proof': 0.00017646477499511093, 'prospect': 0.0001467529800720513, 'prove': 0.00021361127437558025, 'prudence': 0.00011185398761881515, 'regulations': 0.00037492471165023744, 'respects': 0.00027928026975132525, 'sanction': 5.258777309791185e-05, 'stand': 0.0005073098582215607, 'strength': 0.00037240085657685995, 'structure': 0.00010402941552456468, 'subjects': 9.7949823611998e-06, 'substitute': 0.00036430987529456615, 'urged': 0.00016959465574473143, 'welfare': 9.63036363827996e-05, 'added': 2.8471320547396317e-05, 'alterations': 0.00013522613153327256, 'applicable': 0.0002789142890833318, 'believe': 0.00018382439156994224, 'call': 0.0003660452493932098, 'called': 0.0004488116828724742, 'capacity': 0.00014510037726722658, 'carolina': 8.474631613353267e-05, 'clear': 0.0002771771978586912, 'committed': 0.000332347844960168, 'commonly': 0.00065614067716524, 'compass': 4.308201823732816e-05, 'concerning': 0.0003581077326089144, 'credit': 0.0002940217382274568, 'effectual': 5.188527575228363e-05, 'effectually': 0.000331843359163031, 'electors': 2.822385067702271e-05, 'enumeration': 3.568676038412377e-05, 'errors': 1.9181905372533947e-05, 'evidence': 9.41636972129345e-05, 'imposed': 0.0004148053703829646, 'impracticable': 0.0005322925862856209, 'increased': 0.00021061617007944733, 'inference': 8.228525257436559e-05, 'language': 0.00016248969768639654, 'legal': 0.00018325990822631866, 'limitation': 0.00022981097572483122, 'mass': 2.0596791728166863e-05, 'method': 0.0001610633626114577, 'nomination': 0.0001652870123507455, 'notwithstanding': 0.00018517058924771845, 'operations': 2.0421446606633253e-05, 'preceding': 2.187179052270949e-05, 'presumed': 0.00011729874677257612, 'pretext': 7.392353290924802e-05, 'proceed': 9.961007890524343e-05, 'produce': 0.00015523059119004756, 'proposition': 0.00015816857921890914, 'protection': 4.218005415168591e-05, 'publius': 8.01685091573745e-05, 'put': 0.00019666130538098514, 'qualifications': 0.00018245076353196055, 'regulating': 0.00035397245665080845, 'rest': 3.021904376510065e-05, 'select': 0.0001258161209989339, 'substance': 4.235293818055652e-05, 'thought': 0.00021378532983362675, 'till': 0.0007875650771893561, 'trade': 1.8585995348985307e-05, 'uniform': 7.177874795161188e-05, '(': 0.0007751547382213175, ')': 0.0006506521604023874, '1': 5.5452142987633124e-05, 'arguments': 0.00035932715400122106, 'avoid': 0.00010820370516739786, 'betray': 0.0002660921018105, 'citizen': 7.953264866955578e-05, 'commercial': 0.0003009737120009959, 'connecticut': 0.00013005462824366987, 'consider': 0.0002993489324580878, 'continually': 0.00033412338234484196, 'corruption': 0.00030318304197862744, 'criminal': 5.7394692703383043e-05, 'critical': 0.00023916966165415943, 'dangers': 0.00027379649691283703, 'debts': 0.0002567298652138561, 'definition': 1.2706177585641854e-06, 'delegated': 0.0003908822836820036, 'direction': 0.00013645552098751068, 'disposed': 0.0003483151667751372, 'distinguished': 1.708099080133252e-05, 'down': 0.0004893147270195186, 'empire': 0.00027873957878910005, 'energy': 0.00030102350865490735, 'enlightened': 0.00022157940838951617, 'exceed': 0.0001485985267208889, 'express': 0.00010986898996634409, 'facts': 6.91516324877739e-05, 'fair': 0.00029759694007225335, 'final': 5.0103764806408435e-05, 'finally': 0.00011914729839190841, 'fit': 0.0002860724343918264, 'happened': 0.0002939141995739192, 'hereditary': 8.110523776849732e-05, 'hold': 0.00022501124476548284, 'ideas': 4.09072708862368e-05, 'independence': 0.00014873767213430256, 'industry': 0.000431874708738178, 'interference': 8.347900438820943e-05, 'maxim': 7.707057193329092e-06, 'naturally': 0.00030482193687930703, 'nearly': 0.0003934199921786785, 'negative': 0.00012250104919075966, 'obtained': 0.000317537400405854, 'old': 9.396686664331355e-07, 'prerogative': 9.869954374153167e-05, 'prevent': 0.00032929767621681094, 'previous': 0.00017653631221037358, 'privileges': 0.0001459647755837068, 'progress': 4.143572004977614e-05, 'raise': 6.708411092404276e-05, 'regulate': 6.03788357693702e-05, 'responsibility': 0.00012883078306913376, 'rhode': 0.0001828932436183095, 'scarcely': 0.00015132581756915897, 'secure': 9.033095557242632e-05, 'sensible': 0.0002512848877813667, 'serious': 7.331797678489238e-05, 'slaves': 3.042472940251173e-07, 'sources': 0.00014258893497753888, 'sovereignty': 0.00016808175132609904, 'subsequent': 0.0001943325187312439, 'supplied': 0.0003239435900468379, 'supply': 0.0001938150089699775, 'taking': 0.0004575290950015187, 'tax': 0.00014791596913710237, 'tend': 0.00022074479784350842, 'usurpation': 0.00016010247054509819, 'usurpations': 1.952167622221168e-05, 'violent': 7.339163857977837e-05, 'wants': 2.4585136998211965e-05, 'why': 0.00010201272380072623, 'zeal': 6.666039553238079e-05, 'absolutely': 8.037581574171782e-05, 'aid': 5.217301077209413e-05, 'asked': 0.00012346895528025925, 'assent': 8.894204074749723e-05, 'attachment': 0.00016943614173214883, 'attempted': 0.00040362169966101646, 'bring': 0.00017648740322329104, 'certainly': 0.0002850959135685116, 'changes': 0.0001081132359104231, 'come': 0.0004123786638956517, 'determined': 6.379015394486487e-05, 'districts': 0.000134714602609165, 'equity': 0.00020115745428483933, 'establishing': 0.00010843189375009388, 'event': 3.986460797023028e-07, 'events': 0.0001735160913085565, 'exceptions': 0.0004382137267384678, 'execute': 0.00010323540482204407, 'executed': 0.0004174076020717621, 'expense': 0.0003224360989406705, 'expressed': 0.0003180611238349229, 'fellow-citizens': 7.335273403441533e-05, 'five': 7.03863988746889e-05, 'fleets': 0.0005044520949013531, 'forming': 7.87288008723408e-05, 'genius': 2.8506829039542936e-05, 'governed': 0.00019156486087013036, 'ground': 0.00018907304911408573, 'indefinite': 1.545946543046739e-05, 'inquiries': 3.495172495604493e-05, 'lie': 1.2780645192833617e-05, 'maxims': 0.0001586360449437052, 'modern': 1.0649430805642623e-05, 'occasional': 0.0003174235753249377, 'oppose': 0.0004515126929618418, 'parliament': 9.333535126643255e-05, 'particulars': 0.0001531244779471308, 'pass': 8.883675764082e-05, 'passed': 0.00016689854965079576, 'perfect': 0.0003024986945092678, 'periods': 0.00010117446799995378, 'possibility': 4.6265238779596984e-05, 'readily': 0.00016900073387660086, 'reduced': 0.0003539245226420462, 'reflection': 0.00026800757041200995, 'regulated': 5.8447662013350055e-05, 'relate': 0.0001699367567198351, 'relates': 0.00014180985454004258, 'review': 0.00022146868286654353, 'seat': 4.315753812988987e-06, 'separation': 6.474929978139699e-05, 'sphere': 7.672139759051788e-07, 'stronger': 7.439072214765474e-05, 'sympathy': 9.763511479832232e-05, 'total': 4.4078428800276015e-06, 'treaty': 4.0268030716106296e-05, 'unequal': 0.0001667991018621251, 'until': 0.0003982268099207431, 'voice': 9.340258111478761e-05, 'way': 0.00027410921757109463, 'wish': 0.0001352092222077772, 'work': 4.706027539214119e-05, 'about': 0.0007720586727373302, 'account': 0.00026553936186246574, 'accurate': 0.0003112234699074179, 'actually': 1.1896285286638886e-05, 'address': 5.12400183652062e-05, 'admiralty': 0.0004550990997813642, 'adopted': 0.00031928831594996154, 'ambitious': 2.533069346100092e-05, 'arising': 0.0003143025387544185, 'arms': 7.18053852324374e-05, 'association': 5.269440225674771e-05, 'business': 2.176160160161089e-05, 'candid': 0.00032559968531131744, 'capable': 0.0002657521399669349, 'capacities': 5.424250412033871e-05, 'carried': 6.714510527672246e-05, 'charge': 1.5107612853171304e-05, 'composing': 3.5971763168163307e-07, 'comprehend': 0.00021925181499682367, 'concert': 0.0001774839183781296, 'conclusive': 0.0002778417256195098, 'confederacies': 0.00022071039711590856, 'constituted': 0.0004572926845867187, 'contain': 0.00023960432736203074, 'decided': 0.00011325995001243427, 'decision': 4.925707617076114e-05, 'degrees': 0.00012202886864542961, 'discussion': 6.964316708035767e-05, 'distribution': 0.0001328755752183497, 'district': 5.0694903620751575e-05, 'divided': 7.525562978116795e-05, 'easily': 8.630948286736384e-05, 'efforts': 0.0002040053077507764, 'examined': 0.0001109879303839989, 'expect': 0.00015401428390759975, 'exposed': 8.720386540517211e-05, 'extreme': 0.00012208701809868217, 'favorable': 0.00015369843458756804, 'feelings': 0.00022629047452937812, 'firmness': 0.00013191057951189578, 'following': 6.05396451192064e-07, 'gives': 0.00016794787370599806, 'guaranty': 5.610815424006432e-05, 'history': 4.650850314646959e-05, 'hope': 0.00036267159157432616, 'inferior': 0.00035855232272297144, 'institutions': 0.00033417422673664987, 'introduced': 0.00023311494442168623, 'intrusted': 0.00043753889622166753, 'know': 0.00022450955293606967, 'labor': 8.363829692825675e-05, 'led': 0.00014796110917814076, 'liable': 0.00021272330195643008, 'lies': 6.852116348454729e-05, 'limit': 6.75881456118077e-05, 'magistracy': 6.995355943217874e-05, 'maryland': 0.0001779175945557654, 'model': 7.239257683977485e-05, 'moderate': 0.0003145895025227219, 'montesquieu': 0.00021932419622316957, 'navy': 0.00022200190869625658, 'necessities': 3.381001442903653e-05, 'nine': 0.0007025592494755983, 'obliged': 0.00029967640875838697, 'obstacles': 1.703885391179938e-05, 'operate': 0.0001537089265184477, 'opposite': 8.348851224582177e-06, 'oppression': 0.0002701703633647412, 'organization': 7.999651279533282e-05, 'perceive': 0.00034610211150720716, 'places': 0.00011976166570093483, 'pleasure': 6.156001472845674e-05, 'practicable': 0.00012657976185437292, 'precisely': 0.00012530990352388471, 'preserve': 0.00027252588188275695, 'prevailed': 0.00038750123349018395, 'prosperity': 5.906133083044551e-05, 'pursued': 2.0027680875500664e-05, 'quarter': 0.0001517208875156939, 'quotas': 5.3528867283603176e-05, 'raising': 4.325092231738381e-05, 'reasonable': 0.0001329917722614482, 'resource': 0.00031504107755608857, 'safe': 5.846148997079581e-05, 'secondly': 0.0002000357344513759, 'since': 0.0002532568178139627, 'submitted': 0.00013509386917576194, 'suggested': 6.226202822290361e-05, 'susceptible': 0.00023872208839748055, 'together': 0.0002227051736554131, 'tried': 0.00031520906486548483, 'troops': 0.00024123198818415403, 'turn': 7.288518827408552e-05, 'uniformity': 0.00026975764194503427, 'unknown': 0.0003024520992767066, 'your': 0.000141914511914365, 'acquainted': 0.00024234250304289162, 'active': 3.143023423035629e-05, 'administered': 0.0001694956299616024, 'appointing': 6.408362969523296e-05, 'ask': 0.00020929925085511059, 'assemblies': 4.070172508363612e-05, 'bias': 0.00010057225881610066, 'biennial': 4.777671165356878e-07, 'bound': 0.00020448173745535314, 'census': 1.0319341527065262e-05, 'combinations': 0.00010943970846710727, 'conclusion': 6.249570287764072e-05, 'consuls': 3.5944744013249874e-05, 'continuance': 3.887235652655363e-05, 'conviction': 0.0006172964931465685, 'countries': 0.00016879731265362352, 'county': 9.608342224964872e-06, 'declare': 0.000329782284097746, 'delaware': 0.00022861002071294934, 'democracy': 3.961946504205116e-07, 'denied': 4.330330193624832e-05, 'despotism': 0.00017514420324005187, 'discover': 0.0001358724694000557, 'elective': 1.0998572179232724e-05, 'emergencies': 0.0006363537395372987, 'enemies': 0.000183333846507594, 'estimate': 8.235975110437721e-05, 'everywhere': 9.484811744187027e-05, 'expedients': 0.0005574903334490955, 'extending': 0.0005701431655324996, 'fail': 4.865861410507932e-05, 'forward': 0.0005032947519794106, 'framed': 0.00015127444930840284, 'hampshire': 1.580226125952322e-05, 'hitherto': 0.00018779642414301634, 'impeachment': 3.820136407739483e-05, 'included': 1.0211954759142827e-05, 'inconveniences': 0.00016329345817212015, 'judicious': 6.012228550389409e-05, 'juries': 0.00015902183076832443, 'kept': 7.389350503217429e-05, 'kingdom': 0.000266591232502833, 'late': 3.351351915625855e-05, 'latitude': 0.0001052442385116592, 'length': 9.391670027980581e-05, 'lesser': 4.6830355131533e-06, 'manufactures': 0.00016531744040548801, 'matters': 0.0006410530186258256, 'merits': 8.693839481566101e-05, 'original': 6.364292494254187e-05, 'permit': 0.0002083305298583582, 'possession': 1.1369640560587868e-05, 'possibly': 5.7053559430642053e-05, 'precaution': 2.263581336592324e-06, 'presume': 0.00010234247747575864, 'providing': 1.9582128516049124e-05, 'qualified': 6.826729804743081e-05, 'receive': 0.0001145589048974216, 'received': 7.877311145421118e-05, 'resolutions': 0.0001158478480647318, 'restrained': 3.126950832665898e-05, 'senators': 0.0001372126571368426, 'serve': 0.00015200604684650898, 'session': 0.00022602788521908224, 'set': 7.201461994554847e-05, 'societies': 0.0002189671213272959, 'south': 0.00012479207362048328, 'subordinate': 1.9833674741676077e-05, 'supported': 2.182840762543492e-05, 'theory': 0.00022042967611923814, 'think': 0.00042111368384212255, 'violated': 1.9813542166957632e-05, 'virtue': 0.00023378898913506418, '!': 0.00040304032154381275, 'accordingly': 7.611011824337766e-05, 'accumulation': 8.848037396091968e-05, 'acquire': 5.639488881570287e-05, 'advice': 6.0902268160134554e-05, 'aggregate': 3.6531948808260495e-06, 'aim': 0.00010906087118200958, 'allotted': 0.00010339610889786854, 'although': 3.359706965966325e-07, 'amendments': 0.00029859505593776703, 'appeal': 5.822907041874714e-05, 'apprehension': 0.00011735434964066371, 'arbitrary': 0.0003691016463562846, 'arts': 0.0002485088480170816, 'attempts': 0.00027030063210986555, 'authors': 8.680549967721163e-07, 'chiefly': 0.00031722502899356186, 'claims': 0.00042113475501537323, 'competent': 0.00020834433962590992, 'comprehended': 0.00011003240797435865, 'conclude': 3.683953036670573e-05, 'concurrent': 0.00010945922986138612, 'continual': 0.0004855272127315402, 'counties': 2.998630748152209e-07, 'declares': 0.000362820370355621, 'deliberations': 2.1647632820531726e-05, 'demand': 2.8069531254004687e-05, 'derive': 3.045079756702762e-05, 'desirable': 0.00016832099936436862, 'dignity': 0.0001665599411353469, 'directed': 0.0001575165515532717, 'displayed': 3.426252442295663e-05, 'doing': 2.1615926016238518e-05, 'doubted': 9.649182175053284e-05, 'england': 0.0001343908515991643, 'enumerated': 0.0001227450993610546, 'error': 0.0001562780817039311, 'esteem': 5.4003623517928645e-05, 'evil': 3.1699411920271814e-05, 'expenses': 7.927585829747841e-05, 'extraordinary': 9.415283420821652e-05, 'faith': 4.246877506375313e-05, 'fill': 0.00010998646030202508, 'forces': 0.00016733100346755236, 'formation': 5.443457666842733e-06, 'functions': 7.56049485062249e-05, 'furnish': 0.0002134677197318524, 'georgia': 0.00014717700832989067, 'giving': 0.0002619321458041668, 'gradual': 3.405166637548973e-07, 'guide': 1.9198796508135274e-05, 'happily': 0.00019609375158324838, 'hardly': 0.0001227404864039272, 'houses': 0.0003357481036800891, 'imagine': 0.00020709031377919018, 'impartial': 4.462219658307731e-05, 'impose': 0.00012394441000651568, 'imposts': 0.00011130295024486259, 'innovations': 4.166016424278496e-06, 'inquiry': 0.0002533099614083767, 'inspire': 4.034167795907706e-05, 'instrument': 5.36928309884388e-05, 'insurrection': 0.00015115986752789468, 'intercourse': 1.1525557965796907e-05, 'justices': 3.1746665740683966e-07, 'keeping': 3.641752482508309e-05, 'magistrates': 0.00017197607667185366, 'manufacturing': 3.981237023253925e-05, 'millions': 2.6496538339415565e-05, 'minds': 0.0003183614171575755, 'ministers': 7.61668270570226e-05, 'monarchy': 4.13009911426343e-05, 'option': 4.824938514502719e-05, 'pay': 0.00016719709674362093, 'politics': 7.726829062448815e-05, 'preference': 7.320178701775149e-05, 'prescribe': 0.0003714506165124476, 'pretensions': 0.0001560325181344524, 'previously': 0.00011288349924143404, 'project': 6.091597242630087e-05, 'proofs': 5.114252417115495e-07, 'pursue': 7.333860412472859e-05, 'rarely': 0.00011382593947928399, 'ratio': 1.711051845632028e-05, 'reasonings': 0.000177125446498394, 'recollect': 9.291890455642715e-05, 'reflections': 0.00016976415645331144, 'removed': 0.00014104974980000407, 'reputation': 9.948532533599064e-05, 'resistance': 0.0001374263083562255, 'respectable': 0.00016296534158755094, 'respectively': 9.542789484839886e-05, 'revenues': 5.412308746599592e-05, 's': 0.000312222633510828, 'scheme': 3.856098555843346e-05, 'sound': 0.00014345643285196275, 'stability': 1.8929811631096527e-05, 'station': 7.374830147455214e-06, 'suffrage': 9.735728963278234e-05, 'suffrages': 1.7626334738451988e-06, 'ten': 0.0002003474219236523, 'thirds': 0.00017958786338567734, 'unable': 0.000125297941849567, 'usual': 5.1788327255053446e-05, 'valuable': 6.798261165386066e-05, 'warranted': 5.600556323770434e-05, 'weaker': 3.021446275397466e-07, 'whenever': 0.00018229657143820077, 'worthy': 0.0002793901367112994, 'abolished': 0.0002617203863337636, 'acknowledge': 0.00019180761591996998, 'activity': 0.00010018951434176415, 'administer': 4.476554022403434e-05, 'advance': 0.0001539249933557585, 'advocates': 5.185747068026103e-05, 'affect': 0.0001791782269719988, 'alarm': 6.384043081197888e-05, 'allowed': 0.00025099902995862067, 'ambassadors': 0.00015586393419653177, 'annually': 3.2554174822507775e-07, 'appeared': 7.828578964108601e-05, 'apprehensions': 3.314522473374382e-05, 'appropriated': 0.0002586872724350542, 'aspect': 0.00016763200983405113, 'attend': 8.184025500668213e-05, 'barrier': 2.8739346817019396e-05, 'betrayed': 0.0001381483016302809, 'bounds': 0.00010026512609329075, 'chargeable': 0.00011004616681020707, 'cited': 0.0001897884503705427, 'collection': 5.006364517612383e-05, 'commons': 8.287356649816502e-06, 'compare': 0.00015583324420731515, 'compelled': 6.485102494480088e-05, 'complicated': 0.00010093343735206872, 'condition': 0.00015708047430962324, 'conferred': 3.9666349039180204e-05, 'confusion': 3.3451571653131396e-05, 'considering': 0.00031100850901566446, 'contended': 0.00013047638640273362, 'continued': 0.00017028157890308648, 'contribute': 4.478889604797587e-05, 'convenient': 0.0002014723140746355, 'correct': 1.9190321836504154e-05, 'criterion': 3.271034074714407e-05, 'crown': 1.5328014342230745e-05, 'decide': 2.3659806174691767e-05, 'declamation': 0.0002750057610683143, 'deemed': 1.7522981579531915e-05, 'deserve': 0.00014755013398826122, 'desire': 3.615487366914749e-05, 'desired': 5.369718564907089e-05, 'destroy': 0.00010485572420293465, 'determination': 0.00028121244395151734, 'determine': 3.692824247991666e-05, 'did': 0.00025688589084893465, 'diminished': 0.00017800703062675893, 'discharge': 0.00026567422901280224, 'dissimilar': 0.00021865828603040427, 'distant': 2.5907440431183204e-05, 'early': 9.758302439877298e-06, 'embrace': 0.0002225928328698501, 'enable': 6.51697555440478e-05, 'enter': 0.0005456144572235644, 'entertained': 0.0001913462911034003, 'evils': 0.00018728616123553365, 'exact': 0.0003669732832349837, 'exclusion': 0.00013150951417628676, 'exclusive': 8.135002281051129e-05, 'explained': 7.554880721727386e-05, 'expression': 1.9300830899737775e-05, 'extravagant': 0.00011083555727964267, 'fatal': 0.00024628022219985723, 'felt': 0.00011265050852671266, 'fewer': 0.00015193286526482552, 'follow': 2.9791113774990663e-05, 'followed': 7.494540113839321e-06, 'forever': 0.0001504671381553635, 'fortunes': 0.00025378752616234124, 'half': 0.00013897976896259934, 'happy': 0.00020646674965973943, 'held': 7.407646626234055e-05, 'holding': 0.0005206979694776237, 'imagined': 4.595754580805078e-05, 'import': 6.46565604256466e-05, 'imports': 6.0567250329768285e-05, 'inconvenience': 0.00010233886132482439, 'interesting': 6.62695529172197e-05, 'intrigue': 0.00028997851768508554, 'intrinsic': 2.4449547709082253e-05, 'invested': 0.000227056720177643, 'justly': 6.27192493993789e-05, 'lodged': 0.0002522038121242076, 'lost': 8.424377483606804e-06, 'makes': 3.908845246769488e-05, 'management': 0.00013521683285944164, 'merchant': 1.4873780855850782e-06, 'methods': 0.00016489105473738164, 'minute': 0.00019087789405602962, 'mixture': 1.7874768900583149e-06, 'moderation': 0.00013376341667026281, 'motive': 8.529849583283067e-05, 'none': 0.00018230726709589362, 'obscurity': 4.542303031485062e-07, 'obtain': 2.070882146654185e-05, 'obtaining': 1.3476310414262116e-05, 'omission': 2.7360956664779224e-06, 'open': 0.00038891436997801065, 'opponents': 7.251138868014095e-06, 'oppressive': 0.00014751299750059843, 'positive': 0.00012817686365451664, 'possessing': 0.00021724206453654915, 'pretend': 0.00013432587729766965, 'pretended': 9.50027460930869e-05, 'prohibition': 4.904029628960416e-05, 'proved': 1.4297477719082963e-05, 'punishment': 0.00024526205379515886, 'raised': 0.0002749818959273398, 'ratification': 5.13533404955524e-06, 'rational': 0.00015768533921800554, 'reality': 2.945049709524028e-05, 'recess': 5.609228537650779e-06, 'recourse': 0.00023182842414826155, 'rejected': 0.00019831207464449108, 'relating': 0.0002877391525544226, 'relied': 0.0001324954500887543, 'remote': 5.092735591460951e-05, 'respecting': 0.0006341684493236244, 'resulting': 0.00011389353312551975, 'return': 2.9739250749116763e-05, 'salutary': 5.173038152861409e-05, 'satisfy': 5.2202125516487285e-05, 'something': 0.0003103809431195259, 'soon': 0.00010573214967735112, 'special': 6.555530126206577e-05, 'specification': 3.390329220565036e-05, 'stands': 0.00027799440431408584, 'superiority': 1.804244857339654e-05, 'supremacy': 0.00013068472617305815, 'tenure': 1.0414758435217664e-05, 'territory': 9.039266296895221e-05, 'thirty': 2.9285612868079625e-07, 'title': 5.29494063812308e-05, 'treasury': 9.372630302095786e-05, 'truly': 0.00017774054140318185, 'truths': 0.00021257760818116367, 'unfriendly': 0.00023588443582411855, 'unjust': 7.607912993989885e-05, 'unlimited': 7.14999987394549e-05, 'used': 8.764717495068908e-05, 'usually': 0.00021691579604521394, 'utility': 0.00017777664470486343, 'vain': 6.0485865105874836e-05, 'wisdom': 0.00010330336226616055, 'writers': 5.257910015643574e-05, 'abolish': 0.00013110502914059907, 'above': 3.436990300542675e-05, 'abuses': 0.00016231383779086173, 'accomplish': 1.7385398223268567e-06, 'acquired': 0.00014909726451151073, 'administrations': 2.9051479941699654e-05, 'afforded': 0.0002561063156463206, 'agreed': 9.986698569264263e-05, 'allow': 2.691900954232551e-05, 'amendment': 0.00021754538465756923, 'ample': 0.00019782794697675854, 'appeals': 3.057977551179647e-07, 'appearance': 4.325533882365562e-05, 'application': 2.7823003620142117e-05, 'apply': 0.0003875407564919442, 'approbation': 1.4491445654130075e-05, 'arise': 7.949215796543285e-05, 'aristocracy': 8.259323294623755e-06, 'ascertain': 1.1048455235140864e-05, 'assembled': 9.404738375451416e-05, 'assigned': 0.0002665978390723467, 'attached': 8.982411964097992e-05, 'attained': 0.00020065164426341653, 'avoided': 0.00015479551802854985, 'aware': 0.00013463420327752829, 'balance': 0.00012880621943622828, 'beget': 0.00016277663235086948, 'behold': 0.00021240445494186133, 'bill': 0.0001248054177267477, 'certainty': 0.00012789979518856853, 'chancery': 2.4282797312480398e-05, 'check': 0.00011436497879913077, 'choose': 0.00020954839419573545, 'clauses': 0.0001057385015883483, 'co-operation': 1.4721140360052232e-05, 'coalition': 5.545544809137937e-06, 'combination': 6.584420043509454e-05, 'combined': 8.638655708637089e-05, 'commission': 4.593151970766485e-05, 'comparative': 6.289645170909353e-06, 'completely': 2.276907252962701e-06, 'conceive': 3.737829683814198e-05, 'concur': 0.0002996984403580427, 'confer': 0.00014145334716886282, 'confided': 0.0001249595225090161, 'consistent': 0.00015397329116240144, 'constant': 3.784740329138003e-05, 'constituent': 3.711292811203748e-05, 'contained': 0.0002549013588577509, 'contest': 4.303052628529258e-05, 'contracted': 0.00042138504795730114, 'contributions': 3.504855339997448e-05, 'created': 9.14691700018011e-05, 'cure': 3.25189575960394e-05, 'day': 0.00010898004256887361, 'decisions': 5.66459602850955e-05, 'declaration': 3.2675387046765536e-05, 'deduction': 6.566348019987345e-05, 'defend': 1.085449184756726e-05, 'define': 0.00011868426372529939, 'defined': 3.624532473622821e-05, 'deliberate': 0.00017099434626288712, 'delicate': 0.00017398718046024442, 'depending': 0.00022808411449659616, 'descriptions': 6.211915024323389e-05, 'destitute': 0.0004914411692880094, 'devised': 0.00014540395932272077, 'dictates': 0.00014287322119344026, 'directly': 3.1557041779706196e-07, 'discernment': 0.0003266216372139752, 'disgust': 0.00022939449991099536, 'double': 0.00019245443399995565, 'effected': 0.0001734872057568282, 'employ': 0.00016695092199370265, 'endeavored': 5.471685290103778e-05, 'engagements': 0.00015574126155115664, 'enough': 0.00038734014378860593, 'equality': 0.00011167455522809178, 'examine': 3.3610500395298004e-05, 'excellent': 6.801165727665648e-05, 'excite': 1.1394704415579326e-05, 'expose': 0.00012213399168103933, 'expressions': 3.493159238132648e-05, 'extension': 1.7297605154453777e-05, 'extremely': 2.9208578780526295e-05, 'eye': 3.713459591381252e-05, 'face': 2.8830854716943577e-06, 'facility': 0.00015345867723226547, 'faculties': 3.6378405638970435e-05, 'feeble': 0.00016162022075150162, 'fine': 1.1604682185861748e-05, 'france': 9.167500684270635e-05, 'gained': 6.734044291079044e-05, 'go': 0.0002708416141103953, 'gradually': 9.093348489841446e-05, 'greatly': 0.0002759790513664484, 'guardians': 1.63220897775318e-06, 'heretofore': 0.00020757295715156943, 'high': 0.00025702163111418486, 'hoped': 0.00018425889720674604, 'imposition': 0.00017394329188391566, 'improvements': 1.5343071027018595e-06, 'inclined': 0.0001274998503504321, 'inconsiderable': 1.7305756045971066e-05, 'inconsistent': 0.00014276814181357622, 'indignation': 0.00012222780787851661, 'indirectly': 3.3665997989373864e-07, 'indispensable': 8.300420449813828e-05, 'inequality': 0.00039554137038066983, 'inferred': 0.00018438721599522978, 'injustice': 6.020008004270494e-05, 'integrity': 6.958169251447544e-05, 'interposition': 2.234765088360291e-05, 'irregular': 3.407232725294307e-05, 'lands': 7.1412228862755e-05, 'laying': 0.00015635037561878562, 'leaving': 0.0005028665764257312, 'look': 0.00011970697232754901, 'medium': 6.03243847763224e-07, 'meet': 6.664564716629684e-05, 'modes': 8.008161967154592e-05, 'momentary': 5.165598486200906e-05, 'neighbors': 9.271319140680134e-05, 'nevertheless': 2.575453663666849e-07, 'objectors': 5.0625162657524925e-06, 'obligations': 2.9917811843915842e-05, 'offenses': 0.0001839415344875306, 'paid': 2.7061427317676134e-05, 'partly': 8.837310451781377e-05, 'pecuniary': 3.706008646986447e-05, 'perfectly': 0.00015766429714858532, 'perpetual': 1.8644917872734368e-05, 'plans': 2.358825076953508e-05, 'plausible': 0.00022596452618017793, 'prejudice': 0.00021722516976296902, 'pretense': 6.791637861169875e-05, 'proceeded': 3.53049545083195e-05, 'proceeds': 0.0003291064640507102, 'process': 3.741453110706061e-05, 'promote': 0.00018618984904605895, 'promoted': 9.565759683027864e-05, 'pronounced': 3.2380688935518265e-05, 'qualities': 2.3082187908585183e-05, 'quantity': 2.8967264370294288e-05, 'reasonably': 4.545301999314688e-05, 'recommend': 0.0002734619483817369, 'recommendation': 0.00012927292846143246, 'reduce': 4.8100620915647596e-05, 'referred': 5.785063694929704e-05, 'relative': 0.0001084596078726463, 'remains': 0.00025031488621607423, 'requiring': 9.853792107605841e-06, 'restraints': 3.920081871910952e-05, 'rome': 2.7395801225793548e-05, 'secured': 3.635392204159871e-05, 'seldom': 4.0759761759545654e-05, 'sight': 0.00014936411753296852, 'silence': 0.00017060227401088923, 'sincere': 3.490488961688243e-05, 'sovereigns': 2.5019255190272816e-05, 'struggle': 6.642426160397008e-05, 'submit': 0.00020228179346304387, 'suffered': 1.9371365851839073e-05, 'superintending': 1.0320984983991366e-05, 'systems': 0.00013198544911574572, 'test': 8.129805792123079e-05, 'thereof': 0.00023397778568323702, 'thorough': 9.25872336665634e-06, 'train': 0.00021686717809643596, 'understand': 0.00025999353965744376, 'undertake': 0.0001252169458894059, 'unfit': 0.00016348027565982193, 'useful': 0.00036370064481161535, 'vague': 0.00018617963360156864, 'voluntary': 5.198207418288803e-06, 'wars': 0.00021268741693347692, 'weak': 8.08186232461594e-05, 'wise': 9.889204375213012e-05, 'wished': 3.29514587065205e-05, 'abilities': 0.00014540334814228117, 'ability': 3.5147029848303646e-05, 'absurd': 0.0001910423452500254, 'acquaintance': 8.972181240096688e-05, 'adapted': 0.0002589428913779557, 'admissible': 0.0001288112543988973, 'advanced': 0.0002771755971480161, 'affections': 5.135167612024816e-06, 'affirmative': 3.279634711361723e-06, 'affirmed': 4.4372038246365264e-05, 'afterwards': 8.59895590110682e-05, 'ages': 0.00011262209591222927, 'agriculture': 4.07659426855389e-05, 'amounts': 0.00018108332005795091, 'analogy': 3.695290433824994e-05, 'anarchy': 0.00025389742222614586, 'animosities': 1.601018630026374e-05, 'apprehend': 6.303044938249514e-05, 'arduous': 0.00012705850531347096, 'arises': 0.00028430120437406003, 'assemble': 4.246679236530326e-05, 'atlantic': 2.442827735649189e-06, 'augmentation': 1.9726285245269537e-05, 'belonging': 0.0002862480469048023, 'beneficial': 0.00010407495574327186, 'birth': 0.00030218312167562544, 'burdens': 1.4427791938942391e-05, 'calamities': 0.00013989885337650776, 'carry': 1.0707140972954221e-05, 'carrying': 0.00015067549247760326, 'charles': 1.1610759429458994e-05, 'claim': 6.432444206438959e-05, 'codes': 9.362878699903376e-06, 'coequal': 1.707286537566688e-05, 'cognizance': 3.300526805105619e-05, 'collect': 6.248425779631361e-05, 'collecting': 0.0001762401661835611, 'common-sense': 0.00010964776447508484, 'compose': 0.0002799653448164463, 'compromise': 1.8262595403939486e-05, 'concern': 0.00011711465049302205, 'concerned': 0.00011388734128559008, 'confine': 3.8025114918127656e-05, 'constitute': 0.0003942899056710303, 'controlled': 0.00018160759645979851, 'corresponding': 7.688305049668998e-05, 'corrupted': 8.783623343333602e-06, 'create': 0.00014314026338979602, 'crisis': 3.761821426451206e-05, 'current': 5.0121452659368515e-05, 'declaring': 2.539904016884975e-06, 'depositary': 2.4986136850202456e-05, 'deputies': 0.00010692585783544928, 'described': 0.00016319607675541192, 'design': 2.0459927327465266e-05, 'diffusive': 1.992825673369225e-06, 'discern': 3.274879418313503e-05, 'disorder': 0.0002844118280336261, 'display': 1.2300231901463121e-05, 'divide': 1.62823580467375e-05, 'division': 3.498517253319733e-05, 'eligible': 3.411410943954252e-05, 'else': 0.00046271400060504675, 'emoluments': 2.7308221888233675e-06, 'endeavor': 0.00012024863826809451, 'enjoyed': 3.226318585802801e-05, 'enterprises': 1.7273981939069927e-05, 'especially': 0.0001240480487467721, 'excepted': 3.9932150684762746e-05, 'excess': 0.00012006861652480438, 'exertions': 6.157845200505108e-05, 'experiments': 0.00011797276238212362, 'extends': 0.0003015697584487498, 'factions': 1.4686560461996123e-05, 'fallacious': 4.152718247496523e-05, 'fallacy': 3.42632774845697e-05, 'fallen': 7.120094232959673e-05, 'false': 0.0001725074544083327, 'fate': 3.479122824501246e-05, 'fears': 9.124016287387349e-06, 'field': 1.291577632400731e-06, 'firm': 9.734284503792878e-06, 'flow': 0.000241052737692371, 'forced': 0.00011440420348662883, 'frequency': 3.1222990060086886e-07, 'frontier': 3.536719668773003e-05, 'garrisons': 0.00024491894873790443, 'genuine': 2.4978297005873173e-05, 'grant': 0.00024177345039788634, 'guardian': 7.870830449974164e-05, 'hazard': 0.00021707949053961784, 'honor': 0.0001342687610303983, 'hopes': 5.6311637308681384e-05, 'ignorance': 2.646437678777147e-06, 'imperfection': 6.5668995375745e-05, 'imperfections': 0.00027467680047266185, 'improbable': 0.00043826992623507977, 'improvement': 4.5366366975940764e-05, 'inclinations': 0.0001411012781318277, 'incompatible': 0.0001277760457014665, 'induce': 5.75300473428797e-05, 'instituted': 6.70686931698583e-05, 'insure': 0.00015933440590742975, 'intelligent': 7.865225052228197e-05, 'intention': 2.4106419004965574e-05, 'intervention': 3.198706963303266e-06, 'invasion': 7.808104419382289e-05, 'investigation': 0.0001443423971068114, 'involve': 0.00019250471086706966, 'involved': 6.624387424380984e-06, 'jealousies': 1.519723537057871e-05, 'jurisdictions': 0.00011888113658642396, 'largest': 2.7197841063753003e-06, 'league': 7.567986358480994e-06, 'loss': 3.8238980778260157e-05, 'maintained': 4.148208063270431e-06, 'meant': 1.8024165910901502e-05, 'merchants': 0.0002426593127893284, 'mischiefs': 3.4200968457298586e-06, 'mistake': 9.491154173701943e-07, 'municipal': 3.3039560776160215e-07, 'nobles': 3.576890958356671e-05, 'north': 0.00030935360700823367, 'notice': 0.00023019438958726823, 'obedience': 0.00017758127069100738, 'opposed': 2.547500844229944e-05, 'owe': 5.925925142946653e-05, 'palpable': 0.00013024613144807518, 'passing': 0.0001929938734974712, 'past': 7.004789222264662e-05, 'peculiarly': 0.00016125240654218942, 'perfection': 0.0001841592020355165, 'persuade': 7.82275092205964e-05, 'practiced': 0.00047285555046983063, 'precarious': 0.00011795634054578841, 'prerogatives': 8.721517951926216e-05, 'prescribed': 0.0003071920364163816, 'preserved': 5.401536691351794e-05, 'pride': 7.97751999925822e-05, 'primary': 8.238724694820121e-05, 'principally': 8.32781515782699e-05, 'productive': 0.0001310089137405157, 'pronounce': 0.00012581053306348622, 'proves': 0.00026563621941022575, 'pursuit': 8.294975850731134e-05, 'rate': 8.007926226127893e-05, 'reach': 1.543757207400631e-05, 'recollected': 5.2506395149976015e-05, 'recommended': 1.5008138689154293e-05, 'reform': 3.389116898233624e-07, 'reign': 9.203240915667266e-05, 'relief': 2.6545098080532625e-05, 'reported': 0.00013712748477701098, 'represent': 0.00015593998250551522, 'reside': 3.166120677633444e-06, 'residence': 3.244392985379818e-07, 'restraint': 6.651916191913188e-05, 'retain': 0.00012286937271710485, 'rich': 3.9760934669175185e-06, 'royal': 0.00010860286420211196, 'sacred': 0.00038559900713153183, 'sake': 2.7444282750366256e-05, 'schemes': 0.00020044804841745645, 'science': 9.233368132299802e-07, 'sensibility': 0.00011642688332358375, 'sentiment': 0.00010577863577054814, 'she': 0.00022941264614928514, 'sides': 4.0862472815206274e-05, 'singly': 0.00030975168920122087, 'sinister': 8.067889211815782e-06, 'solid': 0.00012461749429348856, 'sort': 2.4063514501904137e-05, 'southern': 2.9102139365022595e-07, 'spain': 0.00018263040692545474, 'springs': 3.133234349661507e-05, 'statute': 9.838219057201059e-07, 'strictly': 0.00014036914217285812, 'subordination': 0.00011772286234190688, 'succession': 5.791102739749476e-05, 'suffice': 0.00016232753114309162, 'supplies': 3.0879280529916286e-05, 'suspicion': 2.9664643079740927e-05, 'talents': 0.00029693724354729056, 'taught': 0.00029680205625481904, 'thirdly': 8.313760918099433e-05, 'tranquillity': 0.00017263097106479108, 'tribunal': 7.48398742871359e-05, 'tyrannical': 1.9564831745810807e-06, 'unite': 0.00017605596804060042, 'unnecessary': 0.0002451238688081503, 'unworthy': 9.275139746023342e-05, 'vary': 7.538938370998949e-05, 'ways': 7.592496694996953e-05, 'willing': 0.00012030415382469073, 'abolition': 9.337247320218012e-05, 'abuse': 1.9391660316614434e-05, 'accomplished': 2.942733590316493e-05, 'accuracy': 7.28153609088622e-05, 'acknowledged': 5.745586531702429e-05, 'action': 0.0001593324268469587, 'addressed': 0.00013504124945029616, 'admission': 2.517668917789706e-06, 'advantageously': 8.949970651883632e-05, 'affection': 0.0001440032065147534, 'affords': 0.0002574920654296875, 'agree': 0.000312203133944422, 'aliens': 4.605499270837754e-05, 'alleged': 4.772984902956523e-05, 'allowing': 0.0002952870854642242, 'alteration': 5.27876072737854e-05, 'annexed': 3.54051953763701e-05, 'answered': 0.00012095044075977057, 'antecedent': 7.315900438698009e-05, 'appoint': 3.562830534065142e-05, 'apprehended': 4.4289216020843014e-05, 'arrangement': 4.429365071700886e-05, 'artificial': 5.141442670719698e-05, 'ascribed': 6.51458976790309e-05, 'assertion': 3.22972955473233e-05, 'assumed': 3.0896660518919816e-07, 'attach': 1.6596090063103475e-05, 'attachments': 0.00024478512932546437, 'attainment': 1.8719900936048361e-06, 'augmented': 2.457404843880795e-05, 'author': 1.6869713363121264e-05, 'authorize': 4.941478982800618e-05, 'auxiliary': 0.00010039937478723004, 'away': 0.0004472062864806503, 'bears': 0.0001416640152456239, 'belong': 0.0001122107933042571, 'benefits': 2.2250422262004577e-05, 'bills': 5.495794539456256e-05, 'boundaries': 1.125300286730635e-06, 'boundary': 2.8351854780339636e-05, 'breach': 5.36582547283615e-06, 'burdensome': 0.000250355718890205, 'calculation': 6.174528243718669e-05, 'calling': 2.3680642698309384e-05, 'candidate': 1.5714525943621993e-05, 'candor': 2.0851348381256685e-05, 'casting': 6.979559657338541e-06, 'casualties': 0.00022022049233783036, 'celebrated': 6.37843186268583e-05, 'censure': 9.074981790035963e-05, 'centre': 4.672968861996196e-05, 'chain': 3.061193183384603e-07, 'channels': 3.680108056869358e-05, 'characteristic': 4.165029167779721e-05, 'charged': 0.00011517036909935996, 'chimerical': 4.602904084549664e-07, 'choosing': 3.930585705802514e-07, 'circumspection': 0.00015095128037501127, 'color': 2.2315089154290035e-05, 'commencement': 1.458528913644841e-06, 'commensurate': 0.00014289686805568635, 'common-law': 0.00012756511569023132, 'communication': 1.0950689102173783e-05, 'compared': 5.199732186156325e-05, 'comparing': 6.596028833882883e-05, 'complaisance': 7.823026680853218e-05, 'compliance': 2.1350446331780404e-05, 'compound': 6.559572739206487e-06, 'concerns': 0.00016781683370936662, 'condemn': 2.8068632218491985e-06, 'conformable': 2.871701872209087e-05, 'consolidation': 6.416963969968492e-06, 'conspire': 0.00029981520492583513, 'consumption': 8.355252066394314e-05, 'contemplate': 1.3153791769582313e-05, 'contending': 3.5019851907236443e-07, 'contrived': 0.00013957290502730757, 'corps': 0.00011099343100795522, 'countrymen': 1.6520545614184812e-05, 'decisive': 6.133214810688514e-06, 'deeply': 9.228359704138711e-05, 'defeat': 1.9055005395784974e-05, 'defective': 0.0003160951309837401, 'deficiencies': 0.00011991561041213572, 'demands': 0.00029384749359451234, 'denomination': 9.232553566107526e-06, 'deny': 1.44325667861267e-05, 'destroyed': 6.974792631808668e-05, 'details': 2.892673910537269e-05, 'determinable': 0.0002011558972299099, 'devotion': 0.00017478212248533964, 'discipline': 6.742436380591244e-05, 'disinclined': 9.666433470556512e-05, 'disposal': 2.9611559511977248e-05, 'dissolution': 8.798375006335846e-07, 'distinctions': 4.057437399751507e-05, 'duly': 3.1870646921561274e-07, 'economy': 0.00013734593812841922, 'eight': 2.91316837319755e-07, 'enemy': 3.843139347736724e-05, 'engaged': 5.959618283668533e-05, 'enjoy': 5.73578381590778e-06, 'enlarge': 3.048435814889672e-07, 'enlarged': 6.024200774845667e-05, 'enormous': 5.715103543479927e-05, 'equitable': 0.00016712312935851514, 'equivalent': 0.00026978005189448595, 'erect': 4.3562093196669593e-05, 'err': 7.047176768537611e-05, 'erroneous': 5.421400419436395e-05, 'escaped': 1.2304467418289278e-05, 'estate': 1.9900993720511906e-05, 'european': 1.0816072062880266e-05, 'exception': 2.0275747374398634e-05, 'excises': 0.00019017128215637058, 'excludes': 0.00019182957476004958, 'exclusively': 0.0003021966549567878, 'exempt': 2.2234057723835576e-06, 'exercising': 3.359376989919838e-07, 'exerted': 2.4523829779354855e-05, 'exhausted': 0.00011786300456151366, 'exhibits': 0.00012329798482824117, 'exists': 0.00018753638141788542, 'eyes': 3.2298524388352234e-07, 'factious': 3.2032295393946697e-07, 'falling': 6.632133590755984e-05, 'family': 1.3986349586048163e-05, 'felonies': 3.389902190065186e-07, 'fifth': 3.1003449407762673e-07, 'filled': 0.0001485501998104155, 'filling': 3.016802111233119e-05, 'finance': 0.00021024099260102957, 'fix': 2.5080915293074213e-05, 'flatter': 7.529497088398784e-05, 'formidable': 7.371297397185117e-05, 'forth': 0.00017815733735915273, 'foundations': 5.971132486592978e-05, 'fourth': 3.1559781632495287e-07, 'frame': 1.3198375199863221e-05, 'fresh': 1.9222228729631752e-05, 'fund': 4.280324719729833e-05, 'germany': 0.00015033043746370822, 'gold': 3.3648277053544007e-07, 'granted': 2.7648216928355396e-05, 'granting': 6.704157567583025e-05, 'greece': 1.5313498806790449e-06, 'hazarded': 3.441762601141818e-05, 'heads': 2.935459815489594e-05, 'heart': 4.166155576967867e-06, 'highest': 2.4304945327457972e-05, 'illustrated': 3.9025726437103e-05, 'imagination': 7.125732372514904e-05, 'immense': 7.3156879807356745e-06, 'impartiality': 2.985573337355163e-05, 'impeachments': 0.0001351914252154529, 'imported': 3.0434886866714805e-05, 'impressed': 0.00016806836356408894, 'impressions': 0.00011513853678479791, 'impulse': 6.577479507541284e-05, 'incapable': 0.00021880149142816663, 'incident': 3.932235631509684e-05, 'inconveniency': 3.332617382056924e-07, 'inconvenient': 0.00014295514847617596, 'increasing': 2.4124221454258077e-05, 'indians': 4.416470460455457e-07, 'indirect': 1.093698574550217e-05, 'inducement': 4.493166125030257e-05, 'inducements': 8.347335096914321e-05, 'indulge': 1.682328002061695e-05, 'infer': 2.6116387743968517e-05, 'ingenious': 9.539241000311449e-05, 'injurious': 0.0001227670582011342, 'inquire': 6.632975419051945e-05, 'inseparable': 0.00012554517888929695, 'intermediate': 3.266309704486048e-06, 'intricate': 0.00018881852156482637, 'intrigues': 6.270830635912716e-05, 'introducing': 7.66250304877758e-05, 'invasions': 0.00022286729654297233, 'investigations': 0.0002833405742421746, 'irresistible': 5.924291690462269e-05, 'jealous': 0.00022070700651966035, 'jersey': 8.967378562374506e-06, 'lament': 3.847623884212226e-05, 'landed': 2.0178275008220226e-05, 'lead': 5.7528512115823105e-05, 'leaders': 6.4218925217574e-06, 'learned': 4.569151315081399e-06, 'leaves': 0.00020911359752062708, 'lessons': 4.284012538846582e-05, 'level': 2.0136301372986054e-06, 'limitations': 8.385370165342465e-05, 'list': 5.223230255069211e-05, 'love': 1.1922548992515658e-06, 'maintaining': 3.662510721369472e-07, 'maritime': 1.9754956156248227e-05, 'mark': 5.764851448475383e-05, 'marked': 0.00016556199989281595, 'marks': 4.3601870856946334e-05, 'master': 3.624380406108685e-05, 'materials': 0.00010827265214174986, 'met': 0.00017793777806218714, 'miles': 2.483053322066553e-06, 'minor': 4.090508809895255e-05, 'moral': 7.768171599309426e-06, 'movements': 0.00013936332834418863, 'multiplied': 1.6149271687027067e-05, 'multitude': 2.9707135240641946e-07, 'mutually': 5.743756628362462e-05, 'names': 2.725310537243786e-07, 'narrow': 2.721872760957922e-06, 'naval': 0.00023606963804922998, 'negotiation': 0.00029073221958242357, 'neighborhood': 1.22742640087381e-05, 'nobility': 5.981667982268846e-06, 'objected': 3.118567474302836e-05, 'obligation': 6.3519801187794656e-06, 'obviate': 7.482324872398749e-05, 'offered': 0.00011511064803926274, 'officer': 0.00016892910934984684, 'opportunity': 9.616295574232936e-05, 'oppress': 0.0001597576920175925, 'oppressions': 7.681598503950227e-07, 'ours': 0.0001849326945375651, 'paramount': 0.00014124647714197636, 'parliamentary': 8.022192560019903e-06, 'perceived': 3.213326635886915e-05, 'permitted': 5.959151894785464e-05, 'pernicious': 2.809572106343694e-05, 'pointed': 7.632593042217195e-05, 'politic': 0.0002525312593206763, 'portions': 0.00012418789265211672, 'post': 3.43099998190155e-07, 'posterity': 4.445950980880298e-05, 'pounds': 5.968752520857379e-05, 'precedent': 0.0001317637215834111, 'preferable': 0.0003093600971624255, 'prevented': 8.33059530123137e-05, 'prior': 5.93671175010968e-05, 'privilege': 1.627214442123659e-05, 'probates': 3.217659468646161e-05, 'proceeding': 0.000213294944842346, 'projects': 3.890955849783495e-05, 'propensity': 3.359591937623918e-05, 'proportioned': 4.239957343088463e-05, 'propose': 1.5159035683609545e-05, 'proposing': 5.2916740969521925e-05, 'propositions': 7.201619155239314e-05, 'protect': 3.850898428936489e-05, 'provinces': 8.764073572820053e-05, 'pursuits': 0.0002451227919664234, 'qualification': 7.934294990263879e-05, 'rank': 1.017107570078224e-05, 'really': 6.52622475172393e-05, 'recent': 2.6693951440392993e-06, 'recur': 7.217849542939803e-06, 'redress': 8.118722689687274e-06, 'refer': 6.5155495576618705e-06, 'reflect': 7.474094309145585e-05, 'relations': 9.206822869600728e-05, 'religious': 2.9079612318128056e-07, 'remaining': 3.894820110872388e-07, 'remarkable': 5.781181243946776e-05, 'removing': 0.00011984348384430632, 'rendering': 1.2252254236955196e-05, 'repeat': 0.00018733144679572433, 'repeated': 8.012348553165793e-05, 'represented': 5.29363242094405e-05, 'restriction': 1.6826675164338667e-06, 'retained': 5.782140578958206e-05, 'rival': 6.940778689568106e-07, 'room': 0.00011187019845237955, 'safeguard': 3.65038649761118e-05, 'satisfied': 0.00020312210835982114, 'says': 0.00026141072157770395, 'scenes': 0.00010175368515774608, 'secret': 1.3100203659632825e-06, 'securing': 6.19353013462387e-05, 'send': 3.642263254732825e-05, 'separated': 2.853702198990504e-07, 'septennial': 2.9934076906101836e-07, 'shape': 0.00014294293941929936, 'situations': 0.00010301509610144421, 'sober': 4.3852662201970816e-05, 'somewhat': 6.818804831709713e-05, 'speedily': 0.00013585238775704056, 'stage': 6.740758544765413e-05, 'stations': 0.0001504273823229596, 'stop': 6.492181273642927e-05, 'striking': 5.797109042759985e-05, 'substantially': 1.2724118278129026e-05, 'suffer': 8.447116852039471e-05, 'suggestions': 0.00017509293684270233, 'sum': 4.922913285554387e-05, 'superintendence': 9.479648724664003e-05, 'supplying': 7.517665653722361e-05, 'supposing': 5.744564532506047e-06, 'survey': 8.043524576351047e-05, 'temper': 0.00018688186537474394, 'temptation': 0.00011078795796493068, 'tempted': 4.859911496168934e-05, 'ties': 2.545747338444926e-05, 'transient': 0.0001152465702034533, 'treason': 0.00023718625016044825, 'triumph': 9.192548168357462e-05, 'turned': 3.1682910162089684e-07, 'twelve': 2.8668748086602136e-07, 'ultimate': 8.872443686414044e-06, 'unavoidable': 6.701448000967503e-05, 'uniting': 0.00010568799916654825, 'unnatural': 7.238105172291398e-05, 'unwilling': 6.72621390549466e-05, 'unwise': 9.190970740746707e-05, 'useless': 0.0004884948139078915, 'usurpers': 0.00013013054558541626, 'utmost': 2.548770453358884e-06, 'varied': 6.83008402120322e-05, 'vices': 1.4496725270873867e-05, 'viewed': 3.7214749681879766e-07, 'vigor': 0.0002798454952426255, 'violate': 2.8166494303150102e-05, 'weakness': 8.686745422892272e-05, 'wealthy': 5.514521762961522e-05, 'weights': 2.5698915123939514e-05, 'western': 6.47815750198788e-06, 'wherever': 2.7223388315178454e-05, 'worse': 0.00013000279432162642, 'yield': 1.0316851330571808e-05, '2': 0.00017098798707593232, 'abridge': 2.140449214493856e-05, 'abridged': 9.26219072425738e-05, 'abstract': 2.560922621341888e-05, 'absurdity': 4.668951078201644e-05, 'accidental': 3.0316410629893653e-05, 'accomplishment': 7.991877282620408e-06, 'acting': 0.0002965843304991722, 'actions': 0.00018911686493083835, 'actuated': 0.00012141213665017858, 'adopt': 0.00023974764917511493, 'advert': 0.0001422020432073623, 'adverted': 0.00024073096574284136, 'affinity': 7.889234984759241e-05, 'age': 0.00021885197202209383, 'agents': 1.352967410639394e-05, 'alter': 3.3779298291847226e-07, 'alternative': 3.3533244277350605e-05, 'annapolis': 2.961071174922836e-07, 'annihilation': 2.1524878320633434e-05, 'answering': 7.196456135716289e-05, 'answers': 0.00013967968698125333, 'antiquity': 2.9094840670040867e-07, 'anxiety': 0.00013193384802434593, 'apportionment': 1.2587589480972383e-05, 'aristocratic': 6.475989721366204e-06, 'arrangements': 6.282326012296835e-06, 'arrive': 0.00014217791613191366, 'art': 5.870863333257148e-06, 'ascertained': 6.133849819889292e-05, 'assistance': 1.5538826119154692e-05, 'assurance': 4.051600626553409e-06, 'attack': 4.558494401862845e-05, 'augmentations': 5.744343070546165e-05, 'authorizes': 0.00019423096091486514, 'avail': 2.4963199393823743e-05, 'axiom': 2.3434581635228824e-06, 'barons': 1.1537754289747681e-05, 'basis': 1.733408498694189e-05, 'behavior': 3.083343472098932e-05, 'below': 0.00011409999569877982, 'benefit': 1.8999424355570227e-05, 'bestow': 8.532106221537106e-06, 'betraying': 6.077983562136069e-05, 'bind': 3.219433608592226e-07, 'binding': 4.2802719690371305e-05, 'blessings': 4.59121167750709e-07, 'blood': 1.1595865544222761e-05, 'bold': 8.61125736264512e-05, 'borne': 1.7149315681308508e-05, 'borrowing': 5.109163248562254e-05, 'break': 0.00015869051276240498, 'calculate': 3.292620021966286e-05, 'calculating': 0.00012398649414535612, 'capital': 8.206377970054746e-05, 'career': 2.7752830646932125e-05, 'caution': 0.0002115190727636218, 'century': 2.6407262339489534e-05, 'circumscribed': 3.478625149000436e-05, 'cities': 0.000103789396234788, 'citizenship': 3.4712053320617997e-07, 'city': 2.9543325581471436e-05, 'claimed': 0.00014063103299122304, 'clashing': 0.00016759164282120764, 'close': 2.7817472982860636e-06, 'combine': 4.2799616494448856e-05, 'commander-in-chief': 7.423523493343964e-05, 'commissions': 0.00010422065679449588, 'commit': 0.00011652807734208182, 'communicated': 6.007018600939773e-05, 'compacts': 7.83992072683759e-05, 'compensation': 2.0859602955169976e-05, 'composition': 6.216291694727261e-06, 'comprised': 3.519489473546855e-05, 'computation': 7.210175681393594e-05, 'concessions': 9.111830149777234e-05, 'conducted': 4.482090298552066e-05, 'confederated': 2.136977855116129e-05, 'confirmed': 3.310428269287513e-07, 'conformity': 3.276413190178573e-05, 'consciousness': 1.0907033356488682e-06, 'considerate': 1.604015596967656e-05, 'constantly': 0.00027169703389517963, 'constitutes': 3.7950155729049584e-07, 'constitutionally': 0.00029710831586271524, 'consulted': 3.36577130610749e-07, 'content': 0.000204109339392744, 'contingencies': 0.00018872355576604605, 'contributed': 0.00018173936405219138, 'controversies': 6.708506407449022e-05, 'conversant': 7.0618225436192e-05, 'convinced': 8.093694486888126e-05, 'convulsions': 9.907082858262584e-05, 'copied': 2.4419558030785993e-05, 'correspondent': 4.009099825452722e-07, 'countenance': 6.426628715416882e-06, 'counteract': 2.1748033759649843e-05, 'crushed': 3.2777319347587763e-07, 'daily': 1.9659801182569936e-05, 'date': 3.383568696335715e-07, 'debt': 2.5391933377250098e-05, 'delegates': 3.9520520545011095e-07, 'deliberation': 1.8079392248182558e-05, 'delineated': 0.0001090566220227629, 'democracies': 2.8469037260947516e-07, 'democratic': 3.035601423562184e-07, 'demonstration': 0.00011090127372881398, 'deposited': 7.811989235051442e-06, 'deprive': 7.319487485801801e-05, 'derives': 3.3085564155044267e-07, 'deriving': 3.985240937254275e-07, 'deserves': 9.444195165997371e-05, 'desperate': 6.228156416909769e-05, 'destruction': 7.447008101735264e-05, 'detached': 3.265806662966497e-05, 'determinations': 5.3669333283323795e-05, 'determining': 9.416957254870795e-06, 'devise': 1.1703878044500016e-05, 'dictate': 0.00015235379396472126, 'diet': 4.8283080104738474e-05, 'dimensions': 0.00011568605259526521, 'disadvantages': 9.754603524925187e-05, 'discerning': 0.00020420852524694055, 'disease': 1.1439399713708553e-05, 'diseases': 4.575297134579159e-05, 'dishonorable': 3.5668659847942763e-07, 'disproportionate': 5.8868001360679045e-05, 'disputed': 0.000258254207437858, 'distress': 2.1958212528261356e-05, 'distrust': 8.251127837866079e-06, 'diversified': 2.9245060773064324e-07, 'diversity': 1.7658261640463024e-05, 'dominion': 1.0930145435850136e-05, 'doubtful': 3.160939172630606e-07, 'draw': 2.179951115977019e-05, 'drawing': 3.698911257288273e-07, 'dreaded': 0.0001264253951376304, 'elect': 4.6068630581430625e-06, 'elsewhere': 1.3691899766854476e-05, 'embarrassments': 4.011877172160894e-05, 'employment': 2.9344141694309656e-06, 'enact': 7.973983156261966e-05, 'encroach': 1.6813306501717307e-05, 'enforced': 8.225703822972719e-06, 'enterprise': 2.2048694518161938e-05, 'entertain': 0.00020814902381971478, 'equilibrium': 1.9080773199675605e-05, 'etc': 4.0623081076773815e-07, 'exaggerated': 3.120429755654186e-05, 'exceeded': 6.642629159614444e-05, 'exemplified': 0.00010629315511323512, 'exertion': 8.612685633124784e-05, 'exhibited': 5.683795461663976e-05, 'expectation': 5.345148019841872e-05, 'experienced': 6.266498530749232e-06, 'expire': 3.923924850823823e-06, 'explain': 9.563246749166865e-06, 'explanation': 6.098552603361895e-06, 'extremity': 5.3981893870513886e-05, 'facilitate': 9.730446618050337e-05, 'faculty': 7.531126902904361e-05, 'familiar': 1.3610337191494182e-05, 'favorite': 5.689231784344884e-06, 'features': 2.503816176613327e-05, 'feudal': 2.8853148251073435e-05, 'fidelity': 1.9525521111063426e-06, 'fifty': 3.5422993960310123e-07, 'follows': 0.00010005412332247943, 'foregoing': 1.8264485106556094e-06, 'foreseen': 3.630170976975933e-05, 'fortunately': 4.2713090806500986e-05, 'fountain': 3.259128334320849e-06, 'fourths': 9.250855509890243e-05, 'freedom': 3.226595310934499e-07, 'friend': 4.10292086598929e-05, 'furnished': 7.185724098235369e-05, 'govern': 4.991814057575539e-05, 'governors': 5.715468796552159e-05, 'grievance': 3.076397115364671e-05, 'guarded': 0.00020581674471031874, 'habits': 0.0001396146835759282, 'happens': 8.992818038677797e-05, 'higher': 4.0295188341588073e-07, 'holds': 7.95092128100805e-05, 'ii': 6.0399281210266054e-05, 'illicit': 4.3387458958932257e-07, 'illustrate': 7.612718036398292e-05, 'imaginary': 5.530885755433701e-05, 'impediments': 8.237475412897766e-05, 'imperfectly': 0.00015480126603506505, 'implies': 0.00029440486105158925, 'impracticability': 1.1574420568649657e-05, 'improved': 0.00010936443140963092, 'impunity': 8.5598869191017e-05, 'inaccuracy': 4.809614893019898e-06, 'inadequate': 9.927076462190598e-05, 'incapacity': 1.5381581761175767e-05, 'include': 3.2927644497249275e-05, 'indispensably': 3.2488671308783523e-07, 'individually': 0.00016345572657883167, 'inequalities': 0.0001476518518757075, 'inevitably': 5.093240542919375e-05, 'infallibly': 1.9654664356494322e-05, 'infinite': 2.776487781375181e-05, 'inform': 9.046320337802172e-05, 'ingredients': 0.00010705768363550305, 'inserted': 7.088413985911757e-05, 'inspection': 4.452268694876693e-05, 'instruction': 0.00012634089216589928, 'instruments': 5.156945553608239e-05, 'insufficient': 3.420000780351984e-07, 'insurrections': 0.0001251759531442076, 'interior': 5.782978291790641e-07, 'interpretation': 3.868947169394232e-05, 'inviolable': 0.00014302638010121882, 'involves': 2.886688150738337e-07, 'involving': 0.00011955603258684278, 'issue': 9.96288945316337e-05, 'judged': 0.00015880526916589588, 'justified': 3.5581004453888454e-07, 'keep': 2.727127866819501e-05, 'kingdoms': 5.360237628337927e-05, 'lastly': 5.660686656483449e-05, 'leading': 9.06059631233802e-06, 'legitimate': 6.175977614475414e-05, 'levied': 7.822235784260556e-05, 'levying': 1.6381964087486267e-05, 'lights': 5.9497142501641065e-05, 'line': 1.2787942296199617e-06, 'live': 5.5226002587005496e-05, 'lot': 1.8882814174503437e-06, 'low': 0.00017160458082798868, 'manifest': 8.714509021956474e-05, 'markets': 2.7720639991457574e-05, 'mention': 0.00010119163198396564, 'mercy': 3.166333772242069e-05, 'mislead': 3.990344703197479e-05, 'misrepresentation': 4.242052455083467e-05, 'mixed': 3.439649276515411e-07, 'models': 0.00017303776985500008, 'monster': 6.606675015063956e-05, 'name': 3.054919943679124e-05, 'nay': 0.0001265533792320639, 'neighboring': 2.3981840058695525e-05, 'novel': 4.264190647518262e-05, 'novelty': 5.441420398710761e-07, 'nugatory': 8.987518958747387e-05, 'obligatory': 0.00012418595724739134, 'oblige': 0.00014853001630399376, 'obnoxious': 9.294008486904204e-05, 'obscure': 5.15722331329016e-06, 'observe': 0.00017167309124488384, 'obstacle': 5.386459451983683e-05, 'obviated': 3.181510521699238e-07, 'occasionally': 9.520318417344242e-05, 'occasioned': 4.808943049283698e-05, 'odious': 0.00010681669664336368, 'off': 0.00020148325711488724, 'opulent': 5.909705214435235e-05, 'pardon': 0.00013367611973080784, 'partake': 2.96639058205983e-07, 'partition': 1.5738149159005843e-05, 'patriotic': 2.6509121653361944e-07, 'perform': 3.9563474274473265e-05, 'performance': 6.514807319035754e-05, 'perilous': 9.092897380469367e-05, 'periodical': 9.29842353798449e-05, 'persuaded': 4.027371323900297e-05, 'pervert': 4.2142055463045835e-05, 'petty': 5.735411832574755e-06, 'pieces': 2.1123370970599353e-05, 'piracies': 3.6193233654557844e-07, 'plain': 6.865662726340815e-05, 'planned': 2.489817347850476e-07, 'poison': 3.1794311325938907e-06, 'politicians': 1.4478322555078194e-05, 'posts': 0.00033407050068490207, 'practical': 2.933906273483444e-07, 'predilection': 5.6854489230317995e-05, 'prefer': 8.168196654878557e-05, 'prepossessions': 9.489090757597296e-07, 'presents': 3.7631743907695636e-05, 'pretty': 0.00012283239630050957, 'prevailing': 2.3418026557919802e-06, 'prevails': 0.00014436140190809965, 'preventing': 0.00010673086217138916, 'price': 2.7729998691938818e-05, 'primitive': 4.617956619767938e-06, 'prince': 1.5718604117864743e-05, 'princes': 1.2388796676532365e-05, 'professions': 2.5084598746616393e-05, 'prohibit': 9.103704542212654e-06, 'prohibited': 2.459829033796268e-07, 'promise': 0.00014242205361369997, 'proportionably': 6.429194036172703e-05, 'provides': 0.00010798618313856423, 'prudent': 2.8338261472526938e-05, 'pure': 2.9527382139349356e-05, 'purity': 5.738084655604325e-05, 'pursuant': 0.00020874837355222553, 'quoted': 7.837326847948134e-05, 'rage': 0.00015426776371896267, 'ratified': 0.0002683645871002227, 'realized': 0.00017854776524472982, 'reciprocal': 3.78931981686037e-05, 'recommendatory': 2.7906312993764004e-07, 'records': 3.3799051379901357e-07, 'reducing': 4.3001395511055307e-07, 'reference': 8.813571184873581e-06, 'regards': 3.848988967547484e-07, 'region': 3.629461104992515e-07, 'representing': 3.3986748348979745e-07, 'residue': 1.393743673361314e-06, 'resist': 1.252103265869664e-05, 'resolution': 4.523904499365017e-05, 'responsible': 1.0807071703311522e-05, 'restrain': 2.7216185571887763e-06, 'restrictions': 0.0001605024008313194, 'rests': 0.00013464671792462468, 'resulted': 1.5879882994340733e-05, 'results': 0.0001610212930245325, 'reverse': 5.7414536058786325e-06, 'reviewed': 3.313934371362848e-07, 'revision': 9.20462298381608e-06, 'ruins': 1.7469144495407818e-06, 'sacrificed': 3.5241777140981867e-07, 'scene': 4.157437797402963e-05, 'section': 9.495727135799825e-05, 'sects': 4.266236430794379e-07, 'sedition': 9.780463005881757e-05, 'selected': 0.00011839518992928788, 'senator': 6.0303224017843604e-05, 'sentence': 5.409516461440944e-07, 'services': 6.173047495394712e-06, 'settled': 7.209590694401413e-05, 'shows': 7.224037108244374e-05, 'silent': 7.406678923871368e-05, 'sixty-five': 3.381317128514638e-07, 'skill': 1.3564957953349221e-05, 'slave': 3.0953992791182827e-07, 'slender': 0.00026189902564510703, 'smallest': 3.0635162602266064e-06, 'solely': 0.00017811189172789454, 'solemn': 1.3031477465119679e-05, 'sophistry': 0.00021491556253749877, 'sought': 1.7172164007206447e-05, 'sparta': 3.309036173959612e-07, 'speaking': 0.00011071586777688935, 'specified': 0.00011364864622009918, 'specimens': 7.235572411445901e-05, 'speculation': 1.484377480664989e-05, 'spread': 3.8453492834378267e-07, 'step': 0.00010985296103172004, 'stock': 3.2270909287035465e-05, 'stood': 6.0451955505413935e-05, 'strikes': 8.367819100385532e-05, 'strongest': 1.0569403912086273e-06, 'subdue': 2.0709554519271478e-05, 'subjecting': 9.487842908129096e-05, 'subsist': 8.342130604432896e-05, 'substantial': 1.3626558938995004e-05, 'successive': 6.0630645748460665e-05, 'suggest': 6.704854604322463e-05, 'sure': 2.6291643735021353e-05, 'sword': 4.9683802672007e-07, 'symptoms': 2.8764818125637248e-05, 'tempestuous': 3.4810513170668855e-05, 'tends': 0.00022796515258960426, 'terminate': 3.1083443900570273e-05, 'thrown': 0.00010657116945367306, 'titles': 6.773797940695658e-05, 'told': 2.8939211915712804e-05, 'totally': 3.6941273151569476e-07, 'transactions': 7.493800512747839e-05, 'travel': 2.4465967726428062e-05, 'treat': 2.9280003218445927e-05, 'try': 1.075041109288577e-05, 'turbulent': 0.00012960837921127677, 'turns': 0.0002119426935678348, 'twenty': 2.6259417040819244e-07, 'unbiased': 5.8132860431214795e-05, 'uncertain': 0.00010202546400250867, 'unconfined': 8.770620479481295e-05, 'undertaking': 3.911943906587112e-07, 'unequivocal': 0.0001213586438097991, 'unqualified': 3.966125859733438e-06, 'unquestionably': 5.295692608342506e-05, 'unsafe': 2.336799843760673e-05, 'unwarrantable': 1.6432559277745895e-06, 'upright': 3.2159246075025294e-06, 'urge': 2.388028042332735e-05, 'usurped': 1.5062138118082657e-05, 'variance': 3.862686935462989e-05, 'variations': 3.51247945218347e-06, 'vassals': 0.00015419820556417108, 'vice-president': 2.9744925996055827e-05, 'violating': 3.14970890258337e-07, 'violations': 7.473588630091399e-05, 'virtuous': 2.8675964358626516e-07, 'weal': 2.734328700171318e-05, 'withstand': 3.440925502218306e-05, 'woman': 0.00014000074588693678, 'writer': 5.892509307159344e-06, '3': 9.805959416553378e-05, 'abandon': 2.3837936169002205e-05, 'abandoned': 6.237839988898486e-05, 'abroad': 0.00010348705109208822, 'abstain': 5.3980555094312876e-05, 'abused': 1.7004316532620578e-06, 'accession': 3.108794999207021e-07, 'accommodated': 1.0076314538309816e-05, 'accurately': 3.450612950928189e-07, 'accustomed': 6.332156772259623e-05, 'adds': 2.7995557161375473e-07, 'adherence': 5.696824882761575e-05, 'adjusted': 7.128869128791848e-06, 'administering': 3.709565703502449e-07, 'admonish': 0.00014538898540195078, 'admonitions': 1.615176552149933e-05, 'adopting': 3.5993729397887364e-05, 'advancement': 2.6578345568850636e-06, 'adversary': 9.975971624953672e-05, 'adverse': 1.5019808415672742e-05, 'advocate': 2.773064579741913e-06, 'affected': 1.3628625310957432e-05, 'afraid': 7.164756971178576e-05, 'aggrandizement': 9.73325404629577e-06, 'aimed': 9.210062853526324e-05, 'air': 8.316008461406454e-06, 'alarming': 1.1969697879976593e-05, 'alliance': 0.00022542083752341568, 'alloy': 3.867441762395174e-07, 'amounting': 6.036271952325478e-05, 'animadversion': 0.00016889601829461753, 'animosity': 5.886909093533177e-06, 'annul': 1.2115101526433136e-05, 'anticipated': 7.437660678988323e-05, 'apparent': 3.760723643608799e-07, 'applies': 0.0001374626881442964, 'appointable': 3.1049285098561086e-07, 'appropriations': 3.211035277672636e-07, 'approved': 5.888944724574685e-05, 'aptitude': 3.046350457225344e-06, 'ardent': 0.00011495815124362707, 'argue': 2.545589450164698e-05, 'armed': 5.536801472771913e-05, 'arranged': 6.578401371371001e-05, 'arrived': 6.440584547817707e-05, 'artifice': 0.00015520719171036035, 'artifices': 0.00015609888941980898, 'assemblage': 2.6099880415131338e-05, 'asserted': 6.403354200301692e-05, 'associated': 4.392725168145262e-05, 'assume': 3.3069886740122456e-07, 'attacks': 4.758781869895756e-05, 'attainable': 2.241792026325129e-05, 'augment': 9.06015520740766e-06, 'axioms': 2.9804099540342577e-05, 'barriers': 3.669443685794249e-05, 'becoming': 2.7169933673576452e-05, 'bench': 5.047978265793063e-05, 'blended': 2.9725271133429487e-07, 'blind': 2.6884015824180096e-05, 'blush': 4.986061685485765e-05, 'bond': 7.403634663205594e-05, 'breaches': 2.588679490145296e-05, 'brethren': 3.4417197980474157e-07, 'broken': 1.2031729056616314e-05, 'build': 1.1644514415820595e-05, 'calculations': 8.185636943380814e-06, 'came': 5.0648130127228796e-05, 'candidates': 3.644031676230952e-05, 'cantons': 4.229489434237621e-07, 'caprice': 4.132112371735275e-05, 'careful': 7.65659351600334e-05, 'carefully': 1.2093112673028372e-05, 'carthage': 3.36550186830209e-07, 'cast': 8.106161840260029e-05, 'casual': 8.420044468948618e-05, 'catalogue': 0.00010947138798655942, 'central': 3.652297948519845e-07, 'chains': 1.4662804233012139e-06, 'chance': 2.321304964425508e-05, 'changed': 3.6861459307147015e-07, 'charges': 3.1028679359224043e-07, 'chords': 6.788982864236459e-05, 'church': 2.3743914425722323e-05, 'circulation': 1.6603009498794563e-05, 'closet': 3.7506697481148876e-07, 'clothed': 0.00016288999177049845, 'co-operate': 8.353040357178543e-06, 'co-ordinate': 8.451544090348762e-06, 'code': 3.116114726253727e-07, 'coercion': 7.016612926236121e-06, 'collected': 2.9173332904974814e-07, 'colonies': 7.064281089697033e-05, 'colorable': 0.00017538656538818032, 'combat': 0.00013288462650962174, 'comes': 6.680396472802386e-05, 'comitatus': 2.2832295144326054e-05, 'communities': 2.9571063350886106e-05, 'complaint': 7.205288420664147e-05, 'complexion': 6.374944405251881e-06, 'complexity': 3.5897639349968813e-07, 'complied': 4.008905136743124e-07, 'comprehensive': 7.586323044961318e-05, 'computing': 3.0091672442722484e-07, 'concentration': 1.585649442858994e-06, 'conception': 1.7252661564270966e-05, 'concerted': 8.48888375912793e-05, 'concise': 1.6655144463584293e-06, 'concluded': 6.167830724734813e-05, 'conditions': 1.0037666697826353e-06, 'conducive': 0.00023964419960975647, 'conferring': 6.573816790478304e-05, 'confess': 8.529735350748524e-05, 'conflicts': 2.127856896549929e-05, 'conform': 0.000130844593513757, 'conjecture': 4.8879071982810274e-05, 'conjectures': 8.152896771207452e-05, 'consisting': 4.399990939418785e-05, 'conspiracy': 4.907206312054768e-05, 'constructions': 3.520942846080288e-05, 'construed': 3.2279403967550024e-05, 'consult': 4.857191129303828e-07, 'consumer': 1.328501070929633e-06, 'consumers': 8.846547643770464e-06, 'contemplated': 4.291360528441146e-05, 'contemplation': 8.363007850675785e-07, 'contemptible': 0.00015790181350894272, 'contention': 3.7857946153962985e-05, 'continues': 3.868205385515466e-05, 'contradictory': 0.00010924512753263116, 'controlling': 3.2863863452803344e-07, 'controversy': 1.1586999789869878e-05, 'convened': 8.536355380783789e-06, 'convenience': 9.283484541811049e-05, 'conventions': 4.675683885579929e-05, 'conveyed': 3.920941367141495e-07, 'convince': 1.1690045539580751e-05, 'cool': 3.975435902248137e-05, 'correspond': 3.93313968061193e-07, 'corrupting': 2.052128729701508e-05, 'creature': 2.86969752778532e-05, 'crush': 0.000167974314535968, 'cry': 5.718426564271795e-06, 'daring': 1.9299985069665127e-05, 'debased': 3.448063523592282e-07, 'debtors': 7.93490034993738e-05, 'declamations': 8.430714660789818e-05, 'deed': 1.8574779460323043e-05, 'defeated': 8.945601439336315e-05, 'definite': 1.7007163478410803e-05, 'degenerate': 2.7338513973518275e-05, 'delegation': 1.6176802091649733e-05, 'delinquent': 0.00017166916222777218, 'demanded': 0.00016746806795708835, 'demonstrated': 0.00011061950499424711, 'departed': 5.694529590982711e-06, 'departure': 5.473021883517504e-05, 'depends': 9.010751091409475e-05, 'desideratum': 6.447183841373771e-05, 'designate': 3.015835682163015e-05, 'designed': 3.802315768552944e-05, 'designs': 4.806150900549255e-05, 'determinate': 3.0348488508025184e-05, 'devices': 1.3100715250402573e-06, 'dictated': 6.211429717950523e-05, 'differ': 1.1620895747910254e-05, 'differently': 0.00016805010091047734, 'dilemma': 3.7203710689937e-07, 'disciplining': 9.506464266451076e-05, 'discord': 0.00015311338938772678, 'discouragement': 2.7618256353889592e-05, 'discovered': 3.751939948415384e-05, 'discriminate': 1.7680436940281652e-05, 'discussions': 2.1179790564929135e-05, 'disobedience': 0.00013465736992657185, 'dispassionate': 3.8366499211406335e-05, 'dispersed': 9.609758853912354e-05, 'dispositions': 2.769381899270229e-05, 'disproportion': 4.38237730122637e-05, 'disregarded': 3.838329405425611e-07, 'dissatisfaction': 0.000124160127597861, 'dissolved': 6.442986341426149e-05, 'distinguish': 6.3059515014174394e-06, 'disunion': 3.029366268947342e-07, 'disunited': 1.700790107861394e-06, 'dock-yards': 7.11910251993686e-05, 'door': 2.976091309392359e-06, 'doubtless': 8.371035801246762e-05, 'doubts': 4.9076414143200964e-05, 'dread': 3.452486271271482e-05, 'easier': 8.517120295437053e-05, 'eastern': 3.450376243563369e-05, 'edifice': 8.873269689502195e-05, 'efficacious': 4.29905740020331e-05, 'effort': 0.00015109176456462592, 'elevated': 4.18315757997334e-05, 'elevation': 3.2329774057870964e-07, 'emphatically': 0.0001775400451151654, 'employing': 0.00020291077089495957, 'enables': 4.751326559926383e-05, 'encouragement': 5.992976070956502e-07, 'endowments': 0.000238107968471013, 'ends': 5.202365400691633e-07, 'energetic': 8.784097735770047e-05, 'engine': 8.486447768518701e-05, 'enjoys': 4.4437845645006746e-05, 'enlargement': 7.261688779180986e-07, 'ensuing': 1.861586861195974e-05, 'enterprising': 3.422336760650069e-07, 'enthusiasm': 1.2737789802486077e-05, 'entitle': 1.6819896700326353e-05, 'erroneously': 2.941607988304895e-07, 'escape': 7.000785444688518e-06, 'estimation': 7.886714593041688e-05, 'eventual': 7.470252967323177e-07, 'eventually': 0.00014550916966982186, 'everything': 8.846847777022049e-05, 'examining': 4.575595994538162e-06, 'exceeds': 0.00011527905735420063, 'excesses': 0.00014977148384787142, 'excluded': 1.7365620806231163e-05, 'executing': 5.525755841517821e-05, 'executives': 4.8591049562674016e-05, 'exert': 1.5180582977336599e-06, 'exerting': 5.377459274313878e-06, 'expectations': 1.9258854081272148e-05, 'explicit': 7.750076474621892e-05, 'extremes': 2.7237150789005682e-05, 'fabric': 1.4243182704376522e-06, 'fairly': 0.00010707524779718369, 'faithful': 3.5341165016689047e-07, 'fallible': 9.605254490452353e-06, 'falls': 9.441465954296291e-05, 'families': 2.5973939045798033e-05, 'fault': 0.0001240738929482177, 'feared': 3.1031791877467185e-05, 'felicity': 8.479174721287563e-05, 'finds': 1.2842273463320453e-05, 'flagrant': 9.235394099960104e-05, 'flame': 3.2208324682869716e-06, 'flows': 0.00010079712956212461, 'fluctuations': 2.9963726774440147e-05, 'forbear': 9.445186151424423e-05, 'forbids': 0.00014716277655679733, 'foreigners': 8.68821152835153e-05, 'forgotten': 7.730790457571857e-06, 'formal': 1.1132847248518374e-05, 'fortified': 2.5489565814496018e-05, 'fortitude': 2.021244290517643e-05, 'fortune': 3.8242552591327694e-07, 'fourthly': 1.9599092411226593e-05, 'freely': 3.6839529116150516e-07, 'frustrated': 5.356982728699222e-05, 'function': 2.995518002535391e-07, 'funds': 7.722240115981549e-05, 'furnishes': 0.00013905580271966755, 'gaining': 2.9949815143481828e-05, 'gave': 5.5199147027451545e-05, 'globe': 2.4333445480806404e-07, 'gloomy': 2.62255434790859e-06, 'glory': 5.0759535952238366e-05, 'governing': 7.30127067072317e-05, 'grants': 2.2181777239893563e-05, 'gratify': 3.3920659916475415e-05, 'greatness': 4.688943590736017e-06, 'grounded': 7.181411092460621e-06, 'grounds': 1.6776753909653053e-05, 'habitual': 6.1137920965848025e-06, 'harmless': 4.0207862184615806e-05, 'heard': 4.861260094912723e-05, 'herself': 3.537974407663569e-05, 'hesitate': 8.890108438208699e-05, 'home': 0.00014667412324342877, 'honorable': 3.2496171797902207e-07, 'honors': 3.303124685771763e-05, 'humanity': 5.584089649346424e-06, 'illustration': 7.301459118025377e-05, 'imbecility': 4.913762677460909e-05, 'imperfect': 1.6909143596421927e-05, 'implication': 6.220060458872467e-05, 'importation': 2.5868530428851955e-07, 'importing': 1.0464722208780586e-06, 'impositions': 0.00015410661580972373, 'improperly': 2.863448389689438e-05, 'impropriety': 2.978002157760784e-06, 'imputation': 4.4495136535260826e-05, 'inability': 6.476647104136646e-05, 'including': 3.028499691026809e-07, 'incorporated': 5.554601102630841e-06, 'inculcated': 8.698777492099907e-06, 'incumbent': 4.353638587417663e-07, 'incurred': 3.094729618169367e-05, 'indebted': 3.999171269697399e-07, 'indeterminate': 6.630050393141573e-06, 'indian': 4.255103078776301e-07, 'indulged': 3.313327761134133e-05, 'industriously': 0.00013541053340304643, 'ineligible': 2.896108981076395e-06, 'inevitable': 8.680592145537958e-05, 'infallible': 2.8522357752081007e-05, 'infinitely': 1.1856676792376675e-05, 'infirmities': 5.455340215121396e-07, 'inflame': 4.529283046394994e-07, 'influenced': 0.0001428328250767663, 'influential': 7.164248472690815e-06, 'informs': 2.9695945613639196e-07, 'infractions': 7.923601970105665e-07, 'infringed': 5.834491457790136e-05, 'inherent': 1.5547881048405543e-05, 'injunction': 4.3149368138983846e-05, 'innovation': 2.5326730224151106e-07, 'insensible': 4.712557711172849e-05, 'insist': 2.2937314497539774e-05, 'instructive': 4.058788078964426e-07, 'intelligence': 6.43184976070188e-05, 'intend': 9.296038479078561e-05, 'interdiction': 1.394450282532489e-05, 'interfering': 1.627440383344947e-06, 'intermissions': 2.749631278220477e-07, 'intimate': 3.816237949649803e-06, 'irrational': 1.7037065845215693e-05, 'joined': 3.1593779681315937e-07, 'judging': 3.8865570672896865e-07, 'kindred': 1.237421474797884e-05, 'kinds': 0.00010973652388202026, 'kings': 7.953614112921059e-05, 'knows': 0.0001489575661253184, 'labored': 0.0001302199234487489, 'landholder': 8.058411913225427e-05, 'legally': 8.764449739828706e-05, 'legislate': 2.7736425067814707e-07, 'lessen': 0.00011364171223249286, 'letter': 0.00010380068852100521, 'letters': 2.587514416063641e-07, 'likewise': 0.00015971093671396375, 'lives': 2.502872860077332e-07, 'loans': 8.233109110733494e-05, 'longest': 3.595008877255168e-07, 'looked': 0.0001155369754997082, 'loose': 7.066325906635029e-06, 'loves': 4.004682807590143e-07, 'machine': 3.522664201227599e-06, 'majesty': 1.346911540167639e-05, 'major': 3.6803519378736382e-06, 'manly': 2.9906854592809395e-07, 'marque': 3.440140972088557e-07, 'masters': 7.139179842852172e-07, 'materially': 0.00013846757065039128, 'mature': 0.00011033982445951551, 'mechanic': 2.9125365017534932e-06, 'meditated': 2.5691293558338657e-05, 'meeting': 2.2046046069590375e-05, 'memory': 9.068722647498362e-06, 'mercantile': 5.589614829659695e-06, 'mild': 1.313985535489337e-06, 'mischievous': 4.353867188910954e-05, 'misconstrue': 4.861885827267542e-07, 'misguided': 2.512232981644047e-07, 'misrepresentations': 2.7170452085556462e-05, 'mississippi': 7.079853503455524e-07, 'mistaken': 8.414802141487598e-05, 'mistakes': 1.0570829545031302e-05, 'modification': 1.1696306501107756e-06, 'monarchical': 0.00012814300134778023, 'morals': 1.3686821148439776e-05, 'motion': 5.814395262859762e-05, 'move': 1.6083136870292947e-05, 'multiplication': 4.4939159124623984e-05, 'multiplicity': 7.938964472486987e-07, 'naturalization': 4.130768616050773e-07, 'navigation': 1.1887144864886068e-05, 'near': 9.14081247174181e-05, 'nearer': 3.0951853204896906e-06, 'needs': 8.85393274074886e-06, 'negotiations': 0.0001606284931767732, 'negroes': 3.1357450325231184e-07, 'netherlands': 1.2779694770870265e-05, 'ninth': 3.3106681485151057e-07, 'nominal': 7.565298437839374e-05, 'nominate': 3.668925637612119e-05, 'noticed': 1.00475272120093e-05, 'notorious': 0.00013495607709046453, 'observance': 5.906541446165647e-06, 'obstructions': 2.4611315893707797e-05, 'occur': 1.8305456251255237e-05, 'official': 9.040933946380392e-06, 'offspring': 4.554844053927809e-05, 'oftener': 0.00015219258784782141, 'opened': 1.836748378991615e-05, 'origin': 1.092071101993497e-06, 'overmatch': 4.7957481001503766e-05, 'overrule': 8.373857781407423e-06, 'overruled': 1.2769218301400542e-05, 'pains': 0.00014854827895760536, 'parallel': 3.210254362784326e-05, 'parliaments': 4.486195450681407e-07, 'partiality': 1.726601112750359e-05, 'participate': 3.8649679481750354e-05, 'passage': 3.305289340005402e-07, 'passages': 5.0306436605751514e-05, 'patron': 0.00011473340418888256, 'payment': 1.8074661056743935e-06, 'peaceable': 6.099474194343202e-05, 'peculiarity': 3.0581802548113046e-06, 'penalty': 3.460281732259318e-05, 'performed': 3.1083505746209994e-05, 'permanency': 3.166750684613362e-05, 'plausibility': 3.4035303542623296e-05, 'pliancy': 0.00015418717521242797, 'pointing': 3.1748663786856923e-07, 'popularity': 3.0064968086662702e-05, 'positions': 0.00014926985022611916, 'posse': 6.259543283704261e-07, 'possesses': 8.002009417396039e-05, 'pre-eminence': 6.270294761634432e-06, 'precious': 3.0578434007111355e-07, 'precision': 3.2942844541139493e-07, 'predominant': 8.319070730067324e-06, 'predominates': 3.4723308317552437e-07, 'preferred': 3.4438606235198677e-05, 'prepared': 2.7370782618163503e-07, 'preposterous': 0.00011659622396109626, 'pressure': 8.333860751008615e-05, 'presumption': 1.1592394002946094e-05, 'pretension': 3.9331884181592613e-05, 'prize': 8.493524364894256e-05, 'procure': 4.984716360922903e-05, 'procured': 4.60386581835337e-05, 'profession': 1.918565612868406e-05, 'profound': 4.949112280883128e-06, 'prompt': 1.672638245509006e-05, 'prompted': 4.278553547010233e-07, 'proportional': 1.3444617252389435e-05, 'proportions': 1.4506509842249216e-06, 'proprietors': 6.820749695179984e-05, 'prosecution': 9.799026884138584e-06, 'protected': 2.923382282915554e-07, 'prudently': 6.924848094058689e-06, 'publications': 6.064655053705792e-07, 'punish': 3.4626355045475066e-05, 'qualify': 1.5407964383484796e-05, 'quell': 5.176963441044791e-06, 'rashly': 9.518570550426375e-06, 're-election': 4.625789188139606e-06, 'read': 1.268457344849594e-05, 'recommending': 3.0416086360673944e-07, 'recommends': 0.00012127800437156111, 'reconcile': 2.4448148906230927e-05, 'recurring': 3.7895167679380393e-06, 'refinements': 0.000192026884178631, 'refused': 8.015432285901625e-06, 'refutation': 7.514582830481231e-05, 'regions': 6.920853593328502e-06, 'regret': 3.886242484441027e-05, 'reject': 0.00010345991904614493, 'rely': 0.00010321442823624238, 'removable': 3.7067010794089583e-07, 'renders': 7.461211498593912e-05, 'repeal': 0.00028187280986458063, 'reply': 5.148888703843113e-06, 'repose': 2.1825451767654158e-05, 'repugnancy': 0.00020118143584113568, 'rescue': 1.2282262105145492e-05, 'resemblance': 1.0861253940674942e-05, 'resemble': 0.00027664954541251063, 'reserve': 3.1045790819916874e-05, 'reserved': 2.6223830218441435e-07, 'residuary': 4.907056427327916e-05, 'respectability': 7.509127499361057e-06, 'restraining': 2.8693391868728213e-05, 'returns': 3.3045265013242897e-07, 'revenge': 1.2285553566471208e-05, 'revolutions': 7.384391210507601e-05, 'rightly': 7.66878220019862e-05, 'rigid': 5.949940896243788e-05, 'rise': 8.650052222947124e-06, 'rivals': 8.299019100377336e-05, 'rivalship': 3.0126645356176596e-07, 'rivalships': 7.864618237363175e-05, 'rivers': 0.0002593286626506597, 'road': 5.4316162277245894e-05, 'roads': 2.8847975386270264e-07, 'ruin': 3.1269075861928286e-06, 'run': 4.6504734200425446e-05, 'running': 0.00012792632333002985, 'sacrifices': 4.18518453670913e-07, 'salaries': 7.568978617200628e-05, 'saved': 1.1685842764563859e-05, 'sciences': 6.1021153669571504e-05, 'scope': 8.190146763809025e-05, 'scruple': 3.5749300877796486e-05, 'scrupled': 2.619828410388436e-05, 'seas': 3.3946355415537255e-07, 'securities': 2.17297492781654e-05, 'seduce': 8.714184514246881e-05, 'seek': 7.814750279067084e-05, 'selection': 1.387779866490746e-05, 'self-defense': 2.699091965041589e-06, 'self-government': 3.1786899512553646e-07, 'self-preservation': 3.6424594327399973e-06, 'seriously': 9.456839325139299e-05, 'servants': 5.4576823458774015e-05, 'served': 7.327463390538469e-05, 'sets': 5.122660695633385e-06, 'settlements': 0.00015850417548790574, 'shadow': 6.400191341526806e-05, 'silver': 2.943106380826066e-07, 'similitude': 1.0405951798020396e-05, 'simplicity': 0.0001472326839575544, 'sixth': 1.8478573338143178e-07, 'sixty': 0.00012722049723379314, 'size': 6.707873399136588e-05, 'slight': 1.0954961908282712e-05, 'smallness': 3.9409567875736684e-07, 'snares': 4.5407395532492956e-07, 'speak': 3.521117105265148e-05, 'speculative': 0.000253394158789888, 'spheres': 3.764568873521057e-06, 'spring': 5.765230889664963e-05, 'stamped': 3.552973453224695e-07, 'statesmen': 2.8809319701394998e-05, 'stipulations': 4.393361814436503e-05, 'streams': 0.0001021509597194381, 'strengthened': 5.0952489800693e-06, 'subdivided': 7.491374162782449e-06, 'subjected': 5.497587699210271e-05, 'subsistence': 4.292273297323845e-05, 'subtleties': 0.0002859013038687408, 'succeed': 3.5937136999564245e-05, 'succeeded': 4.179684083283064e-07, 'successful': 6.065751222195104e-06, 'sudden': 2.7602704903983977e-06, 'sufficiency': 1.8659833358469768e-06, 'suggestion': 8.732561400393024e-05, 'sums': 1.530155168438796e-05, 'superfluous': 0.00012228189734742045, 'supposes': 0.00015807733871042728, 'suppositions': 0.00011867350985994563, 'surely': 3.6808026493417856e-07, 'surrendered': 1.843003701651469e-05, 'teaches': 0.00026674941182136536, 'technical': 3.877357448800467e-05, 'tedious': 0.0001757333957357332, 'theme': 8.84349865373224e-05, 'therein': 3.9984470845411124e-07, 'tie': 2.1634756194544025e-05, 'tolerable': 1.5846123915252974e-06, 'transferred': 3.0918943139113253e-07, 'trials': 8.280124893644825e-05, 'tribes': 6.23569285380654e-05, 'tribunals': 6.766733713448048e-05, 'tribunes': 3.541258877248765e-07, 'triennial': 2.4581149205005204e-07, 'trusted': 2.7163077902514488e-06, 'twenty-five': 3.2084270173982077e-07, 'ultimately': 3.82103280571755e-05, 'unanimity': 9.925490303430706e-06, 'unauthorized': 3.991333983321965e-07, 'unavoidably': 5.537252945941873e-06, 'unceasing': 5.240181508270325e-06, 'understandings': 2.171363121306058e-05, 'undue': 3.3604776490392396e-06, 'unfolded': 0.0001670882193138823, 'unfortunate': 2.495810349500971e-07, 'universally': 3.802565800015145e-07, 'unreasonable': 2.634731754369568e-05, 'usurp': 1.3497699910658412e-05, 'validity': 2.825085903168656e-05, 'venture': 2.6154424631386064e-05, 'vest': 0.00018539650773163885, 'vicious': 9.497556311544031e-05, 'vicissitudes': 2.1404064682428725e-05, 'victory': 1.3375625940170721e-06, 'vigorous': 3.9842263504397124e-05, 'watched': 3.4069955745508196e-07, 'whatsoever': 6.522471812786534e-05, 'whereas': 3.6100814782003e-07, 'wicked': 0.00016691311611793935, 'wide': 1.4690665011585224e-05, 'wishes': 2.5233961423509754e-05, 'wit': 5.458465238916688e-06, 'wonder': 2.4326044467670727e-07, 'word': 5.2259456424508244e-05, 'works': 2.491926522907306e-07, 'yielding': 0.00012672644515987486, 'zealous': 0.0001426740927854553}\n",
      "top 1 word: ,        Pr(x1): 0.048\n",
      "top 2 word: the      Pr(x1): 0.046\n",
      "top 3 word: of       Pr(x1): 0.031\n",
      "top 4 word: in       Pr(x1): 0.028\n",
      "top 5 word: <unk>    Pr(x1): 0.027\n",
      "top 6 word: that     Pr(x1): 0.020\n",
      "top 7 word: which    Pr(x1): 0.019\n",
      "top 8 word: to       Pr(x1): 0.018\n",
      "top 9 word: and      Pr(x1): 0.016\n"
     ]
    }
   ],
   "source": [
    "Pr_x1 = ffnn_lm_hamilton.forward_step([])\n",
    "print(Pr_x1)\n",
    "topk = 9\n",
    "\n",
    "# Sort by probabilities\n",
    "for i, word in enumerate(sorted(Pr_x1, key=lambda word: Pr_x1[word], reverse=True)[:topk]):\n",
    "    print (f\"top {i+1} word: {word:<8} Pr(x1): {Pr_x1[word]:.3f}\")"
   ]
  },
  {
   "cell_type": "markdown",
   "metadata": {
    "deletable": false,
    "editable": false
   },
   "source": [
    "Define a function `neglogprob` that takes a token sequence and a language model and returns the negative log probability of the _entire_ token sequence according to the model (using log base 2). Note that you need to use the probability for the unknown word type `\"<unk>\"` if a token does not appear in the vocabulary.\n",
    "\n",
    "<!--\n",
    "BEGIN QUESTION\n",
    "name: ffnn_neglogprob\n",
    "-->"
   ]
  },
  {
   "cell_type": "code",
   "execution_count": 298,
   "metadata": {
    "colab": {},
    "colab_type": "code",
    "id": "WJvO7nX32Lr9"
   },
   "outputs": [],
   "source": [
    "# TODO\n",
    "def neglogprob(tokens, model):\n",
    "    \"\"\"Returns the negative log probability of a sequence of `tokens`\n",
    "       according to a `model`\n",
    "    \"\"\"\n",
    "    neglogprob = 0\n",
    "    context = []\n",
    "    for token in tokens:\n",
    "        #print(context)\n",
    "        probContext = model.forward_step(context)\n",
    "        if token not in probContext.keys():\n",
    "            token = \"<unk>\"\n",
    "        neglogprob -= math.log2(probContext[token])\n",
    "        #print(neglogprob)\n",
    "        context.append(token)\n",
    "        #print(neglogprob)\n",
    "        #print(context)\n",
    "        #print(score)\n",
    "    \n",
    "    #probContext = ffnn_lm_hamilton.forward_step(tokens)\n",
    "        \n",
    "    #print(neglogprob)\n",
    "    #score = -math.log2(neglogprob)\n",
    "    return neglogprob"
   ]
  },
  {
   "cell_type": "code",
   "execution_count": 299,
   "id": "f4b59c57",
   "metadata": {
    "deletable": false,
    "editable": false
   },
   "outputs": [
    {
     "data": {
      "text/html": [
       "\n",
       "    \n",
       "    \n",
       "        <p>All tests passed!</p>\n",
       "    \n",
       "    "
      ],
      "text/plain": [
       "\n",
       "    All tests passed!\n",
       "    "
      ]
     },
     "execution_count": 299,
     "metadata": {},
     "output_type": "execute_result"
    }
   ],
   "source": [
    "grader.check(\"ffnn_neglogprob\")"
   ]
  },
  {
   "cell_type": "code",
   "execution_count": 300,
   "metadata": {},
   "outputs": [
    {
     "data": {
      "text/plain": [
       "13.35"
      ]
     },
     "execution_count": 300,
     "metadata": {},
     "output_type": "execute_result"
    }
   ],
   "source": [
    "round(neglogprob([\"constitution\",], ffnn_lm_madison), 2)"
   ]
  },
  {
   "cell_type": "markdown",
   "metadata": {
    "deletable": false,
    "editable": false
   },
   "source": [
    "Define a function `perplexity` that takes a token sequence and a language model and returns the perplexity of the _entire_ token sequence according to the model.\n",
    "\n",
    "<!--\n",
    "BEGIN QUESTION\n",
    "name: ffnn_perplexity\n",
    "-->\n"
   ]
  },
  {
   "cell_type": "code",
   "execution_count": 301,
   "metadata": {
    "colab": {},
    "colab_type": "code",
    "id": "AJyJW2w02Lsm"
   },
   "outputs": [],
   "source": [
    "# TODO\n",
    "def perplexity(tokens, model):\n",
    "    \"\"\"Returns the perplexity of a sequence of `tokens` according to a `model`\n",
    "    \"\"\"\n",
    "    neglogprob = 0\n",
    "    context = []\n",
    "    for token in tokens:\n",
    "        probContext = model.forward_step(context)\n",
    "        if(token not in probContext.keys()):\n",
    "            token = \"<unk>\"\n",
    "        neglogprob -= math.log2(probContext[token])\n",
    "        #print(neglogprob)\n",
    "        context.append(token)\n",
    "    perplexity = 2**(neglogprob/len(tokens))\n",
    "    return perplexity"
   ]
  },
  {
   "cell_type": "markdown",
   "metadata": {
    "colab_type": "text",
    "id": "a30RzRKRPp0h"
   },
   "source": [
    "What's the perplexity of each document in the validation set under the language model trained on papers authored by Madison? What about Hamilton? Let's start with one document from each author."
   ]
  },
  {
   "cell_type": "code",
   "execution_count": 302,
   "metadata": {
    "colab": {},
    "colab_type": "code",
    "id": "ecJ5AgfAP4Cr"
   },
   "outputs": [],
   "source": [
    "document_madison = validation_madison[0]['tokens']\n",
    "document_hamilton = validation_hamilton[0]['tokens']"
   ]
  },
  {
   "cell_type": "markdown",
   "metadata": {
    "deletable": false,
    "editable": false
   },
   "source": [
    "Calculate the perplexity of each model on `document_madison` and  `document_hamilton`.\n",
    "\n",
    "<!--\n",
    "BEGIN QUESTION\n",
    "name: ffnn_ppl\n",
    "-->"
   ]
  },
  {
   "cell_type": "code",
   "execution_count": 303,
   "metadata": {
    "colab": {
     "base_uri": "https://localhost:8080/",
     "height": 156
    },
    "colab_type": "code",
    "id": "uNqBcwhmX47V",
    "outputId": "4c171bbb-be6f-457c-fb88-3b6117075ca0"
   },
   "outputs": [],
   "source": [
    "# TODO\n",
    "ppl_madison_model_madison_document = perplexity(document_madison,ffnn_lm_madison)\n",
    "ppl_hamilton_model_madison_document = perplexity(document_madison, ffnn_lm_hamilton)\n",
    "ppl_madison_model_hamilton_document = perplexity(document_hamilton, ffnn_lm_madison)\n",
    "ppl_hamilton_model_hamilton_document = perplexity(document_hamilton, ffnn_lm_hamilton)"
   ]
  },
  {
   "cell_type": "code",
   "execution_count": 304,
   "id": "16f9639c",
   "metadata": {
    "deletable": false,
    "editable": false
   },
   "outputs": [
    {
     "data": {
      "text/html": [
       "\n",
       "    \n",
       "    \n",
       "        <p>All tests passed!</p>\n",
       "    \n",
       "    "
      ],
      "text/plain": [
       "\n",
       "    All tests passed!\n",
       "    "
      ]
     },
     "execution_count": 304,
     "metadata": {},
     "output_type": "execute_result"
    }
   ],
   "source": [
    "grader.check(\"ffnn_ppl\")"
   ]
  },
  {
   "cell_type": "markdown",
   "metadata": {},
   "source": [
    "Now, let's compare those perplexity values."
   ]
  },
  {
   "cell_type": "code",
   "execution_count": 305,
   "metadata": {},
   "outputs": [
    {
     "name": "stdout",
     "output_type": "stream",
     "text": [
      "Author    Madison Model    Hamilton Model\n",
      "Madison      108.3            134.8\n",
      "Hamilton     129.4             96.0\n"
     ]
    }
   ],
   "source": [
    "print (f\"Author    Madison Model    Hamilton Model\\n\"\n",
    "       f\"Madison      {ppl_madison_model_madison_document:5.1f}            {ppl_hamilton_model_madison_document:5.1f}\\n\"\n",
    "       f\"Hamilton     {ppl_madison_model_hamilton_document:5.1f}            {ppl_hamilton_model_hamilton_document:5.1f}\")"
   ]
  },
  {
   "cell_type": "markdown",
   "metadata": {
    "deletable": false,
    "editable": false
   },
   "source": [
    "<!-- BEGIN QUESTION -->\n",
    "\n",
    "**Question:** What do you find? Why?\n",
    "\n",
    "<!--\n",
    "BEGIN QUESTION\n",
    "name: open_response_ppl\n",
    "manual: true\n",
    "-->"
   ]
  },
  {
   "cell_type": "markdown",
   "id": "27079f81",
   "metadata": {},
   "source": [
    "The perplexity of the Hamilton Model's performance on the Hamilton documents is the lowest and the next lowest is the perplexity of the Madison Model on the Madison documents. Comparatively, the Madison or Hamilton model performance on the opposite document set is worse since the perplexity is higher. The models which are evaluated on the documents they are trained on perform better and have lower perplexity. "
   ]
  },
  {
   "cell_type": "markdown",
   "metadata": {
    "deletable": false,
    "editable": false
   },
   "source": [
    "<!-- END QUESTION -->\n",
    "\n",
    "<!-- BEGIN QUESTION -->\n",
    "\n",
    "Now, let's revisit our motivation for parameterizing conditional probabilities using a feedforward neural network instead of through counting.\n",
    "\n",
    "**Question:** Compare the pros and cons of feedforward neural language model and the original $n$-gram language model (possibly with smoothing). Which is better?\n",
    "\n",
    "<!--\n",
    "BEGIN QUESTION\n",
    "name: open_response_nn_v_ngram\n",
    "manual: true\n",
    "-->"
   ]
  },
  {
   "cell_type": "markdown",
   "id": "aaf7094e",
   "metadata": {},
   "source": [
    "A pro of using a feedforward neural language model is that it allows for embeddings to be created which is a good thing as the understanding of context is also deeper by doing this and makes it more generalizable. Since one-hot representations are orthogonal, there isn't any way to group together similar words or sentences geometrically. A con of the feedforward neural language model is that it takes longer to train compared to the n-gram model. A pro of the n-gram model is that it performs well on test sets that are similar to training sets and is easy to create. "
   ]
  },
  {
   "cell_type": "markdown",
   "metadata": {
    "colab_type": "text",
    "id": "rLQ1PlD51kmx"
   },
   "source": [
    "<!-- END QUESTION -->\n",
    "\n",
    "\n",
    "\n",
    "# The $n$-gram recurrent neural network"
   ]
  },
  {
   "cell_type": "markdown",
   "metadata": {},
   "source": [
    "One limitation of $n$-gram language models (both the original one and the neural one) is that they only model context up to a fixed number of words. However, natural language exhibits long-term dependencies, well beyond $n=5$. In this part of the lab, we consider an approach based on recurrent neural networks (RNN), which can consider variable amounts of context.\n",
    "\n",
    "Different from $n$-gram language modeling, RNN-based language models do not make the approximation that the probability of a word only depends on its previous $n-1$ words. That is, we use the unapproximated chain rule:\n",
    "\n",
    "$$\n",
    "\\Prob(w_1, w_2, \\ldots, w_N) = \\prod_{i=1}^N \\Prob (w_i \\given w_1, \\cdots, w_{i-1})\n",
    "$$\n",
    "\n",
    "and we again specify the conditional probabilities using a neural network:\n",
    "\n",
    "$$\n",
    "\\Pr (w_i \\given w_{\\color{red}1}, \\cdots, w_{i-1})= f({ w_{\\color{red}1}}, \\cdots, w_{i-1}),\n",
    "$$\n",
    "\n",
    "where we use an RNN to parameterize $f$. (Notice the change in the first index of the context, highlighted in red; we're using the whole history as context now, not just the last $n-1$ words.) \n",
    "\n",
    "The inputs to RNNs, like in the feedforward case, are embeddings of words, and we project the _final_ output state of the RNN to a vector of size $V$, followed by a softmax to normalize the probabilities."
   ]
  },
  {
   "cell_type": "markdown",
   "metadata": {
    "deletable": false,
    "editable": false
   },
   "source": [
    "Implement the missing part of the `forward_step` function of an RNN language model below. This function takes the previous words as input, and returns the probabilities of generating the next word. The returned value should be a dictionary, with word types as keys and their respective probabilities as values.\n",
    "\n",
    "> Hint: You might find [torch.nn.RNN documentation](https://pytorch.org/docs/stable/generated/torch.nn.RNN.html) helpful. Make sure that you understand the input and output shapes.\n",
    "\n",
    "<!--\n",
    "BEGIN QUESTION\n",
    "name: rnn_forward_step\n",
    "-->"
   ]
  },
  {
   "cell_type": "code",
   "execution_count": 306,
   "metadata": {
    "colab": {},
    "colab_type": "code",
    "id": "pN3eZEN4Umqz"
   },
   "outputs": [],
   "source": [
    "class RNNLM(torch.nn.Module):\n",
    "  def __init__(self, text_field, embedding_size, hidden_size):\n",
    "    super().__init__()\n",
    "    self.text_field = text_field\n",
    "    vocab_size = len(self.text_field.vocab)\n",
    "    self.pad_index = self.text_field.vocab.stoi[self.text_field.pad_token]\n",
    "    \n",
    "    # Create modules\n",
    "    self.embed = torch.nn.Embedding(vocab_size, embedding_size)\n",
    "    self.rnn = torch.nn.RNN(input_size=embedding_size, hidden_size=hidden_size, num_layers=1)\n",
    "    self.hidden2output = torch.nn.Linear(hidden_size, vocab_size)\n",
    "  \n",
    "  def forward_step(self, context_words):\n",
    "    \"\"\"Computes the distribution over the next word given context `history_words`.\n",
    "    Arguments:\n",
    "      history_words: a list of word strings, could be an empty list when generating\n",
    "                     the first word.\n",
    "    Returns: \n",
    "      the distribution over the next word given the context, stored as a dictionary, \n",
    "      with word types as keys, and probability values as values. The probability of\n",
    "      generating an unknown word is stored in dictionary[\"<unk>\"]\".\"\"\"\n",
    "    self.eval()\n",
    "    context = self.text_field.process([context_words]).to(device) # seq len, 1\n",
    "    context_len = context.size(0)\n",
    "    \n",
    "    # For generating the first word, we feed in a special beginning-of-sentence symbol <pad>,\n",
    "    # which is also what we use for padding. In future labs we'll be using <bos>, but as long \n",
    "    # as training and evaluation use the same beginning-of-sentence symbol, it doesn't matter\n",
    "    # which particular symbol we use.\n",
    "    if context_len == 0: \n",
    "      context = context.new(1, 1).fill_(self.pad_index)\n",
    "      context_len = context.size(0)\n",
    "    \n",
    "    hidden = None\n",
    "    # TODO: finish feedforward and set logits\n",
    "    # Logits should be a tensor of size (1, vocab_size)\n",
    "    # Note that you should project the `output` from rnn, not the `hidden`\n",
    "    # using self.hidden2output\n",
    "    # The structure of the network is\n",
    "    #   embeddings -> the output of RNN at the last step -> hidden2output -> softmax\n",
    "    #print(context.size())\n",
    "    \n",
    "    logits = self.hidden2output(self.rnn(self.embed(context))[1])\n",
    "\n",
    "    # Normalize to get probabilities\n",
    "    probs = torch.softmax(logits, -1).view(-1) # vocab_size\n",
    "\n",
    "    # Match probabilities with actual word types\n",
    "    distribution = {}\n",
    "    for i, prob in enumerate(probs):\n",
    "      word = self.text_field.vocab.itos[i]\n",
    "      distribution[word] = prob.item()\n",
    "    return distribution"
   ]
  },
  {
   "cell_type": "markdown",
   "metadata": {},
   "source": [
    "Now, let's load the pretrained RNN language models for Hamilton and Madison. The model `rnn_lm_madison` was trained on documents authored by Madison, whereas `rnn_lm_hamilton` was trained on documents authored by Hamilton."
   ]
  },
  {
   "cell_type": "code",
   "execution_count": 307,
   "metadata": {
    "colab": {
     "base_uri": "https://localhost:8080/",
     "height": 34
    },
    "colab_type": "code",
    "id": "gcFuACDdUy-C",
    "outputId": "d9df6c8c-e9bb-4abb-e3da-d246d99661ec"
   },
   "outputs": [
    {
     "data": {
      "text/plain": [
       "<All keys matched successfully>"
      ]
     },
     "execution_count": 307,
     "metadata": {},
     "output_type": "execute_result"
    }
   ],
   "source": [
    "# Create and load RNN LM for Madison\n",
    "rnn_lm_madison = RNNLM(TEXT,\n",
    "               embedding_size=128, \n",
    "               hidden_size=128, \n",
    "               ).to(device)\n",
    "rnn_lm_madison.load_state_dict(torch.load('data/rnn_lm_m.pt', map_location=device))\n",
    "\n",
    "\n",
    "\n",
    "# Create and load feedforward LM for Hamilton\n",
    "rnn_lm_hamilton = RNNLM(TEXT,\n",
    "               embedding_size=128, \n",
    "               hidden_size=128, \n",
    "               ).to(device)\n",
    "rnn_lm_hamilton.load_state_dict(torch.load('data/rnn_lm_h.pt', map_location=device))"
   ]
  },
  {
   "cell_type": "markdown",
   "metadata": {
    "colab_type": "text",
    "id": "xi8VvkoN2Lqz"
   },
   "source": [
    "## Sampling from an RNN model"
   ]
  },
  {
   "cell_type": "markdown",
   "metadata": {},
   "source": [
    "Let's try to sample from our models. The samples might be bad since the dataset is small."
   ]
  },
  {
   "cell_type": "code",
   "execution_count": 308,
   "metadata": {},
   "outputs": [
    {
     "name": "stdout",
     "output_type": "stream",
     "text": [
      "constitution proposed by the united states , which will holding that a representative class , therefore , than the business could be , more weight , not more much <unk> in his liberty and interests , are too little known , on <unk> . it is <unk> on by than any thing of this body , a discretion of course , will be standard , if it clearly sufficiently less reflection from the state governments of the former , and it be held purposes and that the people in the same congress themselves , and there might its human affairs , according to <unk> \n",
      "\n",
      "constitution proposed by the united states , which will have no beneficial prove as <unk> the exigencies of the confederacy , and , in various act increase in the bodies of independent jealousy in the forms of this kind has a long , and it is , that as often as well it would be certainty , can proposition , are under authorize their <unk> . if it were marked retained in the state governments than to encroach . for relations <unk> innovations the less proposed other government , that there are this boundary , to stated temptation he admonish for a direct <unk>\n"
     ]
    }
   ],
   "source": [
    "print(' '.join(sample_sequence(rnn_lm_madison, ('constitution', 'proposed', 'by', 'the'))), \"\\n\")\n",
    "print(' '.join(sample_sequence(rnn_lm_hamilton, ('constitution', 'proposed', 'by', 'the'))))"
   ]
  },
  {
   "cell_type": "code",
   "execution_count": 309,
   "id": "63dafc89",
   "metadata": {
    "deletable": false,
    "editable": false
   },
   "outputs": [
    {
     "data": {
      "text/html": [
       "\n",
       "    \n",
       "    \n",
       "        <p>All tests passed!</p>\n",
       "    \n",
       "    "
      ],
      "text/plain": [
       "\n",
       "    All tests passed!\n",
       "    "
      ]
     },
     "execution_count": 309,
     "metadata": {},
     "output_type": "execute_result"
    }
   ],
   "source": [
    "grader.check(\"rnn_sample\")"
   ]
  },
  {
   "cell_type": "markdown",
   "metadata": {
    "colab_type": "text",
    "id": "7Riyv9_q2Lrp"
   },
   "source": [
    "## Evaluating text according to an RNN model"
   ]
  },
  {
   "cell_type": "markdown",
   "metadata": {
    "colab_type": "text",
    "id": "03w-53EK2Lru"
   },
   "source": [
    "Again, let's evaluate the models on a document from Hamilton and an artitle from Madison."
   ]
  },
  {
   "cell_type": "code",
   "execution_count": 310,
   "metadata": {},
   "outputs": [],
   "source": [
    "document_madison = validation_madison[0]['tokens']\n",
    "document_hamilton = validation_hamilton[0]['tokens']"
   ]
  },
  {
   "cell_type": "markdown",
   "metadata": {
    "colab_type": "text",
    "deletable": false,
    "editable": false,
    "id": "Yk1KH5Po2Lsp"
   },
   "source": [
    "Calculate the perplexity of each RNN model on each document.\n",
    "\n",
    "<!--\n",
    "BEGIN QUESTION\n",
    "name: rnn_ppl\n",
    "-->"
   ]
  },
  {
   "cell_type": "code",
   "execution_count": 311,
   "metadata": {
    "colab": {
     "base_uri": "https://localhost:8080/",
     "height": 156
    },
    "colab_type": "code",
    "id": "ZVEc6qdEWI40",
    "outputId": "b7d5a901-c065-4422-bb8c-a1410fc63b07"
   },
   "outputs": [],
   "source": [
    "# TODO\n",
    "rnn_ppl_madison_model_madison_document = perplexity(document_madison, rnn_lm_madison)\n",
    "rnn_ppl_hamilton_model_madison_document = perplexity(document_madison, rnn_lm_hamilton)\n",
    "rnn_ppl_madison_model_hamilton_document = perplexity(document_hamilton, rnn_lm_madison)\n",
    "rnn_ppl_hamilton_model_hamilton_document = perplexity(document_hamilton, rnn_lm_hamilton)"
   ]
  },
  {
   "cell_type": "code",
   "execution_count": 312,
   "id": "14a4811d",
   "metadata": {
    "deletable": false,
    "editable": false
   },
   "outputs": [
    {
     "data": {
      "text/html": [
       "\n",
       "    \n",
       "    \n",
       "        <p>All tests passed!</p>\n",
       "    \n",
       "    "
      ],
      "text/plain": [
       "\n",
       "    All tests passed!\n",
       "    "
      ]
     },
     "execution_count": 312,
     "metadata": {},
     "output_type": "execute_result"
    }
   ],
   "source": [
    "grader.check(\"rnn_ppl\")"
   ]
  },
  {
   "cell_type": "markdown",
   "metadata": {},
   "source": [
    "Now, let's compare those perplexity values."
   ]
  },
  {
   "cell_type": "code",
   "execution_count": 313,
   "metadata": {},
   "outputs": [
    {
     "name": "stdout",
     "output_type": "stream",
     "text": [
      "Author      Madison Model        Hamilton Model\n",
      "Madison         86.4                 99.0\n",
      "Hamilton        93.9                 77.9\n"
     ]
    }
   ],
   "source": [
    "print (f\"Author      Madison Model        Hamilton Model\\n\"\n",
    "       f\"Madison        {rnn_ppl_madison_model_madison_document:5.1f}                {rnn_ppl_hamilton_model_madison_document:5.1f}\\n\"\n",
    "       f\"Hamilton       {rnn_ppl_madison_model_hamilton_document:5.1f}                {rnn_ppl_hamilton_model_hamilton_document:5.1f}\")"
   ]
  },
  {
   "cell_type": "markdown",
   "metadata": {
    "deletable": false,
    "editable": false
   },
   "source": [
    "<!-- BEGIN QUESTION -->\n",
    "\n",
    "**Question:** Which type of model is better? The RNN language models or the feedforward language models? What are the possible reasons?\n",
    "\n",
    "<!--\n",
    "BEGIN QUESTION\n",
    "name: open_response_ffnn_vs_rnn\n",
    "manual: true\n",
    "-->"
   ]
  },
  {
   "cell_type": "markdown",
   "id": "2e1c4e7e",
   "metadata": {},
   "source": [
    "The RNN language model is better than the feedforward language models. Some of the reasons may be because since the RNN network takes into account all of the previous time steps whereas the feedforward language models still takes into account only the previous n words."
   ]
  },
  {
   "cell_type": "markdown",
   "metadata": {
    "colab_type": "text",
    "id": "r4H92xc4igIw"
   },
   "source": [
    "<!-- END QUESTION -->\n",
    "\n",
    "\n",
    "\n",
    "# Authorship attribution using language models"
   ]
  },
  {
   "cell_type": "markdown",
   "metadata": {},
   "source": [
    "In lab 1-3, you saw how to use a Naive Bayes model to determine authorship:\n",
    "\n",
    "\\begin{align*}\n",
    "\\argmax{i} \\Prob(c_i \\given \\vect{x}) \n",
    "&= \\argmax{i} \\frac{\\Prob(\\vect{x} \\given c_i) \\cdot \\Prob(c_i)}{\\Prob(\\vect{x})} \\\\\n",
    "&= \\argmax{i} \\Prob(\\vect{x} \\given c_i) \\cdot \\Prob(c_i)\n",
    "\\end{align*}\n",
    "\n",
    "In this lab, the language models trained on Madison documents can be used to calculate $\\Pr(\\vect{x} \\given \\text{Madison})$, and the language models trained on Hamilton documents can be used to calculate $\\Pr(\\vect{x} \\given \\text{Hamilton})$. Therefore, they can also be used for authorship attribution.\n",
    "\n",
    "Recall that for numerical stability issues, we operate in log space (with base 2). With a little abuse of notation, let's denote the _log posterior_ as\n",
    "\n",
    "$$\n",
    "\\log \\Prob(\\vect{x} \\given c_i) + \\log \\Prob(c_i),\n",
    "$$\n",
    "where the priors $\\Prob(c_i)$ from lab 1-3 are given below."
   ]
  },
  {
   "cell_type": "code",
   "execution_count": 314,
   "metadata": {},
   "outputs": [],
   "source": [
    "prior_madison = 15 / (15+51)\n",
    "prior_hamilton = 51 / (15+51)"
   ]
  },
  {
   "cell_type": "markdown",
   "metadata": {},
   "source": [
    "Let's consider a document from the test set."
   ]
  },
  {
   "cell_type": "code",
   "execution_count": 315,
   "metadata": {},
   "outputs": [],
   "source": [
    "document = testing[0]['tokens']"
   ]
  },
  {
   "cell_type": "markdown",
   "metadata": {
    "deletable": false,
    "editable": false
   },
   "source": [
    "Use the feedforward neural language models to calculate the log posteriors for `document`.\n",
    "\n",
    "<!--\n",
    "BEGIN QUESTION\n",
    "name: ffnn_author\n",
    "-->"
   ]
  },
  {
   "cell_type": "code",
   "execution_count": 316,
   "metadata": {},
   "outputs": [],
   "source": [
    "#TODO - calculate the log posteriors for Madison and Hamilton using feedforward LMs\n",
    "log_posterior_madison_ffnn = -1 * neglogprob(document, ffnn_lm_madison) + math.log2(prior_madison)\n",
    "log_posterior_hamilton_ffnn = -1 * neglogprob(document, ffnn_lm_hamilton) + math.log2(prior_hamilton)\n",
    "#TODO - determine authorship\n",
    "if(log_posterior_madison_ffnn > log_posterior_hamilton_ffnn):\n",
    "    author_ffnn = \"Madison\"\n",
    "else:\n",
    "    author_ffnn = \"Hamilton\"\n",
    "#author_ffnn = max"
   ]
  },
  {
   "cell_type": "code",
   "execution_count": 317,
   "id": "766774b7",
   "metadata": {
    "deletable": false,
    "editable": false
   },
   "outputs": [
    {
     "data": {
      "text/html": [
       "\n",
       "    \n",
       "    \n",
       "        <p>All tests passed!</p>\n",
       "    \n",
       "    "
      ],
      "text/plain": [
       "\n",
       "    All tests passed!\n",
       "    "
      ]
     },
     "execution_count": 317,
     "metadata": {},
     "output_type": "execute_result"
    }
   ],
   "source": [
    "grader.check(\"ffnn_author\")"
   ]
  },
  {
   "cell_type": "code",
   "execution_count": 318,
   "metadata": {},
   "outputs": [
    {
     "name": "stdout",
     "output_type": "stream",
     "text": [
      "Hamilton\n"
     ]
    }
   ],
   "source": [
    "print (author_ffnn)"
   ]
  },
  {
   "cell_type": "markdown",
   "metadata": {
    "deletable": false,
    "editable": false
   },
   "source": [
    "Use the RNN neural language models to calculate the log posteriors for `document`.\n",
    "\n",
    "<!--\n",
    "BEGIN QUESTION\n",
    "name: rnn_author\n",
    "-->"
   ]
  },
  {
   "cell_type": "code",
   "execution_count": 319,
   "metadata": {},
   "outputs": [],
   "source": [
    "# TODO - calculate the log posteriors for Madison and Hamilton using RNN LMs\n",
    "log_posterior_madison_rnn = -1 * neglogprob(document, rnn_lm_madison) + math.log2(prior_madison)\n",
    "log_posterior_hamilton_rnn = -1 * neglogprob(document, rnn_lm_hamilton) + math.log2(prior_hamilton)\n",
    "#TODO - determine authorship\n",
    "if(log_posterior_madison_rnn > log_posterior_hamilton_rnn):\n",
    "    author_rnn = \"Madison\"\n",
    "else:\n",
    "    author_rnn = \"Hamilton\""
   ]
  },
  {
   "cell_type": "code",
   "execution_count": 320,
   "id": "0430a43e",
   "metadata": {
    "deletable": false,
    "editable": false
   },
   "outputs": [
    {
     "data": {
      "text/html": [
       "\n",
       "    \n",
       "    \n",
       "        <p>All tests passed!</p>\n",
       "    \n",
       "    "
      ],
      "text/plain": [
       "\n",
       "    All tests passed!\n",
       "    "
      ]
     },
     "execution_count": 320,
     "metadata": {},
     "output_type": "execute_result"
    }
   ],
   "source": [
    "grader.check(\"rnn_author\")"
   ]
  },
  {
   "cell_type": "code",
   "execution_count": 321,
   "metadata": {},
   "outputs": [
    {
     "name": "stdout",
     "output_type": "stream",
     "text": [
      "Madison\n"
     ]
    }
   ],
   "source": [
    "print (author_rnn)"
   ]
  },
  {
   "cell_type": "markdown",
   "metadata": {
    "deletable": false,
    "editable": false
   },
   "source": [
    "Now, we can use these models to determine authorship on the entire test set. Define the `ffnn_classify` and `rnn_classify` functions, which take a sequence of `tokens` and return either `'Hamilton'` or `'Madison'` depending on which of the two has a higher probability of authoring the text.\n",
    "\n",
    "<!--\n",
    "BEGIN QUESTION\n",
    "name: authorship\n",
    "-->"
   ]
  },
  {
   "cell_type": "code",
   "execution_count": 322,
   "metadata": {},
   "outputs": [
    {
     "data": {
      "application/vnd.jupyter.widget-view+json": {
       "model_id": "d5e8c7fe429c4d48b9659c3732702423",
       "version_major": 2,
       "version_minor": 0
      },
      "text/plain": [
       "  0%|          | 0/11 [00:00<?, ?it/s]"
      ]
     },
     "metadata": {},
     "output_type": "display_data"
    },
    {
     "name": "stdout",
     "output_type": "stream",
     "text": [
      "49 Hamilton Madison \n",
      "50 Madison  Madison \n",
      "51 Madison  Madison \n",
      "52 Madison  Madison \n",
      "53 Madison  Madison \n",
      "54 Madison  Madison \n",
      "55 Madison  Madison \n",
      "56 Madison  Madison \n",
      "57 Madison  Madison \n",
      "62 Madison  Madison \n",
      "63 Madison  Madison \n"
     ]
    }
   ],
   "source": [
    "def ffnn_classify(tokens):\n",
    "    \"\"\"Returns the predicted author according to the FFNN model.\n",
    "    Arguments:\n",
    "      tokens: a list of tokens.\n",
    "    Returns: 'Hamilton' or 'Madison'.\"\"\"\n",
    "    #TODO - implement this method\n",
    "    log_posterior_madison_ffnn = -1 * neglogprob(tokens, ffnn_lm_madison)\n",
    "    log_posterior_hamilton_ffnn = -1 * neglogprob(tokens, ffnn_lm_hamilton)\n",
    "    #TODO - determine authorship\n",
    "    if(log_posterior_madison_ffnn > log_posterior_hamilton_ffnn):\n",
    "        author_ffnn = \"Madison\"\n",
    "    else:\n",
    "        author_ffnn = \"Hamilton\"\n",
    "    return author_ffnn\n",
    "    \n",
    "\n",
    "def rnn_classify(tokens):\n",
    "    \"\"\"Returns the predicted author according to the RNN model.\n",
    "    Arguments:\n",
    "      tokens: a list of tokens.\n",
    "    Returns: 'Hamilton' or 'Madison'.\"\"\"\n",
    "    #TODO - implement this method\n",
    "    log_posterior_madison_rnn = -1 * neglogprob(tokens, rnn_lm_madison)\n",
    "    log_posterior_hamilton_rnn = -1 * neglogprob(tokens, rnn_lm_hamilton)\n",
    "    #TODO - determine authorship\n",
    "    if(log_posterior_madison_rnn > log_posterior_hamilton_rnn):\n",
    "        author_rnn = \"Madison\"\n",
    "    else:\n",
    "        author_rnn = \"Hamilton\"\n",
    "    return author_rnn\n",
    "\n",
    "for ex in tqdm(testing):\n",
    "    print(f\"{ex['number']:2} {ffnn_classify(ex['tokens']):8} {rnn_classify(ex['tokens']):8}\")"
   ]
  },
  {
   "cell_type": "code",
   "execution_count": 323,
   "id": "ffce2080",
   "metadata": {
    "deletable": false,
    "editable": false
   },
   "outputs": [
    {
     "data": {
      "text/html": [
       "\n",
       "    \n",
       "    \n",
       "        <p>All tests passed!</p>\n",
       "    \n",
       "    "
      ],
      "text/plain": [
       "\n",
       "    All tests passed!\n",
       "    "
      ]
     },
     "execution_count": 323,
     "metadata": {},
     "output_type": "execute_result"
    }
   ],
   "source": [
    "grader.check(\"authorship\")"
   ]
  },
  {
   "cell_type": "markdown",
   "metadata": {
    "deletable": false,
    "editable": false
   },
   "source": [
    "<!-- BEGIN QUESTION -->\n",
    "\n",
    "**Question:** What would happen if the dataset is imbalanced, that is, if we have much more training data for one author than the other?\n",
    "\n",
    ">Hint: With sufficient data, the model usually gets lower perplexity than with an insufficient amount of data.\n",
    "\n",
    "<!--\n",
    "BEGIN QUESTION\n",
    "name: open_response_imbalanced\n",
    "manual: true\n",
    "-->"
   ]
  },
  {
   "cell_type": "markdown",
   "id": "18f88815",
   "metadata": {},
   "source": [
    "If the dataset is imbalanced, the model is also more likely to better learn the parameters that are associated with the author that is represented more and also favor the prediction towards an author that is more represented in the data. Additionally, networks are likely to be worse at generalizing to unseen objects when there is an imbalanced dataset. "
   ]
  },
  {
   "cell_type": "markdown",
   "metadata": {
    "deletable": false,
    "editable": false
   },
   "source": [
    "<!-- END QUESTION -->\n",
    "\n",
    "<!-- BEGIN QUESTION -->\n",
    "\n",
    "# Lab debrief – for consensus submission only\n",
    "\n",
    "**Question:** We're interested in any thoughts your group has about this lab so that we can improve this lab for later years, and to inform later labs for this year. Please list any issues that arose or comments you have to improve the lab. Useful things to comment on include the following: \n",
    "\n",
    "* Was the lab too long or too short?\n",
    "* Were the readings appropriate for the lab? \n",
    "* Was it clear (at least after you completed the lab) what the points of the exercises were? \n",
    "* Are there additions or changes you think would make the lab better?\n",
    "\n",
    "<!--\n",
    "BEGIN QUESTION\n",
    "name: open_response_debrief\n",
    "manual: true\n",
    "-->"
   ]
  },
  {
   "cell_type": "markdown",
   "id": "6f7628ec",
   "metadata": {},
   "source": [
    "_Type your answer here, replacing this text._"
   ]
  },
  {
   "cell_type": "markdown",
   "metadata": {
    "colab_type": "text",
    "id": "j4H2K9zx2Lsz"
   },
   "source": [
    "<!-- END QUESTION -->\n",
    "\n",
    "\n",
    "\n",
    "# End of Lab 2-3 {-}"
   ]
  },
  {
   "cell_type": "markdown",
   "id": "2509a961",
   "metadata": {
    "deletable": false,
    "editable": false
   },
   "source": [
    "---\n",
    "\n",
    "To double-check your work, the cell below will rerun all of the autograder tests."
   ]
  },
  {
   "cell_type": "code",
   "execution_count": 324,
   "id": "e6adb806",
   "metadata": {
    "deletable": false,
    "editable": false
   },
   "outputs": [
    {
     "data": {
      "text/html": [
       "<p><strong>authorship:</strong></p>\n",
       "\n",
       "    \n",
       "    \n",
       "        <p>All tests passed!</p>\n",
       "    \n",
       "    \n",
       "\n",
       "<p><strong>ffnn_author:</strong></p>\n",
       "\n",
       "    \n",
       "    \n",
       "        <p>All tests passed!</p>\n",
       "    \n",
       "    \n",
       "\n",
       "<p><strong>ffnn_neglogprob:</strong></p>\n",
       "\n",
       "    \n",
       "    \n",
       "        <p>All tests passed!</p>\n",
       "    \n",
       "    \n",
       "\n",
       "<p><strong>ffnn_ppl:</strong></p>\n",
       "\n",
       "    \n",
       "    \n",
       "        <p>All tests passed!</p>\n",
       "    \n",
       "    \n",
       "\n",
       "<p><strong>ffnn_sample:</strong></p>\n",
       "\n",
       "    \n",
       "    \n",
       "        <p>All tests passed!</p>\n",
       "    \n",
       "    \n",
       "\n",
       "<p><strong>rnn_author:</strong></p>\n",
       "\n",
       "    \n",
       "    \n",
       "        <p>All tests passed!</p>\n",
       "    \n",
       "    \n",
       "\n",
       "<p><strong>rnn_ppl:</strong></p>\n",
       "\n",
       "    \n",
       "    \n",
       "        <p>All tests passed!</p>\n",
       "    \n",
       "    \n",
       "\n",
       "<p><strong>rnn_sample:</strong></p>\n",
       "\n",
       "    \n",
       "    \n",
       "        <p>All tests passed!</p>\n",
       "    \n",
       "    \n",
       "\n"
      ],
      "text/plain": [
       "authorship:\n",
       "\n",
       "    All tests passed!\n",
       "    \n",
       "\n",
       "ffnn_author:\n",
       "\n",
       "    All tests passed!\n",
       "    \n",
       "\n",
       "ffnn_neglogprob:\n",
       "\n",
       "    All tests passed!\n",
       "    \n",
       "\n",
       "ffnn_ppl:\n",
       "\n",
       "    All tests passed!\n",
       "    \n",
       "\n",
       "ffnn_sample:\n",
       "\n",
       "    All tests passed!\n",
       "    \n",
       "\n",
       "rnn_author:\n",
       "\n",
       "    All tests passed!\n",
       "    \n",
       "\n",
       "rnn_ppl:\n",
       "\n",
       "    All tests passed!\n",
       "    \n",
       "\n",
       "rnn_sample:\n",
       "\n",
       "    All tests passed!\n",
       "    \n"
      ]
     },
     "execution_count": 324,
     "metadata": {},
     "output_type": "execute_result"
    }
   ],
   "source": [
    "grader.check_all()"
   ]
  },
  {
   "cell_type": "code",
   "execution_count": null,
   "metadata": {},
   "outputs": [],
   "source": []
  }
 ],
 "metadata": {
  "colab": {
   "collapsed_sections": [],
   "name": "lab2-2.ipynb",
   "provenance": [],
   "toc_visible": true
  },
  "kernelspec": {
   "display_name": "Python 3 (ipykernel)",
   "language": "python",
   "name": "python3"
  },
  "language_info": {
   "codemirror_mode": {
    "name": "ipython",
    "version": 3
   },
   "file_extension": ".py",
   "mimetype": "text/x-python",
   "name": "python",
   "nbconvert_exporter": "python",
   "pygments_lexer": "ipython3",
   "version": "3.8.3"
  },
  "title": "CS187 Lab 2-3: Language modeling with neural networks",
  "widgets": {
   "application/vnd.jupyter.widget-state+json": {
    "state": {
     "0e176019e15b47a3b7a5101d686d62e6": {
      "model_module": "@jupyter-widgets/controls",
      "model_module_version": "1.5.0",
      "model_name": "DescriptionStyleModel",
      "state": {
       "_model_module": "@jupyter-widgets/controls",
       "_model_module_version": "1.5.0",
       "_model_name": "DescriptionStyleModel",
       "_view_count": null,
       "_view_module": "@jupyter-widgets/base",
       "_view_module_version": "1.2.0",
       "_view_name": "StyleView",
       "description_width": ""
      }
     },
     "0f143e4ff9a44c0881d0057feb4a5147": {
      "model_module": "@jupyter-widgets/base",
      "model_module_version": "1.2.0",
      "model_name": "LayoutModel",
      "state": {
       "_model_module": "@jupyter-widgets/base",
       "_model_module_version": "1.2.0",
       "_model_name": "LayoutModel",
       "_view_count": null,
       "_view_module": "@jupyter-widgets/base",
       "_view_module_version": "1.2.0",
       "_view_name": "LayoutView",
       "align_content": null,
       "align_items": null,
       "align_self": null,
       "border": null,
       "bottom": null,
       "display": null,
       "flex": null,
       "flex_flow": null,
       "grid_area": null,
       "grid_auto_columns": null,
       "grid_auto_flow": null,
       "grid_auto_rows": null,
       "grid_column": null,
       "grid_gap": null,
       "grid_row": null,
       "grid_template_areas": null,
       "grid_template_columns": null,
       "grid_template_rows": null,
       "height": null,
       "justify_content": null,
       "justify_items": null,
       "left": null,
       "margin": null,
       "max_height": null,
       "max_width": null,
       "min_height": null,
       "min_width": null,
       "object_fit": null,
       "object_position": null,
       "order": null,
       "overflow": null,
       "overflow_x": null,
       "overflow_y": null,
       "padding": null,
       "right": null,
       "top": null,
       "visibility": null,
       "width": null
      }
     },
     "2acafb7159e441ffb09f071273030e36": {
      "model_module": "@jupyter-widgets/controls",
      "model_module_version": "1.5.0",
      "model_name": "ProgressStyleModel",
      "state": {
       "_model_module": "@jupyter-widgets/controls",
       "_model_module_version": "1.5.0",
       "_model_name": "ProgressStyleModel",
       "_view_count": null,
       "_view_module": "@jupyter-widgets/base",
       "_view_module_version": "1.2.0",
       "_view_name": "StyleView",
       "bar_color": null,
       "description_width": ""
      }
     },
     "371e04e4119249e19e17100fe8cae81f": {
      "model_module": "@jupyter-widgets/controls",
      "model_module_version": "1.5.0",
      "model_name": "FloatProgressModel",
      "state": {
       "_dom_classes": [],
       "_model_module": "@jupyter-widgets/controls",
       "_model_module_version": "1.5.0",
       "_model_name": "FloatProgressModel",
       "_view_count": null,
       "_view_module": "@jupyter-widgets/controls",
       "_view_module_version": "1.5.0",
       "_view_name": "ProgressView",
       "bar_style": "success",
       "description": "",
       "description_tooltip": null,
       "layout": "IPY_MODEL_4807359773ab47759c0a9aa93b7bae37",
       "max": 11,
       "min": 0,
       "orientation": "horizontal",
       "style": "IPY_MODEL_2acafb7159e441ffb09f071273030e36",
       "value": 11
      }
     },
     "47b43ab698d84211b9d2410492cc387a": {
      "model_module": "@jupyter-widgets/base",
      "model_module_version": "1.2.0",
      "model_name": "LayoutModel",
      "state": {
       "_model_module": "@jupyter-widgets/base",
       "_model_module_version": "1.2.0",
       "_model_name": "LayoutModel",
       "_view_count": null,
       "_view_module": "@jupyter-widgets/base",
       "_view_module_version": "1.2.0",
       "_view_name": "LayoutView",
       "align_content": null,
       "align_items": null,
       "align_self": null,
       "border": null,
       "bottom": null,
       "display": null,
       "flex": null,
       "flex_flow": null,
       "grid_area": null,
       "grid_auto_columns": null,
       "grid_auto_flow": null,
       "grid_auto_rows": null,
       "grid_column": null,
       "grid_gap": null,
       "grid_row": null,
       "grid_template_areas": null,
       "grid_template_columns": null,
       "grid_template_rows": null,
       "height": null,
       "justify_content": null,
       "justify_items": null,
       "left": null,
       "margin": null,
       "max_height": null,
       "max_width": null,
       "min_height": null,
       "min_width": null,
       "object_fit": null,
       "object_position": null,
       "order": null,
       "overflow": null,
       "overflow_x": null,
       "overflow_y": null,
       "padding": null,
       "right": null,
       "top": null,
       "visibility": null,
       "width": null
      }
     },
     "4807359773ab47759c0a9aa93b7bae37": {
      "model_module": "@jupyter-widgets/base",
      "model_module_version": "1.2.0",
      "model_name": "LayoutModel",
      "state": {
       "_model_module": "@jupyter-widgets/base",
       "_model_module_version": "1.2.0",
       "_model_name": "LayoutModel",
       "_view_count": null,
       "_view_module": "@jupyter-widgets/base",
       "_view_module_version": "1.2.0",
       "_view_name": "LayoutView",
       "align_content": null,
       "align_items": null,
       "align_self": null,
       "border": null,
       "bottom": null,
       "display": null,
       "flex": null,
       "flex_flow": null,
       "grid_area": null,
       "grid_auto_columns": null,
       "grid_auto_flow": null,
       "grid_auto_rows": null,
       "grid_column": null,
       "grid_gap": null,
       "grid_row": null,
       "grid_template_areas": null,
       "grid_template_columns": null,
       "grid_template_rows": null,
       "height": null,
       "justify_content": null,
       "justify_items": null,
       "left": null,
       "margin": null,
       "max_height": null,
       "max_width": null,
       "min_height": null,
       "min_width": null,
       "object_fit": null,
       "object_position": null,
       "order": null,
       "overflow": null,
       "overflow_x": null,
       "overflow_y": null,
       "padding": null,
       "right": null,
       "top": null,
       "visibility": null,
       "width": null
      }
     },
     "4d38e34c7fc542a296e232cd490e7ecf": {
      "model_module": "@jupyter-widgets/controls",
      "model_module_version": "1.5.0",
      "model_name": "HTMLModel",
      "state": {
       "_dom_classes": [],
       "_model_module": "@jupyter-widgets/controls",
       "_model_module_version": "1.5.0",
       "_model_name": "HTMLModel",
       "_view_count": null,
       "_view_module": "@jupyter-widgets/controls",
       "_view_module_version": "1.5.0",
       "_view_name": "HTMLView",
       "description": "",
       "description_tooltip": null,
       "layout": "IPY_MODEL_47b43ab698d84211b9d2410492cc387a",
       "placeholder": "​",
       "style": "IPY_MODEL_0e176019e15b47a3b7a5101d686d62e6",
       "value": "100%"
      }
     },
     "80c45c10e94b46f78b7a3395019a2f34": {
      "model_module": "@jupyter-widgets/base",
      "model_module_version": "1.2.0",
      "model_name": "LayoutModel",
      "state": {
       "_model_module": "@jupyter-widgets/base",
       "_model_module_version": "1.2.0",
       "_model_name": "LayoutModel",
       "_view_count": null,
       "_view_module": "@jupyter-widgets/base",
       "_view_module_version": "1.2.0",
       "_view_name": "LayoutView",
       "align_content": null,
       "align_items": null,
       "align_self": null,
       "border": null,
       "bottom": null,
       "display": null,
       "flex": null,
       "flex_flow": null,
       "grid_area": null,
       "grid_auto_columns": null,
       "grid_auto_flow": null,
       "grid_auto_rows": null,
       "grid_column": null,
       "grid_gap": null,
       "grid_row": null,
       "grid_template_areas": null,
       "grid_template_columns": null,
       "grid_template_rows": null,
       "height": null,
       "justify_content": null,
       "justify_items": null,
       "left": null,
       "margin": null,
       "max_height": null,
       "max_width": null,
       "min_height": null,
       "min_width": null,
       "object_fit": null,
       "object_position": null,
       "order": null,
       "overflow": null,
       "overflow_x": null,
       "overflow_y": null,
       "padding": null,
       "right": null,
       "top": null,
       "visibility": null,
       "width": null
      }
     },
     "86973d0c2b5045b68b7be8ccd1bdaf17": {
      "model_module": "@jupyter-widgets/controls",
      "model_module_version": "1.5.0",
      "model_name": "HBoxModel",
      "state": {
       "_dom_classes": [],
       "_model_module": "@jupyter-widgets/controls",
       "_model_module_version": "1.5.0",
       "_model_name": "HBoxModel",
       "_view_count": null,
       "_view_module": "@jupyter-widgets/controls",
       "_view_module_version": "1.5.0",
       "_view_name": "HBoxView",
       "box_style": "",
       "children": [
        "IPY_MODEL_4d38e34c7fc542a296e232cd490e7ecf",
        "IPY_MODEL_371e04e4119249e19e17100fe8cae81f",
        "IPY_MODEL_fddffd68ccac48ba9cc7f951a608d666"
       ],
       "layout": "IPY_MODEL_80c45c10e94b46f78b7a3395019a2f34"
      }
     },
     "fddffd68ccac48ba9cc7f951a608d666": {
      "model_module": "@jupyter-widgets/controls",
      "model_module_version": "1.5.0",
      "model_name": "HTMLModel",
      "state": {
       "_dom_classes": [],
       "_model_module": "@jupyter-widgets/controls",
       "_model_module_version": "1.5.0",
       "_model_name": "HTMLModel",
       "_view_count": null,
       "_view_module": "@jupyter-widgets/controls",
       "_view_module_version": "1.5.0",
       "_view_name": "HTMLView",
       "description": "",
       "description_tooltip": null,
       "layout": "IPY_MODEL_0f143e4ff9a44c0881d0057feb4a5147",
       "placeholder": "​",
       "style": "IPY_MODEL_ffbe3f71875542c0847ed0d4ae3f558e",
       "value": " 11/11 [01:24&lt;00:00,  7.66s/it]"
      }
     },
     "ffbe3f71875542c0847ed0d4ae3f558e": {
      "model_module": "@jupyter-widgets/controls",
      "model_module_version": "1.5.0",
      "model_name": "DescriptionStyleModel",
      "state": {
       "_model_module": "@jupyter-widgets/controls",
       "_model_module_version": "1.5.0",
       "_model_name": "DescriptionStyleModel",
       "_view_count": null,
       "_view_module": "@jupyter-widgets/base",
       "_view_module_version": "1.2.0",
       "_view_name": "StyleView",
       "description_width": ""
      }
     }
    },
    "version_major": 2,
    "version_minor": 0
   }
  }
 },
 "nbformat": 4,
 "nbformat_minor": 4
}
